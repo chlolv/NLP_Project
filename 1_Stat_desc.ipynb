{
  "cells": [
    {
      "cell_type": "markdown",
      "metadata": {
        "id": "view-in-github",
        "colab_type": "text"
      },
      "source": [
        "<a href=\"https://colab.research.google.com/github/chlolv/NLP_Project/blob/main/1_Stat_desc.ipynb\" target=\"_parent\"><img src=\"https://colab.research.google.com/assets/colab-badge.svg\" alt=\"Open In Colab\"/></a>"
      ]
    },
    {
      "cell_type": "markdown",
      "metadata": {
        "id": "OxWbBCciBuz-"
      },
      "source": [
        "# Package and definitions\n"
      ]
    },
    {
      "cell_type": "code",
      "execution_count": 1,
      "metadata": {
        "colab": {
          "base_uri": "https://localhost:8080/"
        },
        "id": "DuRP4S1VEkGs",
        "outputId": "6d2fb6a0-f161-4d31-f03b-00e109048bfc"
      },
      "outputs": [
        {
          "output_type": "stream",
          "name": "stdout",
          "text": [
            "[nltk_data] Downloading package punkt to /root/nltk_data...\n",
            "[nltk_data]   Package punkt is already up-to-date!\n",
            "[nltk_data] Downloading package averaged_perceptron_tagger to\n",
            "[nltk_data]     /root/nltk_data...\n",
            "[nltk_data]   Package averaged_perceptron_tagger is already up-to-\n",
            "[nltk_data]       date!\n",
            "DEVICE =  \u001b[32mTesla K80\u001b[0m\n"
          ]
        }
      ],
      "source": [
        "import requests as req\n",
        "import pandas as pd\n",
        "import os\n",
        "import re\n",
        "from collections import Counter\n",
        "import numpy as np\n",
        "import pandas as pd\n",
        "import matplotlib.pyplot as plt\n",
        "from termcolor import colored\n",
        "import torch\n",
        "import torch.nn as nn\n",
        "from sklearn.model_selection import train_test_split\n",
        "from sklearn.metrics import classification_report\n",
        "try :\n",
        "  import transformers\n",
        "except :\n",
        "  !pip install transformers\n",
        "  import transformers\n",
        "from transformers import AutoModel, BertTokenizerFast\n",
        "from torch.utils.data import TensorDataset, DataLoader, RandomSampler, SequentialSampler\n",
        "from transformers import AdamW\n",
        "from sklearn.utils.class_weight import compute_class_weight\n",
        "from nltk.tokenize import sent_tokenize\n",
        "import nltk\n",
        "nltk.download('punkt')\n",
        "nltk.download('averaged_perceptron_tagger')\n",
        "from itertools import compress\n",
        "import seaborn as sns\n",
        "from tqdm import *\n",
        "import time\n",
        "\n",
        "# torch.cuda.is_available() returns a boolean to check if the GPU can be used or not\n",
        "if torch.cuda.is_available():\n",
        "  # if CUDA is available set 'cuda' as the device\n",
        "  device = 'cuda'\n",
        "  # and then print the name of the GPU\n",
        "  print('DEVICE = ', colored(torch.cuda.get_device_name(0), \"green\" ) )\n",
        "else:\n",
        "  # else, set 'cpu' as device\n",
        "  device = 'cpu'\n",
        "  # just print than the CPU is used. Alternatively you can check your CPU with the following command (linux based) in the next cell:\n",
        "  # ! lscpu\n",
        "  print('DEVICE = ', colored('CPU', \"blue\"))\n",
        "\n",
        "git_url = \"https://raw.githubusercontent.com/chlolv/NLP_Project/main/Data/\"\n",
        "H_url = \"H_series.csv\"\n",
        "book_url = \"book_labels.csv\"\n",
        "\n",
        "# temp fixes due to csv use\n",
        "H = req.get(git_url + H_url)\n",
        "H = re.sub('\\n\\d{0,9}[0-9],',\n",
        "           '\\n', H.text[7:])\n",
        "words = [\"He-\", \"\\\\\\\\\", '\"', '\"', \"o-\"]\n",
        "H = re.sub(\"\".join(words), \"He-Who\", H)\n",
        "H = re.sub(\"\\*\", \"\" , H)\n",
        "H = H.split('\\n')\n",
        "\n",
        "book = req.get(git_url + book_url)\n",
        "book_label_list = re.sub('','0', book.text[6:])\n",
        "book_label_list = re.sub('010','1', book_label_list)\n",
        "book_label_list = re.sub('020','2', book_label_list)\n",
        "book_label_list = re.sub('030','3', book_label_list)\n",
        "book_label_list = re.sub('040','4', book_label_list)\n",
        "book_label_list = re.sub('050','5', book_label_list)\n",
        "book_label_list = re.sub('060','6', book_label_list)\n",
        "book_label_list = re.sub('070','7', book_label_list)\n",
        "book_label_list = book_label_list.split('\\n')\n",
        "\n",
        "book_label_list = [int(book) for book in book_label_list]"
      ]
    },
    {
      "cell_type": "code",
      "execution_count": 2,
      "metadata": {
        "id": "y4Lgz8mMD7Um"
      },
      "outputs": [],
      "source": [
        "len_book = []\n",
        "mean_book = []\n",
        "med_book = []\n",
        "std_book = []\n",
        "\n",
        "for book in range(1,8) :\n",
        "    BOOL = [book_label == book for book_label in book_label_list]\n",
        "    H_subset = list(compress(H, BOOL))  \n",
        "    len_list = []\n",
        "    \n",
        "    for paragraph in H_subset :\n",
        "        len_list.append(len(paragraph.split()))\n",
        "    len_book.append(len(len_list))\n",
        "    mean_book.append(np.mean(len_list))\n",
        "    med_book.append(np.median(len_list))\n",
        "    std_book.append(np.std(len_list))"
      ]
    },
    {
      "cell_type": "code",
      "execution_count": 3,
      "metadata": {
        "id": "jQr1jLI-D7Um"
      },
      "outputs": [],
      "source": [
        "desc_len_para = pd.DataFrame(data = [len_book, mean_book, med_book, std_book], \n",
        "                    index = [\"Nb_para\", \"Avg_len_para\", \"Med_len_para\", \"Std_len_para\"],\n",
        "                    columns = [\"HP_1\", \"HP_2\", \"HP_3\", \"HP_4\", \"HP_5\", \"HP_6\", \"HP_7\"])"
      ]
    },
    {
      "cell_type": "code",
      "execution_count": 4,
      "metadata": {
        "id": "O66Is8pbD7Un",
        "outputId": "7215f9aa-333c-4ef6-9aea-9ccec0e142a0",
        "colab": {
          "base_uri": "https://localhost:8080/",
          "height": 269
        }
      },
      "outputs": [
        {
          "output_type": "execute_result",
          "data": {
            "text/plain": [
              "      Nb_para  Avg_len_para  Med_len_para  Std_len_para\n",
              "HP_1   1451.0     53.864921          46.0     25.279002\n",
              "HP_2   2140.0     40.470561          37.0     10.559293\n",
              "HP_3   2109.0     49.890469          44.0     20.172322\n",
              "HP_4   3600.0     54.313889          47.0     25.074906\n",
              "HP_5   5115.0     50.658065          44.0     21.625114\n",
              "HP_6   3134.0     55.235163          47.0     25.423055\n",
              "HP_7   3380.0     59.181065          47.0     49.562366"
            ],
            "text/html": [
              "\n",
              "  <div id=\"df-38655cb8-4867-48ea-b438-c6cc4ad06b30\">\n",
              "    <div class=\"colab-df-container\">\n",
              "      <div>\n",
              "<style scoped>\n",
              "    .dataframe tbody tr th:only-of-type {\n",
              "        vertical-align: middle;\n",
              "    }\n",
              "\n",
              "    .dataframe tbody tr th {\n",
              "        vertical-align: top;\n",
              "    }\n",
              "\n",
              "    .dataframe thead th {\n",
              "        text-align: right;\n",
              "    }\n",
              "</style>\n",
              "<table border=\"1\" class=\"dataframe\">\n",
              "  <thead>\n",
              "    <tr style=\"text-align: right;\">\n",
              "      <th></th>\n",
              "      <th>Nb_para</th>\n",
              "      <th>Avg_len_para</th>\n",
              "      <th>Med_len_para</th>\n",
              "      <th>Std_len_para</th>\n",
              "    </tr>\n",
              "  </thead>\n",
              "  <tbody>\n",
              "    <tr>\n",
              "      <th>HP_1</th>\n",
              "      <td>1451.0</td>\n",
              "      <td>53.864921</td>\n",
              "      <td>46.0</td>\n",
              "      <td>25.279002</td>\n",
              "    </tr>\n",
              "    <tr>\n",
              "      <th>HP_2</th>\n",
              "      <td>2140.0</td>\n",
              "      <td>40.470561</td>\n",
              "      <td>37.0</td>\n",
              "      <td>10.559293</td>\n",
              "    </tr>\n",
              "    <tr>\n",
              "      <th>HP_3</th>\n",
              "      <td>2109.0</td>\n",
              "      <td>49.890469</td>\n",
              "      <td>44.0</td>\n",
              "      <td>20.172322</td>\n",
              "    </tr>\n",
              "    <tr>\n",
              "      <th>HP_4</th>\n",
              "      <td>3600.0</td>\n",
              "      <td>54.313889</td>\n",
              "      <td>47.0</td>\n",
              "      <td>25.074906</td>\n",
              "    </tr>\n",
              "    <tr>\n",
              "      <th>HP_5</th>\n",
              "      <td>5115.0</td>\n",
              "      <td>50.658065</td>\n",
              "      <td>44.0</td>\n",
              "      <td>21.625114</td>\n",
              "    </tr>\n",
              "    <tr>\n",
              "      <th>HP_6</th>\n",
              "      <td>3134.0</td>\n",
              "      <td>55.235163</td>\n",
              "      <td>47.0</td>\n",
              "      <td>25.423055</td>\n",
              "    </tr>\n",
              "    <tr>\n",
              "      <th>HP_7</th>\n",
              "      <td>3380.0</td>\n",
              "      <td>59.181065</td>\n",
              "      <td>47.0</td>\n",
              "      <td>49.562366</td>\n",
              "    </tr>\n",
              "  </tbody>\n",
              "</table>\n",
              "</div>\n",
              "      <button class=\"colab-df-convert\" onclick=\"convertToInteractive('df-38655cb8-4867-48ea-b438-c6cc4ad06b30')\"\n",
              "              title=\"Convert this dataframe to an interactive table.\"\n",
              "              style=\"display:none;\">\n",
              "        \n",
              "  <svg xmlns=\"http://www.w3.org/2000/svg\" height=\"24px\"viewBox=\"0 0 24 24\"\n",
              "       width=\"24px\">\n",
              "    <path d=\"M0 0h24v24H0V0z\" fill=\"none\"/>\n",
              "    <path d=\"M18.56 5.44l.94 2.06.94-2.06 2.06-.94-2.06-.94-.94-2.06-.94 2.06-2.06.94zm-11 1L8.5 8.5l.94-2.06 2.06-.94-2.06-.94L8.5 2.5l-.94 2.06-2.06.94zm10 10l.94 2.06.94-2.06 2.06-.94-2.06-.94-.94-2.06-.94 2.06-2.06.94z\"/><path d=\"M17.41 7.96l-1.37-1.37c-.4-.4-.92-.59-1.43-.59-.52 0-1.04.2-1.43.59L10.3 9.45l-7.72 7.72c-.78.78-.78 2.05 0 2.83L4 21.41c.39.39.9.59 1.41.59.51 0 1.02-.2 1.41-.59l7.78-7.78 2.81-2.81c.8-.78.8-2.07 0-2.86zM5.41 20L4 18.59l7.72-7.72 1.47 1.35L5.41 20z\"/>\n",
              "  </svg>\n",
              "      </button>\n",
              "      \n",
              "  <style>\n",
              "    .colab-df-container {\n",
              "      display:flex;\n",
              "      flex-wrap:wrap;\n",
              "      gap: 12px;\n",
              "    }\n",
              "\n",
              "    .colab-df-convert {\n",
              "      background-color: #E8F0FE;\n",
              "      border: none;\n",
              "      border-radius: 50%;\n",
              "      cursor: pointer;\n",
              "      display: none;\n",
              "      fill: #1967D2;\n",
              "      height: 32px;\n",
              "      padding: 0 0 0 0;\n",
              "      width: 32px;\n",
              "    }\n",
              "\n",
              "    .colab-df-convert:hover {\n",
              "      background-color: #E2EBFA;\n",
              "      box-shadow: 0px 1px 2px rgba(60, 64, 67, 0.3), 0px 1px 3px 1px rgba(60, 64, 67, 0.15);\n",
              "      fill: #174EA6;\n",
              "    }\n",
              "\n",
              "    [theme=dark] .colab-df-convert {\n",
              "      background-color: #3B4455;\n",
              "      fill: #D2E3FC;\n",
              "    }\n",
              "\n",
              "    [theme=dark] .colab-df-convert:hover {\n",
              "      background-color: #434B5C;\n",
              "      box-shadow: 0px 1px 3px 1px rgba(0, 0, 0, 0.15);\n",
              "      filter: drop-shadow(0px 1px 2px rgba(0, 0, 0, 0.3));\n",
              "      fill: #FFFFFF;\n",
              "    }\n",
              "  </style>\n",
              "\n",
              "      <script>\n",
              "        const buttonEl =\n",
              "          document.querySelector('#df-38655cb8-4867-48ea-b438-c6cc4ad06b30 button.colab-df-convert');\n",
              "        buttonEl.style.display =\n",
              "          google.colab.kernel.accessAllowed ? 'block' : 'none';\n",
              "\n",
              "        async function convertToInteractive(key) {\n",
              "          const element = document.querySelector('#df-38655cb8-4867-48ea-b438-c6cc4ad06b30');\n",
              "          const dataTable =\n",
              "            await google.colab.kernel.invokeFunction('convertToInteractive',\n",
              "                                                     [key], {});\n",
              "          if (!dataTable) return;\n",
              "\n",
              "          const docLinkHtml = 'Like what you see? Visit the ' +\n",
              "            '<a target=\"_blank\" href=https://colab.research.google.com/notebooks/data_table.ipynb>data table notebook</a>'\n",
              "            + ' to learn more about interactive tables.';\n",
              "          element.innerHTML = '';\n",
              "          dataTable['output_type'] = 'display_data';\n",
              "          await google.colab.output.renderOutput(dataTable, element);\n",
              "          const docLink = document.createElement('div');\n",
              "          docLink.innerHTML = docLinkHtml;\n",
              "          element.appendChild(docLink);\n",
              "        }\n",
              "      </script>\n",
              "    </div>\n",
              "  </div>\n",
              "  "
            ]
          },
          "metadata": {},
          "execution_count": 4
        }
      ],
      "source": [
        "desc_len_para.T"
      ]
    },
    {
      "cell_type": "code",
      "execution_count": 5,
      "metadata": {
        "colab": {
          "base_uri": "https://localhost:8080/",
          "height": 855
        },
        "id": "4Te05U-2m1P3",
        "outputId": "607dbc55-c214-4971-987b-f5c63234c115"
      },
      "outputs": [
        {
          "output_type": "stream",
          "name": "stderr",
          "text": [
            "/usr/local/lib/python3.7/dist-packages/seaborn/distributions.py:2619: FutureWarning: `distplot` is a deprecated function and will be removed in a future version. Please adapt your code to use either `displot` (a figure-level function with similar flexibility) or `kdeplot` (an axes-level function for kernel density plots).\n",
            "  warnings.warn(msg, FutureWarning)\n",
            "/usr/local/lib/python3.7/dist-packages/seaborn/distributions.py:2619: FutureWarning: `distplot` is a deprecated function and will be removed in a future version. Please adapt your code to use either `displot` (a figure-level function with similar flexibility) or `kdeplot` (an axes-level function for kernel density plots).\n",
            "  warnings.warn(msg, FutureWarning)\n",
            "/usr/local/lib/python3.7/dist-packages/seaborn/distributions.py:2619: FutureWarning: `distplot` is a deprecated function and will be removed in a future version. Please adapt your code to use either `displot` (a figure-level function with similar flexibility) or `kdeplot` (an axes-level function for kernel density plots).\n",
            "  warnings.warn(msg, FutureWarning)\n",
            "/usr/local/lib/python3.7/dist-packages/seaborn/distributions.py:2619: FutureWarning: `distplot` is a deprecated function and will be removed in a future version. Please adapt your code to use either `displot` (a figure-level function with similar flexibility) or `kdeplot` (an axes-level function for kernel density plots).\n",
            "  warnings.warn(msg, FutureWarning)\n",
            "/usr/local/lib/python3.7/dist-packages/seaborn/distributions.py:2619: FutureWarning: `distplot` is a deprecated function and will be removed in a future version. Please adapt your code to use either `displot` (a figure-level function with similar flexibility) or `kdeplot` (an axes-level function for kernel density plots).\n",
            "  warnings.warn(msg, FutureWarning)\n",
            "/usr/local/lib/python3.7/dist-packages/seaborn/distributions.py:2619: FutureWarning: `distplot` is a deprecated function and will be removed in a future version. Please adapt your code to use either `displot` (a figure-level function with similar flexibility) or `kdeplot` (an axes-level function for kernel density plots).\n",
            "  warnings.warn(msg, FutureWarning)\n",
            "/usr/local/lib/python3.7/dist-packages/seaborn/distributions.py:2619: FutureWarning: `distplot` is a deprecated function and will be removed in a future version. Please adapt your code to use either `displot` (a figure-level function with similar flexibility) or `kdeplot` (an axes-level function for kernel density plots).\n",
            "  warnings.warn(msg, FutureWarning)\n"
          ]
        },
        {
          "output_type": "display_data",
          "data": {
            "text/plain": [
              "<Figure size 1440x720 with 1 Axes>"
            ],
            "image/png": "[encoded data removed]"
          },
          "metadata": {
            "needs_background": "light"
          }
        }
      ],
      "source": [
        "plt.rcParams['figure.figsize'] = [20, 10]\n",
        "\n",
        "for book in range(1,8) :\n",
        "  BOOL = [book_label == book for book_label in book_label_list]\n",
        "  H_subset = list(compress(H, BOOL))  \n",
        "  len_list = []\n",
        "  for paragraph in H_subset :\n",
        "    len_list.append(len(paragraph.split()))\n",
        "    \n",
        "  sns.distplot(len_list, hist = False, kde = True,\n",
        "                kde_kws = {'linewidth': 3},\n",
        "                label = book)\n",
        "plt.legend()\n",
        "plt.show()"
      ]
    },
    {
      "cell_type": "markdown",
      "metadata": {
        "id": "wClZ51btMldf"
      },
      "source": [
        "# Basic analysis\n"
      ]
    },
    {
      "cell_type": "code",
      "execution_count": 6,
      "metadata": {
        "colab": {
          "base_uri": "https://localhost:8080/",
          "height": 592
        },
        "id": "byDsC3Y-PkHP",
        "outputId": "98441840-442c-4374-c74e-a4e381888fdb"
      },
      "outputs": [
        {
          "output_type": "display_data",
          "data": {
            "text/plain": [
              "<Figure size 1080x720 with 1 Axes>"
            ],
            "image/png": "[encoded data removed]"
          },
          "metadata": {
            "needs_background": "light"
          }
        }
      ],
      "source": [
        "character_list = [['Harry', 'Potter'], ['Ron', 'Weasley'], ['Hermione', 'Granger'], ['Snape', 'Severus'], ['Albus', 'Dumbledore'], ['Dursley'], ['Draco', 'Malfoy']]\n",
        "count_dict = {}\n",
        "key = 0\n",
        "for book in range(1,8) :\n",
        "  BOOL = [book_label == book for book_label in book_label_list]\n",
        "  H_subset = list(compress(H, BOOL))\n",
        "  for character in character_list :\n",
        "    count = 0\n",
        "    for paragraph in H_subset :\n",
        "      if any(name in paragraph for name in character) :\n",
        "        count += 1\n",
        "    new_key = {'book' : book, 'character' : character[0], 'count' : count}\n",
        "    count_dict[str(key)] = new_key\n",
        "    key += 1\n",
        "count_data = pd.DataFrame(count_dict).T\n",
        "\n",
        "plt.rcParams['figure.figsize'] = [15, 10]\n",
        "for character in character_list :\n",
        "  x = count_data[count_data['character'] == character[0]]['book']\n",
        "  y = count_data[count_data['character'] == character[0]]['count']\n",
        "  plt.plot(x, y, label = character[0])\n",
        "plt.legend()\n",
        "plt.show()\n"
      ]
    },
    {
      "cell_type": "markdown",
      "metadata": {
        "id": "yDrSlgMscXXX"
      },
      "source": [
        "# Further processing for training"
      ]
    },
    {
      "cell_type": "code",
      "execution_count": 7,
      "metadata": {
        "id": "2xg1TlEbcaez"
      },
      "outputs": [],
      "source": [
        "for i in range(0, len(H)) :\n",
        "  H[i] = re.sub(\"[!?]\", '.', H[i])\n",
        "  H[i] = H[i].replace(\"...\", '.')\n",
        "  H[i] = re.sub('[,\\\\-\"()]', ' ', H[i])\n",
        "  H[i] = re.sub('\\*', '', H[i]) \n",
        "  H[i] = re.sub('\\\\\\\\', '', H[i]) \n",
        "vocabulary = []\n",
        "for i in range(0, len(H)) :\n",
        "  element = re.sub(\"[.]\", ' ', H[i])\n",
        "  words = element.split()\n",
        "  vocabulary.append(words)\n",
        "vocabulary = [item for sublist in vocabulary for item in sublist]\n",
        "voc_count = Counter(vocabulary)\n",
        "voc_count = pd.DataFrame.from_dict(voc_count, orient = 'index').sort_values(by = [0], ascending = [False])\n",
        "\n",
        "total_ranking = voc_count[0:10]"
      ]
    },
    {
      "cell_type": "code",
      "execution_count": 8,
      "metadata": {
        "id": "GEDs3ofxD7Uo",
        "outputId": "72f83875-e53a-48f9-a56c-06bf9227fe9e",
        "colab": {
          "base_uri": "https://localhost:8080/"
        }
      },
      "outputs": [
        {
          "output_type": "stream",
          "name": "stderr",
          "text": [
            "/usr/local/lib/python3.7/dist-packages/ipykernel_launcher.py:21: SettingWithCopyWarning: \n",
            "A value is trying to be set on a copy of a slice from a DataFrame.\n",
            "Try using .loc[row_indexer,col_indexer] = value instead\n",
            "\n",
            "See the caveats in the documentation: https://pandas.pydata.org/pandas-docs/stable/user_guide/indexing.html#returning-a-view-versus-a-copy\n",
            "/usr/local/lib/python3.7/dist-packages/ipykernel_launcher.py:24: SettingWithCopyWarning: \n",
            "A value is trying to be set on a copy of a slice from a DataFrame.\n",
            "Try using .loc[row_indexer,col_indexer] = value instead\n",
            "\n",
            "See the caveats in the documentation: https://pandas.pydata.org/pandas-docs/stable/user_guide/indexing.html#returning-a-view-versus-a-copy\n"
          ]
        }
      ],
      "source": [
        " len_indices = list(np.cumsum(len_book))\n",
        " len_indices.insert(0, 0)\n",
        " \n",
        "for j in range(7):\n",
        "  for i in range(len_indices[j], len_indices[j+1]) :\n",
        "    H[i] = re.sub(\"[!?]\", '.', H[i])\n",
        "    H[i] = H[i].replace(\"...\", '.')\n",
        "    H[i] = re.sub('[,\\\\-\"()]', ' ', H[i])\n",
        "    H[i] = re.sub('\\*', '', H[i]) \n",
        "    H[i] = re.sub('\\\\\\\\', '', H[i]) \n",
        "  vocabulary = []\n",
        "  for i in range(len_indices[j], len_indices[j+1]) :\n",
        "    element = re.sub(\"[.]\", ' ', H[i])\n",
        "    words = element.split()\n",
        "    vocabulary.append(words)\n",
        "  vocabulary = [item for sublist in vocabulary for item in sublist]\n",
        "  voc_count = Counter(vocabulary)\n",
        "  voc_count = pd.DataFrame.from_dict(voc_count, orient = 'index').sort_values(by = [0], ascending = [False])\n",
        "  if j == 0 :\n",
        "    final_df = voc_count[0:10]\n",
        "    final_df[\"book\"] = j+1\n",
        "  else :\n",
        "    final_df_bis = voc_count[0:10]\n",
        "    final_df_bis[\"book\"] = j+1\n",
        "    final_df = pd.concat([final_df, final_df_bis], axis = 0)"
      ]
    },
    {
      "cell_type": "code",
      "source": [
        "final_df['word'] = final_df.index\n",
        "final_df.rename(columns = {0: \"count\"})"
      ],
      "metadata": {
        "id": "WgVgo8s9O9TD",
        "outputId": "750da22c-7953-40ff-97a7-11877704d22c",
        "colab": {
          "base_uri": "https://localhost:8080/",
          "height": 423
        }
      },
      "execution_count": 9,
      "outputs": [
        {
          "output_type": "execute_result",
          "data": {
            "text/plain": [
              "       count  book   word\n",
              "the     3309     1    the\n",
              "to      1844     1     to\n",
              "and     1807     1    and\n",
              "a       1580     1      a\n",
              "of      1248     1     of\n",
              "...      ...   ...    ...\n",
              "he      2907     7     he\n",
              "Harry   2871     7  Harry\n",
              "was     2744     7    was\n",
              "his     2493     7    his\n",
              "it      2251     7     it\n",
              "\n",
              "[70 rows x 3 columns]"
            ],
            "text/html": [
              "\n",
              "  <div id=\"df-643d7b0c-7008-4103-9460-4e6808627d5d\">\n",
              "    <div class=\"colab-df-container\">\n",
              "      <div>\n",
              "<style scoped>\n",
              "    .dataframe tbody tr th:only-of-type {\n",
              "        vertical-align: middle;\n",
              "    }\n",
              "\n",
              "    .dataframe tbody tr th {\n",
              "        vertical-align: top;\n",
              "    }\n",
              "\n",
              "    .dataframe thead th {\n",
              "        text-align: right;\n",
              "    }\n",
              "</style>\n",
              "<table border=\"1\" class=\"dataframe\">\n",
              "  <thead>\n",
              "    <tr style=\"text-align: right;\">\n",
              "      <th></th>\n",
              "      <th>count</th>\n",
              "      <th>book</th>\n",
              "      <th>word</th>\n",
              "    </tr>\n",
              "  </thead>\n",
              "  <tbody>\n",
              "    <tr>\n",
              "      <th>the</th>\n",
              "      <td>3309</td>\n",
              "      <td>1</td>\n",
              "      <td>the</td>\n",
              "    </tr>\n",
              "    <tr>\n",
              "      <th>to</th>\n",
              "      <td>1844</td>\n",
              "      <td>1</td>\n",
              "      <td>to</td>\n",
              "    </tr>\n",
              "    <tr>\n",
              "      <th>and</th>\n",
              "      <td>1807</td>\n",
              "      <td>1</td>\n",
              "      <td>and</td>\n",
              "    </tr>\n",
              "    <tr>\n",
              "      <th>a</th>\n",
              "      <td>1580</td>\n",
              "      <td>1</td>\n",
              "      <td>a</td>\n",
              "    </tr>\n",
              "    <tr>\n",
              "      <th>of</th>\n",
              "      <td>1248</td>\n",
              "      <td>1</td>\n",
              "      <td>of</td>\n",
              "    </tr>\n",
              "    <tr>\n",
              "      <th>...</th>\n",
              "      <td>...</td>\n",
              "      <td>...</td>\n",
              "      <td>...</td>\n",
              "    </tr>\n",
              "    <tr>\n",
              "      <th>he</th>\n",
              "      <td>2907</td>\n",
              "      <td>7</td>\n",
              "      <td>he</td>\n",
              "    </tr>\n",
              "    <tr>\n",
              "      <th>Harry</th>\n",
              "      <td>2871</td>\n",
              "      <td>7</td>\n",
              "      <td>Harry</td>\n",
              "    </tr>\n",
              "    <tr>\n",
              "      <th>was</th>\n",
              "      <td>2744</td>\n",
              "      <td>7</td>\n",
              "      <td>was</td>\n",
              "    </tr>\n",
              "    <tr>\n",
              "      <th>his</th>\n",
              "      <td>2493</td>\n",
              "      <td>7</td>\n",
              "      <td>his</td>\n",
              "    </tr>\n",
              "    <tr>\n",
              "      <th>it</th>\n",
              "      <td>2251</td>\n",
              "      <td>7</td>\n",
              "      <td>it</td>\n",
              "    </tr>\n",
              "  </tbody>\n",
              "</table>\n",
              "<p>70 rows × 3 columns</p>\n",
              "</div>\n",
              "      <button class=\"colab-df-convert\" onclick=\"convertToInteractive('df-643d7b0c-7008-4103-9460-4e6808627d5d')\"\n",
              "              title=\"Convert this dataframe to an interactive table.\"\n",
              "              style=\"display:none;\">\n",
              "        \n",
              "  <svg xmlns=\"http://www.w3.org/2000/svg\" height=\"24px\"viewBox=\"0 0 24 24\"\n",
              "       width=\"24px\">\n",
              "    <path d=\"M0 0h24v24H0V0z\" fill=\"none\"/>\n",
              "    <path d=\"M18.56 5.44l.94 2.06.94-2.06 2.06-.94-2.06-.94-.94-2.06-.94 2.06-2.06.94zm-11 1L8.5 8.5l.94-2.06 2.06-.94-2.06-.94L8.5 2.5l-.94 2.06-2.06.94zm10 10l.94 2.06.94-2.06 2.06-.94-2.06-.94-.94-2.06-.94 2.06-2.06.94z\"/><path d=\"M17.41 7.96l-1.37-1.37c-.4-.4-.92-.59-1.43-.59-.52 0-1.04.2-1.43.59L10.3 9.45l-7.72 7.72c-.78.78-.78 2.05 0 2.83L4 21.41c.39.39.9.59 1.41.59.51 0 1.02-.2 1.41-.59l7.78-7.78 2.81-2.81c.8-.78.8-2.07 0-2.86zM5.41 20L4 18.59l7.72-7.72 1.47 1.35L5.41 20z\"/>\n",
              "  </svg>\n",
              "      </button>\n",
              "      \n",
              "  <style>\n",
              "    .colab-df-container {\n",
              "      display:flex;\n",
              "      flex-wrap:wrap;\n",
              "      gap: 12px;\n",
              "    }\n",
              "\n",
              "    .colab-df-convert {\n",
              "      background-color: #E8F0FE;\n",
              "      border: none;\n",
              "      border-radius: 50%;\n",
              "      cursor: pointer;\n",
              "      display: none;\n",
              "      fill: #1967D2;\n",
              "      height: 32px;\n",
              "      padding: 0 0 0 0;\n",
              "      width: 32px;\n",
              "    }\n",
              "\n",
              "    .colab-df-convert:hover {\n",
              "      background-color: #E2EBFA;\n",
              "      box-shadow: 0px 1px 2px rgba(60, 64, 67, 0.3), 0px 1px 3px 1px rgba(60, 64, 67, 0.15);\n",
              "      fill: #174EA6;\n",
              "    }\n",
              "\n",
              "    [theme=dark] .colab-df-convert {\n",
              "      background-color: #3B4455;\n",
              "      fill: #D2E3FC;\n",
              "    }\n",
              "\n",
              "    [theme=dark] .colab-df-convert:hover {\n",
              "      background-color: #434B5C;\n",
              "      box-shadow: 0px 1px 3px 1px rgba(0, 0, 0, 0.15);\n",
              "      filter: drop-shadow(0px 1px 2px rgba(0, 0, 0, 0.3));\n",
              "      fill: #FFFFFF;\n",
              "    }\n",
              "  </style>\n",
              "\n",
              "      <script>\n",
              "        const buttonEl =\n",
              "          document.querySelector('#df-643d7b0c-7008-4103-9460-4e6808627d5d button.colab-df-convert');\n",
              "        buttonEl.style.display =\n",
              "          google.colab.kernel.accessAllowed ? 'block' : 'none';\n",
              "\n",
              "        async function convertToInteractive(key) {\n",
              "          const element = document.querySelector('#df-643d7b0c-7008-4103-9460-4e6808627d5d');\n",
              "          const dataTable =\n",
              "            await google.colab.kernel.invokeFunction('convertToInteractive',\n",
              "                                                     [key], {});\n",
              "          if (!dataTable) return;\n",
              "\n",
              "          const docLinkHtml = 'Like what you see? Visit the ' +\n",
              "            '<a target=\"_blank\" href=https://colab.research.google.com/notebooks/data_table.ipynb>data table notebook</a>'\n",
              "            + ' to learn more about interactive tables.';\n",
              "          element.innerHTML = '';\n",
              "          dataTable['output_type'] = 'display_data';\n",
              "          await google.colab.output.renderOutput(dataTable, element);\n",
              "          const docLink = document.createElement('div');\n",
              "          docLink.innerHTML = docLinkHtml;\n",
              "          element.appendChild(docLink);\n",
              "        }\n",
              "      </script>\n",
              "    </div>\n",
              "  </div>\n",
              "  "
            ]
          },
          "metadata": {},
          "execution_count": 9
        }
      ]
    }
  ],
  "metadata": {
    "accelerator": "GPU",
    "colab": {
      "collapsed_sections": [],
      "name": "Copie de Untitled0.ipynb",
      "provenance": [],
      "include_colab_link": true
    },
    "kernelspec": {
      "display_name": "Python 3",
      "language": "python",
      "name": "python3"
    },
    "language_info": {
      "codemirror_mode": {
        "name": "ipython",
        "version": 3
      },
      "file_extension": ".py",
      "mimetype": "text/x-python",
      "name": "python",
      "nbconvert_exporter": "python",
      "pygments_lexer": "ipython3",
      "version": "3.8.8"
    }
  },
  "nbformat": 4,
  "nbformat_minor": 0
}