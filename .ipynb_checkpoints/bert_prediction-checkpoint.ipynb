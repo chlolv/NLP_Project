{
 "cells": [
  {
   "cell_type": "markdown",
   "metadata": {
    "id": "OxWbBCciBuz-"
   },
   "source": [
    "# Package and definitions\n"
   ]
  },
  {
   "cell_type": "code",
   "execution_count": 2,
   "metadata": {
    "colab": {
     "base_uri": "https://localhost:8080/"
    },
    "id": "DuRP4S1VEkGs",
    "outputId": "5f3920f3-7214-452c-ac04-f310bf6c98dc"
   },
   "outputs": [
    {
     "name": "stdout",
     "output_type": "stream",
     "text": [
      "Collecting termcolor\n",
      "  Downloading termcolor-1.1.0.tar.gz (3.9 kB)\n",
      "Building wheels for collected packages: termcolor\n",
      "  Building wheel for termcolor (setup.py): started\n",
      "  Building wheel for termcolor (setup.py): finished with status 'done'\n",
      "  Created wheel for termcolor: filename=termcolor-1.1.0-py3-none-any.whl size=4829 sha256=94ae7482a713a7ffda7d04159fbeaf3a18696501bdc11e75ba456624fdc9d9c0\n",
      "  Stored in directory: c:\\users\\chloe\\appdata\\local\\pip\\cache\\wheels\\a0\\16\\9c\\5473df82468f958445479c59e784896fa24f4a5fc024b0f501\n",
      "Successfully built termcolor\n",
      "Installing collected packages: termcolor\n",
      "Successfully installed termcolor-1.1.0\n",
      "Collecting transformers\n",
      "  Downloading transformers-4.17.0-py3-none-any.whl (3.8 MB)\n",
      "Collecting tokenizers!=0.11.3,>=0.11.1\n",
      "  Downloading tokenizers-0.11.6-cp38-cp38-win_amd64.whl (3.2 MB)\n",
      "Collecting sacremoses\n",
      "  Downloading sacremoses-0.0.49-py3-none-any.whl (895 kB)\n",
      "Requirement already satisfied: pyyaml>=5.1 in c:\\users\\chloe\\anaconda3\\lib\\site-packages (from transformers) (5.4.1)\n",
      "Requirement already satisfied: tqdm>=4.27 in c:\\users\\chloe\\anaconda3\\lib\\site-packages (from transformers) (4.59.0)\n",
      "Requirement already satisfied: filelock in c:\\users\\chloe\\anaconda3\\lib\\site-packages (from transformers) (3.0.12)\n",
      "Requirement already satisfied: regex!=2019.12.17 in c:\\users\\chloe\\anaconda3\\lib\\site-packages (from transformers) (2021.4.4)\n",
      "Collecting huggingface-hub<1.0,>=0.1.0\n",
      "  Downloading huggingface_hub-0.5.0-py3-none-any.whl (77 kB)\n",
      "Requirement already satisfied: packaging>=20.0 in c:\\users\\chloe\\anaconda3\\lib\\site-packages (from transformers) (20.9)\n",
      "Requirement already satisfied: numpy>=1.17 in c:\\users\\chloe\\anaconda3\\lib\\site-packages (from transformers) (1.20.1)\n",
      "Requirement already satisfied: requests in c:\\users\\chloe\\anaconda3\\lib\\site-packages (from transformers) (2.25.1)\n",
      "Requirement already satisfied: typing-extensions>=3.7.4.3 in c:\\users\\chloe\\anaconda3\\lib\\site-packages (from huggingface-hub<1.0,>=0.1.0->transformers) (3.7.4.3)\n",
      "Requirement already satisfied: pyparsing>=2.0.2 in c:\\users\\chloe\\anaconda3\\lib\\site-packages (from packaging>=20.0->transformers) (2.4.7)\n",
      "Requirement already satisfied: urllib3<1.27,>=1.21.1 in c:\\users\\chloe\\anaconda3\\lib\\site-packages (from requests->transformers) (1.26.4)\n",
      "Requirement already satisfied: certifi>=2017.4.17 in c:\\users\\chloe\\anaconda3\\lib\\site-packages (from requests->transformers) (2020.12.5)\n",
      "Requirement already satisfied: chardet<5,>=3.0.2 in c:\\users\\chloe\\anaconda3\\lib\\site-packages (from requests->transformers) (4.0.0)\n",
      "Requirement already satisfied: idna<3,>=2.5 in c:\\users\\chloe\\anaconda3\\lib\\site-packages (from requests->transformers) (2.10)\n",
      "Requirement already satisfied: click in c:\\users\\chloe\\anaconda3\\lib\\site-packages (from sacremoses->transformers) (7.1.2)\n",
      "Requirement already satisfied: joblib in c:\\users\\chloe\\anaconda3\\lib\\site-packages (from sacremoses->transformers) (1.0.1)\n",
      "Requirement already satisfied: six in c:\\users\\chloe\\anaconda3\\lib\\site-packages (from sacremoses->transformers) (1.15.0)\n",
      "Installing collected packages: tokenizers, sacremoses, huggingface-hub, transformers\n",
      "Successfully installed huggingface-hub-0.5.0 sacremoses-0.0.49 tokenizers-0.11.6 transformers-4.17.0\n"
     ]
    },
    {
     "name": "stderr",
     "output_type": "stream",
     "text": [
      "[nltk_data] Downloading package punkt to\n",
      "[nltk_data]     C:\\Users\\chloe\\AppData\\Roaming\\nltk_data...\n",
      "[nltk_data]   Unzipping tokenizers\\punkt.zip.\n",
      "[nltk_data] Downloading package averaged_perceptron_tagger to\n",
      "[nltk_data]     C:\\Users\\chloe\\AppData\\Roaming\\nltk_data...\n",
      "[nltk_data]   Unzipping taggers\\averaged_perceptron_tagger.zip.\n"
     ]
    },
    {
     "name": "stdout",
     "output_type": "stream",
     "text": [
      "Collecting datasets\n",
      "  Downloading datasets-2.0.0-py3-none-any.whl (325 kB)\n",
      "Requirement already satisfied: numpy>=1.17 in c:\\users\\chloe\\anaconda3\\lib\\site-packages (from datasets) (1.20.1)\n",
      "Requirement already satisfied: packaging in c:\\users\\chloe\\anaconda3\\lib\\site-packages (from datasets) (20.9)\n",
      "Requirement already satisfied: pandas in c:\\users\\chloe\\anaconda3\\lib\\site-packages (from datasets) (1.2.4)\n",
      "Requirement already satisfied: requests>=2.19.0 in c:\\users\\chloe\\anaconda3\\lib\\site-packages (from datasets) (2.25.1)\n",
      "Collecting aiohttp\n",
      "  Downloading aiohttp-3.8.1-cp38-cp38-win_amd64.whl (555 kB)\n",
      "Collecting tqdm>=4.62.1\n",
      "  Downloading tqdm-4.64.0-py2.py3-none-any.whl (78 kB)\n",
      "Collecting pyarrow>=5.0.0\n",
      "  Downloading pyarrow-7.0.0-cp38-cp38-win_amd64.whl (16.1 MB)\n",
      "Collecting fsspec[http]>=2021.05.0\n",
      "  Downloading fsspec-2022.3.0-py3-none-any.whl (136 kB)\n",
      "Collecting dill\n",
      "  Downloading dill-0.3.4-py2.py3-none-any.whl (86 kB)\n",
      "Collecting xxhash\n",
      "  Downloading xxhash-3.0.0-cp38-cp38-win_amd64.whl (29 kB)\n",
      "Collecting responses<0.19\n",
      "  Downloading responses-0.18.0-py3-none-any.whl (38 kB)\n",
      "Requirement already satisfied: huggingface-hub<1.0.0,>=0.1.0 in c:\\users\\chloe\\anaconda3\\lib\\site-packages (from datasets) (0.5.0)\n",
      "Collecting multiprocess\n",
      "  Downloading multiprocess-0.70.12.2-py38-none-any.whl (128 kB)\n",
      "Requirement already satisfied: filelock in c:\\users\\chloe\\anaconda3\\lib\\site-packages (from huggingface-hub<1.0.0,>=0.1.0->datasets) (3.0.12)\n",
      "Requirement already satisfied: pyyaml in c:\\users\\chloe\\anaconda3\\lib\\site-packages (from huggingface-hub<1.0.0,>=0.1.0->datasets) (5.4.1)\n",
      "Requirement already satisfied: typing-extensions>=3.7.4.3 in c:\\users\\chloe\\anaconda3\\lib\\site-packages (from huggingface-hub<1.0.0,>=0.1.0->datasets) (3.7.4.3)\n",
      "Requirement already satisfied: pyparsing>=2.0.2 in c:\\users\\chloe\\anaconda3\\lib\\site-packages (from packaging->datasets) (2.4.7)\n",
      "Requirement already satisfied: idna<3,>=2.5 in c:\\users\\chloe\\anaconda3\\lib\\site-packages (from requests>=2.19.0->datasets) (2.10)\n",
      "Requirement already satisfied: certifi>=2017.4.17 in c:\\users\\chloe\\anaconda3\\lib\\site-packages (from requests>=2.19.0->datasets) (2020.12.5)\n",
      "Requirement already satisfied: chardet<5,>=3.0.2 in c:\\users\\chloe\\anaconda3\\lib\\site-packages (from requests>=2.19.0->datasets) (4.0.0)\n",
      "Requirement already satisfied: urllib3<1.27,>=1.21.1 in c:\\users\\chloe\\anaconda3\\lib\\site-packages (from requests>=2.19.0->datasets) (1.26.4)\n",
      "Requirement already satisfied: colorama in c:\\users\\chloe\\anaconda3\\lib\\site-packages (from tqdm>=4.62.1->datasets) (0.4.4)\n",
      "Collecting aiosignal>=1.1.2\n",
      "  Downloading aiosignal-1.2.0-py3-none-any.whl (8.2 kB)\n",
      "Collecting multidict<7.0,>=4.5\n",
      "  Downloading multidict-6.0.2-cp38-cp38-win_amd64.whl (28 kB)\n",
      "Collecting charset-normalizer<3.0,>=2.0\n",
      "  Downloading charset_normalizer-2.0.12-py3-none-any.whl (39 kB)\n",
      "Collecting yarl<2.0,>=1.0\n",
      "  Downloading yarl-1.7.2-cp38-cp38-win_amd64.whl (122 kB)\n",
      "Collecting frozenlist>=1.1.1\n",
      "  Downloading frozenlist-1.3.0-cp38-cp38-win_amd64.whl (33 kB)\n",
      "Requirement already satisfied: attrs>=17.3.0 in c:\\users\\chloe\\anaconda3\\lib\\site-packages (from aiohttp->datasets) (20.3.0)\n",
      "Collecting async-timeout<5.0,>=4.0.0a3\n",
      "  Downloading async_timeout-4.0.2-py3-none-any.whl (5.8 kB)\n",
      "Requirement already satisfied: pytz>=2017.3 in c:\\users\\chloe\\anaconda3\\lib\\site-packages (from pandas->datasets) (2021.1)\n",
      "Requirement already satisfied: python-dateutil>=2.7.3 in c:\\users\\chloe\\anaconda3\\lib\\site-packages (from pandas->datasets) (2.8.1)\n",
      "Requirement already satisfied: six>=1.5 in c:\\users\\chloe\\anaconda3\\lib\\site-packages (from python-dateutil>=2.7.3->pandas->datasets) (1.15.0)\n",
      "Installing collected packages: multidict, frozenlist, yarl, charset-normalizer, async-timeout, aiosignal, tqdm, fsspec, dill, aiohttp, xxhash, responses, pyarrow, multiprocess, datasets\n",
      "  Attempting uninstall: tqdm\n",
      "    Found existing installation: tqdm 4.59.0\n",
      "    Uninstalling tqdm-4.59.0:\n",
      "      Successfully uninstalled tqdm-4.59.0\n",
      "  Attempting uninstall: fsspec\n",
      "    Found existing installation: fsspec 0.9.0\n",
      "    Uninstalling fsspec-0.9.0:DEVICE =  \u001b[34mCPU\u001b[0m\n",
      "\n",
      "      Successfully uninstalled fsspec-0.9.0\n",
      "Successfully installed aiohttp-3.8.1 aiosignal-1.2.0 async-timeout-4.0.2 charset-normalizer-2.0.12 datasets-2.0.0 dill-0.3.4 frozenlist-1.3.0 fsspec-2022.3.0 multidict-6.0.2 multiprocess-0.70.12.2 pyarrow-7.0.0 responses-0.18.0 tqdm-4.64.0 xxhash-3.0.0 yarl-1.7.2\n"
     ]
    }
   ],
   "source": [
    "import requests as req\n",
    "import pandas as pd\n",
    "import os\n",
    "import re\n",
    "from collections import Counter\n",
    "import numpy as np\n",
    "import pandas as pd\n",
    "import matplotlib.pyplot as plt\n",
    "!pip install termcolor\n",
    "from termcolor import colored\n",
    "import torch\n",
    "import torch.nn as nn\n",
    "from sklearn.model_selection import train_test_split\n",
    "from sklearn.metrics import classification_report\n",
    "try :\n",
    "  import transformers\n",
    "except :\n",
    "  !pip install transformers\n",
    "  import transformers\n",
    "from transformers import AutoModel, BertTokenizerFast\n",
    "from transformers import AutoModelForMaskedLM, AutoTokenizer\n",
    "from torch.utils.data import TensorDataset, DataLoader, RandomSampler, SequentialSampler\n",
    "from transformers import AdamW\n",
    "from sklearn.utils.class_weight import compute_class_weight\n",
    "from nltk.tokenize import sent_tokenize\n",
    "import nltk\n",
    "nltk.download('punkt')\n",
    "nltk.download('averaged_perceptron_tagger')\n",
    "from itertools import compress\n",
    "import seaborn as sns\n",
    "from tqdm import *\n",
    "import time\n",
    "! pip install datasets\n",
    "# torch.cuda.is_available() returns a boolean to check if the GPU can be used or not\n",
    "if torch.cuda.is_available():\n",
    "  # if CUDA is available set 'cuda' as the device\n",
    "  device = 'cuda'\n",
    "  # and then print the name of the GPU\n",
    "  print('DEVICE = ', colored(torch.cuda.get_device_name(0), \"green\" ) )\n",
    "else:\n",
    "  # else, set 'cpu' as device\n",
    "  device = 'cpu'\n",
    "  # just print than the CPU is used. Alternatively you can check your CPU with the following command (linux based) in the next cell:\n",
    "  # ! lscpu\n",
    "  print('DEVICE = ', colored('CPU', \"blue\"))\n",
    "\n",
    "git_url = \"https://raw.githubusercontent.com/chlolv/NLP_Project/main/Data/\"\n",
    "H1_url = \"H1.txt\"\n",
    "H2_url = \"H2.txt\"\n",
    "H3_url = \"H3.txt\"\n",
    "H4_url = \"H4.txt\"\n",
    "H5_url = \"H5.txt\"\n",
    "H6_url = \"H6.txt\"\n",
    "H7_url = \"H7.txt\"\n",
    "\n",
    "H1 = req.get(git_url + H1_url)\n",
    "H1 = H1.text\n",
    "H2 = req.get(git_url + H2_url)\n",
    "H2 = H2.text\n",
    "H3 = req.get(git_url + H3_url)\n",
    "H3 = H3.text\n",
    "H4 = req.get(git_url + H4_url)\n",
    "H4 = H4.text\n",
    "H5 = req.get(git_url + H5_url)\n",
    "H5 = H5.text\n",
    "H6 = req.get(git_url + H6_url)\n",
    "H6 = H6.text\n",
    "H7 = req.get(git_url + H7_url)\n",
    "H7 = H7.text"
   ]
  },
  {
   "cell_type": "markdown",
   "metadata": {
    "id": "sfOZiGShgD5w"
   },
   "source": [
    "# Traitement H1"
   ]
  },
  {
   "cell_type": "code",
   "execution_count": 3,
   "metadata": {
    "id": "x-3yCTTu_aeJ"
   },
   "outputs": [],
   "source": [
    "H1_processed = H1\n",
    "H1_processed = H1_processed.split('\\r\\n\\r\\n')\n",
    "H1_processed = [sentence.strip() for sentence in H1_processed]\n",
    "\n",
    "remove_list = []\n",
    "for i in range(0, len(H1_processed)) :\n",
    "  paragraph = H1_processed[i]\n",
    "  if \"CHAPTER\" in paragraph :\n",
    "    remove_list.append(i)\n",
    "    remove_list.append(i+1)\n",
    "for index in sorted(remove_list, reverse = True) :\n",
    "  del H1_processed[index]\n",
    "H1_processed = [paragraph for paragraph in H1_processed if paragraph not in [\"Harry Potter and the Sorcerer's Stone\", 'THE END']]\n"
   ]
  },
  {
   "cell_type": "markdown",
   "metadata": {
    "id": "gFPlA34WgN8y"
   },
   "source": [
    "# Traitement H2"
   ]
  },
  {
   "cell_type": "code",
   "execution_count": 4,
   "metadata": {
    "id": "17JDfOLggKpV"
   },
   "outputs": [],
   "source": [
    "H2_processed = H2\n",
    "H2_processed = re.sub('\\r\\n[0-9]\\r\\n|\\r\\n[0-9][0-9]\\r\\n|\\r\\n[0-9][0-9][0-9]\\r\\n|\\r\\n[0-9][0-9][0-9][0-9]\\r\\n|\\r\\n[0-9][0-9][0-9][0-9][0-9]\\r\\n', ' ', H2_processed)\n",
    "H2_processed = re.sub('\\r\\n|\\r\\n.\\r\\n|\\r\\n..\\r\\n|\\r\\n...\\r\\n|\\r\\n....\\r\\n|\\r\\n.....\\r\\n', ' ', H2_processed)\n",
    "H2_processed = re.sub('\\*.\\*|\\*..\\*|\\*...\\*|\\*....\\*|\\*.....\\*|\\*......\\*|\\*.......\\*|\\*........\\*|\\*.........\\*|\\*..........\\*', '', H2_processed) \n",
    "H2_processed = H2_processed[202:]\n",
    "\n",
    "remove_list = []\n",
    "H2_processed = sent_tokenize(H2_processed)\n",
    "for i in reversed(range(1,len(H2_processed))) :\n",
    "  paragraph = H2_processed[i]\n",
    "  if paragraph[0].islower() or paragraph[0] == '.' :\n",
    "    H2_processed[i-1] += ' ' + paragraph\n",
    "    remove_list.append(i)\n",
    "for index in sorted(remove_list, reverse = True) :\n",
    "  del H2_processed[index]\n"
   ]
  },
  {
   "cell_type": "markdown",
   "metadata": {
    "id": "HlaUIz56CO-H"
   },
   "source": [
    "# Traitement H3"
   ]
  },
  {
   "cell_type": "code",
   "execution_count": 5,
   "metadata": {
    "id": "-mNX27UaCQ5-"
   },
   "outputs": [],
   "source": [
    "H3_processed = H3\n",
    "H3_processed = re.sub('\\\\xad', '', H3_processed)\n",
    "H3_processed = H3_processed.split('\\r\\n\\r\\n')\n",
    "H3_processed = [paragraph.strip() for paragraph in H3_processed]\n",
    "\n",
    "remove_list = []\n",
    "for i in range(1, len(H3_processed)) :\n",
    "  paragraph = H3_processed[i]\n",
    "  if \"CHAPTER\" in paragraph :\n",
    "    remove_list.append(i)\n",
    "for index in sorted(remove_list, reverse = True) :\n",
    "  del H3_processed[index]\n",
    "\n",
    "remove_list = []\n",
    "for i in reversed(range(1,len(H3_processed))) :\n",
    "  paragraph = H3_processed[i]\n",
    "  try :\n",
    "    if paragraph[0].islower() or paragraph[0] == '.' :\n",
    "      H3_processed[i-1] += ' ' + paragraph\n",
    "      remove_list.append(i)\n",
    "  except :\n",
    "    H3_processed[i-1] += ' ' + paragraph\n",
    "    remove_list.append(i)\n",
    "for index in sorted(remove_list, reverse = True) :\n",
    "  del H3_processed[index]\n"
   ]
  },
  {
   "cell_type": "markdown",
   "metadata": {
    "id": "tQdzhVfpDiy9"
   },
   "source": [
    "# Traitement H4"
   ]
  },
  {
   "cell_type": "code",
   "execution_count": 6,
   "metadata": {
    "id": "Fhu5pBG8Dkco"
   },
   "outputs": [],
   "source": [
    "H4_processed = H4\n",
    "H4_processed = re.sub('�', '-', H4_processed)\n",
    "H4_processed = H4_processed.split('\\n\\n')\n",
    "H4_processed = [paragraph.strip() for paragraph in H4_processed]\n",
    "\n",
    "remove_list = []\n",
    "for i in range(1, len(H4_processed)) :\n",
    "  paragraph = H4_processed[i]\n",
    "  if \"CHAPTER\" in paragraph :\n",
    "    remove_list.append(i)\n",
    "for index in sorted(remove_list, reverse = True) :\n",
    "  del H4_processed[index]\n",
    "\n",
    "H4_processed = H4_processed[2:]\n"
   ]
  },
  {
   "cell_type": "markdown",
   "metadata": {
    "id": "WFJWgi5ccsEt"
   },
   "source": [
    "# Traitement H5"
   ]
  },
  {
   "cell_type": "code",
   "execution_count": 7,
   "metadata": {
    "id": "S6Li_TStct0g"
   },
   "outputs": [],
   "source": [
    "H5_processed = H5\n",
    "H5_processed = re.sub('�', \"\\'\", H5_processed)\n",
    "H5_processed = H5_processed.split('\\n')\n",
    "H5_processed = [paragraph.strip() for paragraph in H5_processed]\n",
    "\n",
    "remove_list = []\n",
    "for i in range(1, len(H5_processed)) :\n",
    "  paragraph = H5_processed[i]\n",
    "  if \"CHAPTER\" in paragraph :\n",
    "    remove_list.append(i)\n",
    "    remove_list.append(i+1)\n",
    "for index in sorted(remove_list, reverse = True) :\n",
    "  del H5_processed[index]\n",
    "\n",
    "remove_list = []\n",
    "for i in reversed(range(1,len(H5_processed))) :\n",
    "  paragraph = H5_processed[i]\n",
    "  try :\n",
    "    if paragraph[0].islower() or paragraph[0] == '.' :\n",
    "      H5_processed[i-1] += ' ' + paragraph\n",
    "      remove_list.append(i)\n",
    "  except :\n",
    "    H5_processed[i-1] += ' ' + paragraph\n",
    "    remove_list.append(i)\n",
    "for index in sorted(remove_list, reverse = True) :\n",
    "  del H5_processed[index]\n",
    "\n",
    "H5_processed = H5_processed[2:]\n",
    "\n"
   ]
  },
  {
   "cell_type": "markdown",
   "metadata": {
    "id": "fQTnL9k6fYEl"
   },
   "source": [
    "# Traitement H6"
   ]
  },
  {
   "cell_type": "code",
   "execution_count": 8,
   "metadata": {
    "id": "87mfEIEVfaOD"
   },
   "outputs": [],
   "source": [
    "H6_processed = H6\n",
    "H6_processed = H6_processed.split('\\n')\n",
    "H6_processed = [paragraph.strip() for paragraph in H6_processed]\n",
    "\n",
    "remove_list = []\n",
    "for i in range(1, len(H6_processed)) :\n",
    "  paragraph = H6_processed[i]\n",
    "  if re.match('Chapter [0-9]', paragraph) :\n",
    "    remove_list.append(i)\n",
    "for index in sorted(remove_list, reverse = True) :\n",
    "  del H6_processed[index]\n",
    "\n",
    "H6_processed = H6_processed[32:]\n"
   ]
  },
  {
   "cell_type": "markdown",
   "metadata": {
    "id": "8QtohO52g1VP"
   },
   "source": [
    "# Traitement H7"
   ]
  },
  {
   "cell_type": "code",
   "execution_count": 9,
   "metadata": {
    "id": "c2QROLaZg2ts"
   },
   "outputs": [],
   "source": [
    "H7_processed = H7\n",
    "H7_processed = re.sub('�', \"\\'\", H7_processed)\n",
    "H7_processed = H7_processed.split('\\n')\n",
    "H7_processed = [paragraph.strip() for paragraph in H7_processed]\n",
    "\n",
    "remove_list = []\n",
    "for i in range(1, len(H7_processed)) :\n",
    "  paragraph = H7_processed[i]\n",
    "  if paragraph[:7] == 'Chapter' :\n",
    "    remove_list.append(i)\n",
    "for index in sorted(remove_list, reverse = True) :\n",
    "  del H7_processed[index]\n",
    "\n",
    "H7_processed = H7_processed[1:]\n"
   ]
  },
  {
   "cell_type": "markdown",
   "metadata": {
    "id": "uwHDEM1FgW6c"
   },
   "source": [
    "# Fusion des Hi"
   ]
  },
  {
   "cell_type": "code",
   "execution_count": 10,
   "metadata": {
    "id": "9tKTnKQxiSTd"
   },
   "outputs": [],
   "source": [
    "taille_min_para = 30\n",
    "book_label_list = []\n",
    "H = []\n",
    "for book in range(1,8) :\n",
    "  current_H = globals()['H' + str(book) + '_processed']\n",
    "  remove_list = []\n",
    "  for i in reversed(range(0, len(current_H))) :\n",
    "    paragraph = current_H[i]\n",
    "    if len(paragraph.split()) < taille_min_para : # Split is on spaces (word count)\n",
    "      remove_list.append(i)\n",
    "      current_H[i-1] += ' '\n",
    "      current_H[i-1] += current_H[i]\n",
    "  for index in sorted(remove_list, reverse = True) :\n",
    "    del current_H[index]\n",
    "  for paragraph in current_H :\n",
    "      book_label_list.append(book)\n",
    "  H += current_H\n"
   ]
  },
  {
   "cell_type": "code",
   "execution_count": 11,
   "metadata": {
    "colab": {
     "base_uri": "https://localhost:8080/"
    },
    "id": "AXIaW7tvlgUA",
    "outputId": "7f392317-bc0e-47bd-ee4b-08c6623d2366"
   },
   "outputs": [
    {
     "data": {
      "text/plain": [
       "Counter({1: 1452, 2: 2140, 3: 2109, 4: 3600, 5: 5115, 6: 3134, 7: 3380})"
      ]
     },
     "execution_count": 11,
     "metadata": {},
     "output_type": "execute_result"
    }
   ],
   "source": [
    "Counter(book_label_list)"
   ]
  },
  {
   "cell_type": "code",
   "execution_count": 12,
   "metadata": {
    "colab": {
     "base_uri": "https://localhost:8080/",
     "height": 855
    },
    "id": "4Te05U-2m1P3",
    "outputId": "898d9998-9fa0-4bb1-b365-7e24f352b585"
   },
   "outputs": [
    {
     "name": "stderr",
     "output_type": "stream",
     "text": [
      "C:\\Users\\chloe\\anaconda3\\lib\\site-packages\\seaborn\\distributions.py:2557: FutureWarning: `distplot` is a deprecated function and will be removed in a future version. Please adapt your code to use either `displot` (a figure-level function with similar flexibility) or `kdeplot` (an axes-level function for kernel density plots).\n",
      "  warnings.warn(msg, FutureWarning)\n",
      "C:\\Users\\chloe\\anaconda3\\lib\\site-packages\\seaborn\\distributions.py:2557: FutureWarning: `distplot` is a deprecated function and will be removed in a future version. Please adapt your code to use either `displot` (a figure-level function with similar flexibility) or `kdeplot` (an axes-level function for kernel density plots).\n",
      "  warnings.warn(msg, FutureWarning)\n",
      "C:\\Users\\chloe\\anaconda3\\lib\\site-packages\\seaborn\\distributions.py:2557: FutureWarning: `distplot` is a deprecated function and will be removed in a future version. Please adapt your code to use either `displot` (a figure-level function with similar flexibility) or `kdeplot` (an axes-level function for kernel density plots).\n",
      "  warnings.warn(msg, FutureWarning)\n",
      "C:\\Users\\chloe\\anaconda3\\lib\\site-packages\\seaborn\\distributions.py:2557: FutureWarning: `distplot` is a deprecated function and will be removed in a future version. Please adapt your code to use either `displot` (a figure-level function with similar flexibility) or `kdeplot` (an axes-level function for kernel density plots).\n",
      "  warnings.warn(msg, FutureWarning)\n",
      "C:\\Users\\chloe\\anaconda3\\lib\\site-packages\\seaborn\\distributions.py:2557: FutureWarning: `distplot` is a deprecated function and will be removed in a future version. Please adapt your code to use either `displot` (a figure-level function with similar flexibility) or `kdeplot` (an axes-level function for kernel density plots).\n",
      "  warnings.warn(msg, FutureWarning)\n",
      "C:\\Users\\chloe\\anaconda3\\lib\\site-packages\\seaborn\\distributions.py:2557: FutureWarning: `distplot` is a deprecated function and will be removed in a future version. Please adapt your code to use either `displot` (a figure-level function with similar flexibility) or `kdeplot` (an axes-level function for kernel density plots).\n",
      "  warnings.warn(msg, FutureWarning)\n",
      "C:\\Users\\chloe\\anaconda3\\lib\\site-packages\\seaborn\\distributions.py:2557: FutureWarning: `distplot` is a deprecated function and will be removed in a future version. Please adapt your code to use either `displot` (a figure-level function with similar flexibility) or `kdeplot` (an axes-level function for kernel density plots).\n",
      "  warnings.warn(msg, FutureWarning)\n"
     ]
    },
    {
     "data": {
      "image/png": "[encoded data removed]",
      "text/plain": [
       "<Figure size 1440x720 with 1 Axes>"
      ]
     },
     "metadata": {
      "needs_background": "light"
     },
     "output_type": "display_data"
    }
   ],
   "source": [
    "plt.rcParams['figure.figsize'] = [20, 10]\n",
    "\n",
    "for book in range(1,8) :\n",
    "  BOOL = [book_label == book for book_label in book_label_list]\n",
    "  H_subset = list(compress(H, BOOL))  \n",
    "  len_list = []\n",
    "  for paragraph in H_subset :\n",
    "    len_list.append(len(paragraph.split()))  \n",
    "  sns.distplot(len_list, hist = False, kde = True,\n",
    "                kde_kws = {'linewidth': 3},\n",
    "                label = book)\n",
    "plt.legend()\n",
    "plt.show()"
   ]
  },
  {
   "cell_type": "markdown",
   "metadata": {
    "id": "wClZ51btMldf"
   },
   "source": [
    "# Basic analysis\n"
   ]
  },
  {
   "cell_type": "code",
   "execution_count": 13,
   "metadata": {
    "colab": {
     "base_uri": "https://localhost:8080/",
     "height": 592
    },
    "id": "byDsC3Y-PkHP",
    "outputId": "440c77d7-47c6-4f50-876c-0cf845e7c8c9"
   },
   "outputs": [
    {
     "data": {
      "image/png": "[encoded data removed]",
      "text/plain": [
       "<Figure size 1080x720 with 1 Axes>"
      ]
     },
     "metadata": {
      "needs_background": "light"
     },
     "output_type": "display_data"
    }
   ],
   "source": [
    "character_list = [['Harry', 'Potter'], ['Ron', 'Weasley'], ['Hermione', 'Granger'], ['Snape', 'Severus'], ['Albus', 'Dumbledore'], ['Dursley'], ['Draco', 'Malfoy']]\n",
    "count_dict = {}\n",
    "key = 0\n",
    "for book in range(1,8) :\n",
    "  BOOL = [book_label == book for book_label in book_label_list]\n",
    "  H_subset = list(compress(H, BOOL))\n",
    "  for character in character_list :\n",
    "    count = 0\n",
    "    for paragraph in H_subset :\n",
    "      if any(name in paragraph for name in character) :\n",
    "        count += 1\n",
    "    new_key = {'book' : book, 'character' : character[0], 'count' : count}\n",
    "    count_dict[str(key)] = new_key\n",
    "    key += 1\n",
    "count_data = pd.DataFrame(count_dict).T\n",
    "\n",
    "plt.rcParams['figure.figsize'] = [15, 10]\n",
    "for character in character_list :\n",
    "  x = count_data[count_data['character'] == character[0]]['book']\n",
    "  y = count_data[count_data['character'] == character[0]]['count']\n",
    "  plt.plot(x, y, label = character[0])\n",
    "plt.legend()\n",
    "plt.show()\n"
   ]
  },
  {
   "cell_type": "markdown",
   "metadata": {
    "id": "yDrSlgMscXXX"
   },
   "source": [
    "# Further processing for training"
   ]
  },
  {
   "cell_type": "code",
   "execution_count": 14,
   "metadata": {
    "colab": {
     "base_uri": "https://localhost:8080/",
     "height": 423
    },
    "id": "2xg1TlEbcaez",
    "outputId": "82583575-17cd-436c-c5c8-076075cbde4a"
   },
   "outputs": [
    {
     "data": {
      "text/html": [
       "<div>\n",
       "<style scoped>\n",
       "    .dataframe tbody tr th:only-of-type {\n",
       "        vertical-align: middle;\n",
       "    }\n",
       "\n",
       "    .dataframe tbody tr th {\n",
       "        vertical-align: top;\n",
       "    }\n",
       "\n",
       "    .dataframe thead th {\n",
       "        text-align: right;\n",
       "    }\n",
       "</style>\n",
       "<table border=\"1\" class=\"dataframe\">\n",
       "  <thead>\n",
       "    <tr style=\"text-align: right;\">\n",
       "      <th></th>\n",
       "      <th>0</th>\n",
       "    </tr>\n",
       "  </thead>\n",
       "  <tbody>\n",
       "    <tr>\n",
       "      <th>the</th>\n",
       "      <td>47706</td>\n",
       "    </tr>\n",
       "    <tr>\n",
       "      <th>to</th>\n",
       "      <td>26789</td>\n",
       "    </tr>\n",
       "    <tr>\n",
       "      <th>and</th>\n",
       "      <td>25577</td>\n",
       "    </tr>\n",
       "    <tr>\n",
       "      <th>of</th>\n",
       "      <td>21530</td>\n",
       "    </tr>\n",
       "    <tr>\n",
       "      <th>a</th>\n",
       "      <td>19919</td>\n",
       "    </tr>\n",
       "    <tr>\n",
       "      <th>...</th>\n",
       "      <td>...</td>\n",
       "    </tr>\n",
       "    <tr>\n",
       "      <th>holidaymakers</th>\n",
       "      <td>1</td>\n",
       "    </tr>\n",
       "    <tr>\n",
       "      <th>insistent</th>\n",
       "      <td>1</td>\n",
       "    </tr>\n",
       "    <tr>\n",
       "      <th>unexplained</th>\n",
       "      <td>1</td>\n",
       "    </tr>\n",
       "    <tr>\n",
       "      <th>sprinklers</th>\n",
       "      <td>1</td>\n",
       "    </tr>\n",
       "    <tr>\n",
       "      <th>bereavement</th>\n",
       "      <td>1</td>\n",
       "    </tr>\n",
       "  </tbody>\n",
       "</table>\n",
       "<p>30959 rows × 1 columns</p>\n",
       "</div>"
      ],
      "text/plain": [
       "                   0\n",
       "the            47706\n",
       "to             26789\n",
       "and            25577\n",
       "of             21530\n",
       "a              19919\n",
       "...              ...\n",
       "holidaymakers      1\n",
       "insistent          1\n",
       "unexplained        1\n",
       "sprinklers         1\n",
       "bereavement        1\n",
       "\n",
       "[30959 rows x 1 columns]"
      ]
     },
     "execution_count": 14,
     "metadata": {},
     "output_type": "execute_result"
    }
   ],
   "source": [
    "for i in range(0, len(H)) :\n",
    "  H[i] = re.sub(\"[!?]\", '.', H[i])\n",
    "  H[i] = H[i].replace(\"...\", '.')\n",
    "  H[i] = re.sub('[,\\\\-\"()]', ' ', H[i])\n",
    "  H[i] = re.sub('\\*', '', H[i]) \n",
    "  H[i] = re.sub('\\\\\\\\', '', H[i]) \n",
    "vocabulary = []\n",
    "for i in range(0, len(H)) :\n",
    "  element = re.sub(\"[.]\", ' ', H[i])\n",
    "  words = element.split()\n",
    "  vocabulary.append(words)\n",
    "vocabulary = [item for sublist in vocabulary for item in sublist]\n",
    "voc_count = Counter(vocabulary)\n",
    "voc_count = pd.DataFrame.from_dict(voc_count, orient = 'index').sort_values(by = [0], ascending = [False])\n",
    "voc_count"
   ]
  },
  {
   "cell_type": "code",
   "execution_count": 16,
   "metadata": {
    "colab": {
     "base_uri": "https://localhost:8080/"
    },
    "id": "nO4T_oBbiz41",
    "outputId": "bb320150-53cb-4510-b291-db51aa9ab23d"
   },
   "outputs": [
    {
     "name": "stdout",
     "output_type": "stream",
     "text": [
      "1089622\n"
     ]
    }
   ],
   "source": [
    "print(len(vocabulary))"
   ]
  },
  {
   "cell_type": "code",
   "execution_count": 15,
   "metadata": {
    "id": "QtW5Ey3-g1XV"
   },
   "outputs": [],
   "source": [
    "# word_dict = {'[PAD]': 0, '[CLS]': 1, '[SEP]': 2, '[MASK]': 3}\n",
    "# for i, w in enumerate(vocabulary) :\n",
    "#    word_dict[w] = i + 4\n",
    "#    number_dict = {i: w for i, w in enumerate(word_dict)}\n",
    "#    vocab_size = len(word_dict)"
   ]
  },
  {
   "cell_type": "markdown",
   "metadata": {
    "id": "MA64VX91SL-x"
   },
   "source": [
    "# Training"
   ]
  },
  {
   "cell_type": "code",
   "execution_count": 17,
   "metadata": {
    "colab": {
     "base_uri": "https://localhost:8080/",
     "height": 101,
     "referenced_widgets": [
      "47341a63ba714b3babadacd080bf01d7",
      "7850fbc1acae48569da42eeeb49116d6",
      "7f73c4055b894f35b355ee5d8c7d0838",
      "8f6fef1d419e4396b7e6c681ccd703e6",
      "8bb1180ef89a4efaafb10925315c368c",
      "bb593b417df742ab888b71fd1b390bd7",
      "361bcc73513a488cb5b14ae85e74ede1",
      "6609667dc67247e8b852cbb9c7548486",
      "77f884164591455e8eee2a9a1c67c86d",
      "4e9e54f268904a39a20bea8f07088ece",
      "0ed39dd5f1a546ea969da36969bfb4e5"
     ]
    },
    "id": "iyr82yuAuYNT",
    "outputId": "0f231332-bdc2-4f7a-d526-d5ebeac8b9b1"
   },
   "outputs": [
    {
     "name": "stderr",
     "output_type": "stream",
     "text": [
      "<ipython-input-17-d3c6418a41ec>:4: TqdmDeprecationWarning: This function will be removed in tqdm==5.0.0\n",
      "Please use `tqdm.notebook.tqdm` instead of `tqdm.tqdm_notebook`\n",
      "  for paragraph in tqdm_notebook(H) :\n"
     ]
    },
    {
     "data": {
      "application/vnd.jupyter.widget-view+json": {
       "model_id": "acb5a43b3b0544ba8b23ef51ba6a6d3f",
       "version_major": 2,
       "version_minor": 0
      },
      "text/plain": [
       "  0%|          | 0/20930 [00:00<?, ?it/s]"
      ]
     },
     "metadata": {},
     "output_type": "display_data"
    }
   ],
   "source": [
    "# On liste tous les noms propres\n",
    "# On se ramène à une tâche de classification\n",
    "proper_nouns = []\n",
    "for paragraph in tqdm_notebook(H) :\n",
    "  tokenized = nltk.word_tokenize(paragraph)\n",
    "  proper_noun = [word for (word, pos) in nltk.pos_tag(tokenized) if pos in ['NNP', 'NNPS']] \n",
    "  proper_nouns.append(proper_noun)"
   ]
  },
  {
   "cell_type": "code",
   "execution_count": 18,
   "metadata": {
    "id": "ijx_4O8AvXU_"
   },
   "outputs": [],
   "source": [
    "proper_nouns_flat = [item for sublist in proper_nouns for item in sublist]"
   ]
  },
  {
   "cell_type": "code",
   "execution_count": 19,
   "metadata": {
    "id": "ctVh4IjqBfn0"
   },
   "outputs": [],
   "source": [
    "count_proper_nouns = pd.DataFrame.from_dict(Counter(proper_nouns_flat), orient = \"index\").sort_values(by = [0], ascending = [True])"
   ]
  },
  {
   "cell_type": "raw",
   "metadata": {
    "id": "noORsxhrwxVm"
   },
   "source": [
    "nouns_to_mask = []\n",
    "for word in np.unique(proper_nouns_flat):\n",
    "  if count_proper_nouns[count_proper_nouns.index == word].values[0][0] > 200:\n",
    "    nouns_to_mask.append(word)"
   ]
  },
  {
   "cell_type": "raw",
   "metadata": {
    "id": "nJLmfI2gAi2E"
   },
   "source": [
    "runs_to_mask = [word for word in nouns_to_mask if word not in ['Dark', 'Death', 'Ministry', 'Mr.', 'Mrs.', 'Well']]"
   ]
  },
  {
   "cell_type": "code",
   "execution_count": 20,
   "metadata": {
    "colab": {
     "base_uri": "https://localhost:8080/"
    },
    "id": "9k83vEO8ukQk",
    "outputId": "d53e270f-898c-41e0-c296-6fc4005f99b2"
   },
   "outputs": [
    {
     "data": {
      "application/vnd.jupyter.widget-view+json": {
       "model_id": "aa6380361744415ea5ed89cabba8dbd8",
       "version_major": 2,
       "version_minor": 0
      },
      "text/plain": [
       "Downloading:   0%|          | 0.00/570 [00:00<?, ?B/s]"
      ]
     },
     "metadata": {},
     "output_type": "display_data"
    },
    {
     "data": {
      "application/vnd.jupyter.widget-view+json": {
       "model_id": "8f5c14246e3940e1b3b96a9e4591b42f",
       "version_major": 2,
       "version_minor": 0
      },
      "text/plain": [
       "Downloading:   0%|          | 0.00/420M [00:00<?, ?B/s]"
      ]
     },
     "metadata": {},
     "output_type": "display_data"
    },
    {
     "name": "stderr",
     "output_type": "stream",
     "text": [
      "Some weights of the model checkpoint at bert-base-uncased were not used when initializing BertModel: ['cls.seq_relationship.bias', 'cls.predictions.bias', 'cls.predictions.transform.LayerNorm.weight', 'cls.predictions.transform.LayerNorm.bias', 'cls.seq_relationship.weight', 'cls.predictions.decoder.weight', 'cls.predictions.transform.dense.bias', 'cls.predictions.transform.dense.weight']\n",
      "- This IS expected if you are initializing BertModel from the checkpoint of a model trained on another task or with another architecture (e.g. initializing a BertForSequenceClassification model from a BertForPreTraining model).\n",
      "- This IS NOT expected if you are initializing BertModel from the checkpoint of a model that you expect to be exactly identical (initializing a BertForSequenceClassification model from a BertForSequenceClassification model).\n"
     ]
    },
    {
     "data": {
      "application/vnd.jupyter.widget-view+json": {
       "model_id": "0324566cd239481984babd7feb1d07c1",
       "version_major": 2,
       "version_minor": 0
      },
      "text/plain": [
       "Downloading:   0%|          | 0.00/29.0 [00:00<?, ?B/s]"
      ]
     },
     "metadata": {},
     "output_type": "display_data"
    },
    {
     "data": {
      "application/vnd.jupyter.widget-view+json": {
       "model_id": "6dfc59f3b349451896ba54c8f121ff6c",
       "version_major": 2,
       "version_minor": 0
      },
      "text/plain": [
       "Downloading:   0%|          | 0.00/208k [00:00<?, ?B/s]"
      ]
     },
     "metadata": {},
     "output_type": "display_data"
    },
    {
     "data": {
      "application/vnd.jupyter.widget-view+json": {
       "model_id": "d3fa528fcaa54072a75deb0d4b53ca92",
       "version_major": 2,
       "version_minor": 0
      },
      "text/plain": [
       "Downloading:   0%|          | 0.00/426k [00:00<?, ?B/s]"
      ]
     },
     "metadata": {},
     "output_type": "display_data"
    },
    {
     "data": {
      "application/vnd.jupyter.widget-view+json": {
       "model_id": "652feda1a6274f1dbf97978118c35f5e",
       "version_major": 2,
       "version_minor": 0
      },
      "text/plain": [
       "Downloading:   0%|          | 0.00/570 [00:00<?, ?B/s]"
      ]
     },
     "metadata": {},
     "output_type": "display_data"
    },
    {
     "data": {
      "application/vnd.jupyter.widget-view+json": {
       "model_id": "25d7311f1fb84c4094dae98352a00a8f",
       "version_major": 2,
       "version_minor": 0
      },
      "text/plain": [
       "Downloading:   0%|          | 0.00/416M [00:00<?, ?B/s]"
      ]
     },
     "metadata": {},
     "output_type": "display_data"
    },
    {
     "name": "stderr",
     "output_type": "stream",
     "text": [
      "Some weights of the model checkpoint at bert-base-cased were not used when initializing BertForMaskedLM: ['cls.seq_relationship.bias', 'cls.seq_relationship.weight']\n",
      "- This IS expected if you are initializing BertForMaskedLM from the checkpoint of a model trained on another task or with another architecture (e.g. initializing a BertForSequenceClassification model from a BertForPreTraining model).\n",
      "- This IS NOT expected if you are initializing BertForMaskedLM from the checkpoint of a model that you expect to be exactly identical (initializing a BertForSequenceClassification model from a BertForSequenceClassification model).\n"
     ]
    },
    {
     "data": {
      "text/plain": [
       "Embedding(29007, 768)"
      ]
     },
     "execution_count": 20,
     "metadata": {},
     "output_type": "execute_result"
    }
   ],
   "source": [
    "# On ajoute les noms propres au vocabulaire basique de Bert\n",
    "\n",
    "bert = AutoModel.from_pretrained('bert-base-uncased') # vocabulaire de base\n",
    "model = \"bert-base-cased\" \n",
    "\n",
    "tokenizer = BertTokenizerFast.from_pretrained(model)\n",
    "model = AutoModelForMaskedLM.from_pretrained(model)\n",
    "\n",
    "new_tokens = ['Harry', 'Potter', 'Ron', 'Weasley', 'Hermione', 'Granger', 'Snape', 'Severus', 'Albus', 'Dumbledore', 'Dursley', 'Vernon', 'Dudley', 'Petunia', 'Draco', 'Malfoy']\n",
    "num_added_toks = tokenizer.add_tokens(new_tokens)\n",
    "\n",
    "model.resize_token_embeddings(len(tokenizer))"
   ]
  },
  {
   "cell_type": "code",
   "execution_count": null,
   "metadata": {
    "id": "Ab82nVP80kRr"
   },
   "outputs": [],
   "source": [
    "character_list = {1: ['Harry', 'Potter'], 2: ['Ron', 'Weasley'], 3: ['Hermione', 'Granger'], 4: ['Snape', 'Severus'], \n",
    "                  5:['Albus', 'Dumbledore'], 6: ['Dursley', 'Vernon', 'Dudley', 'Petunia'], 7: ['Draco', 'Malfoy']}"
   ]
  },
  {
   "cell_type": "code",
   "execution_count": null,
   "metadata": {
    "colab": {
     "base_uri": "https://localhost:8080/",
     "height": 70
    },
    "id": "1P2jf-f9AJKi",
    "outputId": "6b0c9d7a-0831-45c5-8eb4-f3014c113b0b"
   },
   "outputs": [],
   "source": [
    "H[1]"
   ]
  },
  {
   "cell_type": "code",
   "execution_count": null,
   "metadata": {
    "id": "pXiszlSp5k9E"
   },
   "outputs": [],
   "source": [
    "def personal_tok(word_list):\n",
    "  new_book = []\n",
    "  for paragraph in tqdm_notebook(word_list) :\n",
    "    tokenized = tokenizer.tokenize(paragraph)\n",
    "    masked_nouns = ['Harry', 'Potter', 'Ron', 'Weasley', 'Hermione', 'Granger', 'Snape', 'Severus', 'Albus', 'Dumbledore', 'Dursley', 'Vernon', 'Dudley', 'Petunia', 'Draco', 'Malfoy'] \n",
    "    for masked_noun in masked_nouns :\n",
    "      paragraph = re.sub(masked_noun, '[MASK]', paragraph) # On remplace chaque occurence des noms dans la liste\n",
    "    paragraph = re.sub('[MASK] [MASK]', '[MASK]', paragraph) # On remplace par un seul [MASK] si on en a plusieurs d'affilée\n",
    "    paragraph = re.sub('[MASK] [MASK]', '[MASK]', paragraph)\n",
    "    paragraph = re.sub('[MASK] [MASK]', '[MASK]', paragraph)\n",
    "    new_book.append(paragraph)\n",
    "\n",
    "  return(new_book)"
   ]
  },
  {
   "cell_type": "code",
   "execution_count": 21,
   "metadata": {},
   "outputs": [
    {
     "data": {
      "text/plain": [
       "20930"
      ]
     },
     "execution_count": 21,
     "metadata": {},
     "output_type": "execute_result"
    }
   ],
   "source": [
    "len(H)"
   ]
  },
  {
   "cell_type": "code",
   "execution_count": 22,
   "metadata": {},
   "outputs": [
    {
     "data": {
      "text/plain": [
       "[\"Mr. and Mrs. Dursley  of number four  Privet Drive  were proud to say that they were perfectly normal  thank you very much. They were the last people you'd expect to be involved in anything strange or mysterious  because they just didn't hold with such nonsense.\",\n",
       " 'Mr. Dursley was the director of a firm called Grunnings  which made drills. He was a big  beefy man with hardly any neck  although he did have a very large mustache. Mrs. Dursley was thin and blonde and had nearly twice the usual amount of neck  which came in very useful as she spent so much of her time craning over garden fences  spying on the neighbors. The Dursleys had a small son called Dudley and in their opinion there was no finer boy anywhere.',\n",
       " \"The Dursleys had everything they wanted  but they also had a secret  and their greatest fear was that somebody would discover it. They didn't think they could bear it if anyone found out about the Potters. Mrs. Potter was Mrs. Dursley's sister  but they hadn't met for several years; in fact  Mrs. Dursley pretended she didn't have a sister  because her sister and her good for nothing husband were as unDursleyish as it was possible to be. The Dursleys shuddered to think what the neighbors would say if the Potters arrived in the street. The Dursleys knew that the Potters had a small son  too  but they had never even seen him. This boy was another good reason for keeping the Potters away; they didn't want Dudley mixing with a child like that.\",\n",
       " 'When Mr. and Mrs. Dursley woke up on the dull  gray Tuesday our story starts  there was nothing about the cloudy sky outside to suggest that strange and mysterious things would soon be happening all over the country. Mr. Dursley hummed as he picked out his most boring tie for work  and Mrs. Dursley gossiped away happily as she wrestled a screaming Dudley into his high chair. None of them noticed a large  tawny owl flutter past the window.',\n",
       " \"At half past eight  Mr. Dursley picked up his briefcase  pecked Mrs. Dursley on the cheek  and tried to kiss Dudley good bye but missed  because Dudley was now having a tantrum and throwing his cereal at the walls.  Little tyke   chortled Mr. Dursley as he left the house. He got into his car and backed out of number four's drive.\",\n",
       " \"It was on the corner of the street that he noticed the first sign of something peculiar    a cat reading a map. For a second  Mr. Dursley didn't realize what he had seen    then he jerked his head around to look again. There was a tabby cat standing on the corner of Privet Drive  but there wasn't a map in sight. What could he have been thinking of. It must have been a trick of the light. Mr. Dursley blinked and stared at the cat. It stared back. As Mr. Dursley drove around the corner and up the road  he watched the cat in his mirror. It was now reading the sign that said Privet Drive    no  looking at the sign; cats couldn't read maps or signs. Mr. Dursley gave himself a little shake and put the cat out of his mind. As he drove toward town he thought of nothing except a large order of drills he was hoping to get that day.\",\n",
       " \"But on the edge of town  drills were driven out of his mind by something else. As he sat in the usual morning traffic jam  he couldn't help noticing that there seemed to be a lot of strangely dressed people about. People in cloaks. Mr. Dursley couldn't bear people who dressed in funny clothes    the getups you saw on young people. He supposed this was some stupid new fashion. He drummed his fingers on the steering wheel and his eyes fell on a huddle of these weirdos standing quite close by. They were whispering excitedly together. Mr. Dursley was enraged to see that a couple of them weren't young at all; why  that man had to be older than he was  and wearing an emerald green cloak. The nerve of him. But then it struck Mr. Dursley that this was probably some silly stunt    these people were obviously collecting for something. yes  that would be it. The traffic moved on and a few minutes later  Mr. Dursley arrived in the Grunnings parking lot  his mind back on drills.\",\n",
       " \"Mr. Dursley always sat with his back to the window in his office on the ninth floor. If he hadn't  he might have found it harder to concentrate on drills that morning. He didn't see the owls swoop ing past in broad daylight  though people down in the street did; they pointed and gazed open  mouthed as owl after owl sped overhead. Most of them had never seen an owl even at nighttime. Mr. Dursley  however  had a perfectly normal  owl free morning. He yelled at five different people. He made several important telephone calls and shouted a bit more. He was in a very good mood until lunchtime  when he thought he'd stretch his legs and walk across the road to buy himself a bun from the bakery.\",\n",
       " \"He'd forgotten all about the people in cloaks until he passed a group of them next to the baker's. He eyed them angrily as he passed. He didn't know why  but they made him uneasy. This bunch were whispering excitedly  too  and he couldn't see a single collecting tin. It was on his way back past them  clutching a large doughnut in a bag  that he caught a few words of what they were saying.\",\n",
       " \" The Potters  that's right  that's what I heard yes  their son  Harry  Mr. Dursley stopped dead. Fear flooded him. He looked back at the whisperers as if he wanted to say something to them  but thought better of it.\",\n",
       " \"He dashed back across the road  hurried up to his office  snapped at his secretary not to disturb him  seized his telephone  and had almost finished dialing his home number when he changed his mind. He put the receiver back down and stroked his mustache  thinking. no  he was being stupid. Potter wasn't such an unusual name. He was sure there were lots of people called Potter who had a son called Harry. Come to think of it  he wasn't even sure his nephew was called Harry. He'd never even seen the boy. It might have been Harvey. Or Harold. There was no point in worrying Mrs. Dursley; she always got so upset at any mention of her sister. He didn't blame her    if he'd had a sister like that. but all the same  those people in cloaks.\",\n",
       " \"He found it a lot harder to concentrate on drills that afternoon and when he left the building at five o'clock  he was still so worried that he walked straight into someone just outside the door.\",\n",
       " \" Sorry   he grunted  as the tiny old man stumbled and almost fell. It was a few seconds before Mr. Dursley realized that the man was wearing a violet cloak. He didn't seem at all upset at being almost knocked to the ground. On the contrary  his face split into a wide smile and he said in a squeaky voice that made passersby stare   Don't be sorry  my dear sir  for nothing could upset me today. Rejoice  for You Know Who has gone at last. Even Muggles like yourself should be celebrating  this happy  happy day.  And the old man hugged Mr. Dursley around the middle and walked off.\",\n",
       " \"Mr. Dursley stood rooted to the spot. He had been hugged by a complete stranger. He also thought he had been called a Muggle  whatever that was. He was rattled. He hurried to his car and set off for home  hoping he was imagining things  which he had never hoped before  because he didn't approve of imagination.\",\n",
       " \"As he pulled into the driveway of number four  the first thing he saw    and it didn't improve his mood    was the tabby cat he'd spotted that morning. It was now sitting on his garden wall. He was sure it was the same one; it had the same markings around its eyes.\",\n",
       " \" Shoo.  said Mr. Dursley loudly. The cat didn't move. It just gave him a stern look. Was this normal cat behavior. Mr. Dursley wondered. Trying to pull himself together  he let himself into the house. He was still determined not to mention anything to his wife.\",\n",
       " \"Mrs. Dursley had had a nice  normal day. She told him over dinner all about Mrs. Next Door's problems with her daughter and how Dudley had learned a new word   Won't.  . Mr. Dursley tried to act normally. When Dudley had been put to bed  he went into the living room in time to catch the last report on the evening news:  And finally  bird watchers everywhere have reported that the nation's owls have been behaving very unusually today. Although owls normally hunt at night and are hardly ever seen in daylight  there have been hundreds of sightings of these birds flying in every direction since sunrise. Experts are unable to explain why the owls have suddenly changed their sleeping pattern.  The newscaster allowed himself a grin.  Most mysterious. And now  over to Jim McGuffin with the weather. Going to be any more showers of owls tonight  Jim. \",\n",
       " \" Well  Ted   said the weatherman   I don't know about that  but it's not only the owls that have been acting oddly today. Viewers as far apart as Kent  Yorkshire  and Dundee have been phoning in to tell me that instead of the rain I promised yesterday  they've had a downpour of shooting stars. Perhaps people have been celebrating Bonfire Night early    it's not until next week  folks. But I can promise a wet night tonight. \",\n",
       " 'Mr. Dursley sat frozen in his armchair. Shooting stars all over Britain. Owls flying by daylight. Mysterious people in cloaks all over the place. And a whisper  a whisper about the Potters.',\n",
       " \"Mrs. Dursley came into the living room carrying two cups of tea. It was no good. He'd have to say something to her. He cleared his throat nervously.  Er    Petunia  dear    you haven't heard from your sister lately  have you.  As he had expected  Mrs. Dursley looked shocked and angry. After all  they normally pretended she didn't have a sister.  No   she said sharply.  Why. \",\n",
       " ' Funny stuff on the news   Mr. Dursley mumbled.  Owls. shooting stars. and there were a lot of funny looking people in town today.   So.  snapped Mrs. Dursley.  Well  I just thought. maybe. it was something to do with. you know. her crowd. ',\n",
       " \"Mrs. Dursley sipped her tea through pursed lips. Mr. Dursley wondered whether he dared tell her he'd heard the name  Potter.  He decided he didn't dare. Instead he said  as casually as he could   Their son    he'd be about Dudley's age now  wouldn't he.   I suppose so   said Mrs. Dursley stiffly.  What's his name again. Howard  isn't it. \",\n",
       " \" Harry. Nasty  common name  if you ask me.   Oh  yes   said Mr. Dursley  his heart sinking horribly.  Yes  I quite agree.  He didn't say another word on the subject as they went upstairs to bed.\",\n",
       " 'While Mrs. Dursley was in the bathroom  Mr. Dursley crept to the bedroom window and peered down into the front garden. The cat was still there. It was staring down Privet Drive as though it were waiting for something.',\n",
       " \"Was he imagining things. Could all this have anything to do with the Potters. If it did. if it got out that they were related to a pair of    well  he didn't think he could bear it.\",\n",
       " \"The Dursleys got into bed. Mrs. Dursley fell asleep quickly but Mr. Dursley lay awake  turning it all over in his mind. His last  comforting thought before he fell asleep was that even if the Potters were involved  there was no reason for them to come near him and Mrs. Dursley. The Potters knew very well what he and Petunia thought about them and their kind.. He couldn't see how he and Petunia could get mixed up in anything that might be going on    he yawned and turned over    it couldn't affect them.. How very wrong he was.\",\n",
       " \"Mr. Dursley might have been drifting into an uneasy sleep  but the cat on the wall outside was showing no sign of sleepiness. It was sitting as still as a statue  its eyes fixed unblinkingly on the far corner of Privet Drive. It didn't so much as quiver when a car door slammed on the next street  nor when two owls swooped overhead. In fact  it was nearly midnight before the cat moved at all.\",\n",
       " \"A man appeared on the corner the cat had been watching  appeared so suddenly and silently you'd have thought he'd just popped out of the ground. The cat's tail twitched and its eyes narrowed.\",\n",
       " 'Nothing like this man had ever been seen on Privet Drive. He was tall  thin  and very old  judging by the silver of his hair and beard  which were both long enough to tuck into his belt. He was wearing long robes  a purple cloak that swept the ground  and high heeled  buckled boots.',\n",
       " \"His blue eyes were light  bright  and sparkling behind half moon spectacles and his nose was very long and crooked  as though it had been broken at least twice. This man's name was Albus Dumbledore.\",\n",
       " \"Albus Dumbledore didn't seem to realize that he had just arrived in a street where everything from his name to his boots was unwelcome. He was busy rummaging in his cloak  looking for something. But he did seem to realize he was being watched  because he looked up suddenly at the cat  which was still staring at him from the other end of the street. For some reason  the sight of the cat seemed to amuse him. He chuckled and muttered   I should have known. \",\n",
       " \"He found what he was looking for in his inside pocket. It seemed to be a silver cigarette lighter. He flicked it open  held it up in the air  and clicked it. The nearest street lamp went out with a little pop. He clicked it again    the next lamp flickered into darkness. Twelve times he clicked the Put Outer  until the only lights left on the whole street were two tiny pinpricks in the distance  which were the eyes of the cat watching him. If anyone looked out of their window now  even beady eyed Mrs. Dursley  they wouldn't be able to see anything that was happening down on the pavement. Dumbledore slipped the Put Outer back inside his cloak and set off down the street toward number four  where he sat down on the wall next to the cat. He didn't look at it  but after a moment he spoke to it.  Fancy seeing you here  Professor McGonagall. \",\n",
       " 'He turned to smile at the tabby  but it had gone. Instead he was smiling at a rather severe looking woman who was wearing square glasses exactly the shape of the markings the cat had had around its eyes. She  too  was wearing a cloak  an emerald one. Her black hair was drawn into a tight bun. She looked distinctly ruffled.',\n",
       " \" How did you know it was me.  she asked.  My dear Professor  I 've never seen a cat sit so stiffly.   You'd be stiff if you'd been sitting on a brick wall all day   said Professor McGonagall.\",\n",
       " \" All day. When you could have been celebrating. I must have passed a dozen feasts and parties on my way here.  Professor McGonagall sniffed angrily.  Oh yes  everyone's celebrating  all right   she said impatiently.\",\n",
       " \" You'd think they'd be a bit more careful  but no    even the Muggles have noticed something's going on. It was on their news.  She jerked her head back at the Dursleys' dark living room window.  I heard it. Flocks of owls. shooting stars.. Well  they're not completely stupid. They were bound to notice something. Shooting stars down in Kent    I'll bet that was Dedalus Diggle. He never had much sense.   You can't blame them   said Dumbledore gently.  We've had precious little to celebrate for eleven years. \",\n",
       " \" I know that   said Professor McGonagall irritably.  But that's no reason to lose our heads. People are being downright careless  out on the streets in broad daylight  not even dressed in Muggle clothes  swapping rumors. \",\n",
       " \"She threw a sharp  sideways glance at Dumbledore here  as though hoping he was going to tell her something  but he didn't  so she went on.  A fine thing it would be if  on the very day YouKnow Who seems to have disappeared at last  the Muggles found out about us all. I suppose he really has gone  Dumbledore.   It certainly seems so   said Dumbledore.  We have much to be thankful for. Would you care for a lemon drop.   A what. \",\n",
       " \" A lemon drop. They're a kind of Muggle sweet I'm rather fond of   No  thank you   said Professor McGonagall coldly  as though she didn't think this was the moment for lemon drops.  As I say  even if You Know Who has gone   \",\n",
       " \" My dear Professor  surely a sensible person like yourself can call him by his name. All this 'You  Know Who' nonsense    for eleven years I have been trying to persuade people to call him by his proper name: Voldemort.  Professor McGonagall flinched  but Dumbledore  who was unsticking two lemon drops  seemed not to notice.  It all gets so confusing if we keep saying 'You Know Who.' I have never seen any reason to be frightened of saying Voldemort's name.\",\n",
       " \" I know you haven 't  said Professor McGonagall  sounding half exasperated  half admiring.  But you're different. Everyone knows you're the only one You Know  oh  all right  Voldemort  was frightened of.   You flatter me   said Dumbledore calmly.  Voldemort had powers I will never have. \",\n",
       " \" Only because you're too    well    noble to use them.   It's lucky it's dark. I haven't blushed so much since Madam Pomfrey told me she liked my new earmuffs. \",\n",
       " \"Professor McGonagall shot a sharp look at Dumbledore and said   The owls are nothing next to the rumors that are flying around. You know what everyone's saying. About why he's disappeared. About what finally stopped him. \",\n",
       " 'It seemed that Professor McGonagall had reached the point she was most anxious to discuss  the real reason she had been waiting on a cold  hard wall all day  for neither as a cat nor as a woman had she fixed Dumbledore with such a piercing stare as she did now. It was plain that whatever  everyone  was saying  she was not going to believe it until Dumbledore told her it was true. Dumbledore  however  was choosing another lemon drop and did not answer.',\n",
       " \" What they're saying   she pressed on   is that last night Voldemort turned up in Godric's Hollow. He went to find the Potters. The rumor is that Lily and James Potter are    are    that they're    dead. \\x93 Dumbledore bowed his head. Professor McGonagall gasped.\",\n",
       " \" Lily and James. I can't believe it. I didn't want to believe it. Oh  Albus.  Dumbledore reached out and patted her on the shoulder.  I know. I know.  he said heavily. Professor McGonagall's voice trembled as she went on.  That's not all.\",\n",
       " \"They're saying he tried to kill the Potter's son  Harry. But    he couldn't. He couldn't kill that little boy. No one knows why  or how  but they're saying that when he couldn't kill Harry Potter  Voldemort's power somehow broke    and that's why he's gone. Dumbledore nodded glumly.\",\n",
       " \" It's    it's true.  faltered Professor McGonagall.  After all he's done. all the people he's killed. he couldn't kill a little boy. It's just astounding. of all the things to stop him. but how in the name of heaven did Harry survive.   We can only guess   said Dumbledore.  We may never know. \",\n",
       " 'Professor McGonagall pulled out a lace handkerchief and dabbed at her eyes beneath her spectacles. Dumbledore gave a great sniff as he took a golden watch from his pocket and examined it. It was a very odd watch.',\n",
       " \"It had twelve hands but no numbers; instead  little planets were moving around the edge. It must have made sense to Dumbledore  though  because he put it back in his pocket and said   Hagrid's late. I suppose it was he who told you I'd be here  by the way.   Yes   said Professor McGonagall.  And I don't suppose you're going to tell me why you're here  of all places. \",\n",
       " \" I've come to bring Harry to his aunt and uncle. They're the only family he has left now.   You don't mean    you can't mean the people who live here.  cried Professor McGonagall  jumping to her feet and pointing at number four.\",\n",
       " \" Dumbledore    you can't. I've been watching them all day. You couldn't find two people who are less like us. And they've got this son    I saw him kicking his mother all the way up the street  screaming for sweets.\",\n",
       " \"Harry Potter come and live here.   It's the best place for him   said Dumbledore firmly.  His aunt and uncle will be able to explain everything to him when he's older. I've written them a letter. \",\n",
       " \" A letter.  repeated Professor McGonagall faintly  sitting back down on the wall.  Really  Dumbledore  you think you can explain all this in a letter. These people will never understand him. He'll be famous    a legend    I wouldn't be surprised if today was known as Harry Potter day in the future    there will be books written about Harry    every child in our world will know his name. \",\n",
       " \" Exactly   said Dumbledore  looking very seriously over the top of his half moon glasses.  It would be enough to turn any boy's head. Famous before he can walk and talk. Famous for something he won't even remember. CarA you see how much better off he'll be  growing up away from all that until he's ready to take it. \",\n",
       " \"Professor McGonagall opened her mouth  changed her mind  swallowed  and then said   Yes    yes  you're right  of course. But how is the boy getting here  Dumbledore.  She eyed his cloak suddenly as though she thought he might be hiding Harry underneath it.  Hagrid's bringing him.   You think it    wise    to trust Hagrid with something as important as this. \",\n",
       " \"I would trust Hagrid with my life   said Dumbledore.  I'm not saying his heart isn't in the right place   said Professor McGonagall grudgingly   but you can't pretend he's not careless. He does tend to    what was that. \",\n",
       " 'A low rumbling sound had broken the silence around them. It grew steadily louder as they looked up and down the street for some sign of a headlight; it swelled to a roar as they both looked up at the sky    and a huge motorcycle fell out of the air and landed on the road in front of them.',\n",
       " 'If the motorcycle was huge  it was nothing to the man sitting astride it. He was almost twice as tall as a normal man and at least five times as wide. He looked simply too big to be allowed  and so wild   long tangles of bushy black hair and beard hid most of his face  he had hands the size of trash can lids  and his feet in their leather boots were like baby dolphins. In his vast  muscular arms he was holding a bundle of blankets.',\n",
       " \" Hagrid   said Dumbledore  sounding relieved.  At last. And where did you get that motorcycle.   Borrowed it  Professor Dumbledore  sit   said the giant  climbing carefully off the motorcycle as he spoke.  Young Sirius Black lent it to me. I've got him  sir. \",\n",
       " \" No problems  were there.   No  sir    house was almost destroyed  but I got him out all right before the Muggles started swarmin' around. He fell asleep as we was flyin' over Bristol. \",\n",
       " \"Dumbledore and Professor McGonagall bent forward over the bundle of blankets. Inside  just visible  was a baby boy  fast asleep. Under a tuft of jet black hair over his forehead they could see a curiously shaped cut  like a bolt of lightning.  Is that where  .  whispered Professor McGonagall.  Yes   said Dumbledore.  He'll have that scar forever.   Couldn't you do something about it  Dumbledore. \",\n",
       " \" Even if I could  I wouldn't. Scars can come in handy. I have one myself above my left knee that is a perfect map of the London Underground. Well    give him here  Hagrid    we'd better get this over with.  Dumbledore took Harry in his arms and turned toward the Dursleys' house.\",\n",
       " \" Could I    could I say good bye to him  sir.  asked Hagrid. He bent his great  shaggy head over Harry and gave him what must have been a very scratchy  whiskery kiss. Then  suddenly  Hagrid let out a howl like a wounded dog.  Shhh.  hissed Professor McGonagall   you'll wake the Muggles. \",\n",
       " \" S s sorry   sobbed Hagrid  taking out a large  spotted handkerchief and burying his face in it.  But I c c can't stand it    Lily an' James dead    an' poor little Harry off ter live with Muggles   \",\n",
       " \" Yes  yes  it's all very sad  but get a grip on yourself  Hagrid  or we'll be found   Professor McGonagall whispered  patting Hagrid gingerly on the arm as Dumbledore stepped over the low garden wall and walked to the front door. He laid Harry gently on the doorstep  took a letter out of his cloak  tucked it inside Harry's blankets  and then came back to the other two. For a full minute the three of them stood and looked at the little bundle; Hagrid's shoulders shook  Professor McGonagall blinked furiously  and the twinkling light that usually shone from Dumbledore's eyes seemed to have gone out.\",\n",
       " \" Well   said Dumbledore finally   that's that. We've no business staying here. We may as well go and join the celebrations.   Yeah   said Hagrid in a very muffled voice   I'll be takin' Sirius his bike back. G'night  Professor McGonagall    Professor Dumbledore  sir. \",\n",
       " 'Wiping his streaming eyes on his jacket sleeve  Hagrid swung himself onto the motorcycle and kicked the engine into life; with a roar it rose into the air and off into the night.  I shall see you soon  I expect  Professor McGonagall   said Dumbledore  nodding to her. Professor McGonagall blew her nose in reply.',\n",
       " 'Dumbledore turned and walked back down the street. On the corner he stopped and took out the silver Put Outer. He clicked it once  and twelve balls of light sped back to their street lamps so that Privet Drive glowed suddenly orange and he could make out a tabby cat slinking around the corner at the other end of the street. He could just see the bundle of blankets on the step of number four.  Good luck  Harry   he murmured. He turned on his heel and with a swish of his cloak  he was gone.',\n",
       " \"A breeze ruffled the neat hedges of Privet Drive  which lay silent and tidy under the inky sky  the very last place you would expect astonishing things to happen. Harry Potter rolled over inside his blankets without waking up. One small hand closed on the letter beside him and he slept on  not knowing he was special  not knowing he was famous  not knowing he would be woken in a few hours' time by Mrs. Dursley's scream as she opened the front door to put out the milk bottles  nor that he would spend the next few weeks being prodded and pinched by his cousin Dudley. He couldn't know that at this very moment  people meeting in secret all over the country were holding up their glasses and saying in hushed voices:  To Harry Potter    the boy who lived. \",\n",
       " \"Nearly ten years had passed since the Dursleys had woken up to find their nephew on the front step  but Privet Drive had hardly changed at all. The sun rose on the same tidy front gardens and lit up the brass number four on the Dursleys' front door; it crept into their living room  which was almost exactly the same as it had been on the night when Mr. Dursley had seen that fateful news report about the owls. Only the photographs on the mantelpiece really showed how much time had passed.\",\n",
       " 'Ten years ago  there had been lots of pictures of what looked like a large pink beach ball wearing different colored bonnets    but Dudley Dursley was no longer a baby  and now the photographs showed a large blond boy riding his first bicycle  on a carousel at the fair  playing a computer game with his father  being hugged and kissed by his mother. The room held no sign at all that another boy lived in the house  too.',\n",
       " 'Yet Harry Potter was still there  asleep at the moment  but not for long. His Aunt Petunia was awake and it was her shrill voice that made the first noise of the day.  Up. Get up. Now.  Harry woke with a start. His aunt rapped on the door again.',\n",
       " \" Up.  she screeched. Harry heard her walking toward the kitchen and then the sound of the frying pan being put on the stove. He rolled onto his back and tried to remember the dream he had been having. It had been a good one. There had been a flying motorcycle in it. He had a funny feeling he'd had the same dream before. His aunt was back outside the door.  Are you up yet.  she demanded.  Nearly   said Harry.\",\n",
       " \" Well  get a move on  I want you to look after the bacon. And don't you dare let it burn  I want everything perfect on Duddy's birthday.  Harry groaned.  What did you say.  his aunt snapped through the door.  Nothing  nothing. \",\n",
       " \"Dudley's birthday    how could he have forgotten. Harry got slowly out of bed and started looking for socks. He found a pair under his bed and  after pulling a spider off one of them  put them on. Harry was used to spiders  because the cupboard under the stairs was full of them  and that was where he slept.\",\n",
       " \"When he was dressed he went down the hall into the kitchen. The table was almost hidden beneath all Dudley's birthday presents. It looked as though Dudley had gotten the new computer he wanted  not to mention the second television and the racing bike. Exactly why Dudley wanted a racing bike was a mystery to Harry  as Dudley was very fat and hated exercise    unless of course it involved punching somebody. Dudley's favorite punching bag was Harry  but he couldn't often catch him. Harry didn't look it  but he was very fast.\",\n",
       " \"Perhaps it had something to do with living in a dark cupboard  but Harry had always been small and skinny for his age. He looked even smaller and skinnier than he really was because all he had to wear were old clothes of Dudley's  and Dudley was about four times bigger than he was. Harry had a thin face  knobbly knees  black hair  and bright green eyes. He wore round glasses held together with a lot of Scotch tape because of all the times Dudley had punched him on the nose. The only thing Harry liked about his own appearance was a very thin scar on his forehead that was shaped like a bolt of lightning. He had had it as long as he could remember  and the first question he could ever remember asking his Aunt Petunia was how he had gotten it.  In the car crash when your parents died   she had said.  And don't ask questions. \",\n",
       " \"Don't ask questions    that was the first rule for a quiet life with the Dursleys. Uncle Vernon entered the kitchen as Harry was turning over the bacon.  Comb your hair.  he barked  by way of a morning greeting.\",\n",
       " 'About once a week  Uncle Vernon looked over the top of his newspaper and shouted that Harry needed a haircut. Harry must have had more haircuts than the rest of the boys in his class put together  but it made no difference  his hair simply grew that way    all over the place.',\n",
       " \"Harry was frying eggs by the time Dudley arrived in the kitchen with his mother. Dudley looked a lot like Uncle Vernon. He had a large pink face  not much neck  small  watery blue eyes  and thick blond hair that lay smoothly on his thick  fat head. Aunt Petunia often said that Dudley looked like a baby angel    Harry often said that Dudley looked like a pig in a wig. Harry put the plates of egg and bacon on the table  which was difficult as there wasn't much room. Dudley  meanwhile  was counting his presents. His face fell.\",\n",
       " \" Thirty six   he said  looking up at his mother and father.  That's two less than last year.   Darling  you haven't counted Auntie Marge's present  see  it's here under this big one from Mommy and Daddy. \",\n",
       " ' All right  thirty seven then   said Dudley  going red in the face. Harry  who could see a huge Dudley tantrum coming on  began wolfing down his bacon as fast as possible in case Dudley turned the table over.',\n",
       " \"Aunt Petunia obviously scented danger  too  because she said quickly   And we'll buy you another two presents while we're out today. How's that  popkin. Two more presents. Is that all right'' Dudley thought for a moment. It looked like hard work. Finally he said slowly   So I'll have thirty . thirty.   Thirty nine  sweetums   said Aunt Petunia.\",\n",
       " \" Oh.  Dudley sat down heavily and grabbed the nearest parcel.  All right then.  Uncle Vernon chuckled.  Little tyke wants his money's worth  just like his father. 'Atta boy  Dudley.  He ruffled Dudley's hair.\",\n",
       " \"At that moment the telephone rang and Aunt Petunia went to answer it while Harry and Uncle Vernon watched Dudley unwrap the racing bike  a video camera  a remote control airplane  sixteen new computer games  and a VCR. He was ripping the paper off a gold wristwatch when Aunt Petunia came back from the telephone looking both angry and worried.  Bad news  Vernon   she said.  Mrs. Figg's broken her leg. She can't take him.  She jerked her head in Harry's direction.\",\n",
       " \"Dudley's mouth fell open in horror  but Harry's heart gave a leap. Every year on Dudley's birthday  his parents took him and a friend out for the day  to adventure parks  hamburger restaurants  or the movies. Every year  Harry was left behind with Mrs. Figg  a mad old lady who lived two streets away. Harry hated it there. The whole house smelled of cabbage and Mrs. Figg made him look at photographs of all the cats she'd ever owned.\",\n",
       " \" Now what.  said Aunt Petunia  looking furiously at Harry as though he'd planned this. Harry knew he ought to feel sorry that Mrs. Figg had broken her leg  but it wasn't easy when he reminded himself it would be a whole year before he had to look at Tibbles  Snowy  Mr. Paws  and Tufty again.  We could phone Marge   Uncle Vernon suggested.  Don't be silly  Vernon  she hates the boy. \",\n",
       " \"The Dursleys often spoke about Harry like this  as though he wasn't there    or rather  as though he was something very nasty that couldn't understand them  like a slug.  What about what's her name  your friend    Yvonne.   On vacation in Majorca   snapped Aunt Petunia.\",\n",
       " \" You could just leave me here   Harry put in hopefully  he'd be able to watch what he wanted on television for a change and maybe even have a go on Dudley's computer . Aunt Petunia looked as though she'd just swallowed a lemon.  And come back and find the house in ruins.  she snarled.\",\n",
       " \" I won't blow up the house   said Harry  but they weren't listening.  I suppose we could take him to the zoo   said Aunt Petunia slowly   . and leave him in the car..   That car's new  he's not sitting in it alone.. \",\n",
       " \"Dudley began to cry loudly. In fact  he wasn't really crying    it had been years since he'd really cried    but he knew that if he screwed up his face and wailed  his mother would give him anything he wanted.  Dinky Duddydums  don't cry  Mummy won't let him spoil your special day.  she cried  flinging her arms around him.\",\n",
       " \" I. don't. want. him. t t to come.  Dudley yelled between huge  pretend sobs.  He always sp  spoils everything.  He shot Harry a nasty grin through the gap in his mother's arms.\",\n",
       " \"Just then  the doorbell rang     Oh  good Lord  they're here.  said Aunt Petunia frantically    and a moment later  Dudley's best friend  Piers Polkiss  walked in with his mother. Piers was a scrawny boy with a face like a rat. He was usually the one who held people's arms behind their backs while Dudley hit them. Dudley stopped pretending to cry at once.\",\n",
       " \"Half an hour later  Harry  who couldn't believe his luck  was sitting in the back of the Dursleys' car with Piers and Dudley  on the way to the zoo for the first time in his life. His aunt and uncle hadn't been able to think of anything else to do with him  but before they'd left  Uncle Vernon had taken Harry aside.\",\n",
       " \" I'm warning you   he had said  putting his large purple face right up close to Harry's   I'm warning you now  boy    any funny business  anything at all    and you'll be in that cupboard from now until Christmas.   I'm not going to do anything   said Harry   honestly..\",\n",
       " \"But Uncle Vernon didn't believe him. No one ever did. The problem was  strange things often happened around Harry and it was just no good telling the Dursleys he didn't make them happen.\",\n",
       " \"Once  Aunt Petunia  tired of Harry coming back from the barbers looking as though he hadn't been at all  had taken a pair of kitchen scissors and cut his hair so short he was almost bald except for his bangs  which she left  to hide that horrible scar.  Dudley had laughed himself silly at Harry  who spent a sleepless night imagining school the next day  where he was already laughed at for his baggy clothes and taped glasses.\",\n",
       " \"Next morning  however  he had gotten up to find his hair exactly as it had been before Aunt Petunia had sheared it off He had been given a week in his cupboard for this  even though he had tried to explain that he couldn't explain how it had grown back so quickly.\",\n",
       " \"Another time  Aunt Petunia had been trying to force him into a revolting old sweater of Dudley's  brown with orange puff balls     The harder she tried to pull it over his head  the smaller it seemed to become  until finally it might have fitted a hand puppet  but certainly wouldn't fit Harry. Aunt Petunia had decided it must have shrunk in the wash and  to his great relief  Harry wasn't punished.\",\n",
       " \"On the other hand  he'd gotten into terrible trouble for being found on the roof of the school kitchens. Dudley's gang had been chasing him as usual when  as much to Harry's surprise as anyone else's  there he was sitting on the chimney. The Dursleys had received a very angry letter from Harry's headmistress telling them Harry had been climbing school buildings. But all he'd tried to do  as he shouted at Uncle Vernon through the locked door of his cupboard  was jump behind the big trash cans outside the kitchen doors. Harry supposed that the wind must have caught him in mid  jump.\",\n",
       " \"But today  nothing was going to go wrong. It was even worth being with Dudley and Piers to be spending the day somewhere that wasn't school  his cupboard  or Mrs. Figg's cabbage smelling living room.\",\n",
       " 'While he drove  Uncle Vernon complained to Aunt Petunia. He liked to complain about things: people at work  Harry  the council  Harry  the bank  and Harry were just a few of his favorite subjects. This morning  it was motorcycles.  . roaring along like maniacs  the young hoodlums   he said  as a motorcycle overtook them. I had a dream about a motorcycle   said Harry  remembering suddenly.  It was flying. ',\n",
       " \"Uncle Vernon nearly crashed into the car in front. He turned right around in his seat and yelled at Harry  his face like a gigantic beet with a mustache:  MOTORCYCLES DON'T FLY.  Dudley and Piers sniggered. I know they don't   said Harry.  It was only a dream. \",\n",
       " \"But he wished he hadn't said anything. If there was one thing the Dursleys hated even more than his asking questions  it was his talking about anything acting in a way it shouldn't  no matter if it was in a dream or even a cartoon    they seemed to think he might get dangerous ideas.\",\n",
       " \"It was a very sunny Saturday and the zoo was crowded with families. The Dursleys bought Dudley and Piers large chocolate ice creams at the entrance and then  because the smiling lady in the van had asked Harry what he wanted before they could hurry him away  they bought him a cheap lemon ice pop. It wasn't bad  either  Harry thought  licking it as they watched a gorilla scratching its head who looked remarkably like Dudley  except that it wasn't blond.\",\n",
       " \"Harry had the best morning he'd had in a long time. He was careful to walk a little way apart from the Dursleys so that Dudley and Piers  who were starting to get bored with the animals by lunchtime  wouldn't fall back on their favorite hobby of hitting him. They ate in the zoo restaurant  and when Dudley had a tantrum because his knickerbocker glory didn't have enough ice cream on top  Uncle Vernon bought him another one and Harry was allowed to finish the first. Harry felt  afterward  that he should have known it was all too good to last.\",\n",
       " \"After lunch they went to the reptile house. It was cool and dark in there  with lit windows all along the walls. Behind the glass  all sorts of lizards and snakes were crawling and slithering over bits of wood and stone. Dudley and Piers wanted to see huge  poisonous cobras and thick  man crushing pythons. Dudley quickly found the largest snake in the place. It could have wrapped its body twice around Uncle Vernon's car and crushed it into a trash can    but at the moment it didn't look in the mood. In fact  it was fast asleep. Dudley stood with his nose pressed against the glass  staring at the glistening brown coils.\",\n",
       " \" Make it move   he whined at his father. Uncle Vernon tapped on the glass  but the snake didn't budge.  Do it again   Dudley ordered. Uncle Vernon rapped the glass smartly with his knuckles  but the snake just snoozed on.  This is boring   Dudley moaned. He shuffled away.\",\n",
       " \"Harry moved in front of the tank and looked intently at the snake. He wouldn't have been surprised if it had died of boredom itself    no company except stupid people drumming their fingers on the glass trying to disturb it all day long. It was worse than having a cupboard as a bedroom  where the only visitor was Aunt Petunia hammering on the door to wake you up; at least he got to visit the rest of the house.\",\n",
       " \"The snake suddenly opened its beady eyes. Slowly  very slowly  it raised its head until its eyes were on a level with Harry's. It winked. Harry stared. Then he looked quickly around to see if anyone was watching. They weren't. He looked back at the snake and winked  too.\",\n",
       " \"The snake jerked its head toward Uncle Vernon and Dudley  then raised its eyes to the ceiling. It gave Harry a look that said quite plainly:  I get that all the time.  I know   Harry murmured through the glass  though he wasn't sure the snake could hear him.  It must be really annoying.  The snake nodded vigorously.\",\n",
       " ' Where do you come from  anyway.  Harry asked. The snake jabbed its tail at a little sign next to the glass. Harry peered at it. Boa Constrictor  Brazil.  Was it nice there. ',\n",
       " \"The boa constrictor jabbed its tail at the sign again and Harry read on: This specimen was bred in the zoo.  Oh  I see    so you've never been to Brazil. \",\n",
       " \"As the snake shook its head  a deafening shout behind Harry made both of them jump.  DUDLEY. MR. DURSLEY. COME AND LOOK AT THIS SNAKE. YOU WON'T BELIEVE WHAT IT'S DOING.  Dudley came waddling toward them as fast as he could.\",\n",
       " ' Out of the way  you   he said  punching Harry in the ribs. Caught by surprise  Harry fell hard on the concrete floor. What came next happened so fast no one saw how it happened    one second  Piers and Dudley were leaning right up close to the glass  the next  they had leapt back with howls of horror.',\n",
       " \"Harry sat up and gasped; the glass front of the boa constrictor's tank had vanished. The great snake was uncoiling itself rapidly  slithering out onto the floor. People throughout the reptile house screamed and started running for the exits.\",\n",
       " 'As the snake slid swiftly past him  Harry could have sworn a low  hissing voice said   Brazil  here I come.. Thanksss  amigo.  The keeper of the reptile house was in shock.  But the glass   he kept saying   where did the glass go. ',\n",
       " \"The zoo director himself made Aunt Petunia a cup of strong  sweet tea while he apologized over and over again. Piers and Dudley could only gibber. As far as Harry had seen  the snake hadn't done anything except snap playfully at their heels as it passed  but by the time they were all back in Uncle Vernon's car  Dudley was telling them how it had nearly bitten off his leg  while Piers was swearing it had tried to squeeze him to death. But worst of all  for Harry at least  was Piers calming down enough to say   Harry was talking to it  weren't you  Harry. \",\n",
       " 'Uncle Vernon waited until Piers was safely out of the house before starting on Harry. He was so angry he could hardly speak. He managed to say   Go    cupboard    stay    no meals   before he collapsed into a chair  and Aunt Petunia had to run and get him a large brandy.',\n",
       " \"Harry lay in his dark cupboard much later  wishing he had a watch. He didn't know what time it was and he couldn't be sure the Dursleys were asleep yet. Until they were  he couldn't risk sneaking to the kitchen for some food.\",\n",
       " \"He'd lived with the Dursleys almost ten years  ten miserable years  as long as he could remember  ever since he'd been a baby and his parents had died in that car crash. He couldn't remember being in the car when his parents had died. Sometimes  when he strained his memory during long hours in his cupboard  he came up with a strange vision: a blinding flash of green light and a burn  ing pain on his forehead. This  he supposed  was the crash  though he couldn't imagine where all the green light came from. He couldn't remember his parents at all. His aunt and uncle never spoke about them  and of course he was forbidden to ask questions. There were no photographs of them in the house.\",\n",
       " 'When he had been younger  Harry had dreamed and dreamed of some unknown relation coming to take him away  but it had never happened; the Dursleys were his only family. Yet sometimes he thought  or maybe hoped  that strangers in the street seemed to know him. Very strange strangers they were  too. A tiny man in a violet top hat had bowed to him once while out shopping with Aunt Petunia and Dudley. After asking Harry furiously if he knew the man  Aunt Petunia had rushed them out of the shop without buying anything. A wild looking old woman dressed all in green had waved merrily at him once on a bus. A bald man in a very long purple coat had actually shaken his hand in the street the other day and then walked away without a word. The weirdest thing about all these people was the way they seemed to vanish the second Harry tried to get a closer look.',\n",
       " \"At school  Harry had no one. Everybody knew that Dudley's gang hated that odd Harry Potter in his baggy old clothes and broken glasses  and nobody liked to disagree with Dudley's gang.\",\n",
       " 'The escape of the Brazilian boa constrictor earned Harry his longest ever punishment. By the time he was allowed out of his cupboard again  the summer holidays had started and Dudley had already broken his new video camera  crashed his remote control airplane  and  first time out on his racing bike  knocked down old Mrs. Figg as she crossed Privet Drive on her crutches.',\n",
       " \"Harry was glad school was over  but there was no escaping Dudley's gang  who visited the house every single day. Piers  Dennis  Malcolm  and Gordon were all big and stupid  but as Dudley was the biggest and stupidest of the lot  he was the leader. The rest of them were all quite happy to join in Dudley's favorite sport: Harry Hunting.\",\n",
       " \"This was why Harry spent as much time as possible out of the house  wandering around and thinking about the end of the holidays  where he could see a tiny ray of hope. When September came he would be going off to secondary school and  for the first time in his life  he wouldn't be with Dudley. Dudley had been accepted at Uncle Vernon's old private school  Smeltings. Piers Polkiss was going there too. Harry  on the other hand  was going to Stonewall High  the local public school. Dudley thought this was very funny.  They stuff people's heads down the toilet the first day at Stonewall   he told Harry.  Want to come upstairs and practice. \",\n",
       " \" No  thanks   said Harry.  The poor toilet's never had anything as horrible as your head down it    it might be sick.  Then he ran  before Dudley could work out what he'd said.\",\n",
       " \"One day in July  Aunt Petunia took Dudley to London to buy his Smeltings uniform  leaving Harry at Mrs. Figg's. Mrs. Figg wasn 't as bad as usual. It turned out she'd broken her leg tripping over one of her cats  and she didn't seem quite as fond of them as before. She let Harry watch television and gave him a bit of chocolate cake that tasted as though she'd had it for several years.\",\n",
       " \"That evening  Dudley paraded around the living room for the family in his brand new uniform. Smeltings' boys wore maroon tailcoats  orange knickerbockers  and flat straw hats called boaters. They also carried knobbly sticks  used for hitting each other while the teachers weren't looking. This was supposed to be good training for later life.\",\n",
       " \"As he looked at Dudley in his new knickerbockers  Uncle Vernon said gruffly that it was the proudest moment of his life. Aunt Petunia burst into tears and said she couldn't believe it was her Ickle Dudleykins  he looked so handsome and grown up. Harry didn't trust himself to speak. He thought two of his ribs might already have cracked from trying not to laugh.\",\n",
       " 'There was a horrible smell in the kitchen the next morning when Harry went in for breakfast. It seemed to be coming from a large metal tub in the sink. He went to have a look. The tub was full of what looked like dirty rags swimming in gray water.',\n",
       " \" What's this.  he asked Aunt Petunia. Her lips tightened as they always did if he dared to ask a question.  Your new school uniform   she said. Harry looked in the bowl again.\",\n",
       " \" Oh   he said   I didn't realize it had to be so wet.   DotA be stupid   snapped Aunt Petunia.  I'm dyeing some of Dudley's old things gray for you. It'll look just like everyone else's when I've finished. \",\n",
       " 'Harry seriously doubted this  but thought it best not to argue. He sat down at the table and tried not to think about how he was going to look on his first day at Stonewall High    like he was wearing bits of old elephant skin  probably.',\n",
       " \"Dudley and Uncle Vernon came in  both with wrinkled noses because of the smell from Harry's new uniform. Uncle Vernon opened his newspaper as usual and Dudley banged his Smelting stick  which he carried everywhere  on the table. They heard the click of the mail slot and flop of letters on the doormat.\",\n",
       " ' Get the mail  Dudley   said Uncle Vernon from behind his paper.  Make Harry get it.   Get the mail  Harry.   Make Dudley get it.   Poke him with your Smelting stick  Dudley. ',\n",
       " \"Harry dodged the Smelting stick and went to get the mail. Three things lay on the doormat: a postcard from Uncle Vernon's sister Marge  who was vacationing on the Isle of Wight  a brown envelope that looked like a bill  and    a letter for Harry.\",\n",
       " \"Harry picked it up and stared at it  his heart twanging like a giant elastic band. No one  ever  in his whole life  had written to him. Who would. He had no friends  no other relatives    he didn't belong to the library  so he'd never even got rude notes asking for books back. Yet here it was  a letter  addressed so plainly there could be no mistake: Mr. H. Potter The Cupboard under the Stairs 4 Privet Drive Little Whinging Surrey The envelope was thick and heavy  made of yellowish parchment  and the address was written in emerald green ink. There was no stamp.\",\n",
       " 'Turning the envelope over  his hand trembling  Harry saw a purple wax seal bearing a coat of arms; a lion  an eagle  a badger  and a snake surrounding a large letter H.  Hurry up  boy.  shouted Uncle Vernon from the kitchen.  What are you doing  checking for letter bombs.  He chuckled at his own joke.',\n",
       " 'Harry went back to the kitchen  still staring at his letter. He handed Uncle Vernon the bill and the postcard  sat down  and slowly began to open the yellow envelope.',\n",
       " \"Uncle Vernon ripped open the bill  snorted in disgust  and flipped over the postcard.  Marge's ill   he informed Aunt Petunia.  Ate a funny whelk.   .   Dad.  said Dudley suddenly.  Dad  Harry's got something. \",\n",
       " \"Harry was on the point of unfolding his letter  which was written on the same heavy parchment as the envelope  when it was jerked sharply out of his hand by Uncle Vernon.  That's mine.  said Harry  trying to snatch it back.\",\n",
       " \" Who'd be writing to you.  sneered Uncle Vernon  shaking the letter open with one hand and glancing at it. His face went from red to green faster than a set of traffic lights. And it didn't stop there. Within seconds it was the grayish white of old porridge.  P P Petunia.  he gasped.\",\n",
       " 'Dudley tried to grab the letter to read it  but Uncle Vernon held it high out of his reach. Aunt Petunia took it curiously and read the first line. For a moment it looked as though she might faint. She clutched her throat and made a choking noise.  Vernon. Oh my goodness    Vernon. ',\n",
       " \"They stared at each other  seeming to have forgotten that Harry and Dudley were still in the room. Dudley wasn't used to being ignored. He gave his father a sharp tap on the head with his Smelting stick.  I want to read that letter   he said loudly. want to read it   said Harry furiously   as it's mine. \",\n",
       " \" Get out  both of you   croaked Uncle Vernon  stuffing the letter back inside its envelope. Harry didn't move. I WANT MY LETTER.  he shouted.  Let me see it.  demanded Dudley.\",\n",
       " ' OUT.  roared Uncle Vernon  and he took both Harry and Dudley by the scruffs of their necks and threw them into the hall  slamming the kitchen door behind them. Harry and Dudley promptly had a furious but silent fight over who would listen at the keyhole; Dudley won  so Harry  his glasses dangling from one ear  lay flat on his stomach to listen at the crack between door and floor.',\n",
       " \" Vernon   Aunt Petunia was saying in a quivering voice   look at the address    how could they possibly know where he sleeps. You don't think they're watching the house.   Watching    spying    might be following us   muttered Uncle Vernon wildly.\",\n",
       " \" But what should we do  Vernon. Should we write back. Tell them we don't want     Harry could see Uncle Vernon's shiny black shoes pacing up and down the kitchen.\",\n",
       " \" No   he said finally.  No  we'll ignore it. If they don't get an answer. Yes  that's best. we won't do anything..  But      I'm not having one in the house  Petunia. Didn't we swear when we took him in we'd stamp out that dangerous nonsense. \",\n",
       " \"That evening when he got back from work  Uncle Vernon did something he'd never done before; he visited Harry in his cupboard.  Where's my letter.  said Harry  the moment Uncle Vernon had squeezed through the door.  Who's writing to me. \",\n",
       " ' No one. it was addressed to you by mistake   said Uncle Vernon shortly.  I have burned it.   It was not a mistake   said Harry angrily   it had my cupboard on it. ',\n",
       " ' SILENCE.  yelled Uncle Vernon  and a couple of spiders fell from the ceiling. He took a few deep breaths and then forced his face into a smile  which looked quite painful.',\n",
       " \" Er    yes  Harry    about this cupboard. Your aunt and I have been thinking. you're really getting a bit big for it. we think it might be nice if you moved into Dudley's second bedroom.  Why.  said Harry.  Don't ask questions.  snapped his uncle.  Take this stuff upstairs  now. \",\n",
       " \"The Dursleys' house had four bedrooms: one for Uncle Vernon and Aunt Petunia  one for visitors  usually Uncle Vernon's sister  Marge   one where Dudley slept  and one where Dudley kept all the toys and things that wouldn't fit into his first bedroom. It only took Harry one trip upstairs to move everything he owned from the cupboard to this room. He sat down on the bed and stared around him. Nearly everything in here was broken. The month old video camera was lying on top of a small  working tank Dudley had once driven over the next door neighbor's dog; in the corner was Dudley's first ever television set  which he'd put his foot through when his favorite program had been canceled; there was a large birdcage  which had once held a parrot that Dudley had swapped at school for a real air rifle  which was up on a shelf with the end all bent because Dudley had sat on it. Other shelves were full of books. They were the only things in the room that looked as though they'd never been touched. From downstairs came the sound of Dudley bawling at his mother  I don't want him in there. I need that room. make him get out.. \",\n",
       " \"Harry sighed and stretched out on the bed. Yesterday he'd have given anything to be up here. Today he'd rather be back in his cupboard with that letter than up here without it.\",\n",
       " \"Next morning at breakfast  everyone was rather quiet. Dudley was in shock. He'd screamed  whacked his father with his Smelting stick  been sick on purpose  kicked his mother  and thrown his tortoise through the greenhouse roof  and he still didn't have his room back. Harry was thinking about this time yesterday and bitterly wishing he'd opened the letter in the hall. Uncle Vernon and Aunt Petunia kept looking at each other darkly.\",\n",
       " \"When the mail arrived  Uncle Vernon  who seemed to be trying to be nice to Harry  made Dudley go and get it. They heard him banging things with his Smelting stick all the way down the hall. Then he shouted   There's another one. 'Mr. H. Potter  The Smallest Bedroom  4 Privet Drive   '\\x93\",\n",
       " \"With a strangled cry  Uncle Vernon leapt from his seat and ran down the hall  Harry right behind him. Uncle Vernon had to wrestle Dudley to the ground to get the letter from him  which was made difficult by the fact that Harry had grabbed Uncle Vernon around the neck from behind. After a minute of confused fighting  in which everyone got hit a lot by the Smelting stick  Uncle Vernon straightened up  gasping for breath  with Harry's letter clutched in his hand.  Go to your cupboard    I mean  your bedroom   he wheezed at Harry.  Dudley    go    just go. \",\n",
       " \"Harry walked round and round his new room. Someone knew he had moved out of his cupboard and they seemed to know he hadn't received his first letter. Surely that meant they'd try again. And this time he'd make sure they didn't fail. He had a plan.\",\n",
       " \"The repaired alarm clock rang at six o'clock the next morning. Harry turned it off quickly and dressed silently. He mustn't wake the Dursleys. He stole downstairs without turning on any of the lights.\",\n",
       " \"He was going to wait for the postman on the corner of Privet Drive and get the letters for number four first. His heart hammered as he crept across the dark hall toward the front door    Harry leapt into the air; he'd trodden on something big and squashy on the doormat    something alive. Lights clicked on upstairs and to his horror Harry realized that the big  squashy something had been his uncle's face. Uncle Vernon had been lying at the foot of the front door in a sleeping bag  clearly making sure that Harry didn't do exactly what he'd been trying to do. He shouted at Harry for about half an hour and then told him to go and make a cup of tea. Harry shuffled miserably off into the kitchen and by the time he got back  the mail had arrived  right into Uncle Vernon's lap. Harry could see three letters addressed in green ink.\",\n",
       " \"I want     he began  but Uncle Vernon was tearing the letters into pieces before his eyes. Uncle Vernon didnt go to work that day. He stayed at home and nailed up the mail slot.  See   he explained to Aunt Petunia through a mouthful of nails   if they can't deliver them they'll just give up.   I'm not sure that'll work  Vernon. \",\n",
       " \" Oh  these people's minds work in strange ways  Petunia  they're not like you and me   said Uncle Vernon  trying to knock in a nail with the piece of fruitcake Aunt Petunia had just brought him.\",\n",
       " \"On Friday  no less than twelve letters arrived for Harry. As they couldn't go through the mail slot they had been pushed under the door  slotted through the sides  and a few even forced through the small window in the downstairs bathroom.\",\n",
       " 'Uncle Vernon stayed at home again. After burning all the letters  he got out a hammer and nails and boarded up the cracks around the front and back doors so no one could go out. He hummed  Tiptoe Through the Tulips  as he worked  and jumped at small noises.',\n",
       " 'On Saturday  things began to get out of hand. Twenty four letters to Harry found their way into the house  rolled up and hidden inside each of the two dozen eggs that their very confused milkman had handed Aunt Petunia through the living room window. While Uncle Vernon made furious telephone calls to the post office and the dairy trying to find someone to complain to  Aunt Petunia shredded the letters in her food processor.  Who on earth wants to talk to you this badly.  Dudley asked Harry in amazement.',\n",
       " 'On Sunday morning  Uncle Vernon sat down at the breakfast table looking tired and rather ill  but happy.  No post on Sundays   he reminded them cheerfully as he spread marmalade on his newspapers   no damn letters today    ',\n",
       " 'Something came whizzing down the kitchen chimney as he spoke and caught him sharply on the back of the head. Next moment  thirty or forty letters came pelting out of the fireplace like bullets. The Dursleys ducked  but Harry leapt into the air trying to catch one.  Out. OUT.  Uncle Vernon seized Harry around the waist and threw him into the hall.',\n",
       " 'When Aunt Petunia and Dudley had run out with their arms over their faces  Uncle Vernon slammed the door shut. They could hear the letters still streaming into the room  bouncing off the walls and floor.',\n",
       " \" That does it   said Uncle Vernon  trying to speak calmly but pulling great tufts out of his mustache at the same time. I want you all back here in five minutes ready to leave. We're going away. Just pack some clothes. No arguments. \",\n",
       " 'He looked so dangerous with half his mustache missing that no one dared argue. Ten minutes later they had wrenched their way through the boarded up doors and were in the car  speeding toward the highway.',\n",
       " 'Dudley was sniffling in the back seat; his father had hit him round the head for holding them up while he tried to pack his television  VCR  and computer in his sports bag.',\n",
       " \"They drove. And they drove. Even Aunt Petunia didn't dare ask where they were going. Every now and then Uncle Vernon would take a sharp turn and drive in the opposite direction for a while.  Shake'em off. shake 'em off   he would mutter whenever he did this.\",\n",
       " \"They didn't stop to eat or drink all day. By nightfall Dudley was howling. He'd never had such a bad day in his life. He was hungry  he'd missed five television programs he'd wanted to see  and he'd never gone so long without blowing up an alien on his computer.\",\n",
       " 'Uncle Vernon stopped at last outside a gloomy looking hotel on the outskirts of a big city. Dudley and Harry shared a room with twin beds and damp  musty sheets. Dudley snored but Harry stayed awake  sitting on the windowsill  staring down at the lights of passing cars and wondering..',\n",
       " \"They ate stale cornflakes and cold tinned tomatoes on toast for breakfast the next day. They had just finished when the owner of the hotel came over to their table.  'Scuse me  but is one of you Mr. H. Potter. Only I got about an 'undred of these at the front desk. \",\n",
       " \"She held up a letter so they could read the green ink address: Mr. H. Potter Room 17 Railview Hotel Cokeworth Harry made a grab for the letter but Uncle Vernon knocked his hand out of the way. The woman stared.  I'll take them   said Uncle Vernon  standing up quickly and following her from the dining room.\",\n",
       " \"Wouldn't it be better just to go home  dear.  Aunt Petunia suggested timidly  hours later  but Uncle Vernon didn't seem to hear her. Exactly what he was looking for  none of them knew. He drove them into the middle of a forest  got out  looked around  shook his head  got back in the car  and off they went again. The same thing happened in the middle of a plowed field  halfway across a suspension bridge  and at the top of a multilevel parking garage.  Daddy's gone mad  hasn't he.  Dudley asked Aunt Petunia dully late that afternoon. Uncle Vernon had parked at the coast  locked them all inside the car  and disappeared.\",\n",
       " \"It started to rain. Great drops beat on the roof of the car. Dud ley sniveled.  It's Monday   he told his mother.  The Great Humberto's on tonight. I want to stay somewhere with a television. \\x93\",\n",
       " \"Monday. This reminded Harry of something. If it was Monday    and you could usually count on Dudley to know the days the week  because of television    then tomorrow  Tuesday  was Harry's eleventh birthday. Of course  his birthdays were never exactly fun    last year  the Dursleys had given him a coat hanger and a pair of Uncle Vernon's old socks. Still  you weren't eleven every day.\",\n",
       " \"Uncle Vernon was back and he was smiling. He was also carrying a long  thin package and didn't answer Aunt Petunia when she asked what he'd bought.  Found the perfect place.  he said.  Come on. Everyone out. \",\n",
       " \"It was very cold outside the car. Uncle Vernon was pointing at what looked like a large rock way out at sea. Perched on top of the rock was the most miserable little shack you could imagine. One thing was certain  there was no television in there.  Storm forecast for tonight.  said Uncle Vernon gleefully  clapping his hands together.  And this gentleman's kindly agreed to lend us his boat. \",\n",
       " \"A toothless old man came ambling up to them  pointing  with a rather wicked grin  at an old rowboat bobbing in the iron gray water below them.  I've already got us some rations   said Uncle Vernon   so all aboard. \",\n",
       " 'It was freezing in the boat. Icy sea spray and rain crept down their necks and a chilly wind whipped their faces. After what seemed like hours they reached the rock  where Uncle Vernon  slipping and sliding  led the way to the broken down house.',\n",
       " 'The inside was horrible; it smelled strongly of seaweed  the wind whistled through the gaps in the wooden walls  and the fireplace was damp and empty. There were only two rooms.',\n",
       " \"Uncle Vernon's rations turned out to be a bag of chips each and four bananas. He tried to start a fire but the empty chip bags just smoked and shriveled up.  Could do with some of those letters now  eh.  he said cheerfully.\",\n",
       " \"He was in a very good mood. Obviously he thought nobody stood a chance of reaching them here in a storm to deliver mail. Harry privately agreed  though the thought didn't cheer him up at all.\",\n",
       " 'As night fell  the promised storm blew up around them. Spray from the high waves splattered the walls of the hut and a fierce wind rattled the filthy windows. Aunt Petunia found a few moldy blankets in the second room and made up a bed for Dudley on the moth eaten sofa. She and Uncle Vernon went off to the lumpy bed next door  and Harry was left to find the softest bit of floor he could and to curl up under the thinnest  most ragged blanket.',\n",
       " \"The storm raged more and more ferociously as the night went on. Harry couldn't sleep. He shivered and turned over  trying to get comfortable  his stomach rumbling with hunger. Dudley's snores were drowned by the low rolls of thunder that started near midnight. The lighted dial of Dudley's watch  which was dangling over the edge of the sofa on his fat wrist  told Harry he'd be eleven in ten minutes' time. He lay and watched his birthday tick nearer  wondering if the Dursleys would remember at all  wondering where the letter writer was now.\",\n",
       " \"Five minutes to go. Harry heard something creak outside. He hoped the roof wasn't going to fall in  although he might be warmer if it did. Four minutes to go. Maybe the house in Privet Drive would be so full of letters when they got back that he'd be able to steal one somehow.\",\n",
       " \"Three minutes to go. Was that the sea  slapping hard on the rock like that. And  two minutes to go  what was that funny crunching noise. Was the rock crumbling into the sea. One minute to go and he'd be eleven. Thirty seconds. twenty . ten. nine    maybe he'd wake Dudley up  just to annoy him    three. two. one. BOOM.\",\n",
       " \"The whole shack shivered and Harry sat bolt upright  staring at the door. Someone was outside  knocking to come in. BOOM. They knocked again. Dudley jerked awake.  Where's the cannon.  he said stupidly.\",\n",
       " \"There was a crash behind them and Uncle Vernon came skidding into the room. He was holding a rifle in his hands    now they knew what had been in the long  thin package he had brought with them.  Who's there.  he shouted.  I warn you    I'm armed. \",\n",
       " 'There was a pause. Then \\x96 SMASH. The door was hit with such force that it swung clean off its hinges and with a deafening crash landed flat on the floor.',\n",
       " 'A giant of a man was standing in the doorway. His face was almost completely hidden by a long  shaggy mane of hair and a wild  tangled beard  but you could make out his eyes  glinting like black beetles under all the hair.',\n",
       " 'The giant squeezed his way into the hut  stooping so that his head just brushed the ceiling. He bent down  picked up the door  and fitted it easily back into its frame. The noise of the storm outside dropped a little. He turned to look at them all.',\n",
       " \" Couldn't make us a cup o' tea  could yeh. It's not been an easy journey.  He strode over to the sofa where Dudley sat frozen with fear.  Budge up  yeh great lump   said the stranger.\",\n",
       " \"Dudley squeaked and ran to hide behind his mother  who was crouching  terrified  behind Uncle Vernon.  An' here's Harry.  said the giant. Harry looked up into the fierce  wild  shadowy face and saw that the beetle eyes were crinkled in a smile.\",\n",
       " \" Las' time I saw you  you was only a baby   said the giant.  Yeh look a lot like yet dad  but yeh've got yet mom's eyes.  Uncle Vernon made a funny rasping noise. I demand that you leave at once  sit.  he said.  You are breaking and entering. \",\n",
       " \" Ah  shut up  Dursley  yeh great prune   said the giant; he reached over the back of the sofa  jerked the gun out of Uncle Vernon's hands  bent it into a knot as easily as if it had been made of rubber  and threw it into a corner of the room. Uncle Vernon made another funny noise  like a mouse being trodden on.\",\n",
       " \" Anyway    Harry   said the giant  turning his back on the Dursleys   a very happy birthday to yeh. Got summat fer yeh here    I mighta sat on it at some point  but it'll taste all right. \",\n",
       " 'From an inside pocket of his black overcoat he pulled a slightly squashed box. Harry opened it with trembling fingers. Inside was a large  sticky chocolate cake with Happy Birthday Harry written on it in green icing.',\n",
       " \"Harry looked up at the giant. He meant to say thank you  but the words got lost on the way to his mouth  and what he said instead was   Who are you.  The giant chuckled.  True  I haven't introduced meself. Rubeus Hagrid  Keeper of Keys and Grounds at Hogwarts. \",\n",
       " \"He held out an enormous hand and shook Harry's whole arm.  What about that tea then  eh.  he said  rubbing his hands together.  I'd not say no ter summat stronger if yeh've got it  mind. \",\n",
       " \"His eyes fell on the empty grate with the shriveled chip bags in it and he snorted. He bent down over the fireplace; they couldn't see what he was doing but when he drew back a second later  there was a roaring fire there. It filled the whole damp hut with flickering light and Harry felt the warmth wash over him as though he'd sunk into a hot bath.\",\n",
       " \"The giant sat back down on the sofa  which sagged under his weight  and began taking all sorts of things out of the pockets of his coat: a copper kettle  a squashy package of sausages  a poker  a teapot  several chipped mugs  and a bottle of some amber liquid that he took a swig from before starting to make tea. Soon the hut was full of the sound and smell of sizzling sausage. Nobody said a thing while the giant was working  but as he slid the first six fat  juicy  slightly burnt sausages from the poker  Dudley fidgeted a little. Uncle Vernon said sharply   Don't touch anything he gives you  Dudley.  The giant chuckled darkly.  Yet great puddin' of a son don' need fattenin' anymore  Dursley  don' worry. \",\n",
       " \"He passed the sausages to Harry  who was so hungry he had never tasted anything so wonderful  but he still couldn't take his eyes off the giant. Finally  as nobody seemed about to explain anything  he said   I'm sorry  but I still don't really know who you are.  The giant took a gulp of tea and wiped his mouth with the back of his hand.\",\n",
       " \" Call me Hagrid   he said   everyone does. An' like I told yeh  I'm Keeper of Keys at Hogwarts    yeh'll know all about Hogwarts  o' course.  Er    no   said Harry. Hagrid looked shocked.  Sorry   Harry said quickly.\",\n",
       " \" Sony.  barked Hagrid  turning to stare at the Dursleys  who shrank back into the shadows.  It' s them as should be sorry. I knew yeh weren't gettin' yer letters but I never thought yeh wouldn't even know abou' Hogwarts  fer cryin' out loud. Did yeh never wonder where yet parents learned it all.   All what.  asked Harry.\",\n",
       " \" ALL WHAT.  Hagrid thundered.  Now wait jus' one second.  He had leapt to his feet. In his anger he seemed to fill the whole hut. The Dursleys were cowering against the wall.\",\n",
       " \" Do you mean ter tell me   he growled at the Dursleys   that this boy    this boy.    knows nothin' abou'    about ANYTHING.  Harry thought this was going a bit far. He had been to school  after all  and his marks weren't bad.\",\n",
       " \" I know some things   he said.  I can  you know  do math and stuff.  But Hagrid simply waved his hand and said   About our world  I mean. Your world. My world. Yer parents' world.   What world.  Hagrid looked as if he was about to explode.  DURSLEY.  he boomed.\",\n",
       " \"Uncle Vernon  who had gone very pale  whispered something that sounded like  Mimblewimble.  Hagrid stared wildly at Harry.  But yeh must know about yet mom and dad   he said.  I mean  they're famous. You're famous.   What. My    my mom and dad weren't famous  were they. \",\n",
       " \" Yeh don' know. yeh don' know.  Hagrid ran his fingers through his hair  fixing Harry with a bewildered stare.  Yeh don' know what yeh are.  he said finally. Uncle Vernon suddenly found his voice.\",\n",
       " ' Stop.  he commanded.  Stop right there  sit. I forbid you to tell the boy anything.  A braver man than Vernon Dursley would have quailed under the furious look Hagrid now gave him; when Hagrid spoke  his every syllable trembled with rage.',\n",
       " \" You never told him. Never told him what was in the letter Dumbledore left fer him. I was there. I saw Dumbledore leave it  Dursley. An' you've kept it from him all these years.   Kept what from me.  said Harry eagerly.  STOP. I FORBID YOU.  yelled Uncle Vernon in panic. Aunt Petunia gave a gasp of horror.\",\n",
       " ' Ah  go boil yet heads  both of yeh   said Hagrid.  Harry    yet a wizard.  There was silence inside the hut. Only the sea and the whistling wind could be heard.     a what.  gasped Harry.',\n",
       " \" A wizard  o' course   said Hagrid  sitting back down on the sofa  which groaned and sank even lower   an' a thumpin' good'un  I'd say  once yeh've been trained up a bit. With a mum an' dad like yours  what else would yeh be. An' I reckon it's abou' time yeh read yer letter. \",\n",
       " 'Harry stretched out his hand at last to take the yellowish envelope  addressed in emerald green to Mr. H. Potter  The Floor  Hut on the Rock  The Sea. He pulled out the letter and read: HOGWARTS SCHOOL of WITCHCRAFT and WIZARDRY Headmaster: ALBUS DUMBLEDORE  Order of Merlin  First Class  Grand Sorc.  Chf. Warlock  Supreme Mugwump  International Confed. of Wizards  Dear Mr. Potter  We are pleased to inform you that you have been accepted at Hogwarts School of Witchcraft and Wizardry. Please find enclosed a list of all necessary books and equipment. Term begins on September 1. We await your owl by no later than July 31.',\n",
       " \"Yours sincerely  Minerva McGonagall  Deputy Headmistress Questions exploded inside Harry's head like fireworks and he couldn't decide which to ask first. After a few minutes he stammered   What does it mean  they await my owl. \",\n",
       " \" Gallopin' Gorgons  that reminds me   said Hagrid  clapping a hand to his forehead with enough force to knock over a cart horse  and from yet another pocket inside his overcoat he pulled an owl    a real  live  rather ruffled looking owl    a long quill  and a roll of parchment.\",\n",
       " \"With his tongue between his teeth he scribbled a note that Harry could read upside down: Dear Professor Dumbledore  Given Harry his letter. Taking him to buy his things tomorrow. Weather's horrible. Hope you're Well.\",\n",
       " 'Hagrid Hagrid rolled up the note  gave it to the owl  which clamped it in its beak  went to the door  and threw the owl out into the storm. Then he came back and sat down as though this was as normal as talking on the telephone. Harry realized his mouth was open and closed it quickly.',\n",
       " \" Where was I.  said Hagrid  but at that moment  Uncle Vernon  still ashen faced but looking very angry  moved into the firelight.  He's not going   he said. Hagrid grunted.  I'd like ter see a great Muggle like you stop him   he said.  A what.  said Harry  interested.\",\n",
       " \" A Muggle   said Hagrid   it's what we call nonmagic folk like thern. An' it's your bad luck you grew up in a family o' the biggest Muggles I ever laid eyes on. \",\n",
       " \" We swore when we took him in we'd put a stop to that rubbish   said Uncle Vernon   swore we'd stamp it out of him. Wizard indeed.   You knew.  said Harry.  You knew I'm a    a wizard. \",\n",
       " ' Knew.  shrieked Aunt Petunia suddenly.  Knew. Of course we knew. How could you not be  my dratted sister being what she was. Oh  she got a letter just like that and disappeared off to that that school and came home every vacation with her pockets full of frog spawn  turning teacups into rats. I was the only one who saw her for what she was    a freak. But for my mother and father  oh no  it was Lily this and Lily that  they were proud of having a witch in the family.  She stopped to draw a deep breath and then went ranting on. It seemed she had been wanting to say all this for years.',\n",
       " \" Then she met that Potter at school and they left and got married and had you  and of course I knew you'd be just the same  just as strange  just as    as    abnormal    and then  if you please  she went and got herself blown up and we got landed with you.  Harry had gone very white. As soon as he found his voice he said   Blown up. You told me they died in a car crash. \",\n",
       " \" CAR CRASH.  roared Hagrid  jumping up so angrily that the Dursleys scuttled back to their corner.  How could a car crash kill Lily an' James Potter. It's an outrage. A scandal. Harry Potter not knowin' his own story when every kid in our world knows his name.   But why. What happened.  Harry asked urgently. The anger faded from Hagrid's face. He looked suddenly anxious.\",\n",
       " \" I never expected this   he said  in a low  worried voice.  I had no idea  when Dumbledore told me there might be trouble gettin' hold of yeh  how much yeh didn't know. Ah  Harry  I don' know if I'm the right person ter tell yeh    but someone 3 s gotta    yeh can't go off ter Hogwarts not knowin'. \",\n",
       " \"He threw a dirty look at the Dursleys.  Well  it's best yeh know as much as I can tell yeh    mind  I can't tell yeh everythin'  it's a great myst'ry  parts of it.. \",\n",
       " \"He sat down  stared into the fire for a few seconds  and then said   It begins  I suppose  with    with a person called    but it's incredible yeh don't know his name  everyone in our world knows      Who. \\x93  Well    I don' like sayin' the name if I can help it. No one does.   Why not. \",\n",
       " \" Gulpin' gargoyles  Harry  people are still scared. Blimey  this is difficult. See  there was this wizard who went. bad. As bad as you could go. Worse. Worse than worse. His name was.  Hagrid gulped  but no words came out.  Could you write it down.  Harry suggested.\",\n",
       " \" Nah  can't spell it. All right    Voldemort.   Hagrid shuddered.  Don' make me say it again. Anyway  this    this wizard  about twenty years ago now  started lookin' fer followers. Got 'em  too    some were afraid  some just wanted a bit o' his power  'cause he was gettin' himself power  all right. Dark days  Harry. Didn't know who ter trust  didn't dare get friendly with strange wizards or witches. terrible things happened. He was takin' over. 'Course  some stood up to him    an' he killed 'em. Horribly. One o' the only safe places left was Hogwarts. Reckon Dumbledore's the only one You Know Who was afraid of. Didn't dare try takin' the school  not jus' then  anyway.  Now  yer mum an' dad were as good a witch an' wizard as I ever knew.\",\n",
       " \"Head boy an' girl at Hogwarts in their day. Suppose the myst'ry is why You Know Who never tried to get 'em on his side before. probably knew they were too close ter Dumbledore ter want anythin' ter do with the Dark Side.\",\n",
       " \" Maybe he thought he could persuade 'em. maybe he just wanted 'em outta the way. All anyone knows is  he turned up in the village where you was all living  on Halloween ten years ago. You was just a year old. He came ter yer house an'    an'    \",\n",
       " \"Hagrid suddenly pulled out a very dirty  spotted handkerchief and blew his nose with a sound like a foghorn.  Sorry   he said.  But it's that sad    knew yer mum an' dad  an' nicer people yeh couldn't find    anyway. \",\n",
       " \" You Know Who killed 'em. An' then    an' this is the real myst'ry of the thing    he tried to kill you  too. Wanted ter make a clean job of it  I suppose  or maybe he just liked killin' by then. But he couldn't do it. Never wondered how you got that mark on yer forehead. That was no ordinary cut. That's what yeh get when a Powerful  evil curse touches yeh    took care of yer mum an' dad an' yer house  even    but it didn't work on you  an' that's why yer famous  Harry. No one ever lived after he decided ter kill 'em  no one except you  an' he'd killed some o' the best witches an' wizards of the age    the McKinnons  the Bones  the Prewetts    an' you was only a baby  an' you lived. \",\n",
       " \"Something very painful was going on in Harry's mind. As Hagrid's story came to a close  he saw again the blinding flash of green light  more clearly than he had ever remembered it before    and he remembered something else  for the first time in his life: a high  cold  cruel laugh. Hagrid was watching him sadly.  Took yeh from the ruined house myself  on Dumbledore's orders. Brought yeh ter this lot. \",\n",
       " ' Load of old tosh   said Uncle Vernon. Harry jumped; he had almost forgotten that the Dursleys were there. Uncle Vernon certainly seemed to have got back his courage. He was glaring at Hagrid and his fists were clenched.',\n",
       " \" Now  you listen here  boy   he snarled   I accept there's something strange about you  probably nothing a good beating wouldn't have cured    and as for all this about your parents  well  they were weirdos  no denying it  and the world's better off without them in my opinion    asked for all they got  getting mixed up with these wizarding types    just what I expected  always knew they'd come to a sticky end    \",\n",
       " \"But at that moment  Hagrid leapt from the sofa and drew a battered pink umbrella from inside his coat. Pointing this at Uncle Vernon like a sword  he said   I'm warning you  Dursley  I'm warning you    one more word. \\x93 In danger of being speared on the end of an umbrella by a bearded giant  Uncle Vernon's courage failed again; he flattened himself against the wall and fell silent.\",\n",
       " \" That's better   said Hagrid  breathing heavily and sitting back down on the sofa  which this time sagged right down to the floor. Harry  meanwhile  still had questions to ask  hundreds of them.\",\n",
       " \" But what happened to Vol    sorry    I mean  You Know Who.   Good question  Harry. Disappeared. Vanished. Same night he tried ter kill you. Makes yeh even more famous. That's the biggest myst'ry  see.\",\n",
       " \"he was gettin' more an' more powerful    why'd he go.  Some say he died. Codswallop  in my opinion. Dunno if he had enough human left in him to die. Some say he's still out there  bidin' his time  like  but I don' believe it. People who was on his side came back ter ours. Some of 'em came outta kinda trances. Don~ reckon they could've done if he was comin' back.  Most of us reckon he's still out there somewhere but lost his powers.\",\n",
       " \"Too weak to carry on. 'Cause somethin' about you finished him  Harry. There was somethin' goin' on that night he hadn't counted on    I dunno what it was  no one does    but somethin' about you stumped him  all right. \",\n",
       " \"Hagrid looked at Harry with warmth and respect blazing in his eyes  but Harry  instead of feeling pleased and proud  felt quite sure there had been a horrible mistake. A wizard. Him. How could he possibly be. He'd spent his life being clouted by Dudley  and bullied by Aunt Petunia and Uncle Vernon; if he was really a wizard  why hadn't they been turned into warty toads every time they'd tried to lock him in his cupboard. If he'd once defeated the greatest sorcerer in the world  how come Dudley had always been able to kick him around like a football.  Hagrid   he said quietly   I think you must have made a mistake. I don't think I can be a wizard.  To his surprise  Hagrid chuckled.  Not a wizard  eh. Never made things happen when you was scared or angry. \",\n",
       " \"Harry looked into the fire. Now he came to think about it. every odd thing that had ever made his aunt and uncle furious with him had happened when he  Harry  had been upset or angry. chased by Dudley's gang  he had somehow found himself out of their reach. dreading going to school with that ridiculous haircut  he'd managed to make it grow back. and the very last time Dudley had hit him  hadn't he got his revenge  without even realizing he was doing it. Hadn't he set a boa constrictor on him. Harry looked back at Hagrid  smiling  and saw that Hagrid was positively beaming at him.  See.  said Hagrid.  Harry Potter  not a wizard    you wait  you'll be right famous at Hogwarts.  But Uncle Vernon wasn't going to give in without a fight.\",\n",
       " \" Haven't I told you he's not going.  he hissed.  He's going to Stonewall High and he'll be grateful for it. I've read those letters and he needs all sorts of rubbish    spell books and wands and      If he wants ter go  a great Muggle like you won't stop him   growled Hagrid.  Stop Lily an' James Potter' s son goin' ter Hogwarts. Yer mad.\",\n",
       " \"His name's been down ever since he was born. He's off ter the finest school of witchcraft and wizardry in the world. Seven years there and he won't know himself. He'll be with youngsters of his own sort  fer a change  an' he'll be under the greatest headmaster Hogwarts ever had Albus Dumbled     I AM NOT PAYING FOR SOME CRACKPOT OLD FOOL To TEACH HIM MAGIC TRICKS. \",\n",
       " 'yelled Uncle Vernon. But he had finally gone too far. Hagrid seized his umbrella and whirled it over his head   NEVER   he thundered     INSULT  ALBUS  DUMBLEDOREIN  FRONT  OF  ME. ',\n",
       " \"He brought the umbrella swishing down through the air to point at Dudley    there was a flash of violet light  a sound like a firecracker  a sharp squeal  and the next second  Dudley was dancing on the spot with his hands clasped over his fat bottom  howling in pain. When he turned his back on them  Harry saw a curly pig's tail poking through a hole in his trousers.\",\n",
       " 'Uncle Vernon roared. Pulling Aunt Petunia and Dudley into the other room  he cast one last terrified look at Hagrid and slammed the door behind them. Hagrid looked down at his umbrella and stroked his beard.',\n",
       " \" Shouldn'ta lost me temper   he said ruefully   but it didn't work anyway. Meant ter turn him into a pig  but I suppose he was so much like a pig anyway there wasn't much left ter do.  He cast a sideways look at Harry under his bushy eyebrows.\",\n",
       " \" Be grateful if yeh didn't mention that ter anyone at Hogwarts   he said.  I'm    er    not supposed ter do magic  strictly speakin'. I was allowed ter do a bit ter follow yeh an' get yer letters to yeh an' stuff    one o' the reasons I was so keen ter take on the job  Why aren't you supposed to do magic.  asked Harry.\",\n",
       " \" Oh  well    I was at Hogwarts meself but I    er    got expelled  ter tell yeh the truth. In me third year. They snapped me wand in half an' everything. But Dumbledore let me stay on as gamekeeper. Great man  Dumbledore.   Why were you expelled. \",\n",
       " \" It's gettin' late and we've got lots ter do tomorrow   said Hagrid loudly.  Gotta get up ter town  get all yer books an' that.  He took off his thick black coat and threw it to Harry.\",\n",
       " \" You can kip under that   he said.  Don' mind if it wriggles a bit  I think I still got a couple o' dormice in one o' the pockets.  Harry woke early the next morning. Although he could tell it was daylight  he kept his eyes shut tight.\",\n",
       " \" It was a dream  he told himself firmly.  I dreamed a giant called Hagrid came to tell me I was going to a school for wizards. When I open my eyes I'll be at home in my cupboard.  There was suddenly a loud tapping noise.\",\n",
       " \"And there's Aunt Petunia knocking on the door  Harry thought  his heart sinking. But he still didn't open his eyes. It had been such a good dream. Tap. Tap. Tap.  All right   Harry mumbled   I'm getting up. \",\n",
       " \"He sat up and Hagrid's heavy coat fell off him. The hut was full of sunlight  the storm was over  Hagrid himself was asleep on the collapsed sofa  and there was an owl rapping its claw on the window  a newspaper held in its beak.\",\n",
       " \"Harry scrambled to his feet  so happy he felt as though a large balloon was swelling inside him. He went straight to the window and jerked it open. The owl swooped in and dropped the newspaper on top of Hagrid  who didn't wake up. The owl then fluttered onto the floor and began to attack Hagrid's coat.  Don't do that. \",\n",
       " \"Harry tried to wave the owl out of the way  but it snapped its beak fiercely at him and carried on savaging the coat.  Hagrid.  said Harry loudly.  There's an owl  Pay him   Hagrid grunted into the sofa.  What.   He wants payin' fer deliverin' the paper. Look in the pockets. \",\n",
       " \"Hagrid's coat seemed to be made of nothing but pockets    bunches of keys  slug pellets  balls of string  peppermint humbugs  teabags. finally  Harry pulled out a handful of strange looking coins.  Give him five Knuts   said Hagrid sleepily.  Knuts.   The little bronze ones. \",\n",
       " \"Harry counted out five little bronze coins  and the owl held out his leg so Harry could put the money into a small leather pouch tied to it. Then he flew off through the open window. Hagrid yawned loudly  sat up  and stretched.  Best be Off  Harry  lots ter do today  gotta get up ter London an' buy all yer stuff fer school. \",\n",
       " 'Harry was turning over the wizard coins and looking at them. He had just thought of something that made him feel as though the happy balloon inside him had got a puncture.  Um    Hagrid.   Mm.  said Hagrid  who was pulling on his huge boots.',\n",
       " \" I haven't got any money    and you heard Uncle Vernon last night . he won't pay for me to go and learn magic.   Don't worry about that   said Hagrid  standing up and scratching his head.  D'yeh think yer parents didn't leave yeh anything.   But if their house was destroyed    \",\n",
       " \" They didn' keep their gold in the house  boy. Nah  first stop fer us is Gringotts. Wizards' bank. Have a sausage  they're not bad cold    an' I wouldn' say no teh a bit o' yer birthday cake  neither.   Wizards have banks.   Just the one. Gringotts. Run by goblins.  Harry dropped the bit of sausage he was holding.  Goblins. \",\n",
       " \" Yeah    so yeh'd be mad ter try an' rob it  I'll tell yeh that. Never mess with goblins  Harry. Gringotts is the safest place in the world fer anything yeh want ter keep safe    'cept maybe Hogwarts. As a matter o' fact  I gotta visit Gringotts anyway. Fer Dumbledore. Hogwarts business.  Hagrid drew himself up proudly.  He usually gets me ter do important stuff fer him. Fetchin' you gettin' things from Gringotts    knows he can trust me  see.  Got everythin'. Come on  then. \",\n",
       " 'Harry followed Hagrid out onto the rock. The sky was quite clear now and the sea gleamed in the sunlight. The boat Uncle Vernon had hired was still there  with a lot of water in the bottom after the storm.  How did you get here.  Harry asked  looking around for another boat.  Flew   said Hagrid.  Flew. ',\n",
       " \" Yeah    but we'll go back in this. Not s'pposed ter use magic now I've got yeh.  They settled down in the boat  Harry still staring at Hagrid  trying to imagine him flying.\",\n",
       " \" Seems a shame ter row  though   said Hagrid  giving Harry another of his sideways looks.  If I was ter    er    speed things up a bit  would yeh mind not mentionin' it at Hogwarts. \",\n",
       " ' Of course not   said Harry  eager to see more magic. Hagrid pulled out the pink umbrella again  tapped it twice on the side of the boat  and they sped off toward land.  Why would you be mad to try and rob Gringotts.  Harry asked.',\n",
       " \" Spells    enchantments   said Hagrid  unfolding his newspaper as he spoke.  They say there's dragons guardin' the highsecurity vaults. And then yeh gotta find yer way    Gringotts is hundreds of miles under London  see. Deep under the Underground. Yeh'd die of hunger tryin' ter get out  even if yeh did manage ter get yer hands on summat. \",\n",
       " \"Harry sat and thought about this while Hagrid read his newspaper  the Daily Prophet. Harry had learned from Uncle Vernon that people liked to be left alone while they did this  but it was very difficult  he'd never had so many questions in his life.  Ministry o' Magic messin' things up as usual   Hagrid muttered  turning the page.  There's a Ministry of Magic.  Harry asked  before he could stop himself.\",\n",
       " \" 'Course   said Hagrid.  They wanted Dumbledore fer Minister  0 ' course  but he'd never leave Hogwarts  so old Cornelius Fudge got the job. Bungler if ever there was one. So he pelts Dumbledore with owls every morning  askin' fer advice. \",\n",
       " \" But what does a Ministry of Magic do.   Well  their main job is to keep it from the Muggles that there's still witches an' wizards up an' down the country.   Why. \",\n",
       " \" Why. Blimey  Harry  everyone'd be wantin' magic solutions to their problems. Nah  we're best left alone.  At this moment the boat bumped gently into the harbor wall. Hagrid folded up his newspaper  and they clambered up the stone steps onto the street.\",\n",
       " \"Passersby stared a lot at Hagrid as they walked through the little town to the station. Harry couldn't blame them. Not only was Hagrid twice as tall as anyone else  he kept pointing at perfectly ordinary things like parking meters and saying loudly   See that  Harry. Things these Muggles dream up  eh. \",\n",
       " \" Hagrid   said Harry  panting a bit as he ran to keep up   did you say there are dragons at Gringotts.   Well  so they say   said Hagrid.  Crikey  I'd like a dragon.   You'd like one.   Wanted one ever since I was a kid    here we go. \",\n",
       " \"They had reached the station. There was a train to London in five minutes' time. Hagrid  who didn't understand  Muggle money   as he called it  gave the bills to Harry so he could buy their tickets. People stared more than ever on the train. Hagrid took up two seats and sat knitting what looked like a canary yellow circus tent.\",\n",
       " \" Still got yer letter  Harry.  he asked as he counted stitches. Harry took the parchment envelope out of his pocket.  Good   said Hagrid.  There's a list there of everything yeh need. \",\n",
       " \"Harry unfolded a second piece of paper he hadn't noticed the night before  and read: HOGWARTS SCHOOL of WITCHCRAFT and WIZARDRY UNIFORM First year students will require: 1. Three sets of plain work robes  black  2. One plain pointed hat  black  for day wear 3. One pair of protective gloves  dragon hide or similar  4. One winter cloak  black  silver fastenings  Please note that all pupils' clothes should carry name tags COURSE BOOKS All students should have a copy of each of the following: The Standard Book of Spells  Grade 1  by Miranda Goshawk A History of Magic by Bathilda Bagshot Magical Theory by Adalbert Waffling A Beginners' Guide to Transfiguration by Emetic Switch One Thousand Magical Herbs and Fungi by Phyllida Spore Magical Drafts and Potions by Arsenius Jigger Fantastic Beasts and Where to Find Them by Newt Scamander The Dark Forces: A Guide to Self Protection by Quentin Trimble OTHER EQUIPMENT wand cauldron  pewter  standard size 2  set glass or crystal phials telescope set brass scales Students may also bring an owl OR a cat OR a toad PARENTS ARE REMINDED THAT FIRST YEARS ARE NOT ALLOWED THEIR OWN BROOMSTICKS  Can we buy all this in London.  Harry wondered aloud.  If yeh know where to go   said Hagrid.\",\n",
       " \"Harry had never been to London before. Although Hagrid seemed to know where he was going  he was obviously not used to getting there in an ordinary way. He got stuck in the ticket barrier on the Underground  and complained loudly that the seats were too small and the trains too slow.  I don't know how the Muggles manage without magic   he said as they climbed a broken down escalator that led up to a bustling road lined with shops.\",\n",
       " \"Hagrid was so huge that he parted the crowd easily; all Harry had to do was keep close behind him. They passed book shops and music stores  hamburger restaurants and cinemas  but nowhere that looked as if it could sell you a magic wand. This was just an ordinary street full of ordinary people. Could there really be piles of wizard gold buried miles beneath them. Were there really shops that sold spell books and broomsticks. Might this not all be some huge joke that the Dursleys had cooked up. If Harry hadn't known that the Dursleys had no sense of humor  he might have thought so; yet somehow  even though everything Hagrid had told him so far was unbelievable  Harry couldn't help trusting him.  This is it   said Hagrid  coming to a halt   the Leaky Cauldron. It's a famous place. \",\n",
       " \"It was a tiny  grubby looking pub. If Hagrid hadn't pointed it out  Harry wouldn't have noticed it was there. The people hurrying by didn't glance at it. Their eyes slid from the big book shop on one side to the record shop on the other as if they couldn't see the Leaky Cauldron at all. In fact  Harry had the most peculiar feeling that only he and Hagrid could see it. Before he could mention this  Hagrid had steered him inside.\",\n",
       " 'For a famous place  it was very dark and shabby. A few old women were sitting in a corner  drinking tiny glasses of sherry. One of them was smoking a long pipe. A little man in a top hat was talking to the old bartender  who was quite bald and looked like a toothless walnut. The low buzz of chatter stopped when they walked in. Everyone seemed to know Hagrid; they waved and smiled at him  and the bartender reached for a glass  saying   The usual  Hagrid. ',\n",
       " \" Can't  Tom  I'm on Hogwarts business   said Hagrid  clapping his great hand on Harry's shoulder and making Harry's knees buckle.  Good Lord   said the bartender  peering at Harry   is this    can this be   .  The Leaky Cauldron had suddenly gone completely still and silent.\",\n",
       " ' Bless my soul   whispered the old bartender   Harry Potter. what an honor.  He hurried out from behind the bar  rushed toward Harry and seized his hand  tears in his eyes.  Welcome back  Mr. Potter  welcome back. ',\n",
       " \"Harry didn't know what to say. Everyone was looking at him. The old woman with the pipe was puffing on it without realizing it had gone out. Hagrid was beaming. Then there was a great scraping of chairs and the next moment  Harry found himself shaking hands with everyone in the Leaky Cauldron.\",\n",
       " \" Doris Crockford  Mr. Potter  can't believe I'm meeting you at last.   So proud  Mr. Potter  I'm just so proud.   Always wanted to shake your hand    I'm all of a flutter. \",\n",
       " \" Delighted  Mr. Potter  just can't tell you  Diggle's the name  Dedalus Diggle.   I've seen you before.  said Harry  as Dedalus Diggle's top hat fell off in his excitement.  You bowed to me once in a shop. \",\n",
       " ' He remembers.  cried Dedalus Diggle  looking around at everyone.  Did you hear that. He remembers me.  Harry shook hands again and again    Doris Crockford kept coming back for more. A pale young man made his way forward  very nervously. One of his eyes was twitching.',\n",
       " \" Professor Quirrell.  said Hagrid.  Harry  Professor Quirrell will be one of your teachers at Hogwarts.   P P Potter   stammered Professor Quirrell  grasping Harry's hand   c can't t tell you how p  pleased I am to meet you.   What sort of magic do you teach  Professor Quirrell. \",\n",
       " \" D Defense Against the D D Dark Arts   muttered Professor Quirrell  as though he'd rather not think about it.  N not that you n need it  eh  P P Potter.  He laughed nervously.  You'll be g getting all your equipment  I suppose. I've g got to p pick up a new b book on vampires  m myself.  He looked terrified at the very thought.\",\n",
       " \"But the others wouldn't let Professor Quirrell keep Harry to himself. It took almost ten minutes to get away from them all. At last  Hagrid managed to make himself heard over the babble.  Must get on    lots ter buy. Come on  Harry. \",\n",
       " \"Doris Crockford shook Harry's hand one last time  and Hagrid led them through the bar and out into a small  walled courtyard  where there was nothing but a trash can and a few weeds.\",\n",
       " \"Hagrid grinned at Harry.  Told yeh  didn't I. Told yeh you was famous. Even Professor Quirrell was tremblin' ter meet yeh    mind you  he's usually tremblin'.   Is he always that nervous. \",\n",
       " \" Oh  yeah. Poor bloke. Brilliant mind. He was fine while he was studyin' outta books but then he took a year off ter get some firsthand experience.. They say he met vampires in the Black Forest  and there was a nasty bit o' trouble with a hag    never been the same since. Scared of the students  scared of his own subject now  where's me umbrella. \",\n",
       " \"Vampires. Hags. Harry's head was swimming. Hagrid  meanwhile  was counting bricks in the wall above the trash can.  Three up. two across he muttered.  Right  stand back  Harry.  He tapped the wall three times with the point of his umbrella.\",\n",
       " 'The brick he had touched quivered    it wriggled    in the middle  a small hole appeared    it grew wider and wider    a second later they were facing an archway large enough even for Hagrid  an archway onto a cobbled street that twisted and turned out of sight.  Welcome   said Hagrid   to Diagon Alley. ',\n",
       " \"He grinned at Harry's amazement. They stepped through the archway. Harry looked quickly over his shoulder and saw the archway shrink instantly back into solid wall. The sun shone brightly on a stack of cauldrons outside the nearest shop.\",\n",
       " \"Cauldrons    All Sizes   Copper  Brass  Pewter  Silver    Self Stirring    Collapsible  said a sign hanging over them.  Yeah  you'll be needin' one   said Hagrid   but we gotta get yer money first. \",\n",
       " \"Harry wished he had about eight more eyes. He turned his head in every direction as they walked up the street  trying to look at everything at once: the shops  the things outside them  the people doing their shopping. A plump woman outside an Apothecary was shaking her head as they passed  saying   Dragon liver  seventeen Sickles an ounce  they're mad.. \",\n",
       " \"A low  soft hooting came from a dark shop with a sign saying Eeylops Owl Emporium    Tawny  Screech  Barn  Brown  and Snowy. Several boys of about Harry's age had their noses pressed against a window with broomsticks in it.  Look   Harry heard one of them say   the new Nimbus Two Thousand    fastest ever     There were shops selling robes  shops selling telescopes and strange silver instruments Harry had never seen before  windows stacked with barrels of bat spleens and eels' eyes  tottering piles of spell books  quills  and rolls of parchment  potion bottles  globes of the moon..  Gringotts   said Hagrid.\",\n",
       " \"They had reached a snowy white building that towered over the other little shops. Standing beside its burnished bronze doors  wearing a uniform of scarlet and gold  was    Yeah  that's a goblin   said Hagrid quietly as they walked up the white stone steps toward him. The goblin was about a head shorter than Harry.\",\n",
       " 'He had a swarthy  clever face  a pointed beard and  Harry noticed  very long fingers and feet. He bowed as they walked inside. Now they were facing a second pair of doors  silver this time  with words engraved upon them: Enter  stranger  but take heed Of what awaits the sin of greed  For those who take  but do not earn  Must pay most dearly in their turn.',\n",
       " \"So if you seek beneath our floors A treasure that was never yours  Thief  you have been warned  beware Of finding more than treasure there.  Like I said  Yeh'd be mad ter try an' rob it   said Hagrid.\",\n",
       " 'A pair of goblins bowed them through the silver doors and they were in a vast marble hall. About a hundred more goblins were sitting on high stools behind a long counter  scribbling in large ledgers  weighing coins in brass scales  examining precious stones through eyeglasses.',\n",
       " \"There were too many doors to count leading off the hall  and yet more goblins were showing people in and out of these. Hagrid and Harry made for the counter.  Morning   said Hagrid to a free goblin.  We've come ter take some money outta Mr. Harry Potter's safe.   You have his key  Sir. \",\n",
       " \" Got it here somewhere   said Hagrid  and he started emptying his pockets onto the counter  scattering a handful of moldy dog biscuits over the goblin's book of numbers. The goblin wrinkled his nose. Harry watched the goblin on their right weighing a pile of rubies as big as glowing coals.  Got it   said Hagrid at last  holding up a tiny golden key. The goblin looked at it closely.  That seems to be in order. \",\n",
       " \" An' I've also got a letter here from Professor Dumbledore   said Hagrid importantly  throwing out his chest.  It's about the YouKnow What in vault seven hundred and thirteen.  The goblin read the letter carefully.  Very well   he said  handing it back to Hagrid   I will have Someone take you down to both vaults. Griphook. \",\n",
       " 'Griphook was yet another goblin. Once Hagrid had crammed all the dog biscuits back inside his pockets  he and Harry followed Griphook toward one of the doors leading off the hall.',\n",
       " \" What's the You Know What in vault seven hundred and thirteen.  Harry asked.  Can't tell yeh that   said Hagrid mysteriously.  Very secret. Hogwarts business. Dumbledore's trusted me. More'n my job's worth ter tell yeh that. \",\n",
       " 'Griphook held the door open for them. Harry  who had expected more marble  was surprised. They were in a narrow stone passageway lit with flaming torches. It sloped steeply downward and there were little railway tracks on the floor. Griphook whistled and a small cart came hurtling up the tracks toward them. They climbed in    Hagrid with some difficulty    and were off.',\n",
       " \"At first they just hurtled through a maze of twisting passages. Harry tried to remember  left  right  right  left  middle fork  right  left  but it was impossible. The rattling cart seemed to know its own way  because Griphook wasn't steering.\",\n",
       " \"Harry's eyes stung as the cold air rushed past them  but he kept them wide open. Once  he thought he saw a burst of fire at the end of a passage and twisted around to see if it was a dragon  but too late     they plunged even deeper  passing an underground lake where huge stalactites and stalagmites grew from the ceiling and floor.\",\n",
       " \"I never know   Harry called to Hagrid over the noise of the cart   what's the difference between a stalagmite and a stalactite.   Stalagmite's got an 'm' in it   said Hagrid.  An' don' ask me questions just now  I think I'm gonna be sick. \",\n",
       " 'He did look very green  and when the cart stopped at last beside a small door in the passage wall  Hagrid got out and had to lean against the wall to stop his knees from trembling.',\n",
       " 'Griphook unlocked the door. A lot of green smoke came billowing out  and as it cleared  Harry gasped. Inside were mounds of gold coins. Columns of silver. Heaps of little bronze Knuts.  All yours   smiled Hagrid.',\n",
       " \"All Harry's    it was incredible. The Dursleys couldn't have known about this or they'd have had it from him faster than blinking. How often had they complained how much Harry cost them to keep. And all the time there had been a small fortune belonging to him  buried deep under London. Hagrid helped Harry pile some of it into a bag.\",\n",
       " \" The gold ones are Galleons   he explained.  Seventeen silver Sickles to a Galleon and twenty nine Knuts to a Sickle  it's easy enough. Right  that should be enough fer a couple o' terms  we'll keep the rest safe for yeh.  He turned to Griphook.  Vault seven hundred and thirteen now  please  and can we go more slowly.   One speed only   said Griphook.\",\n",
       " 'They were going even deeper now and gathering speed. The air became colder and colder as they hurtled round tight corners. They went rattling over an underground ravine  and Harry leaned over the side to try to see what was down at the dark bottom  but Hagrid groaned and pulled him back by the scruff of his neck. Vault seven hundred and thirteen had no keyhole.  Stand back   said Griphook importantly. He stroked the door gently with one of his long fingers and it simply melted away.',\n",
       " \" If anyone but a Gringotts goblin tried that  they'd be sucked through the door and trapped in there   said Griphook.  How often do you check to see if anyone's inside.  Harry asked.  About once every ten years   said Griphook with a rather nasty grin.\",\n",
       " \"Something really extraordinary had to be inside this top security vault  Harry was sure  and he leaned forward eagerly  expecting to see fabulous jewels at the very least    but at first he thought it was empty. Then he noticed a grubby little package wrapped up in brown paper lying on the floor. Hagrid picked it up and tucked it deep inside his coat. Harry longed to know what it was  but knew better than to ask.  Come on  back in this infernal cart  and don't talk to me on the way back  it's best if I keep me mouth shut   said Hagrid.\",\n",
       " \"One wild cart ride later they stood blinking in the sunlight outside Gringotts. Harry didn't know where to run first now that he had a bag full of money. He didn't have to know how many Galleons there were to a pound to know that he was holding more money than he'd had in his whole life    more money than even Dudley had ever had.\",\n",
       " \" Might as well get yer uniform   said Hagrid  nodding toward Madam Malkin's Robes for All Occasions.  Listen  Harry  would yeh mind if I slipped off fer a pick me up in the Leaky Cauldron. I hate them Gringotts carts.  He did still look a bit sick  so Harry entered Madam Malkin's shop alone  feeling nervous.\",\n",
       " 'Madam Malkin was a squat  smiling witch dressed all in mauve.  Hogwarts  clear.  she said  when Harry started to speak.  Got the lot here    another young man being fitted up just now  in fact. \\x93',\n",
       " 'In the back of the shop  a boy with a pale  pointed face was standing on a footstool while a second witch pinned up his long black robes. Madam Malkin stood Harry on a stool next to him  slipped a long robe over his head  and began to pin it to the right length.  Hello   said the boy   Hogwarts  too.   Yes   said Harry.',\n",
       " \" My father's next door buying my books and mother's up the street looking at wands   said the boy. He had a bored  drawling voice.  Then I'm going to drag them off to took at racing brooms. I don't see why first years can't have their own. I think I'll bully father into getting me one and I'll smuggle it in somehow. \",\n",
       " 'Harry was strongly reminded of Dudley.  Have you got your own broom.  the boy went on.  No   said Harry.  Play Quidditch at all.   No   Harry said again  wondering what on earth Quidditch could be.',\n",
       " \" I do    Father says it's a crime if I'm not picked to play for my house  and I must say  I agree. Know what house you'll be in yet.   No   said Harry  feeling more stupid by the minute.\",\n",
       " \" Well  no one really knows until they get there  do they  but I know I'll be in Slytherin  all our family have been    imagine being in Hufflepuff  I think I'd leave  wouldn't you.   Mmm   said Harry  wishing he could say something a bit more interesting.\",\n",
       " \" I say  look at that man.  said the boy suddenly  nodding toward the front window. Hagrid was standing there  grinning at Harry and pointing at two large ice creams to show he couldn't come in.  That's Hagrid   said Harry  pleased to know something the boy didn't.  He works at Hogwarts. \",\n",
       " \" Oh   said the boy   I've heard of him. He's a sort of servant  isn't he.   He's the gamekeeper   said Harry. He was liking the boy less and less every second.\",\n",
       " \" Yes  exactly. I heard he's a sort of savage    lives in a hut on the school grounds and every now and then he gets drunk  tries to do magic  and ends up setting fire to his bed.   I think he's brilliant   said Harry coldly.  Do you.  said the boy  with a slight sneer.  Why is he with you. Where are your parents. \",\n",
       " \" They're dead   said Harry shortly. He didn't feel much like going into the matter with this boy.  Oh  sorry   said the other . not sounding sorry at all.  But they were our kind  weren't they.   They were a witch and wizard  if that's what you mean. \",\n",
       " \" I really don't think they should let the other sort in  do you. They're just not the same  they've never been brought up to know our ways. Some of them have never even heard of Hogwarts until they get the letter  imagine. I think they should keep it in the old wizarding families. What's your surname  anyway. \",\n",
       " \"But before Harry could answer  Madam Malkin said   That's you done  my dear   and Harry  not sorry for an excuse to stop talking to the boy  hopped down from the footstool.\",\n",
       " \" Well  I'll see you at Hogwarts  I suppose   said the drawling boy. Harry was rather quiet as he ate the ice cream Hagrid had bought him  chocolate and raspberry with chopped nuts .  What's up.  said Hagrid.\",\n",
       " \" Nothing   Harry lied. They stopped to buy parchment and quills. Harry cheered up a bit when he found a bottle of ink that changed color as you wrote. When they had left the shop  he said   Hagrid  what's Quidditch. \",\n",
       " \" Blimey  Harry  I keep forgettin' how little yeh know    not knowin' about Quidditch.   Don't make me feel worse   said Harry. He told Hagrid about the pate boy in Madam Malkin's.    and he said people from Muggle families shouldn't even be allowed in. \",\n",
       " \" Yer not from a Muggle family. If he'd known who yeh were    he's grown up knowin' yer name if his parents are wizardin' folk. You saw what everyone in the Leaky Cauldron was like when they saw yeh. Anyway  what does he know about it  some o' the best I ever saw were the only ones with magic in 'em in a long line 0' Muggles    look at yer mum. Look what she had fer a sister.   So what is Quidditch. \",\n",
       " \" It's our sport. Wizard sport. It's like    like soccer in the Muggle world    everyone follows Quidditch    played up in the air on broomsticks and there's four balls    sorta hard ter explain the rules.   And what are Slytherin and Hufflepuff.   School houses. There's four. Everyone says Hufflepuff are a lot o' duffers  but      I bet I'm in Hufflepuff  said Harry gloomily.\",\n",
       " \" Better Hufflepuff than Slytherin   said Hagrid darkly.  There's not a single witch or wizard who went bad who wasn't in Slytherin. You Know Who was one.   Vol   sorry   You Know Who was at Hogwarts.   Years an' years ago   said Hagrid.\",\n",
       " \"They bought Harry's school books in a shop called Flourish and Blotts where the shelves were stacked to the ceiling with books as large as paving stones bound in leather; books the size of postage stamps in covers of silk; books full of peculiar symbols and a few books with nothing in them at all. Even Dudley  who never read anything  would have been wild to get his hands on some of these. Hagrid almost had to drag Harry away from Curses and Countercurses  Bewitch Your Friends and Befuddle Your Enemies with the Latest Revenges: Hair Loss  Jelly Legs  Tongue  Tying and Much  Much More  by Professor Vindictus Viridian.  I was trying to find out how to curse Dudley. \",\n",
       " \" I'm not sayin' that's not a good idea  but yer not ter use magic in the Muggle world except in very special circumstances   said Hagrid.  An' anyway  yeh couldn' work any of them curses yet  yeh'll need a lot more study before yeh get ter that level. \",\n",
       " \"Hagrid wouldn't let Harry buy a solid gold cauldron  either   It says pewter on yer list    but they got a nice set of scales for weighing potion ingredients and a collapsible brass telescope. Then they visited the Apothecary  which was fascinating enough to make up for its horrible smell  a mixture of bad eggs and rotted cabbages. Barrels of slimy stuff stood on the floor; jars of herbs  dried roots  and bright powders lined the walls; bundles of feathers  strings of fangs  and snarled claws hung from the ceiling. While Hagrid asked the man behind the counter for a supply of some basic potion ingredients for Harry  Harry himself examined silver unicorn horns at twenty one Galleons each and minuscule  glittery black beetle eyes  five Knuts a scoop .\",\n",
       " \"Outside the Apothecary  Hagrid checked Harry's list again.  Just yer wand left   A yeah  an' I still haven't got yeh a birthday present.  Harry felt himself go red.  You don't have to    \",\n",
       " \" I know I don't have to. Tell yeh what  I'll get yer animal. Not a toad  toads went outta fashion years ago  yeh'd be laughed at   an' I don' like cats  they make me sneeze. I'll get yer an owl. All the kids want owls  they're dead useful  carry yer mail an' everythin'. \",\n",
       " \"Twenty minutes later  they left Eeylops Owl Emporium  which had been dark and full of rustling and flickering  jewel bright eyes. Harry now carried a large cage that held a beautiful snowy owl  fast asleep with her head under her wing. He couldn't stop stammering his thanks  sounding just like Professor Quirrell.\",\n",
       " \" Don' mention it   said Hagrid gruffly.  Don' expect you've had a lotta presents from them Dursleys. Just Ollivanders left now   only place fer wands  Ollivanders  and yeh gotta have the best wand.  A magic wand. this was what Harry had been really looking forward to.\",\n",
       " 'The last shop was narrow and shabby. Peeling gold letters over the door read Ollivanders: Makers of Fine Wands since 382 B.C. A single wand lay on a faded purple cushion in the dusty window.',\n",
       " 'A tinkling bell rang somewhere in the depths of the shop as they stepped inside. It was a tiny place  empty except for a single  spindly chair that Hagrid sat on to wait. Harry felt strangely as though he had entered a very strict library; he swallowed a lot of new questions that had just occurred to him and looked instead at the thousands of narrow boxes piled neatly right up to the ceiling. For some reason  the back of his neck prickled. The very dust and silence in here seemed to tingle with some secret magic.  Good afternoon   said a soft voice. Harry jumped. Hagrid must have jumped  too  because there was a loud crunching noise and he got quickly off the spindly chair.',\n",
       " \"An old man was standing before them  his wide  pale eyes shining like moons through the gloom of the shop.  Hello   said Harry awkwardly.  Ah yes   said the man.  Yes  yes. I thought I'd be seeing you soon.\",\n",
       " \"Harry Potter.  It wasn't a question.  You have your mother's eyes. It seems only yesterday she was in here herself  buying her first wand. Ten and a quarter inches long  swishy  made of willow. Nice wand for charm work. \",\n",
       " 'Mr. Ollivander moved closer to Harry. Harry wished he would blink. Those silvery eyes were a bit creepy.  Your father  on the other hand  favored a mahogany wand. Eleven inches.',\n",
       " \"Pliable. A little more power and excellent for transfiguration. Well  I say your father favored it    it's really the wand that chooses the wizard  of course.  Mr. Ollivander had come so close that he and Harry were almost nose to nose. Harry could see himself reflected in those misty eyes.\",\n",
       " \" And that's where.  Mr. Ollivander touched the lightning scar on Harry's forehead with a long  white finger.  I'm sorry to say I sold the wand that did it   he said softly.\",\n",
       " \" Thirteen and a half inches. Yew. Powerful wand  very powerful  and in the wrong hands. well  if I'd known what that wand was going out into the world to do..  He shook his head and then  to Harry's relief  spotted Hagrid.\",\n",
       " \" Rubeus. Rubeus Hagrid. How nice to see you again.. Oak  sixteen inches  rather bendy  wasn't it.   It was  sir  yes   said Hagrid.  Good wand  that one. But I suppose they snapped it in half when you got expelled.  said Mr. Ollivander  suddenly stern.\",\n",
       " \" Er    yes  they did  yes   said Hagrid  shuffling his feet.  I've still got the pieces  though   he added brightly.  But you don't use them.  said Mr. Ollivander sharply.  Oh  no  sit   said Hagrid quickly. Harry noticed he gripped his pink umbrella very tightly as he spoke.\",\n",
       " \" Hmmm   said Mr. Ollivander  giving Hagrid a piercing look.  Well  now    Mr. Potter. Let me see.  He pulled a long tape measure with silver markings out of his pocket.  Which is your wand arm.   Er    well  I'm right handed   said Harry.\",\n",
       " \" Hold out your arm. That's it.  He measured Harry from shoulder to finger  then wrist to elbow  shoulder to floor  knee to armpit and round his head. As he measured  he said   Every Ollivander wand has a core of a powerful magical substance  Mr. Potter. We use unicorn hairs  phoenix tail feathers  and the heartstrings of dragons. No two Ollivander wands are the same  just as no two unicorns  dragons  or phoenixes are quite the same. And of course  you will never get such good results with another wizard's wand.  Harry suddenly realized that the tape measure  which was measuring between his nostrils  was doing this on its own. Mr. Ollivander was flitting around the shelves  taking down boxes.\",\n",
       " ' That will do   he said  and the tape measure crumpled into a heap on the floor.  Right then  Mr. Potter. Try this one. Beechwood and dragon heartstring. Nine inches. Nice and flexible. just take it and give it a wave. ',\n",
       " 'Harry took the wand and  feeling foolish  waved it around a bit  but Mr. Ollivander snatched it out of his hand almost at once.  Maple and phoenix feather. Seven inches. Quite whippy. Try    ',\n",
       " 'Harry tried    but he had hardly raised the wand when it  too  was snatched back by Mr. Ollivander.  No  no  here  ebony and unicorn hair  eight and a half inches  springy. Go on  go on  try it out. ',\n",
       " 'Harry tried. And tried. He had no idea what Mr. Ollivander was waiting for. The pile of tried wands was mounting higher and higher on the spindly chair  but the more wands Mr. Ollivander pulled from the shelves  the happier he seemed to become.',\n",
       " \" Tricky customer  eh. Not to worry  we'll find the perfect match here somewhere    I wonder  now     yes  why not    unusual combination    holly and phoenix feather  eleven inches  nice and supple. \",\n",
       " 'Harry took the wand. He felt a sudden warmth in his fingers. He raised the wand above his head  brought it swishing down through the dusty air and a stream of red and gold sparks shot from the end like a firework  throwing dancing spots of light on to the walls. Hagrid whooped and clapped and Mr. Ollivander cried   Oh  bravo. Yes  indeed  oh  very good. Well  well  well. how curious. how very curious. \\x93',\n",
       " \"He put Harry's wand back into its box and wrapped it in brown paper  still muttering   Curious. curious..  Sorry   said Harry   but what's curious.  Mr. Ollivander fixed Harry with his pale stare.\",\n",
       " \" I remember every wand I've ever sold  Mr. Potter. Every single wand. It so happens that the phoenix whose tail feather is in your wand  gave another feather    just one other. It is very curious indeed that you should be destined for this wand when its brother why  its brother gave you that scar.  Harry swallowed.\",\n",
       " \" Yes  thirteen and a half inches. Yew. Curious indeed how these things happen. The wand chooses the wizard  remember.. I think we must expect great things from you  Mr. Potter.. After all  He  Who Must Not Be Named did great things    terrible  yes  but great.  Harry shivered. He wasn't sure he liked Mr. Ollivander too much. He paid seven gold Galleons for his wand  and Mr. Ollivander bowed them from his shop.\",\n",
       " \"The late afternoon sun hung low in the sky as Harry and Hagrid made their way back down Diagon Alley  back through the wall  back through the Leaky Cauldron  now empty. Harry didn't speak at all as they walked down the road; he didn't even notice how much people were gawking at them on the Underground  laden as they were with all their funny shaped packages  with the snowy owl asleep in its cage on Harry's lap. Up another escalator  out into Paddington station; Harry only realized where they were when Hagrid tapped him on the shoulder.\",\n",
       " ' Got time fer a bite to eat before yer train leaves   he said. He bought Harry a hamburger and they sat down on plastic seats to eat them. Harry kept looking around. Everything looked so strange  somehow.',\n",
       " \" You all right  Harry. Yer very quiet   said Hagrid. Harry wasn't sure he could explain. He'd just had the best birthday of his life    and yet    he chewed his hamburger  trying to find the words.\",\n",
       " \" Everyone thinks I'm special   he said at last.  All those people in the Leaky Cauldron  Professor Quirrell  Mr. Ollivander. but I don't know anything about magic at all. How can they expect great things. I'm famous and I can't even remember what I'm famous for. I don't know what happened when Vol   sorry    I mean  the night my parents died.  Hagrid leaned across the table. Behind the wild beard and eyebrows he wore a very kind smile.\",\n",
       " \" Don' you worry  Harry. You'll learn fast enough. Everyone starts at the beginning at Hogwarts  you'll be just fine. just be yerself. I know it's hard. Yeh've been singled out  an' that's always hard. But yeh'll have a great time at Hogwarts    I did    still do  'smatter of fact.  Hagrid helped Harry on to the train that would take him back to the Dursleys  then handed him an envelope.\",\n",
       " \" Yer ticket fer Hogwarts    he said.  First o' September    King's Cross    it's all on yer ticket. Any problems with the Dursleys  send me a letter with yer owl  she'll know where to find me.. See yeh soon  Harry. \",\n",
       " 'The train pulled out of the station. Harry wanted to watch Hagrid until he was out of sight; he rose in his seat and pressed his nose against the window  but he blinked and Hagrid had gone.',\n",
       " \"Harry's last month with the Dursleys wasn't fun. True  Dudley was now so scared of Harry he wouldn't stay in the same room  while Aunt Petunia and Uncle Vernon didn't shut Harry in his cupboard  force him to do anything  or shout at him    in fact  they didn't speak to him at all.\",\n",
       " 'Half terrified  half furious  they acted as though any chair with Harry in it were empty. Although this was an improvement in many ways  it did become a bit depressing after a while.',\n",
       " \"Harry kept to his room  with his new owl for company. He had decided to call her Hedwig  a name he had found in A History of Magic. His school books were very interesting. He lay on his bed reading late into the night  Hedwig swooping in and out of the open window as she pleased. It was lucky that Aunt Petunia didn't come in to vacuum anymore  because Hedwig kept bringing back dead mice. Every night before he went to sleep  Harry ticked off another day on the piece of paper he had pinned to the wall  counting down to September the first.\",\n",
       " \"On the last day of August he thought he'd better speak to his aunt and uncle about getting to King's Cross station the next day  so he went down to the living room where they were watching a quiz show on television. He cleared his throat to let them know he was there  and Dudley screamed and ran from the room.  Er    Uncle Vernon.  Uncle Vernon grunted to show he was listening.\",\n",
       " \" Er    I need to be at King's Cross tomorrow to    to go to Hogwarts.  Uncle Vernon grunted again.  Would it be all right if you gave me a lift.  Grunt. Harry supposed that meant yes.\",\n",
       " \" Thank you.  He was about to go back upstairs when Uncle Vernon actually spoke.  Funny way to get to a wizards' school  the train. Magic carpets all got punctures  have they. \",\n",
       " \"Harry didn't say anything.  Where is this school  anyway.   I don't know   said Harry  realizing this for the first time. He pulled the ticket Hagrid had given him out of his pocket.\",\n",
       " \" I just take the train from platform nine and three quarters at eleven o'clock   he read. His aunt and uncle stared.  Platform what.   Nine and three quarters.   Don't talk rubbish   said Uncle Vernon.  There is no platform nine and three quarters.   It's on my ticket. \",\n",
       " \" Barking   said Uncle Vernon   howling mad  the lot of them. You'll see. You just wait. All right  we'll take you to King's Cross. We're going up to London tomorrow anyway  or I wouldn't bother. \",\n",
       " ' Why are you going to London.  Harry asked  trying to keep things friendly.  Taking Dudley to the hospital   growled Uncle Vernon.  Got to have that ruddy tail removed before he goes to Smeltings. ',\n",
       " \"Harry woke at five o'clock the next morning and was too excited and nervous to go back to sleep. He got up and pulled on his jeans because he didn't want to walk into the station in his wizard's robes    he'd change on the train. He checked his Hogwarts list yet again to make sure he had everything he needed  saw that Hedwig was shut safely in her cage  and then paced the room  waiting for the Dursleys to get up. Two hours later  Harry's huge  heavy trunk had been loaded into the Dursleys' car  Aunt Petunia had talked Dudley into sitting next to Harry  and they had set off.\",\n",
       " \"They reached King's Cross at half past ten. Uncle Vernon dumped Harry's trunk onto a cart and wheeled it into the station for him. Harry thought this was strangely kind until Uncle Vernon stopped dead  facing the platforms with a nasty grin on his face.  Well  there you are  boy. Platform nine    platform ten. Your platform should be somewhere in the middle  but they don't seem to have built it yet  do they. \",\n",
       " 'He was quite right  of course. There was a big plastic number nine over one platform and a big plastic number ten over the one next to it  and in the middle  nothing at all.  Have a good term   said Uncle Vernon with an even nastier smile. He left without another word. Harry turned and saw the Dursleys drive away.',\n",
       " \"All three of them were laughing. Harry's mouth went rather dry. What on earth was he going to do. He was starting to attract a lot of funny looks  because of Hedwig. He'd have to ask someone.\",\n",
       " \"He stopped a passing guard  but didn't dare mention platform nine and three quarters. The guard had never heard of Hogwarts and when Harry couldn't even tell him what part of the country it was in  he started to get annoyed  as though Harry was being stupid on purpose. Getting desperate  Harry asked for the train that left at eleven o'clock  but the guard said there wasn't one. In the end the guard strode away  muttering about time wasters. Harry was now trying hard not to panic.\",\n",
       " 'According to the large clock over the arrivals board  he had ten minutes left to get on the train to Hogwarts and he had no idea how to do it; he was stranded in the middle of a station with a trunk he could hardly lift  a pocket full of wizard money  and a large owl.',\n",
       " \"Hagrid must have forgotten to tell him something you had to do  like tapping the third brick on the left to get into Diagon Alley. He wondered if he should get out his wand and start tapping the ticket inspector's stand between platforms nine and ten. At that moment a group of people passed just behind him and he caught a few words of what they were saying.     packed with Muggles  of course    \",\n",
       " \"Harry swung round. The speaker was a plump woman who was talking to four boys  all with flaming red hair. Each of them was pushing a trunk like Harry's in front of him    and they had an owl.\",\n",
       " \"Heart hammering  Harry pushed his cart after them. They stopped and so did he  just near enough to hear what they were saying.  Now  what's the platform number.  said the boys' mother.\",\n",
       " \" Nine and three quarters.  piped a small girl  also red headed  who was holding her hand   Mom  can't I go. \\x93  You're not old enough  Ginny  now be quiet. All right  Percy  you go first.  What looked like the oldest boy marched toward platforms nine and ten.\",\n",
       " 'Harry watched  careful not to blink in case he missed it    but just as the boy reached the dividing barrier between the two platforms  a large crowd of tourists came swarming in front of him and by the time the last backpack had cleared away  the boy had vanished.',\n",
       " \" Fred  you next   the plump woman said.  I'm not Fred  I'm George   said the boy.  Honestly  woman  you call yourself our mother. CarA you tell I'm George.   Sorry  George  dear. \",\n",
       " \" Only joking  I am Fred   said the boy  and off he went. His twin called after him to hurry up  and he must have done so  because a second later  he had gone    but how had he done it. Now the third brother was walking briskly toward the barrier he was almost there    and then  quite suddenly  he wasn't anywhere. There was nothing else for it.  Excuse me   Harry said to the plump woman.  Hello  dear   she said.  First time at Hogwarts. Ron's new  too. \",\n",
       " \"She pointed at the last and youngest of her sons. He was tall  thin  and gangling  with freckles  big hands and feet  and a long nose.  Yes   said Harry.  The thing is    the thing is  I don't know how to      How to get onto the platform.  she said kindly  and Harry nodded.\",\n",
       " \" Not to worry   she said.  All you have to do is walk straight at the barrier between platforms nine and ten. Don't stop and don't be scared you'll crash into it  that's very important. Best do it at a bit of a run if you're nervous. Go on  go now before Ron.   Er    okay   said Harry. He pushed his trolley around and stared at the barrier. It looked very solid.\",\n",
       " \"He started to walk toward it. People jostled him on their way to platforms nine and ten. Harry walked more quickly. He was going to smash right into that barrier and then he'd be in trouble    leaning forward on his cart  he broke into a heavy run    the barrier was coming nearer and nearer    he wouldn't be able to stop    the cart was out of control    he was a foot away    he closed his eyes ready for the crash    It didn't come. he kept on running. he opened his eyes. A scarlet steam engine was waiting next to a platform packed with people. A sign overhead said Hogwarts Express  eleven O'clock. Harry looked behind him and saw a wrought iron archway where the barrier had been  with the words Platform Nine and Three Quarters on it  He had done it.\",\n",
       " 'Smoke from the engine drifted over the heads of the chattering crowd  while cats of every color wound here and there between their legs. Owls hooted to one another in a disgruntled sort of way over the babble and the scraping of heavy trunks.',\n",
       " 'The first few carriages were already packed with students  some hanging out of the window to talk to their families  some fighting over seats. Harry pushed his cart off down the platform in search of an empty seat.',\n",
       " \"He passed a round faced boy who was saying   Gran  I've lost my toad again.   Oh  Neville   he heard the old woman sigh. A boy with dreadlocks was surrounded by a small crowd.\",\n",
       " ' Give us a look  Lee  go on.  The boy lifted the lid of a box in his arms  and the people around him shrieked and yelled as something inside poked out a long  hairy leg.',\n",
       " \"Harry pressed on through the crowd until he found an empty compartment near the end of the train. He put Hedwig inside first and then started to shove and heave his trunk toward the train door. He tried to lift it up the steps but could hardly raise one end and twice he dropped it painfully on his foot.  Want a hand.  It was one of the red haired twins he'd followed through the barrier.  Yes  please   Harry panted.  Oy  Fred. C'mere and help. \",\n",
       " \"With the twins' help  Harry's trunk was at last tucked away in a corner of the compartment.  Thanks   said Harry  pushing his sweaty hair out of his eyes.  What's that.  said one of the twins suddenly  pointing at Harry's lightning scar.\",\n",
       " \" Blimey   said the other twin.  Are you  He is   said the first twin.  Aren't you.  he added to Harry.  What.  said Harry.  Harry Potter   chorused the twins.  Oh  him   said Harry.  I mean  yes  I am. \",\n",
       " \"The two boys gawked at him  and Harry felt himself turning red. Then  to his relief  a voice came floating in through the train's open door.  Fred. George. Are you there.   Coming  Mom.  With a last look at Harry  the twins hopped off the train.\",\n",
       " \"Harry sat down next to the window where  half hidden  he could watch the red haired family on the platform and hear what they were saying. Their mother had just taken out her handkerchief.  Ron  you've got something on your nose.  The youngest boy tried to jerk out of the way  but she grabbed him and began rubbing the end of his nose.\",\n",
       " \" Mom    geroff  He wriggled free.  Aaah  has ickle Ronnie got somefink on his nosie.  said one of the twins.  Shut up   said Ron.  Where's Percy.  said their mother.  He's coming now. \",\n",
       " 'The oldest boy came striding into sight. He had already changed into his billowing black Hogwarts robes  and Harry noticed a shiny silver badge on his chest with the letter P on it.',\n",
       " \" Can't stay long  Mother   he said.  I'm up front  the prefects have got two compartments to themselves      Oh  are you a prefect  Percy.  said one of the twins  with an air of great surprise.  You should have said something  we had no idea. \",\n",
       " ' Hang on  I think I remember him saying something about it   said the other twin.  Once      Or twice      A minute      All summer      Oh  shut up   said Percy the Prefect.',\n",
       " \" How come Percy gets new robes  anyway.  said one of the twins.  Because he's a prefect   said their mother fondly.  All right  dear  well  have a good term    send me an owl when you get there. \",\n",
       " \"She kissed Percy on the cheek and he left. Then she turned to the twins.  Now  you two    this year  you behave yourselves. If I get one more owl telling me you've    you've blown up a toilet or    \",\n",
       " \" Blown up a toilet. We've never blown up a toilet.   Great idea though  thanks  Mom.   It's not funny. And look after Ron.   Don't worry  ickle Ronniekins is safe with us. \",\n",
       " \" Shut up   said Ron again. He was almost as tall as the twins already and his nose was still pink where his mother had rubbed it.  Hey  Mom  guess what. Guess who we just met on the train.  Harry leaned back quickly so they couldn't see him looking.\",\n",
       " \" You know that black haired boy who was near us in the station. Know who he is.   Who.   Harry Potter.  Harry heard the little girl's voice.  Oh  Mom  can I go on the train and see him  Mom  eh please.. \",\n",
       " \" You've already seen him  Ginny  and the poor boy isn't something you goggle at in a zoo. Is he really  Fred. How do you know.   Asked him. Saw his scar. It's really there   like lightning. \",\n",
       " ' Poor dear   no wonder he was alone  I wondered. He was ever so polite when he asked how to get onto the platform.   Never mind that  do you think he remembers what You Know Who looks like.  Their mother suddenly became very stern.',\n",
       " \" I forbid you to ask him  Fred. No  don't you dare. As though he needs reminding of that on his first day at school.   All right  keep your hair on.  A whistle sounded.\",\n",
       " \" Hurry up.  their mother said  and the three boys clambered onto the train. They leaned out of the window for her to kiss them good bye  and their younger sister began to cry.  Don't  Ginny  we'll send you loads of owls.   We'll send you a Hogwarts toilet seat.   George.   Only joking  Mom. \",\n",
       " \"The train began to move. Harry saw the boys' mother waving and their sister  half laughing  half crying  running to keep up with the train until it gathered too much speed  then she fell back and waved.\",\n",
       " \"Harry watched the girl and her mother disappear as the train rounded the corner. Houses flashed past the window. Harry felt a great leap of excitement. He didn't know what he was going to but it had to be better than what he was leaving behind. The door of the compartment slid open and the youngest redheaded boy came in.  Anyone sitting there.  he asked  pointing at the seat opposite Harry.  Everywhere else is full. \",\n",
       " \"Harry shook his head and the boy sat down. He glanced at Harry and then looked quickly out of the window  pretending he hadn't looked. Harry saw he still had a black mark on his nose.  Hey  Ron.  The twins were back.  Listen  we're going down the middle of the train    Lee Jordan's got a giant tarantula down there.   Right   mumbled Ron.\",\n",
       " ' Harry   said the other twin   did we introduce ourselves. Fred and George Weasley. And this is Ron  our brother. See you later  then.  Bye   said Harry and Ron. The twins slid the compartment door shut behind them.  Are you really Harry Potter.  Ron blurted out.',\n",
       " \"Harry nodded.  Oh  well  I thought it might be one of Fred and George's jokes   said Ron.  And have you really got    you know.  He pointed at Harry's forehead.\",\n",
       " \"Harry pulled back his bangs to show the lightning scar. Ron stared.  So that's where You Know Who  Yes   said Harry   but I can't remember it.   Nothing.  said Ron eagerly.  Well    I remember a lot of green light  but nothing else. \",\n",
       " ' Wow   said Ron. He sat and stared at Harry for a few moments  then  as though he had suddenly realized what he was doing  he looked quickly out of the window again.  Are all your family wizards.  asked Harry  who found Ron just as interesting as Ron found him.',\n",
       " \" Er    Yes  I think so   said Ron.  I think Mom's got a second cousin who's an accountant  but we never talk about him.   So you must know loads of magic already.  The Weasleys were clearly one of those old wizarding families the pale boy in Diagon Alley had talked about.\",\n",
       " \" I heard you went to live with Muggles   said Ron.  What are they like.   Horrible  well  not all of them. My aunt and uncle and cousin are  though. Wish I'd had three wizard brothers. \",\n",
       " \" Five   said Ron. For some reason  he was looking gloomy.  I'm the sixth in our family to go to Hogwarts. You could say I've got a lot to live up to. Bill and Charlie have already left    Bill was head boy and Charlie was captain of Quidditch. Now Percy's a prefect. Fred and George mess around a lot  but they still get really good marks and everyone thinks they're really funny. Everyone expects me to do as well as the others  but if I do  it's no big deal  because they did it first. You never get anything new  either  with five brothers. I've got Bill's old robes  Charlie's old wand  and Percy's old rat.  Ron reached inside his jacket and pulled out a fat gray rat  which was asleep.\",\n",
       " \" His name's Scabbers and he's useless  he hardly ever wakes up. Percy got an owl from my dad for being made a prefect  but they couldn't aff    I mean  I got Scabbers instead.  Ron's ears went pink. He seemed to think he'd said too much  because he went back to staring out of the window.\",\n",
       " \"Harry didn't think there was anything wrong with not being able to afford an owl. After all  he'd never had any money in his life until a month ago  and he told Ron so  all about having to wear Dudley's old clothes and never getting proper birthday presents. This seemed to cheer Ron up.\",\n",
       " \" . and until Hagrid told me  I didn't know anything about be ing a wizard or about my parents or Voldemort  Ron gasped.  What.  said Harry.  You said You Know Who's name.  said Ron  sounding both shocked and impressed.  I'd have thought you  of all people    \",\n",
       " \" I'm not trying to be brave or anything  saying the name   said Harry  I just never knew you shouldn't. See what I mean. I've got loads to learn.. I bet   he added  voicing for the first time something that had been worrying him a lot lately   I bet I'm the worst in the class.   You won't be. There's loads of people who come from Muggle families and they learn quick enough. \",\n",
       " 'While they had been talking  the train had carried them out of London. Now they were speeding past fields full of cows and sheep. They were quiet for a time  watching the fields and lanes flick past.',\n",
       " \"Around half past twelve there was a great clattering outside in the corridor and a smiling  dimpled woman slid back their door and said   Anything off the cart  dears.  Harry  who hadn't had any breakfast  leapt to his feet  but Ron's ears went pink again and he muttered that he'd brought sandwiches. Harry went out into the corridor.\",\n",
       " \"He had never had any money for candy with the Dursleys  and now that he had pockets rattling with gold and silver he was ready to buy as many Mars Bars as he could carry    but the woman didn't have Mars Bars. What she did have were Bettie Bott's Every Flavor Beans  Drooble's Best Blowing Gum  Chocolate Frogs. Pumpkin Pasties  Cauldron Cakes  Licorice Wands  and a number of other strange things Harry had never seen in his life. Not wanting to miss anything  he got some of everything and paid the woman eleven silver Sickles and seven bronze Knuts.\",\n",
       " 'Ron stared as Harry brought it all back in to the compartment and tipped it onto an empty seat.  Hungry  are you.   Starving   said Harry  taking a large bite out of a pumpkin pasty.',\n",
       " \"Ron had taken out a lumpy package and unwrapped it. There were four sandwiches inside. He pulled one of them apart and said   She always forgets I don't like corned beef. \",\n",
       " \" Swap you for one of these   said Harry  holding up a pasty.  Go on      You don't want this  it's all dry   said Ron.  She hasn't got much time   he added quickly   you know  with five of us. \",\n",
       " \" Go on  have a pasty   said Harry  who had never had anything to share before or  indeed  anyone to share it with. It was a nice feeling  sitting there with Ron  eating their way through all Harry's pasties  cakes  and candies  the sandwiches lay forgotten .\",\n",
       " \" What are these.  Harry asked Ron  holding up a pack of Chocolate Frogs.  They're not really frogs  are they.  He was starting to feel that nothing would surprise him.  No   said Ron.  But see what the card is. I'm missing Agrippa.   What. \",\n",
       " \" Oh  of course  you wouldn't know    Chocolate Frogs have cards  inside them  you know  to collect    famous witches and wizards. I've got about five hundred  but I haven't got Agrippa or Ptolemy. \",\n",
       " \"Harry unwrapped his Chocolate Frog and picked up the card. It showed a man's face. He wore half  moon glasses  had a long  crooked nose  and flowing silver hair  beard  and mustache. Underneath the picture was the name Albus Dumbledore.  So this is Dumbledore.  said Harry.\",\n",
       " \" Don't tell me you'd never heard of Dumbledore.  said Ron.  Can I have a frog. I might get Agrippa    thanks Harry turned over his card and read: ALBUS DUMBLEDORE CURRENTLY HEADMASTER OF HOGWARTS Considered by many the greatest wizard of modern times  Dumbledore is particularly famous for his defeat of the dark wizard Grindelwald in 1945  for the discovery of the twelve uses of dragon's blood  and his work on alchemy with his partner  Nicolas Flamel. Professor Dumbledore enjoys chamber music and tenpin bowling. Harry turned the card back over and saw  to his astonishment  that Dumbledore's face had disappeared.  He's gone. \",\n",
       " \" Well  you can't expect him to hang around all day   said Ron.  He'll be back. No  I've got Morgana again and I've got about six of her. do you want it. You can start collecting. \",\n",
       " \"Ron's eyes strayed to the pile of Chocolate Frogs waiting to be unwrapped.  Help yourself   said Harry.  But in  you know  the Muggle world  people just stay put in photos.   Do they. What  they don't move at all.  Ron sounded amazed.  weird. \",\n",
       " \"Harry stared as Dumbledore sidled back into the picture on his card and gave him a small smile. Ron was more interested in eating the frogs than looking at the Famous Witches and Wizards cards  but Harry couldn't keep his eyes off them. Soon he had not only Dumbledore and Morgana  but Hengist of Woodcroft  Alberic Grunnion  Circe  Paracelsus  and Merlin. He finally tore his eyes away from the druidess Cliodna  who was scratching her nose  to open a bag of Bertie Bott's Every Flavor Beans.\",\n",
       " ' You want to be careful with those   Ron warned Harry.  When they say every flavor  they mean every flavor    you know  you get all the ordinary ones like chocolate and peppermint and mar  malade  but then you can get spinach and liver and tripe. George reckons he had a boogerflavored one once.  Ron picked up a green bean  looked at it carefully  and bit into a corner.  Bleaaargh    see. Sprouts. ',\n",
       " \"They had a good time eating the Every Flavor Beans. Harry got toast  coconut  baked bean  strawberry  curry  grass  coffee  sardine  and was even brave enough to nibble the end off a funny gray one Ron wouldn't touch  which turned out to be pepper. The countryside now flying past the window was becoming wilder. The neat fields had gone. Now there were woods  twisting rivers  and dark green hills.\",\n",
       " 'There was a knock on the door of their compartment and the round faced boy Harry had passed on platform nine and threequarters came in. He looked tearful.  Sorry   he said   but have you seen a toad at all. ',\n",
       " \"When they shook their heads  he wailed   I've lost him. He keeps getting away from me.   He'll turn up   said Harry.  Yes   said the boy miserably.  Well  if you see him.  He left.\",\n",
       " \" Don't know why he's so bothered   said Ron.  If I'd brought a toad I'd lose it as quick as I could. Mind you  I brought Scabbers  so I can't talk.  The rat was still snoozing on Ron's lap.\",\n",
       " \" He might have died and you wouldn't know the difference   said Ron in disgust.  I tried to turn him yellow yesterday to make him more interesting  but the spell didn't work. I'll show you  look. \",\n",
       " \"He rummaged around in his trunk and pulled out a very battered looking wand. It was chipped in places and something white was glinting at the end.  Unicorn hair's nearly poking out. Anyway He had just raised his 'wand when the compartment door slid open again.\",\n",
       " \"The toadless boy was back  but this time he had a girl with him. She was already wearing her new Hogwarts robes.  Has anyone seen a toad. Neville's lost one   she said. She had a bossy sort of voice  lots of bushy brown hair  and rather large front teeth.\",\n",
       " \" We've already told him we haven't seen it   said Ron  but the girl wasn't listening  she was looking at the wand in his hand.  Oh  are you doing magic. Let's see it  then.  She sat down. Ron looked taken aback.\",\n",
       " ' Er    all right.  He cleared his throat.  Sunshine  daisies  butter mellow  Turn this stupid  fat rat yellow.  He waved his wand  but nothing happened. Scabbers stayed gray and fast asleep.',\n",
       " \" Are you sure that's a real spell.  said the girl.  Well  it's not very good  is it. I've tried a few simple spells just for practice and it's all worked for me. Nobody in my family's magic at all  it was ever such a surprise when I got my letter  but I was ever so pleased  of course  I mean  it's the very best school of witchcraft there is  I've heard    I've learned all our course books by heart  of course  I just hope it will be enough    I'm Hermione Granger  by the way  who are you. She said all this very fast.\",\n",
       " \"Harry looked at Ron  and was relieved to see by his stunned face that he hadn't learned all the course books by heart either.  I'm Ron Weasley   Ron muttered.  Harry Potter   said Harry.\",\n",
       " \" Are you really.  said Hermione.  I know all about you  of course    I got a few extra books. for background reading  and you're in Modern Magical History and The Rise and Fall of the Dark Arts and Great Wizarding Events of the Twentieth Century.  Am I.  said Harry  feeling dazed.\",\n",
       " \" Goodness  didn't you know  I'd have found out everything I could if it was me   said Hermione.  Do either of you know what house you'll be in. I've been asking around  and I hope I'm in Gryffindor  it sounds by far the best; I hear Dumbledore himself was in it  but I suppose Ravenclaw wouldn't be too bad.. Anyway  we'd better go and look for Neville's toad. You two had better change  you know  I expect we'll be there soon.  And she left  taking the toadless boy with her.\",\n",
       " \" Whatever house I'm in  I hope she's not in it   said Ron. He threw his wand back into his trunk.  Stupid spell    George gave it to me  bet he knew it was a dud.   What house are your brothers in.  asked Harry.\",\n",
       " \" Gryffindor   said Ron. Gloom seemed to be settling on him again.  Mom and Dad were in it  too. I don't know what they'll say if I'm not. I don't suppose Ravenclaw would be too bad  but imagine if they put me in Slytherin. \",\n",
       " \" That's the house Vol   I mean  You Know Who was in.   Yeah   said Ron. He flopped back into his seat  looking depressed.  You know  I think the ends of Scabbers' whiskers are a bit lighter  \",\n",
       " \"said Harry  trying to take Ron's mind off houses.  So what do your oldest brothers do now that they've left  anyway.  Harry was wondering what a wizard did once he'd finished school.\",\n",
       " \" Charlie's in Romania studying dragons  and Bill's in Africa doing something for Gringotts   said Ron.  Did you hear about Gringotts. It's been all over the Daily Prophet  but I don't suppose you get that with the Muggles    someone tried to rob a high security vault.  Harry stared.  Really. What happened to them. \",\n",
       " \" Nothing  that's why it's such big news. They haven't been caught. My dad says it must've been a powerful Dark wizard to get round Gringotts  but they don't think they took anything  that's what's odd. 'Course  everyone gets scared when something like this happens in case You Know Who's behind it. \",\n",
       " \"Harry turned this news over in his mind. He was starting to get a prickle of fear every time You  Know Who was mentioned. He supposed this was all part of entering the magical world  but it had been a lot more comfortable saying  Voldemort  without worrying.  What's your Quidditch team.  Ron asked.  Er    I don't know any   Harry confessed.\",\n",
       " \" What.  Ron looked dumbfounded.  Oh  you wait  it's the best game in the world     And he was off  explaining all about the four balls and the positions of the seven players  describing famous games he'd been to with his brothers and the broomstick he'd like to get if he had the money. He was just taking Harry through the finer points of the game when the compartment door slid open yet again  but it wasn't Neville the toadless boy  or Hermione Granger this time.\",\n",
       " \"Three boys entered  and Harry recognized the middle one at once: it was the pale boy from Madam Malkin's robe shop. He was looking at Harry with a lot more interest than he'd shown back in Diagon Alley.  Is it true.  he said.  They're saying all down the train that Harry Potter's in this compartment. So it's you  is it. \",\n",
       " ' Yes   said Harry. He was looking at the other boys. Both of them were thickset and looked extremely mean. Standing on either side of the pale boy  they looked like bodyguards.',\n",
       " \" Oh  this is Crabbe and this is Goyle   said the pale boy carelessly  noticing where Harry was looking.  And my name's Malfoy  Draco Malfoy.  Ron gave a slight cough  which might have been hiding a snigget. Draco Malfoy looked at him.\",\n",
       " \" Think my name's funny  do you. No need to ask who you are. My father told me all the Weasleys have red hair  freckles  and more children than they can afford. \",\n",
       " \"He turned back to Harry.  You'll soon find out some wizarding families are much better than others  Potter. You don't want to go making friends with the wrong sort. I can help you there.  He held out his hand to shake Harry's  but Harry didn't take it.\",\n",
       " \" I think I can tell who the wrong sort are for myself  thanks   he said coolly. Draco Malfoy didn't go red  but a pink tinge appeared in his pale cheeks.\",\n",
       " \" I'd be careful if I were you  Potter   he said slowly.  Unless you're a bit politer you'll go the same way as your parents. They didn't know what was good for them  either. You hang around with riffraff like the Weasleys and that Hagrid  and it'll rub off on you.  Both Harry and Ron stood up.  Say that again   Ron said  his face as red as his hair.\",\n",
       " \" Oh  you're going to fight us  are you.  Malfoy sneered.  Unless you get out now   said Harry  more bravely than he felt  because Crabbe and Goyle were a lot bigger than him or Ron.\",\n",
       " \" But we don't feet like leaving  do we  boys. We've eaten all our food and you still seem to have some.  Goyle reached toward the Chocolate Frogs next to Ron   Ron leapt forward  but before he'd so much as touched Goyle  Goyle let out a horrible yell.\",\n",
       " \"Scabbers the rat was hanging off his finger  sharp little teeth sunk deep into Goyle's knuckle   Crabbe and Malfoy backed away as Goyle swung Scabbers round and round  howling  and when Scabbets finally flew off and hit the window  all three of them disappeared at once. Perhaps they thought there were more rats lurking among the sweets  or perhaps they'd heard footsteps  because a second later  Hermione Granger had come in.  What has been going on.  she said  looking at the sweets all over the floor and Ron picking up Scabbers by his tail.\",\n",
       " \"I think he's been knocked out   Ron said to Harry. He looked closer at Scabbers.  No    I don't believe it    he's gone back to sleep   And so he had.  You've met Malfoy before.  Harry explained about their meeting in Diagon Alley.\",\n",
       " \" I've heard of his family   said Ron darkly.  They were some of the first to come back to our side after You Know Who disappeared. Said they'd been bewitched. My dad doesn't believe it. He says Malfoy's father didn't need an excuse to go over to the Dark Side.  He turned to Hermione.  Can we help you with something. \",\n",
       " \" You'd better hurry up and put your robes on  I've just been up to the front to ask the conductor  and he says we're nearly there. You haven't been fighting  have you. You'll be in trouble before we even get there.   Scabbers has been fighting  not us   said Ron  scowling at her.  Would you mind leaving while we change. \",\n",
       " \" All right    I only came in here because people outside are behaving very childishly  racing up and down the corridors   said Hermione in a sniffy voice.  And you've got dirt on your nose  by the way  did you know. \",\n",
       " \"Ron glared at her as she left. Harry peered out of the window. It was getting dark. He could see mountains and forests under a deep purple sky. The train did seem to be slowing down. He and Ron took off their jackets and pulled on their long black robes. Ron's were a bit short for him  you could see his sneakers underneath them.\",\n",
       " \"A voice echoed through the train:  We will be reaching Hogwarts in five minutes' time. Please leave your luggage on the train  it will be taken to the school separately. \",\n",
       " \"Harry's stomach lurched with nerves and Ron  he saw  looked pale under his freckles. They crammed their pockets with the last of the sweets and joined the crowd thronging the corridor.\",\n",
       " \"The train slowed right down and finally stopped. People pushed their way toward the door and out on to a tiny  dark platform. Harry shivered in the cold night air. Then a lamp came bobbing over the heads of the students  and Harry heard a familiar voice:  Firs' years. Firs' years over here. All right there  Harry.  Hagrid's big hairy face beamed over the sea of heads.  C'mon  follow me    any more firs' years. Mind yer step  now. Firs' years follow me. \",\n",
       " \"Slipping and stumbling  they followed Hagrid down what seemed to be a steep  narrow path. It was so dark on either side of them that Harry thought there must be thick trees there. Nobody spoke much. Neville  the boy who kept losing his toad  sniffed once or twice.  Ye' all get yer firs' sight o' Hogwarts in a sec   Hagrid called over his shoulder   jus' round this bend here.  There was a loud  Oooooh. \",\n",
       " 'The narrow path had opened suddenly onto the edge of a great black take. Perched atop a high mountain on the other side  its windows sparkling in the starry sky  was a vast castle with many turrets and towers.',\n",
       " \" No more'n four to a boat.  Hagrid called  pointing to a fleet of little boats sitting in the water by the shore. Harry and Ron were followed into their boat by Neville and Hermione.  Everyone in.  shouted Hagrid  who had a boat to himself.  Right then    FORWARD. \",\n",
       " 'And the fleet of little boats moved off all at once  gliding across the lake  which was as smooth as glass. Everyone was silent  staring up at the great castle overhead. It towered over them as they sailed nearer and nearer to the cliff on which it stood.',\n",
       " ' Heads down.  yelled Hagrid as the first boats reached the cliff; they all bent their heads and the little boats carried them through a curtain of ivy that hid a wide opening in the cliff face. They were carried along a dark tunnel  which seemed to be taking them right underneath the castle  until they reached a kind of underground harbor  where they clambered out onto rocks and pebbles.  Oy  you there. Is this your toad.  said Hagrid  who was checking the boats as people climbed out of them.',\n",
       " \" Trevor.  cried Neville blissfully  holding out his hands. Then they clambered up a passageway in the rock after Hagrid's lamp  coming out at last onto smooth  damp grass right in the shadow of the castle.\",\n",
       " 'They walked up a flight of stone steps and crowded around the huge  Oak front door.  Everyone here. You there  still got yer toad.  Hagrid raised a gigantic fist and knocked three times on the castle door.',\n",
       " \"The door swung open at once. A tall  black haired witch in emerald green robes stood there. She had a very stern face and Harry's first thought was that this was not someone to cross.  The firs' years  Professor McGonagall   said Hagrid.  Thank you  Hagrid. I will take them from here. \",\n",
       " \"She pulled the door wide. The entrance hall was so big you could have fit the whole of the Dursleys' house in it. The stone walls were lit with flaming torches like the ones at Gringotts  the ceiling was too high to make out  and a magnificent marble staircase facing them led to the upper floors.\",\n",
       " 'They followed Professor McGonagall across the flagged stone floor. Harry could hear the drone of hundreds of voices from a doorway to the right  the rest of the school must already be here    but Professor McGonagall showed the first years into a small  empty chamber off the hall. They crowded in  standing rather closer together than they would usually have done  peering about nervously.',\n",
       " ' Welcome to Hogwarts   said Professor McGonagall.  The start of term banquet will begin shortly  but before you take your seats in the Great Hall  you will be sorted into your houses. The Sorting is a very important ceremony because  while you are here  your house will be something like your family within Hogwarts. You will have classes with the rest of your house  sleep in your house dormitory  and spend free time in your house common room.',\n",
       " ' The four houses are called Gryffindor  Hufflepuff  Ravenclaw  and Slytherin. Each house has its own noble history and each has produced outstanding witches and wizards. While you are at Hogwarts  your triumphs will earn your house points  while any rulebreaking will lose house points. At the end of the year  the house with the most points is awarded the house cup  a great honor. I hope each of you will be a credit to whichever house becomes yours.',\n",
       " ' The Sorting Ceremony will take place in a few minutes in front of the rest of the school. I suggest you all smarten yourselves up as much as you can while you are waiting. ',\n",
       " \"Her eyes lingered for a moment on Neville's cloak  which was fastened under his left ear  and on Ron's smudged nose. Harry nervously tried to flatten his hair.  I shall return when we are ready for you   said Professor McGonagall.  Please wait quietly. \",\n",
       " 'She left the chamber. Harry swallowed.  How exactly do they sort us into houses.  he asked Ron.  Some sort of test  I think. Fred said it hurts a lot  but I think he was joking. ',\n",
       " \"Harry's heart gave a horrible jolt. A test. In front of the whole school. But he didn't know any magic yet    what on earth would he have to do. He hadn't expected something like this the moment they arrived.\",\n",
       " \"He looked around anxiously and saw that everyone else looked terrified  too. No one was talking much except Hermione Granger  who was whispering very fast about all the spells she'd learned and wondering which one she'd need. Harry tried hard not to listen to her. He'd never been more nervous  never  not even when he'd had to take a school report home to the Dursleys saying that he'd somehow turned his teacher's wig blue. He kept his eyes fixed on the door. Any second now  Professor McGonagall would come back and lead him to his doom. Then something happened that made him jump about a foot in the air    several people behind him screamed.  What the   . \",\n",
       " 'He gasped. So did the people around him. About twenty ghosts had just streamed through the back wall. Pearly white and slightly transparent  they glided across the room talking to one another and hardly glancing at the first years. They seemed to be arguing. What looked like a fat little monk was saying:  Forgive and forget  I say  we ought to give him a second chance    ',\n",
       " \" My dear Friar  haven't we given Peeves all the chances he deserves. He gives us all a bad name and you know  he's not really even a ghost    I say  what are you all doing here.  A ghost wearing a ruff and tights had suddenly noticed the first years. Nobody answered.\",\n",
       " ' New students.  said the Fat Friar  smiling around at them.  About to be Sorted  I suppose.  A few people nodded mutely.  Hope to see you in Hufflepuff.  said the Friar.  My old house  you know. ',\n",
       " \" Move along now   said a sharp voice.  The Sorting Ceremony's about to start.  Professor McGonagall had returned. One by one  the ghosts floated away through the opposite wall.  Now  form a line   Professor McGonagall told the first years   and follow me. \",\n",
       " 'Feeling oddly as though his legs had turned to lead  Harry got into line behind a boy with sandy hair  with Ron behind him  and they walked out of the chamber  back across the hall  and through a pair of double doors into the Great Hall.',\n",
       " 'Harry had never even imagined such a strange and splendid place. It was lit by thousands and thousands of candles that were floating in midair over four long tables  where the rest of the students were sitting.',\n",
       " 'These tables were laid with glittering golden plates and goblets. At the top of the hall was another long table where the teachers were sitting. Professor McGonagall led the first years up here  so that they came to a halt in a line facing the other students  with the teachers behind them.',\n",
       " \"The hundreds of faces staring at them looked like pale lanterns in the flickering candlelight. Dotted here and there among the students  the ghosts shone misty silver. Mainly to avoid all the staring eyes  Harry looked upward and saw a velvety black ceiling dotted with stars. He heard Hermione whisper   Its bewitched to look like the sky outside. I read about it in Hogwarts  A History.  It was hard to believe there was a ceiling there at all  and that the Great Hall didn't simply open on to the heavens.\",\n",
       " \"Harry quickly looked down again as Professor McGonagall silently placed a four legged stool in front of the first years. On top of the stool she put a pointed wizard's hat. This hat was patched and frayed and extremely dirty. Aunt Petunia wouldn't have let it in the house.\",\n",
       " \"Maybe they had to try and get a rabbit out of it  Harry thought wildly  that seemed the sort of thing    noticing that everyone in the hall was now staring at the hat  he stared at it  too. For a few seconds  there was complete silence. Then the hat twitched. A rip near the brim opened wide like a mouth    and the hat began to sing:  Oh  you may not think I'm pretty  But don't judge on what you see  I'll eat myself if you can find A smarter hat than me.\",\n",
       " \"You can keep your bowlers black  Your top hats sleek and tall  For I'm the Hogwarts Sorting Hat And I can cap them all. There's nothing hidden in your head The Sorting Hat can't see  So try me on and I will tell you Where you ought to be.\",\n",
       " \"You might belong in Gryffindor  Where dwell the brave at heart  Their daring  nerve  and chivalry Set Gryffindors apart; You might belong in Hufflepuff  Where they are just and loyal  Those patient Hufflepuffis are true And unafraid of toil; Or yet in wise old Ravenclaw  if you've a ready mind  Where those of wit and learning  Will always find their kind; Or perhaps in Slytherin You'll make your real friends  Those cunning folk use any means To achieve their ends. So put me on. Don't be afraid. And don't get in a flap. You're in safe hands  though I have none  For I'm a Thinking Cap. \",\n",
       " \"The whole hall burst into applause as the hat finished its song. It bowed to each of the four tables and then became quite still again.  So we've just got to try on the hat.  Ron whispered to Harry.  I'll kill Fred  he was going on about wrestling a troll. \",\n",
       " \"Harry. smiled weakly. Yes  trying on the hat was a lot better than having to do a spell  but he did wish they could have tried it on without everyone watching. The hat seemed to be asking rather alot; Harry didn't feel brave or quick witted or any of it at the moment. If only the hat had mentioned a house for people who felt a bit queasy  that would have been the one for him.\",\n",
       " 'Professor McGonagall now stepped forward holding a long roll of parchment.  When I call your name  you will put on the hat and sit on the stool to be sorted   she said.  Abbott  Hannah. ',\n",
       " 'A pink faced girl with blonde pigtails stumbled out of line  put on the hat  which fell right down over her eyes  and sat down. A moments pause     HUFFLEPUFF.  shouted the hat.',\n",
       " 'The table on the right cheered and clapped as Hannah went to sit down at the Hufflepuff table. Harry saw the ghost of the Fat Friar waving merrily at her.  Bones  Susan. ',\n",
       " ' HUFFLEPUFF.  shouted the hat again  and Susan scuttled off to sit next to Hannah.  Boot  Terry.   RAVENCLAW.  The table second from the left clapped this time; several Ravenclaws stood up to shake hands with Terry as he joined them.',\n",
       " \"  Brocklehurst  Mandy  went to Ravenclaw too  but  Brown  Lavender  became the first new Gryffindor  and the table on the far left exploded with cheers; Harry could see Ron's twin brothers catcalling.\",\n",
       " \" Bulstrode  Millicent  then became a Slytherin. Perhaps it was Harry's imagination  after all he'd heard about Slytherin  but he thought they looked like an unpleasant lot. He was starting to feel definitely sick now. He remembered being picked for teams during gym at his old school. He had always been last to be chosen  not because he was no good  but because no one wanted Dudley to think they liked him.  Finch Fletchley  Justin.   HUFFLEPUFF. \",\n",
       " 'Sometimes  Harry noticed  the hat shouted out the house at once  but at others it took a little while to decide.  Finnigan  Seamus   the sandy haired boy next to Harry in the line  sat on the stool for almost a whole minute before the hat declared him a Gryffindor.  Granger  Hermione.  Hermione almost ran to the stool and jammed the hat eagerly on her head.  GRYFFINDOR.  shouted the hat. Ron groaned.',\n",
       " \"A horrible thought struck Harry  as horrible thoughts always do when you're very nervous. What if he wasn't chosen at all. What if he just sat there with the hat over his eyes for ages  until Professor McGonagall jerked it off his head and said there had obviously been a mistake and he'd better get back on the train. When Neville Longbottom  the boy who kept losing his toad  was called  he fell over on his way to the stool. The hat took a long time to decide with Neville. When it finally shouted   GRYFFINDOR   Neville ran off still wearing it  and had to jog back amid gales of laughter to give it to  MacDougal  Morag. \",\n",
       " 'Malfoy swaggered forward when his name was called and got his wish at once: the hat had barely touched his head when it screamed   SLYTHERIN.  Malfoy went to join his friends Crabbe and Goyle  looking pleased with himself.',\n",
       " \"There weren't many people left now.  Moon   Nott   Parkinson  then a pair of twin girls   Patil  and  Patil  then  Perks  Sally Anne  and then  at last     Potter  Harry.  As Harry stepped forward  whispers suddenly broke out like little hissing fires all over the hall.  Potter  did she say.  The Harry Potter. \",\n",
       " 'The last thing Harry saw before the hat dropped over his eyes was the hall full of people craning to get a good look at him. Next second he was looking at the black inside of the hat. He waited.',\n",
       " \"Hmm   said a small voice in his ear.  Difficult. Very difficult. Plenty of courage  I see. Not a bad mind either. There's talent  A my goodness  yes    and a nice thirst to prove yourself  now that's interesting.. So where shall I put you.  Harry gripped the edges of the stool and thought  Not Slytherin  not Slytherin.\",\n",
       " \" Not Slytherin  eh.  said the small voice.  Are you sure. You could be great  you know  it's all here in your head  and Slytherin will help you on the way to greatness  no doubt about that    no. Well  if you're sure    better be GRYFFINDOR. \",\n",
       " \"Harry heard the hat shout the last word to the whole hall. He took off the hat and walked shakily toward the Gryffindor table. He was so relieved to have been chosen and not put in Slytherin  he hardly noticed that he was getting the loudest cheer yet. Percy the Prefect got up and shook his hand vigorously  while the Weasley twins yelled   We got Potter. We got Potter.  Harry sat down opposite the ghost in the ruff he'd seen earlier. The ghost patted his arm  giving Harry the sudden  horrible feeling he'd just plunged it into a bucket of ice cold water.\",\n",
       " \"He could see the High Table properly now. At the end nearest him sat Hagrid  who caught his eye and gave him the thumbs up. Harry grinned back. And there  in the center of the High Table  in a large gold chair  sat Albus Dumbledore. Harry recognized him at once from the card he'd gotten out of the Chocolate Frog on the train. Dumbledore's silver hair was the only thing in the whole hall that shone as brightly as the ghosts. Harry spotted Professor Quirtell  too  the nervous young man from the Leaky Cauldron. He was looking very peculiar in a large purple turban. And now there were only three people left to be sorted.  Thomas  Dean   a Black boy even taller than Ron  joined Harry at the Gryffindor table.\",\n",
       " \" Turpin  Lisa   became a Ravenclaw and then it was Ron's turn. He was pale green by now. Harry crossed his fingers under the table and a second later the hat had shouted   GRYFFINDOR.  Harry clapped loudly with the rest as Ron collapsed into the chair next to him.\",\n",
       " ' Well done  Ron  excellent   said Percy Weasley Pompously across Harry as  Zabini  Blaise   was made a Slytherin. Professor McGonagall rolled up her scroll and took the Sorting Hat away. Harry looked down at his empty gold plate. He had only just realized how hungry he was. The pumpkin pasties seemed ages ago.',\n",
       " 'Albus Dumbledore had gotten to his feet. He was beaming at the students  his arms opened wide  as if nothing could have pleased him more than to see them all there.',\n",
       " \" Welcome   he said.  Welcome to a new year at Hogwarts. Before we begin our banquet  I would like to say a few words. And here they are: Nitwit. Blubber. Oddment. Tweak.  Thank you.  He sat back down. Everybody clapped and cheered. Harry didn't know whether to laugh or not.\",\n",
       " \" Is he    a bit mad.  he asked Percy uncertainly.  Mad.  said Percy airily.  He's a genius. Best wizard in the world. But he is a bit mad  yes. Potatoes  Harry. \",\n",
       " \"Harry's mouth fell open. The dishes in front of him were now piled with food. He had never seen so many things he liked to eat on one table: roast beef  roast chicken  pork chops and lamb chops  sausages  bacon and steak  boiled potatoes  roast potatoes  fries  Yorkshire pudding  peas  carrots  gravy  ketchup  and  for some strange reason  peppermint humbugs.\",\n",
       " \"The Dursleys had never exactly starved Harry  but he'd never been allowed to eat as much as he liked. Dudley had always taken anything that Harry really wanted  even if It made him sick. Harry piled his plate with a bit of everything except the peppermints and began to eat. It was all delicious.  That does look good   said the ghost in the ruff sadly  watching Harry cut up his steak   Can't you   . \",\n",
       " \"I haven't eaten for nearly four hundred years   said the ghost.  I don't need to  of course  but one does miss it. I don't think I've in troduced myself. Sir Nicholas de Mimsy Porpington at your service. Resident ghost of Gryffindor Tower.   I know who you are.  said Ron suddenly.  My brothers told me about you    you're Nearly Headless Nick. \",\n",
       " \" I would prefer you to call me Sir Nicholas de Mimsy     the ghost began stiffly  but sandy haired Seamus Finnigan interrupted.  Nearly Headless. How can you be nearly headless.  Sir Nicholas looked extremely miffed  as if their little chat wasn't going at all the way he wanted.\",\n",
       " \" Like this   he said irritably. He seized his left ear and pulled. His whole head swung off his neck and fell onto his shoulder as if it was on a hinge. Someone had obviously tried to behead him  but not done it properly. Looking pleased at the stunned looks on their faces  Nearly Headless Nick flipped his head back onto his neck  coughed  and said   So    new Gryffindors. I hope you're going to help us win the house championship this year. Gryffindors have never gone so long without winning. Slytherins have got the cup six years in a row. The Bloody Baron's becoming almost unbearable    he's the Slytherin ghost. \",\n",
       " \"Harry looked over at the Slytherin table and saw a horrible ghost sitting there  with blank staring eyes  a gaunt face  and robes stained with silver blood. He was right next to Malfoy who  Harry was pleased to see  didn't look too pleased with the seating arrangements.  How did he get covered in blood.  asked Seamus with great interest.  I've never asked   said Nearly Headless Nick delicately.\",\n",
       " 'When everyone had eaten as much as they could  the remains of the food faded from the plates  leaving them sparkling clean as before. A moment later the desserts appeared. Blocks of ice cream in every flavor you could think of  apple pies  treacle tarts  chocolate eclairs and jam doughnuts  trifle  strawberries  Jell O  rice pudding    \\x93 As Harry helped himself to a treacle tart  the talk turned to their families.',\n",
       " \" I'm half and half   said Seamus.  Me dad's a Muggle. Mom didn't tell him she was a witch 'til after they were married. Bit of a nasty shock for him.  The others laughed.  What about you  Neville.  said Ron.\",\n",
       " \" Well  my gran brought me up and she's a witch   said Neville   but the family thought I was all  Muggle for ages. My Great Uncle Algie kept trying to catch me off my guard and force some magic out of me    he pushed me off the end of Blackpool pier once  I nearly drowned    but nothing happened until I was eight. Great Uncle Algie came round for dinner  and he was hanging me out of an upstairs window by the ankles when my Great Auntie Enid offered him a meringue and he accidentally let go. But I bounced    all the way down the garden and into the road. They were all really pleased  Gran was crying  she was so happy. And you should have seen their faces when I got in here    they thought I might not be magic enough to come  you see. Great Uncle Algie was so pleased he bought me my toad. \",\n",
       " \"On Harry's other side  Percy Weasley and Hermione were talking about lessons   I do hope they start right away  there's so much to learn  I'm particularly interested in Transfiguration  you know  turning something into something else  of course  it's supposed to be very difficult  ;  You'll be starting small  just matches into needles and that sort of thing      .\",\n",
       " 'Harry  who was starting to feel warm and sleepy  looked up at the High Table again. Hagrid was drinking deeply from his goblet. Professor McGonagall was talking to Professor Dumbledore. Professor Quirrell  in his absurd turban  was talking to a teacher with greasy black hair  a hooked nose  and sallow skin.',\n",
       " \"It happened very suddenly. The hook nosed teacher looked past Quirrell's turban straight into Harry's eyes    and a sharp  hot pain shot across the scar on Harry's forehead.  Ouch.  Harry clapped a hand to his head.  What is it.  asked Percy.  N nothing. \",\n",
       " \"The pain had gone as quickly as it had come. Harder to shake off was the feeling Harry had gotten from the teacher's look    a feeling that he didn't like Harry at all.  Who's that teacher talking to Professor Quirrell.  he asked Percy.\",\n",
       " \" Oh  you know Quirrell already  do you. No wonder he's looking so nervous  that's Professor Snape. He teaches Potions  but he doesn't want to    everyone knows he's after Quirrell's job. Knows an awful lot about the Dark Arts  Snape.  Harry watched Snape for a while  but Snape didn't look at him again.\",\n",
       " 'At last  the desserts too disappeared  and Professor Dumbledore got to his feet again. The hall fell silent.  Ahern    just a few more words now that we are all fed and watered. I have a few start of term notices to give you.',\n",
       " \" First years should note that the forest on the grounds is forbidden to all pupils. And a few of our older students would do well to remember that as well.  Dumbledore's twinkling eyes flashed in the direction of the Weasley twins.\",\n",
       " ' I have also been asked by Mr. Filch  the caretaker  to remind you all that no magic should be used between classes in the corridors.  Quidditch trials will be held in the second week of the term. Anyone interested in playing for their house teams should contact Madam Hooch.',\n",
       " \" And finally  I must tell you that this year  the third floor corridor on the right hand side is out of bounds to everyone who does not wish to die a very painful death.  Harry laughed  but he was one of the few who did.  He's not serious.  he muttered to Percy.\",\n",
       " \" Must be   said Percy  frowning at Dumbledore.  It's odd  because he usually gives us a reason why we're not allowed to go somewhere    the forest's full of dangerous beasts  everyone knows that. I do think he might have told us prefects  at least.   And now  before we go to bed  let us sing the school song.  cried Dumbledore. Harry noticed that the other teachers' smiles had become rather fixed.\",\n",
       " 'Dumbledore gave his wand a little flick  as if he was trying to get a fly off the end  and a long golden ribbon flew out of it  which rose high above the tables and twisted itself  snakelike  into words.  Everyone pick their favorite tune   said Dumbledore   and off we go. ',\n",
       " \"And the school bellowed:  Hogwarts  Hogwarts  Hoggy Warty Hogwarts  Teach us something please  Whether we be old and bald Or young with scabby knees  Our heads could do with filling With some interesting stuff  For now they're bare and full of air  Dead flies and bits of fluff  So teach us things worth knowing  Bring back what we've forgot  just do your best  we'll do the rest  And learn until our brains all rot. Everybody finished the song at different times. At last  only the Weasley twins were left singing along to a very slow funeral march.\",\n",
       " 'Dumbledore conducted their last few lines with his wand and when they had finished  he was one of those who clapped loudest.  Ah  music   he said  wiping his eyes.  A magic beyond all we do here. And now  bedtime. Off you trot. ',\n",
       " \"The Gryffindor first years followed Percy through the chattering crowds  out of the Great Hall  and up the marble staircase. Harry's legs were like lead again  but only because he was so tired and full of food. He was too sleepy even to be surprised that the people in the portraits along the corridors whispered and pointed as they passed  or that twice Percy led them through doorways hidden behind sliding panels and hanging tapestries. They climbed more staircases  yawning and dragging their feet  and Harry was just wondering how much farther they had to go when they came to a sudden halt. A bundle of walking sticks was floating in midair ahead of them  and as Percy took a step toward them they started throwing themselves at him.\",\n",
       " ' Peeves   Percy whispered to the first years.  A poltergeist.  He raised his voice   Peeves    show yourself  A loud  rude sound  like the air being let out of a balloon  answered.',\n",
       " ' Do you want me to go to the Bloody Baron.  There was a pop  and a little man with wicked  dark eyes and a wide mouth appeared  floating cross  legged in the air  clutching the walking sticks.',\n",
       " \" Oooooooh.  he said  with an evil cackle.  Ickle Firsties. What fun.  He swooped suddenly at them. They all ducked.  Go away  Peeves  or the Baron'll hear about this  I mean it.  barked Percy.\",\n",
       " \"Peeves stuck out his tongue and vanished  dropping the walking sticks on Neville's head. They heard him zooming away  rattling coats of armor as he passed.  You want to watch out for Peeves   said Percy  as they set off again.\",\n",
       " \" The Bloody Baron's the only one who can control him  he won't even listen to us prefects. Here we are.  At the very end of the corridor hung a portrait of a very fat woman in a pink silk dress.\",\n",
       " ' Password.  she said.  Caput Draconis   said Percy  and the portrait swung forward to reveal a round hole in the wall. They all scrambled through it    Neville needed a leg up    and found themselves in the Gryffindor common room  a cozy  round room full of squashy armchairs.',\n",
       " 'Percy directed the girls through one door to their dormitory and the boys through another. At the top of a spiral staircase    they were obviously in one of the towers    they found their beds at last: five four posters hung with deep red  velvet curtains. Their trunks had already been brought up. Too tired to talk much  they pulled on their pajamas and fell into bed.',\n",
       " \"  Great food  isn't it.  Ron muttered to Harry through the hangings.  Get off  Scabbers. He's chewing my sheets.  Harry was going to ask Ron if he'd had any of the treacle tart  but he fell asleep almost at once.\",\n",
       " \"Perhaps Harry had eaten a bit too much  because he had a very strange dream. He was wearing Professor Quirrell's turban  which kept talking to him  telling him he must transfer to Slytherin at once  because it was his destiny. Harry told the turban he didn't want to be in Slytherin; it got heavier and heavier; he tried to pull it off but it tightened painfully    and there was Malfoy  laughing at him as he struggled with it  then Malfoy turned into the hook nosed teacher  Snape  whose laugh became high and cold    there was a burst of green light and Harry woke  sweating and shaking.\",\n",
       " \"He rolled over and fell asleep again  and when he woke next day  he didn't remember the dream at all. There  look.   Where.   Next to the tall kid with the red hair.   Wearing the glasses.   Did you see his face.   Did you see his scar. \",\n",
       " \"Whispers followed Harry from the moment he left his dormitory the next day. People lining up outside classrooms stood on tiptoe to get a look at him  or doubled back to pass him in the corridors again  staring. Harry wished they wouldn't  because he was trying to concentrate on finding his way to classes.\",\n",
       " \"There were a hundred and forty two staircases at Hogwarts: wide  sweeping ones; narrow  rickety ones; some that led somewhere different on a Friday; some with a vanishing step halfway up that you had to remember to jump. Then there were doors that wouldn't open unless you asked politely  or tickled them in exactly the right place  and doors that weren't really doors at all  but solid walls just pretending. It was also very hard to remember where anything was  because it all seemed to move around a lot. The people in the portraits kept going to visit each other  and Harry was sure the coats of armor could walk.\",\n",
       " \"The ghosts didn't help  either. It was always a nasty shock when one of them glided suddenly through a door you were trying to open. Nearly Headless Nick was always happy to point new Gryffindors in the right direction  but Peeves the Poltergeist was worth two locked doors and a trick staircase if you met him when you were late for class. He would drop wastepaper baskets on your head  pull rugs from under your feet  pelt you with bits of chalk  or sneak up behind you  invisible  grab your nose  and screech   GOT YOUR CONK. \",\n",
       " \"Even worse than Peeves  if that was possible  was the caretaker  Argus Filch. Harry and Ron managed to get on the wrong side of him on their very first morning. Filch found them trying to force their way through a door that unluckily turned out to be the entrance to the out of bounds corridor on the third floor. He wouldn't believe they were lost  was sure they were trying to break into it on purpose  and was threatening to lock them in the dungeons when they were rescued by Professor Quirrell  who was passing.\",\n",
       " \"Filch owned a cat called Mrs. Norris  a scrawny  dust colored creature with bulging  lamp like eyes just like Filch's. She patrolled the corridors alone. Break a rule in front of her  put just one toe out of line  and she'd whisk off for Filch  who'd appear  wheezing  two seconds later. Filch knew the secret passageways of the school better than anyone  except perhaps the Weasley twins  and could pop up as suddenly as any of the ghosts. The students all hated him  and it was the dearest ambition of many to give Mrs. Norris a good kick.\",\n",
       " 'And then  once you had managed to find them  there were the classes themselves. There was a lot more to magic  as Harry quickly found out  than waving your wand and saying a few funny words.',\n",
       " 'They had to study the night skies through their telescopes every Wednesday at midnight and learn the names of different stars and the movements of the planets. Three times a week they went out to the greenhouses behind the castle to study Herbology  with a dumpy little witch called Professor Sprout  where they learned how to take care of all the strange plants and fungi  and found out what they were used for.',\n",
       " 'Easily the most boring class was History of Magic  which was the only one taught by a ghost. Professor Binns had been very old indeed when he had fallen asleep in front of the staff room fire and got up next morning to teach  leaving his body behind him. Binns droned on and on while they scribbled down names and dates  and got Emetic the Evil and Uric the Oddball mixed up.',\n",
       " \"Professor Flitwick  the Charms teacher  was a tiny little wizard who had to stand on a pile of books to see over his desk. At the start of their first class he took the roll call  and when he reached Harry's name he gave an excited squeak and toppled out of sight.\",\n",
       " \"Professor McGonagall was again different. Harry had been quite right to think she wasn't a teacher to cross. Strict and clever  she gave them a talking to the moment they sat down in her first class.\",\n",
       " ' Transfiguration is some of the most complex and dangerous magic you will learn at Hogwarts   she said.  Anyone messing around in my class will leave and not come back. You have been warned. ',\n",
       " \"Then she changed her desk into a pig and back again. They were all very impressed and couldn't wait to get started  but soon realized they weren't going to be changing the furniture into animals for a long time.\",\n",
       " 'After taking a lot of complicated notes  they were each given a match and started trying to turn it into a needle. By the end of the lesson  only Hermione Granger had made any difference to her match; Professor McGonagall showed the class how it had gone all silver and pointy and gave Hermione a rare smile.',\n",
       " \"The class everyone had really been looking forward to was Defense Against the Dark Arts  but Quirrell's lessons turned out to be a bit of a joke. His classroom smelled strongly of garlic  which everyone said was to ward off a vampire he'd met in Romania and was afraid would be coming back to get him one of these days. His turban  he told them  had been given to him by an African prince as a thank you for getting rid of a troublesome zombie  but they weren't sure they believed this story.\",\n",
       " 'For one thing  when Seamus Finnigan asked eagerly to hear how Quirrell had fought off the zombie  Quirrell went pink and started talking about the weather; for another  they had noticed that a funny smell hung around the turban  and the Weasley twins insisted that it was stuffed full of garlic as well  so that Quirrell was protected wherever he went.',\n",
       " \"Harry was very relieved to find out that he wasn't miles behind everyone else. Lots of people had come from Muggle families and  like him  hadn't had any idea that they were witches and wizards. There was so much to learn that even people like Ron didn't have much of a head start. Friday was an important day for Harry and Ron. They finally managed to find their way down to the Great Hall for breakfast without getting lost once.\",\n",
       " \" What have we got today.  Harry asked Ron as he poured sugar on his porridge.  Double Potions with the Slytherins   said Ron.  Snape's Head of Slytherin House. They say he always favors them    we'll be able to see if it's true. \",\n",
       " \" Wish McGonagall favored us    said Harry. Professor McGonagall was head of Gryffindor House  but it hadn't stopped her from giving them a huge pile of homework the day before.\",\n",
       " 'Just then  the mail arrived. Harry had gotten used to this by now  but it had given him a bit of a shock on the first morning  when about a hundred owls had suddenly streamed into the Great Hall during breakfast  circling the tables until they saw their owners  and dropping letters and packages onto their laps.',\n",
       " \"Hedwig hadn't brought Harry anything so far. She sometimes flew in to nibble his ear and have a bit of toast before going off to sleep in the owlery with the other school owls. This morning  however  she fluttered down between the marmalade and the sugar bowl and dropped a note onto Harry's plate. Harry tore it open at once. It said  in a very untidy scrawl: Dear Harry  I know you get Friday afternoons off  so would you like to come and have a cup of tea with me around three. I want to hear all about your first week. Send us an answer back with Hedwig. Hagrid Harry borrowed Ron's quill  scribbled Yes  please  see you later on the back of the note  and sent Hedwig off again.\",\n",
       " 'It was lucky that Harry had tea with Hagrid to look forward to  because the Potions lesson turned out to be the worst thing that had happened to him so far.',\n",
       " \"At the start of term banquet  Harry had gotten the idea that Professor Snape disliked him. By the end of the first Potions lesson  he knew he'd been wrong. Snape didn't dislike Harry    he hated him.\",\n",
       " 'Potions lessons took place down in one of the dungeons. It was colder here than up in the main castle  and would have been quite creepy enough without the pickled animals floating in glass jars all around the walls.',\n",
       " \"Snape  like Flitwick  started the class by taking the roll call  and like Flitwick  he paused at Harry's name.  Ah  Yes   he said softly   Harry Potter. Our new    celebrity. \",\n",
       " \"Draco Malfoy and his friends Crabbe and Goyle sniggered behind their hands. Snape finished calling the names and looked up at the class. His eyes were black like Hagrid's  but they had none of Hagrid's warmth. They were cold and empty and made you think of dark tunnels.\",\n",
       " \" You are here to learn the subtle science and exact art of potionmaking   he began. He spoke in barely more than a whisper  but they caught every word    like Professor McGonagall  Snape had y caught every word    like Professor McGonagall  Snape had the gift of keeping a class silent without effort.  As there is little foolish wand waving here  many of you will hardly believe this is magic. I don't expect you will really understand the beauty of the softly simmering cauldron with its shimmering fumes  the delicate power of liquids that creep through human veins  bewitching the mind  ensnaring the senses.. I can teach you how to bottle fame  brew glory  even stopper death    if you aren't as big a bunch of dunderheads as I usually have to teach. \",\n",
       " \"More silence followed this little speech. Harry and Ron exchanged looks with raised eyebrows. Hermione Granger was on the edge of her seat and looked desperate to start proving that she wasn't a dunderhead.  Potter.  said Snape suddenly.  What would I get if I added powdered root of asphodel to an infusion of wormwood. \",\n",
       " \"Powdered root of what to an infusion of what. Harry glanced at Ron  who looked as stumped as he was; Hermione's hand had shot into the air.  I don't know  sit   said Harry.\",\n",
       " \"Snape's lips curled into a sneer.  Tut  tut    fame clearly isn't everything.  He ignored Hermione's hand.  Let's try again. Potter  where would you look if I told you to find me a bezoar. \",\n",
       " \"Hermione stretched her hand as high into the air as it would go without her leaving her seat  but Harry didn't have the faintest idea what a bezoar was. He tried not to look at Malfoy  Crabbe  and Goyle  who were shaking with laughter.\",\n",
       " \" I don't know  sit.   Thought you wouldn't open a book before coming  eh  Potter.  Harry forced himself to keep looking straight into those cold eyes. He had looked through his books at the Dursleys'  but did Snape expect him to remember everything in One Thousand Magical Herbs and Fungi. Snape was still ignoring Hermione's quivering hand.  What is the difference  Potter  between monkshood and wolfsbane.  At this  Hermione stood up  her hand stretching toward the dungeon ceiling.\",\n",
       " \" I don't know   said Harry quietly.  I think Hermione does  though  why don't you try her.  A few people laughed; Harry caught Seamus's eye  and Seamus winked. Snape  however  was not pleased.\",\n",
       " \" Sit down   he snapped at Hermione.  For your information  Potter  asphodel and wormwood make a sleeping potion so powerful it is known as the Draught of Living Death. A bezoar is a stone taken from the stomach of a goat and it will save you from most poisons. As for monkshood and wolfsbane  they are the same plant  which also goes by the name of aconite. Well. Why aren't you all copying that down.  There was a sudden rummaging for quills and parchment. Over the noise  Snape said   And a point will be taken from Gryffindor House for your cheek  Potter. \",\n",
       " \"Things didn't improve for the Gryffindors as the Potions lesson continued. Snape put them all into pairs and set them to mixing up a simple potion to cure boils. He swept around in his long black cloak  watching them weigh dried nettles and crush snake fangs  criticizing almost everyone except Malfoy  whom he seemed to like. He was just telling everyone to look at the perfect way Malfoy had stewed his horned slugs when clouds of acid green smoke and a loud hissing filled the dungeon. Neville had somehow managed to melt Seamus's cauldron into a twisted blob  and their potion was seeping across the stone floor  burning holes in people's shoes. Within seconds  the whole class was standing on their stools while Neville  who had been drenched in the potion when the cauldron collapsed  moaned in pain as angry red boils sprang up all over his arms and legs.  Idiot boy.  snarled Snape  clearing the spilled potion away with one wave of his wand.  I suppose you added the porcupine quills before taking the cauldron off the fire. \",\n",
       " 'Neville whimpered as boils started to pop up all over his nose.  Take him up to the hospital wing   Snape spat at Seamus. Then he rounded on Harry and Ron  who had been working next to Neville.',\n",
       " \" You    Potter    why didn't you tell him not to add the quills. Thought he'd make you look good if he got it wrong  did you. That's another point you've lost for Gryffindor. \",\n",
       " \"This was so unfair that Harry opened his mouth to argue  but Ron kicked him behind their cauldron.  Doi push it   he muttered   I've heard Snape can turn very nasty. \",\n",
       " \"As they climbed the steps out of the dungeon an hour later  Harry's mind was racing and his spirits were low. He'd lost two points for Gryffindor in his very first week    why did Snape hate him so much.  Cheer up   said Ron   Snape's always taking points off Fred and George. Can I come and meet Hagrid with you. \",\n",
       " \"At five to three they left the castle and made their way across the grounds. Hagrid lived in a small wooden house on the edge of the forbidden forest. A crossbow and a pair of galoshes were outside the front door. When Harry knocked they heard a frantic scrabbling from inside and several booming barks. Then Hagrid's voice rang out  saying   Back  Fang    back. \",\n",
       " \"Hagrid's big  hairy face appeared in the crack as he pulled the door open.  Hang on   he said.  Back  Fang.  He let them in  struggling to keep a hold on the collar of an enormous black boarhound.\",\n",
       " 'There was only one room inside. Hams and pheasants were hanging from the ceiling  a copper kettle was boiling on the open fire  and in the corner stood a massive bed with a patchwork quilt over it.',\n",
       " ' Make yerselves at home   said Hagrid  letting go of Fang  who bounded straight at Ron and started licking his ears. Like Hagrid  Fang was clearly not as fierce as he looked.',\n",
       " \" This is Ron   Harry told Hagrid  who was pouring boiling water into a large teapot and putting rock cakes onto a plate.  Another Weasley  eh.  said Hagrid  glancing at Ron's freckles. I spent half me life chasin' yer twin brothers away from the forest. \",\n",
       " \"The rock cakes were shapeless lumps with raisins that almost broke their teeth  but Harry and Ron pretended to be enjoying them as they told Hagrid all about their first  lessons. Fang rested his head on Harry's knee and drooled all over his robes. Harry and Ron were delighted to hear Hagrid call Fitch  that old git. \",\n",
       " \" An' as fer that cat  Mrs. Norris  I'd like ter introduce her to Fang sometime. D'yeh know  every time I go up ter the school  she follows me everywhere. Can't get rid of her    Fitch puts her up to it. \",\n",
       " \"Harry told Hagrid about Snape's lesson. Hagrid  like Ron  told Harry not to worry about it  that Snape liked hardly any of the students.  But he seemed to really hate me.   Rubbish.  said Hagrid.  Why should he. \",\n",
       " \"Yet Harry couldn't help thinking that Hagrid didn't quite meet his eyes when he said that.  How's yer brother Charlie.  Hagrid asked Ron.  I liked him a lot    great with animals. \",\n",
       " \"Harry wondered if Hagrid had changed the subject on purpose. While Ron told Hagrid all about Charlie's work with dragons  Harry picked up a piece of paper that was lying on the table under the tea cozy. It was a cutting from the Daily Prophet: GRINGOTTS BREAK IN LATEST Investigations continue into the break in at Gringotts on 31 July  widely believed to be the work of Dark wizards or witches unknown.\",\n",
       " \"Gringotts goblins today insisted that nothing had been taken. The vault that was searched had in fact been emptied the same day.  But we're not telling you what was in there  so keep your noses out if you know what's good for you   said a Gringotts spokesgoblin this afternoon.\",\n",
       " \"Harry remembered Ron telling him on the train that someone had tried to rob Gringotts  but Ron hadn't mentioned the date.  Hagrid.  said Harry   that Gringotts break in happened on my birthday. It might've been happening while we were there. \",\n",
       " \"Harry had never believed he would meet a boy he hated more than Dudley  but that was before he met Draco Malfoy. Still  first year Gryffindors only had Potions with the Slytherins  so they didn't have to put up with Malfoy much. Or at least  they didn't until they spotted a notice pinned up in the Gryffindor common room that made them all groan. Flying lessons would be starting on Thursday    and Gryffindor and Slytherin would be learning together.\",\n",
       " ' Typical   said Harry darkly.  Just what I always wanted. To make a fool of myself on a broomstick in front of Malfoy.  He had been looking forward to learning to fly more than anything else.',\n",
       " \" You don't know that you'll make a fool of yourself   said Ron reasonably.  Anyway  I know Malfoy's always going on about how good he is at Quidditch  but I bet that's all talk. \",\n",
       " \"Malfay certainly did talk about flying a lot. He complained loudly about first years never getting on the house Quidditch teams and told long  boastful stories that always seemed to end with him narrowly escaping Muggles in helicopters. He wasn't the only one  though: the way Seamus Finnigan told it  he'd spent most of his childhood zooming around the countryside on his broomstick. Even Ron would tell anyone who'd listen about the time he'd almost hit a hang glider on Charlie's old broom.\",\n",
       " \"Everyone from wizarding families talked about Quidditch constantly. Ron had already had a big argument with Dean Thomas  who shared their dormitory  about soccer. Ron couldn't see what was exciting about a game with only one ball where no one was allowed to fly. Harry had caught Ron prodding Dean's poster of West Ham soccer team  trying to make the players move.\",\n",
       " \"Neville had never been on a broomstick in his life  because his grandmother had never let him near one. Privately  Harry felt she'd had good reason  because Neville managed to have an extraordinary number of accidents even with both feet on the ground.\",\n",
       " \"Hermione Granger was almost as nervous about flying as Neville was. This was something you couldn't learn by heart out of a book    not that she hadn't tried. At breakfast on Thursday she bored them all stupid with flying tips she'd gotten out of a library book called Quidditch Through the Ages. Neville was hanging on to her every word  desperate for anything that might help him hang on to his broomstick later  but everybody else was very pleased when Hermione's lecture was interrupted by the arrival of the mail.\",\n",
       " \"Harry hadn't had a single letter since Hagrid's note  something that Malfoy had been quick to notice  of course. Malfoy's eagle owl was always bringing him packages of sweets from home  which he opened gloatingly at the Slytherin table.\",\n",
       " 'A barn owl brought Neville a small package from his grandmother. He opened it excitedly and showed them a glass ball the size of a large marble  which seemed to be full of white smoke.',\n",
       " \" It's a Remembrall.  he explained.  Gran knows I forget things    this tells you if there's something you've forgotten to do. Look  you hold it tight like this and if it turns red    oh.  His face fell  because the Remembrall had suddenly glowed scarlet   You've forgotten something.  Neville was trying to remember what he'd forgotten when Draco Malfoy  who was passing the Gryffindor table  snatched the Remembrall out of his hand.\",\n",
       " 'Harry and Ron jumped to their feet. They were half hoping for a reason to fight Malfay  but Professor McGonagall  who could spot trouble quicker than any teacher in the school  was there in a flash.',\n",
       " \" What's going on.   Malfoy's got my Remembrall  Professor.  Scowling  Malfoy quickly dropped the Remembrall back on the table.  Just looking   he said  and he sloped away with Crabbe and Goyle behind him.\",\n",
       " 'At three thirty that afternoon  Harry  Ron  and the other Gryffindors hurried down the front steps onto the grounds for their first flying lesson. It was a clear  breezy day  and the grass rippled under their feet as they marched down the sloping lawns toward a smooth  flat lawn on the opposite side of the grounds to the forbidden forest  whose trees were swaying darkly in the distance.',\n",
       " 'The Slytherins were already there  and so were twenty broomsticks lying in neat lines on the ground. Harry had heard Fred and George Weasley complain about the school brooms  saying that some of them started to vibrate if you flew too high  or always flew slightly to the left.',\n",
       " 'Their teacher  Madam Hooch  arrived. She had short  gray hair  and yellow eyes like a hawk.  Well  what are you all waiting for.  she barked.  Everyone stand by a broomstick. Come on  hurry up. ',\n",
       " \"Harry glanced down at his broom. It was old and some of the twigs stuck out at odd angles.  Stick out your right hand over your broom   called Madam Hooch at the front   and say 'Up. '  UPF everyone shouted.\",\n",
       " \"Harry's broom jumped into his hand at once  but it was one of the few that did. Hermione Granger's had simply rolled over on the ground  and Neville's hadn't moved at all. Perhaps brooms  like horses  could tell when you were afraid  thought Harry; there was a quaver in Neville's voice that said only too clearly that he wanted to keep his feet on the ground.\",\n",
       " \"Madam Hooch then showed them how to mount their brooms without sliding off the end  and walked up and down the rows correcting their grips. Harry and Ron were delighted when she told Malfoy he'd been doing it wrong for years.\",\n",
       " \" Now  when I blow my whistle  you kick off from the ground  hard   said Madam Hooch.  Keep your brooms steady  rise a few feet  and then come straight back down by leaning forward slightly. On my whistle    three    two     But Neville  nervous and jumpy and frightened of being left on the ground  pushed off hard before the whistle had touched Madam Hooch's lips.\",\n",
       " ' Come back  boy.  she shouted  but Neville was rising straight up like a cork shot out of a bottle    twelve feet    twenty feet. Harry saw his scared white face look down at the ground falling away  saw him gasp  slip sideways off the broom and    WHAM    a thud and a nasty crack and Neville lay facedown on the grass in a heap. His broomstick was still rising higher and higher  and started to drift lazily toward the forbidden forest and out of sight.',\n",
       " \"Madam Hooch was bending over Neville  her face as white as his.  Broken wrist   Harry heard her mutter.  Come on  boy    it's all right  up you get. . She turned to the rest of the class.\",\n",
       " \" None of you is to move while I take this boy to the hospital wing. You leave those brooms where they are or you'll be out of Hogwarts before you can say 'Quidditch.' Come on  dear. \",\n",
       " 'Neville  his face tear streaked  clutching his wrist  hobbled off with Madam Hooch  who had her arm around him. No sooner were they out of earshot than Malfoy burst into laughter.  Did you see his face  the great lump. ',\n",
       " \"The other Slytherins joined in.  Shut up  Malfoy   snapped Parvati Patil.  Ooh  sticking up for Longbottom.  said Pansy Parkinson  a hard faced Slytherin girl.  Never thought you'd like fat little crybabies  Parvati. \",\n",
       " \" Look.  said Malfoy  darting forward and snatching something out of the grass.  It's that stupid thing Longbottom's gran sent him.  The Remembrall glittered in the sun as he held it up.\",\n",
       " \" Give that here  Malfoy   said Harry quietly. Everyone stopped talking to watch. Malfoy smiled nastily.  I think I'll leave it somewhere for Longbottom to find    how about    up a tree. \",\n",
       " \" Give it here.  Harry yelled  but Malfoy had leapt onto his broomstick and taken off. He hadn't been lying  he could fly well. Hovering level with the topmost branches of an oak he called   Come and get it  Potter.  Harry grabbed his broom.  No.  shouted Hermione Granger.  Madam Hooch told us not to move    you'll get us all into trouble. \",\n",
       " \"Harry ignored her. Blood was pounding in his ears. He mounted the broom and kicked hard against the ground and up  up he soared; air rushed through his hair  and his robes whipped out behind him  and in a rush of fierce joy he realized he'd found something he could do without being taught    this was easy  this was wonderful. He pulled his broomstick up a little to take it even higher  and heard screams and gasps of girls back on the ground and an admiring whoop from Ron.\",\n",
       " \"He turned his broomstick sharply to face Malfoy in midair. Malfoy looked stunned.  Give it here   Harry called   or I'll knock you off that broom.   Oh  yeah.  said Malfoy  trying to sneer  but looking worried.\",\n",
       " 'Harry knew  somehow  what to do. He leaned forward and grasped the broom tightly in both hands  and it shot toward Malfay like a javelin. Malfoy only just got out of the way in time; Harry made a sharp about face and held the broom steady. A few people below were clapping.  No Crabbe and Goyle up here to save your neck  Malfoy   Harry called.',\n",
       " 'The same thought seemed to have struck Malfoy.  Catch it if you can  then.  he shouted  and he threw the glass ball high into the air and streaked back toward the ground.',\n",
       " 'Harry saw  as though in slow motion  the ball rise up in the air and then start to fall. He leaned forward and pointed his broom handle down    next second he was gathering speed in a steep dive  racing the ball    wind whistled in his ears  mingled with the screams of people watching    he stretched out his hand    a foot from the ground he caught it  just in time to pull his broom straight  and he toppled gently onto the grass with the Remembrall clutched safely in his fist.',\n",
       " \" HARRY POTTER.  His heart sank faster than he'd just dived. Professor McGonagall was running toward them. He got to his feet  trembling.  Never    in all my time at Hogwarts    \",\n",
       " \"Professor McGonagall was almost speechless with shock  and her glasses flashed furiously      how dare you    might have broken your neck      It wasn't his fault  Professor      Be quiet  Miss Patil  But Malfoy      That's enough  Mr. Weasley. Potter  follow me  now. \",\n",
       " \"Harry caught sight of Malfoy  Crabbe  and Goyle's triumphant faces as he left  walking numbly in Professor McGonagall's wake as she strode toward the castle. He was going to be expelled  he just knew it. He wanted to say something to defend himself  but there seemed to be something wrong with his voice. Professor McGonagall was sweeping along without even looking at him; he had to jog to keep up. Now he'd done it. He hadn't even lasted two weeks. He'd be packing his bags in ten minutes. What would the Dursleys say when he turned up on the doorstep. Up the front steps  up the marble staircase inside  and still Professor McGonagall didn't say a word to him. She wrenched open doors and marched along corridors with Harry trotting miserably behind her. Maybe she was taking him to Dumbledore. He thought of Hagrid  expelled but allowed to stay on as gamekeeper. Perhaps he could be Hagrid's assistant. His stomach twisted as he imagined it  watching Ron and the others becoming wizards  while he stumped around the grounds carrying Hagrid's bag. Professor McGonagall stopped outside a classroom. She opened the door and poked her head inside.  Excuse me  Professor Flitwick  could I borrow Wood for a moment. \",\n",
       " 'Wood. thought Harry  bewildered; was Wood a cane she was going to use on him. But Wood turned out to be a person  a burly fifth year boy who came out of Flitwicles class looking confused.',\n",
       " ' Follow me  you two   said Professor McGonagall  and they marched on up the corridor  Wood looking curiously at Harry.  In here.  Professor McGonagall pointed them into a classroom that was empty except for Peeves  who was busy writing rude words on the blackboard.',\n",
       " \" Out  Peeves.  she barked. Peeves threw the chalk into a bin  which clanged loudly  and he swooped out cursing. Professor McGonagall slammed the door behind him and turned to face the two boys.  Potter  this is Oliver Wood. Wood    I've found you a Seeker. \",\n",
       " \"Wood's expression changed from puzzlement to delight.  Are you serious  Professor.   Absolutely   said Professor McGonagall crisply.  The boy's a natural. I've never seen anything like it. Was that your first time on a broomstick  Potter. \",\n",
       " \"Harry nodded silently. He didn't have a clue what was going on  but he didn't seem to be being expelled  and some of the feeling started coming back to his legs.  He caught that thing in his hand after a fifty foot dive   Professor McGonagall told Wood.  Didn't even scratch himself. Charlie Weasley couldn't have done it. \",\n",
       " \"Wood was now looking as though all his dreams had come true at once.  Ever seen a game of Quidditch  Potter.  he asked excitedly.  Wood's captain of the Gryffindor team   Professor McGonagall explained.\",\n",
       " \" He's just the build for a Seeker  too   said Wood  now walking around Harry and staring at him.  Light    speedy    we'll have to get him a decent broom  Professor    a Nimbus Two Thousand or a Cleansweep Seven  I'd say. \",\n",
       " \"I shall speak to Professor Dumbledore and see if we can't bend the first year rule. Heaven knows  we need a better team than last year. Flattened in that last match by Slytherin  I couldn't look Severus Snape in the face for weeks..  Professor McGonagall peered sternly over her glasses at Harry.\",\n",
       " \" I want to hear you're training hard  Potter  or I may change my mind about punishing you.  Then she suddenly smiled.  Your father would have been proud   she said.  He was an excellent Quidditch player himself.   You're joking. \",\n",
       " \"It was dinnertime. Harry had just finished telling Ron what had happened when he'd left the grounds with Professor McGonagall. Ron had a piece of steak and kidney pie halfway to his mouth  but he'd forgotten all about it.\",\n",
       " ' Seeker.  he said.  But first years never    you must be the youngest house player in about a century  said Harry  shoveling pie into his mouth. He felt particularly hungry after the excitement of the afternoon.  Wood told me.  Ron was so amazed  so impressed  he just sat and gaped at Harry.',\n",
       " \" I start training next week   said Harry.  Only don't tell anyone  Wood wants to keep it a secret.  Fred and George Weasley now came into the hall  spotted Harry  and hurried over.\",\n",
       " \" Well done   said George in a low voice.  Wood told us. We're on the team too    Beaters.   I tell you  we're going to win that Quidditch cup for sure this year  \",\n",
       " \"said Fred.  We haven't won since Charlie left  but this year's team is going to be brilliant. You must be good  Harry  Wood was almost skipping when he told us. \",\n",
       " \" Anyway  we've got to go  Lee Jordan reckons he's found a new secret passageway out of the school.   Bet it's that one behind the statue of Gregory the Smarmy that we found in our first week. See you. \",\n",
       " 'Fred and George had hardly disappeared when someone far less welcome turned up: Malfoy  flanked by Crabbe and Goyle.  Having a last meal  Potter. When are you getting the train back to the Muggles. ',\n",
       " \" You're a lot braver now that you're back on the ground and you've got your little friends with you   said Harry coolly. There was of course nothing at all little about Crabbe and Goyle  but as the High Table was full of teachers  neither of them could do more than crack their knuckles and scowl.  I'd take you on anytime on my own   said Malfoy.  Tonight  if you want.\",\n",
       " \"Wizard's duel. Wands only    no contact. What's the matter. Never heard of a wizard's duel before  I suppose.   Of course he has   said Ron  wheeling around.  I'm his second  who's yours.  Malfoy looked at Crabbe and Goyle  sizing them up.\",\n",
       " \" Crabbe   he said.  Midnight all right. We'll meet you in the trophy room; that's always unlocked.  When Malfoy had gone  Ron and Harry looked at each other.  What is a wizard's duel.  said Harry.  And what do you mean  you're my second. \",\n",
       " \" Well  a second's there to take over if you die   said Ron casually  getting started at last on his cold pie. Catching the look on Harry's face  he added quickly   But people only die in proper duels  you know  with real wizards. The most you and Malfoy'll be able to do is send sparks at each other. Neither of you knows enough magic to do any real damage. I bet he expected you to refuse  anyway. \",\n",
       " ' And what if I wave my wand and nothing happens.   Throw it away and punch him on the nose   Ron suggested.  Excuse me.  They both looked up. It was Hermione Granger.',\n",
       " \" Can't a person eat in peace in this place.  said Ron. Hermione ignored him and spoke to Harry.  I couldn't help overhearing what you and Malfoy were saying      Bet you could   Ron muttered.\",\n",
       " \"   and you mustn't go wandering around the school at night  think of the points you'll lose Gryffindor if you're caught  and you're bound to be. It's really very selfish of you.   And it's really none of your business   said Harry.  Good bye   said Ron.\",\n",
       " \"All the same  it wasn't what you'd call the perfect end to the day  Harry thought  as he lay awake much later listening to Dean and Seamus falling asleep  Neville wasn't back from the hospital wing . Ron had spent all evening giving him advice such as  If he tries to curse you  you'd better dodge it  because I can't remember how to block them. \",\n",
       " \"There was a very good chance they were going to get caught by Filch or Mrs. Norris  and Harry felt he was pushing his luck  breaking another school rule today. On the other hand  Malfoys sneering face kept looming up out of the darkness   this was his big chance to beat Malfoy face to face. He couldn't miss it.  Half past eleven   Ron muttered at last   we'd better go. \",\n",
       " \"They pulled on their bathrobes  picked up their wands  and crept across the tower room  down the spiral staircase  and into the Gryffindor common room. A few embers were still glowing in the fireplace  turning all the armchairs into hunched black shadows. They had almost reached the portrait hole when a voice spoke from the chair nearest them   I can't believe you're going to do this  Harry.  A lamp flickered on. It was Hermione Granger  wearing a pink bathrobe and a frown.\",\n",
       " \" You.  said Ron furiously.  Go back to bed.   I almost told your brother   Hermione snapped   Percy    he's a prefect  he'd put a stop to this.  Harry couldn't believe anyone could be so interfering.\",\n",
       " \" Come on   he said to Ron. He pushed open the portrait of the Fat Lady and climbed through the hole. Hermione wasn't going to give up that easily. She followed Ron through the portrait hole  hissing at them like an angry goose.\",\n",
       " \" Don't you care about Gryffindor  do you only care about yourselves  I don't want Slytherin to win the house cup  and you'll lose all the points I got from Professor McGonagall for knowing about Switching Spells.   Go away.   All right  but I warned you  you just remember what I said when you're on the train home tomorrow  you're so    \",\n",
       " \"But what they were  they didn't find out. Hermione had turned to the portrait of the Fat Lady to get back inside and found herself facing an empty painting. The Fat Lady had gone on a nighttime visit and Hermione was locked out of Gryffindor tower.  Now what am I going to do.  she asked shrilly.\",\n",
       " \" That's your problem   said Ron.  We've got to go  we 3 re going to be late.  They hadn't even reached the end of the corridor when Hermione caught up with them.  I'm coming with you   she said.  You are not. \",\n",
       " \" D'you think I'm going to stand out here and wait for Filch to catch me. If he finds all three of us I'll tell him the truth  that I was trying to stop you  and you can back me up. \",\n",
       " \" You've got some nerve     said Ron loudly.  Shut up  both of you.  said Harry sharply. I heard something.  It was a sort of snuffling.  Mrs. Norris.  breathed Ron  squinting through the dark.\",\n",
       " \"It wasn't Mrs. Norris. It was Neville. He was curled up on the floor  fast asleep  but jerked suddenly awake as they crept nearer.  Thank goodness you found me. I've been out here for hours  I couldn't remember the new password to get in to bed. \",\n",
       " \" Keep your voice down  Neville. The password's 'Pig snout' but it won't help you now  the Fat Lady's gone off somewhere.   How's your arm.  said Harry.  Fine   said Neville  showing them.  Madam Pomfrey mended it in about a minute. \",\n",
       " \" Good   well  look  Neville  we've got to be somewhere  we'll see you later      Don't leave me.  said Neville  scrambling to his feet   I don't want to stay here alone  the Bloody Baron's been past twice already. \",\n",
       " \"Ron looked at his watch and then glared furiously at Hermione and Neville.  If either of you get us caught  I'll never rest until I've learned that Curse of the Bogies Quirrell told us about  and used it on you.\",\n",
       " 'Hermione opened her mouth  perhaps to tell Ron exactly how to use the Curse of the Bogies  but Harry hissed at her to be quiet and beckoned them all forward.',\n",
       " 'They flitted along corridors striped with bars of moonlight from the high windows. At every turn Harry expected to run into Filch or Mrs. Norris  but they were lucky. They sped up a staircase to the third floor and tiptoed toward the trophy room.',\n",
       " \"Malfoy and Crabbe weren't there yet. The crystal trophy cases glimmered where the moonlight caught them. Cups  shields  plates  and statues winked silver and gold in the darkness. They edged along the walls  keeping their eyes on the doors at either end of the room. Harry took out his wand in case Malfoy leapt in and started at once. The minutes crept by.  He's late  maybe he's chickened out   Ron whispered.\",\n",
       " \"Then a noise in the next room made them jump. Harry had only just raised his wand when they heard someone speak  and it wasn't Malfoy.  Sniff around  my sweet  they might be lurking in a corner. \",\n",
       " \"It was Filch speaking to Mrs. Norris. Horror struck  Harry waved madly at the other three to follow him as quickly as possible; they scurried silently toward the door  away from Filch's voice. Neville's robes had barely whipped round the corner when they heard Filch enter the trophy room.  They're in here somewhere   they heard him mutter   probably hiding. \",\n",
       " ' This way.  Harry mouthed to the others and  petrified  they began to creep down a long gallery full of suits of armor. They could hear Filch getting nearer. Neville suddenly let out a frightened squeak and broke into a run  he tripped  grabbed Ron around the waist  and the pair of them toppled right into a suit of armor. The clanging and crashing were enough to wake the whole castle.',\n",
       " \" RUN.  Harry yelled  and the four of them sprinted down the gallery  not looking back to see whether Filch was following    they swung around the doorpost and galloped down one corridor then another  Harry in the lead  without any idea where they were or where they were going    they ripped through a tapestry and found themselves in a hidden passageway  hurtled along it and came out near their Charms classroom  which they knew was miles from the trophy room.  I think we've lost him   Harry panted  leaning against the cold wall and wiping his forehead. Neville was bent double  wheezing and spluttering.\",\n",
       " \"I    told  you   Hermione gasped  clutching at the stitch in her chest   I    told    you.   We've got to get back to Gryffindor tower   said Ron   quickly as possible. \",\n",
       " \" Malfoy tricked you   Hermione said to Harry.  You realize that  don't you. He was never going to meet you    Filch knew someone was going to be in the trophy room  Malfoy must have tipped him off.  Harry thought she was probably right  but he wasn't going to tell her that.  Let's go. \",\n",
       " \"It wasn't going to be that simple. They hadn't gone more than a dozen paces when a doorknob rattled and something came shooting out of a classroom in front of them. It was Peeves. He caught sight of them and gave a squeal of delight.\",\n",
       " \" Shut up  Peeves    please    you'll get us thrown out.  Peeves cackled.  Wandering around at midnight  Ickle Firsties. Tut  tut  tut. Naughty  naughty  you'll get caughty.   Not if you don't give us away  Peeves  please. \",\n",
       " \" Should tell Filch  I should   said Peeves in a saintly voice  but his eyes glittered wickedly.  It's for your own good  you know.   Get out of the way   snapped Ron  taking a swipe at Peeves this was a big mistake.\",\n",
       " ' STUDENTS OUT OF BED.  Peeves bellowed   STUDENTS OUT OF BED DOWN THE CHARMS CORRIDOR  Ducking under Peeves  they ran for their lives  right to the end of the corridor where they slammed into a door    and it was locked.',\n",
       " \" This is it.  Ron moaned  as they pushed helplessly at the door   We're done for. This is the end.  They could hear footsteps  Filch running as fast as he could toward Peeves's shouts.  Oh  move over   Hermione snarled. She grabbed Harry's wand  tapped the lock  and whispered  'Alohomora. \",\n",
       " 'The lock clicked and the door swung open    they piled through it  shut it quickly  and pressed their ears against it  listening.  Which way did they go  Peeves.  Filch was saying.  Quick  tell me. ',\n",
       " \" Say 'please. '  Don't mess with me  Peeves  now where did they go.   Shan't say nothing if you don't say please   said Peeves in his annoying singsong voice.  All right  please. \",\n",
       " \" NOTHING. Ha haaa. Told you I wouldn't say nothing if you didn't say please. Ha ha. Haaaaaa.  And they heard the sound of Peeves whooshing away and Filch cursing in rage.\",\n",
       " \" He thinks this door is locked   Harry whispered.  I think we'll be okay    get off  Neville.  For Neville had been tugging on the sleeve of Harry's bathrobe for the last minute.  What. \",\n",
       " \"Harry turned around    and saw  quite clearly  what. For a moment  he was sure he'd walked into a nightmare    this was too much  on top of everything that had happened so far. They weren't in a room  as he had supposed. They were in a corridor. The forbidden corridor on the third floor. And now they knew why it was forbidden.\",\n",
       " 'They were looking straight into the eyes of a monstrous dog  a dog that filled the whole space between ceiling and floor. It had three heads. Three pairs of rolling  mad eyes; three noses  twitching and quivering in their direction; three drooling mouths  saliva hanging in slippery ropes from yellowish fangs.',\n",
       " \"It was standing quite still  all six eyes staring at them  and Harry knew that the only reason they weren't already dead was that their sudden appearance had taken it by surprise  but it was quickly getting over that  there was no mistaking what those thunderous growls meant. Harry groped for the doorknob    between Filch and death  he'd take Filch.\",\n",
       " \"They fell backward    Harry slammed the door shut  and they ran  they almost flew  back down the corridor. Filch must have hurried off to look for them somewhere else  because they didn't see him anywhere  but they hardly cared    all they wanted to do was put as much space as possible between them and that monster. They didn't stop running until they reached the portrait of the Fat Lady on the seventh floor.\",\n",
       " ' Where on earth have you all been.  she asked  looking at their bathrobes hanging off their shoulders and their flushed  sweaty faces.  Never mind that    pig snout  pig snout   panted Harry  and the portrait swung forward. They scrambled into the common room and collapsed  trembling  into armchairs.',\n",
       " \"It was a while before any of them said anything. Neville  indeed  looked as if he'd never speak again.  What do they think they're doing  keeping a thing like that locked up in a school.  said Ron finally.  If any dog needs exercise  that one does. \",\n",
       " \"Hermione had got both her breath and her bad temper back again.  You don't use your eyes  any of you  do you.  she snapped.  Didn't you see what it was standing on.\",\n",
       " \" The floor.  Harry suggested.  I wasn't looking at its feet  I was too busy with its heads.   No  not the floor. It was standing on a trapdoor. It's obviously guarding something.  She stood up  glaring at them.\",\n",
       " \"I hope you're pleased with yourselves. We could all have been killed    or worse  expelled. Now  if you don't mind  I'm going to bed.  Ron stared after her  his mouth open.  No  we don't mind   he said.  You'd think we dragged her along  wouldn't you.\",\n",
       " 'But Hermione had given Harry something else to think about as he climbed back into bed. The dog was guarding something.. What had Hagrid said. Gringotts was the safest place in the world for something you wanted to hide    except perhaps Hogwarts.',\n",
       " \"It looked as though Harry had found out where the grubby littie package from vault seven hundred and thirteen was. Malfoy couldn't believe his eyes when he saw that Harry and Ron were still at Hogwarts the next day  looking tired but perfectly cheerful.\",\n",
       " \"Indeed  by the next morning Harry and Ron thought that meeting the three headed dog had been an excellent adventure  and they were quite keen to have another one. In the meantime  Harry filled Ron in about the package that seemed to have been moved from Gringotts to Hogwarts  and they spent a lot of time wondering what could possibly need such heavy protection.  It's either really valuable or really dangerous   said Ron.  Or both   said Harry.\",\n",
       " \"But as all they knew for sure about the mysterious object was that it was about two inches long  they didn't have much chance of guessing what it was without further clues. Neither Neville nor Hermione showed the slightest interest in what lay underneath the dog and the trapdoor. All Neville cared about was never going near the dog again.\",\n",
       " 'Hermione was now refusing to speak to Harry and Ron  but she was such a bossy know it all that they saw this as an added bonus. All they really wanted now was a way of getting back at Malfoy  and to their great delight  just such a thing arrived in the mail about a week later.',\n",
       " \"As the owls flooded into the Great Hall as usual  everyone's attention was caught at once by a long  thin package carried by six large screech owls. Harry was just as interested as everyone else to see what was in this large parcel  and was amazed when the owls soared down and dropped it right in front of him  knocking his bacon to the floor. They had hardly fluttered out of the way when another owl dropped a letter on top of the parcel. Harry ripped open the letter first  which was lucky  because it said: DO NOT OPEN THE PARCEL AT THE TABLE.\",\n",
       " \"It contains your new Nimbus Two Thousand  but I don't want everybody knowing you've got a broomstick or they'll all want one. Oliver Wood will meet you tonight on the Quidditch field at seven o'clock for your first training session. Professor McGonagall Harry had difficulty hiding his glee as he handed the note to Ron to read.  A Nimbus Two Thousand.  Ron moaned enviously.  I've never even touched one. \",\n",
       " 'They left the hall quickly  wanting to unwrap the broomstick in private before their first class  but halfway across the entrance hall they found the way upstairs barred by Crabbe and Goyle. Malfoy seized the package from Harry and felt it.',\n",
       " \" That's a broomstick   he said  throwing it back to Harry with a mixture of jealousy and spite on his face.  You'll be in for it this time  Potter  first years aren't allowed them.  Ron couldn't resist it.  It's not any old broomstick   he said   it's a Nimbus Two Thousand.\",\n",
       " \"What did you say you've got at home  Malfoy  a Comet Two Sixty.  Ron grinned at Harry.  Comets look flashy  but they're not in the same league as the Nimbus. \",\n",
       " \" What would you know about it  Weasley  you couldn't afford half the handle   Malfoy snapped back.  I suppose you and your brothers have to save up twig by twig.  Before Ron could answer  Professor Flitwick appeared at Malfoy's elbow.  Not arguing  I hope  boys.  he squeaked.\",\n",
       " \" Potter's been sent a broomstick  Professor   said Malfoy quickly.  Yes  yes  that's right   said Professor Flitwick  beaming at Harry.  Professor McGonagall told me all about the special circumstances  Potter. And what model is it. \",\n",
       " \" A Nimbus Two Thousand  sit   said Harry  fighting not to laugh at the look of horror on Malfoy's face.  And it's really thanks to Malfoy here that I've got it   he added.\",\n",
       " \"Harry and Ron headed upstairs  smothering their laughter at Malfoy's obvious rage and confusion.  Well  it's true   Harry chortled as they reached the top of the marble staircase   If he hadn't stolen Neville's Remembrall I wouln't be on the team.. \",\n",
       " \" So I suppose you think that's a reward for breaking rules.  came an angry voice from just behind them. Hermione was stomping up the stairs  looking disapprovingly at the package in Harry's hand.\",\n",
       " \" I thought you weren't speaking to us.  said Harry.  Yes  don't stop now   said Ron   it's doing us so much good.  Hermione marched away with her nose in the air.\",\n",
       " \"Harry had a lot of trouble keeping his mind on his lessons that day. It kept wandering up to the dormitory where his new broomstick was lying under his bed  or straying off to the Quidditch field where he'd be learning to play that night. He bolted his dinner that evening without noticing what he was eating  and then rushed upstairs with Ron to unwrap the Nimbus Two Thousand at last.  Wow   Ron sighed  as the broomstick rolled onto Harry's bedspread.\",\n",
       " 'Even Harry  who knew nothing about the different brooms  thought it looked wonderful. Sleek and shiny  with a mahogany handle  it had a long tail of neat  straight twigs and Nimbus Two Thousand written in gold near the top.',\n",
       " \"As seven o'clock drew nearer  Harry left the castle and set off in the dusk toward the Quidditch field. Held never been inside the stadium before. Hundreds of seats were raised in stands around the field so that the spectators were high enough to see what was going on. At either end of the field were three golden poles with hoops on the end. They reminded Harry of the little plastic sticks Muggle children blew bubbles through  except that they were fifty feet high.\",\n",
       " \"Too eager to fly again to wait for Wood  Harry mounted his broomstick and kicked off from the ground. What a feeling    he swooped in and out of the goal posts and then sped up and down the field. The Nimbus Two Thousand turned wherever he wanted at his lightest touch.  Hey  Potter  come down.' Oliver Wood had arrived. fie was carrying a large wooden crate under his arm. Harry landed next to him.\",\n",
       " \" Very nice   said Wood  his eyes glinting.  I see what McGonagall meant. you really are a natural. I'm just going to teach you the rules this evening  then you'll be joining team practice three times a week.  He opened the crate. Inside were four different sized balls.\",\n",
       " \" Right   said Wood.  Now  Quidditch is easy enough to understand  even if it's not too easy to play. There are seven players on each side. Three of them are called Chasers.   Three Chasers   Harry repeated  as Wood took out a bright red ball about the size of a soccer ball.\",\n",
       " \" This ball's called the Quaffle   said Wood.  The Chasers throw the Quaffle to each other and try and get it through one of the hoops to score a goal. Ten points every time the Quaffle goes through one of the hoops. Follow me.   The Chasers throw the Quaffle and put it through the hoops to score   Harry recited.  So    that's sort of like basketball on broomsticks with six hoops  isn't it. \",\n",
       " \" What's basketball.  said Wood curiously.  Never mind   said Harry quickly.  Now  there's another player on each side who's called the Keeper  I'm Keeper for Gryffindor. I have to fly around our hoops and stop the other team from scoring. \",\n",
       " ' Three Chasers  one Keeper   said Harry  who was determined to remember it all.  And they play with the Quaffle. Okay  got that. So what are they for.  He pointed at the three balls left inside the box.',\n",
       " \" I'll show you now   said Wood.  Take this.  He handed Harry a small club  a bit like a short baseball bat.  I'm going to show you what the Bludgers do   Wood said.  These two are the Bludgers. \",\n",
       " 'He showed Harry two identical balls  jet black and slightly smaller than the red Quaffle. Harry noticed that they seemed to be straining to escape the straps holding them inside the box.  Stand back   Wood warned Harry. He bent down and freed one of the Bludgers.',\n",
       " \"At once  the black ball rose high in the air and then pelted straight at Harry's face. Harry swung at it with the bat to stop it from breaking his nose  and sent it zigzagging away into the air    it zoomed around their heads and then shot at Wood  who dived on top of it and managed to pin it to the ground.\",\n",
       " \" See.  Wood panted  forcing the struggling Bludger back into the crate and strapping it down safely.  The Bludgers rocket around  trying to knock players off their brooms. That's why you have two Beaters on each team    the Weasley twins are ours    it's their job to protect their side from the Bludgers and try and knock them toward the other team. So    think you've got all that. \",\n",
       " ' Three Chasers try and score with the Quaffle; the Keeper guards the goal posts; the Beaters keep the Bludgers away from their team   Harry reeled off.  Very good   said Wood.  Er    have the Bludgers ever killed anyone.  Harry asked  hoping he sounded offhand.',\n",
       " \" Never at Hogwarts. We've had a couple of broken jaws but nothing worse than that. Now  the last member of the team is the Seeker. That's you. And you don't have to worry about the Quaffle or the Bludgers unless they crack my head open.   Don't worry  the Weasleys are more than a match for the Bludgers    I mean  they're like a pair of human Bludgers themselves. \",\n",
       " 'Wood reached into the crate and took out the fourth and last ball. Compared with the Quaffle and the Bludgers  it was tiny  about the size of a large walnut. It was bright gold and had little fluttering silver wings.',\n",
       " \" This   said Wood   is the Golden Snitch  and it's the most important ball of the lot. It's very hard to catch because it's so fast and difficult to see. It's the Seeker's job to catch it. You've got to weave in and out of the Chasers  Beaters  Bludgers  and Quaffle to get it before the other team's Seeker  because whichever Seeker catches the Snitch wins his team an extra hundred and fifty points  so they nearly always win. That's why Seekers get fouled so much. A game of Quidditch only ends when the Snitch is caught  so it can go on for ages    I think the record is three months  they had to keep bringing on substitutes so the players could get some sleep.  Well  that's it    any questions.  Harry shook his head. He understood what he had to do all right  it was doing it that was going to be the problem.\",\n",
       " \" We won't practice with the Snitch yet   said Wood  carefully shutting it back inside the crate   it's too dark  we might lose it. Let's try you out with a few of these. \",\n",
       " \"He pulled a bag of ordinary golf balls out of his pocket and a few minutes later  he and Harry were up in the air  Wood throwing the golf balls as hard as he could in every direction for Harry to catch. Harry didn't miss a single one  and Wood was delighted. After half an hour  night had really fallen and they couldn't carry on.\",\n",
       " \" That Quidditch cup'll have our name on it this year   said Wood happily as they trudged back up to the castle.  I wouldn't be surprised if you turn out better than Charlie Weasley  and he could have played for England if he hadn't gone off chasing dragons. \",\n",
       " \"Perhaps it was because he was now so busy  what with Quidditch practice three evenings a week on top of all his homework  but Harry could hardly believe it when he realized that he'd already been at Hogwarts two months. The castle felt more like home than Privet Drive ever had. His lessons  too  were becoming more and more interesting now that they had mastered the basics.\",\n",
       " \"On Halloween morning they woke to the delicious smell of baking pumpkin wafting through the corridors. Even better  Professor Flitwick announced in Charms that he thought they were ready to start making objects fly  something they had all been dying to try since they'd seen him make Neville's toad zoom around the classroom. Professor Flitwick put the class into pairs to practice. Harry's partner was Seamus Finnigan  which was a relief  because Neville had been trying to catch his eye . Ron  however  was to be working with Hermione Granger. It was hard to tell whether Ron or Hermione was angrier about this. She hadn't spoken to either of them since the day Harry's broomstick had arrived.  Now  don't forget that nice wrist movement we've been practicing. \",\n",
       " \"squeaked Professor Flitwick  perched on top of his pile of books as usual.  Swish and flick  remember  swish and flick. And saying the magic words properly is very important  too    never forget Wizard Baruffio  who said 's' instead of 'f' and found himself on the floor with a buffalo on his chest. \",\n",
       " \"It was very difficult. Harry and Seamus swished and flicked  but the feather they were supposed to be sending skyward just lay on the desktop. Seamus got so impatient that he prodded it with his wand and set fire to it    Harry had to put it out with his hat. Ron  at the next table  wasn't having much more luck.\",\n",
       " \" Wingardium Leviosa.  he shouted  waving his long arms like a windmill.  You're saying it wrong   Harry heard Hermione snap.  It's Wing gar dium Levi o sa  make the 'gar' nice and long.   You do it  then  if you're so clever   Ron snarled.\",\n",
       " \"Hermione rolled up the sleeves of her gown  flicked her wand  and said   Wingardium Leviosa.  Their feather rose off the desk and hovered about four feet above their heads.  Oh  well done.  cried Professor Flitwick  clapping.  Everyone see here  Miss Granger's done it. \",\n",
       " \"Ron was in a very bad mood by the end of the class.  It's no wonder no one can stand her   he said to Harry as they pushed their way into the crowded corridor   she's a nightmare  honestly. \\x93 Someone knocked into Harry as they hurried past him. It was Hermione.\",\n",
       " \"Harry caught a glimpse of her face    and was startled to see that she was in tears.  I think she heard you.   So.  said Ron  but he looked a bit uncomfortable.  She must've noticed she's got no friends. \",\n",
       " \"Hermione didn't turn up for the next class and wasn't seen all afternoon. On their way down to the Great Hall for the Halloween feast  Harry and Ron overheard Parvati Patil telling her friend Lavender that Hermione was crying in the girls' bathroom and wanted to be left alone. Ron looked still more awkward at this  but a moment later they had entered the Great Hall  where the Halloween decorations put Hermione out of their minds.\",\n",
       " 'A thousand live bats fluttered from the walls and ceiling while a thousand more swooped over the tables in low black clouds  making the candles in the pumpkins stutter. The feast appeared suddenly on the golden plates  as it had at the start of term banquet. Harry was just helping himself to a baked potato when Professor Quirrell came sprinting into the hall  his turban askew and terror on his face.',\n",
       " \"Everyone stared as he reached Professor Dumbledore's chair  slumped against the table  and gasped   Troll    in the dungeons    thought you ought to know.  He then sank to the floor in a dead faint.\",\n",
       " \"There was an uproar. It took several purple firecrackers exploding from the end of Professor Dumbledore's wand to bring silence.  Prefects   he rumbled   lead your Houses back to the dormitories immediately.  Percy was in his element.\",\n",
       " \" Follow me. Stick together  first years. No need to fear the troll if you follow my orders. Stay close behind me  now. Make way  first years coming through. Excuse me  I'm a prefect.   How could a troll get in.  Harry asked as they climbed the stairs.\",\n",
       " \" Don't ask me  they're supposed to be really stupid   said Ron.  Maybe Peeves let it in for a Halloween joke.  They passed different groups of people hurrying in different directions.\",\n",
       " \"As they jostled their way through a crowd of confused Hufflepuffs  Harry suddenly grabbed Ron's arm.  I've just thought    Hermione.   What about her.   She doesn't know about the troll.  Ron bit his lip.  Oh  all right   he snapped.  But Percy'd better not see us. \",\n",
       " \"Ducking down  they joined the Hufflepuffs going the other way  slipped down a deserted side corridor  and hurried off toward the girls' bathroom. They had just turned the corner when they heard quick footsteps behind them.  Percy.  hissed Ron  pulling Harry behind a large stone griffin. Peering around it  however  they saw not Percy but Snape. He crossed the corridor and disappeared from view.\",\n",
       " \" What's he doing.  Harry whispered.  Why isn't he down in the dungeons with the rest of the teachers.   Search me.  Quietly as possible  they crept along the next corridor after Snape's fading footsteps.\",\n",
       " \" He's heading for the third floor   Harry said  but Ron held up his hand.  Can you smell something.  Harry sniffed and a foul stench reached his nostrils  a mixture of old socks and the kind of public toilet no one seems to clean.\",\n",
       " 'And then they heard it    a low grunting  and the shuffling footfalls of gigantic feet. Ron pointed    at the end of a passage to the left  something huge was moving toward them. They shrank into the shadows and watched as it emerged into a patch of moonlight.',\n",
       " 'It was a horrible sight. Twelve feet tall  its skin was a dull  granite gray  its great lumpy body like a boulder with its small bald head perched on top like a coconut. It had short legs thick as tree trunks with flat  horny feet. The smell coming from it was incredible. It was holding a huge wooden club  which dragged along the floor because its arms were so long.',\n",
       " 'The troll stopped next to a doorway and peered inside. It waggled its long ears  making up its tiny mind  then slouched slowly into the room.  The keys in the lock   Harry muttered.  We could lock it in.   Good idea   said Ron nervously.',\n",
       " \"They edged toward the open door  mouths dry  praying the troll wasn't about to come out of it. With one great leap  Harry managed to grab the key  slam the door  and lock it. 'Yes. \",\n",
       " \"Flushed with their victory  they started to run back up the passage  but as they reached the corner they heard something that made their hearts stop    a high  petrified scream    and it was coming from the chamber they'd just chained up.  Oh  no   said Ron  pale as the Bloody Baron.  It's the girls' bathroom.  Harry gasped.  Hermione.  they said together.\",\n",
       " 'It was the last thing they wanted to do  but what choice did they have. Wheeling around  they sprinted back to the door and turned the key  fumbling in their panic. Harry pulled the door open and they ran inside.',\n",
       " 'Hermione Granger was shrinking against the wall opposite  looking as if she was about to faint. The troll was advancing on her  knocking the sinks off the walls as it went.  Confuse it.  Harry said desperately to Ron  and  seizing a tap  he threw it as hard as he could against the wall.',\n",
       " 'The troll stopped a few feet from Hermione. It lumbered around  blinking stupidly  to see what had made the noise. Its mean little eyes saw Harry. It hesitated  then made for him instead  lifting its club as it went.',\n",
       " \" Oy  pea brain.  yelled Ron from the other side of the chamber  and he threw a metal pipe at it. The troll didn't even seem to notice the pipe hitting its shoulder  but it heard the yell and paused again  turning its ugly snout toward Ron instead  giving Harry time to run around it.\",\n",
       " \" Come on  run  run.  Harry yelled at Hermione  trying to pull her toward the door  but she couldn't move  she was still flat against the wall  her mouth open with terror. The shouting and the echoes seemed to be driving the troll berserk. It roared again and started toward Ron  who was nearest and had no way to escape.\",\n",
       " \"Harry then did something that was both very brave and very stupid: He took a great running jump and managed to fasten his arms around the troll's neck from behind. The troll couldn't feel Harry hanging there  but even a troll will notice if you stick a long bit of wood up its nose  and Harry's wand had still been in his hand when he'd jumped    it had gone straight up one of the troll's nostrils.\",\n",
       " 'Howling with pain  the troll twisted and flailed its club  with Harry clinging on for dear life; any second  the troll was going to rip him off or catch him a terrible blow with the club.',\n",
       " 'Hermione had sunk to the floor in fright; Ron pulled out his own wand    not knowing what he was going to do he heard himself cry the first spell that came into his head:  Wingardium Leviosa. ',\n",
       " \"The club flew suddenly out of the troll's hand  rose high  high up into the air  turned slowly over    and dropped  with a sickening crack  onto its owner's head. The troll swayed on the spot and then fell flat on its face  with a thud that made the whole room tremble.\",\n",
       " \"Harry got to his feet. He was shaking and out of breath. Ron was standing there with his wand still raised  staring at what he had done. It was Hermione who spoke first.  Is it    dead.  I don't think so   said Harry  I think it's just been knocked out. \",\n",
       " \"He bent down and pulled his wand out of the troll's nose. It was covered in what looked like lumpy gray glue.  Urgh    troll boogers.  He wiped it on the troll's trousers. A sudden slamming and loud footsteps made the three of them look up.\",\n",
       " \"They hadn't realized what a racket they had been making  but of course  someone downstairs must have heard the crashes and the troll's roars. A moment later  Professor McGonagall had come bursting into the room  closely followed by Snape  with Quirrell bringing up the rear. Quirrell took one look at the troll  let out a faint whimper  and sat quickly down on a toilet  clutching his heart.\",\n",
       " \"Snape bent over the troll. Professor McGonagall was looking at Ron and Harry. Harry had never seen her look so angry. Her lips were white. Hopes of winning fifty points for Gryffindor faded quickly from Harry's mind.\",\n",
       " \" What on earth were you thinking of.  said Professor McGonagall  with cold fury in her voice. Harry looked at Ron  who was still standing with his wand in the air.  You're lucky you weren't killed. Why aren't you in your dormitory. \",\n",
       " 'Snape gave Harry a swift  piercing look. Harry looked at the floor. He wished Ron would put his wand down. Then a small voice came out of the shadows.  Please  Professor McGonagall    they were looking for me.   Miss Granger. ',\n",
       " \"Hermione had managed to get to her feet at last. I went looking for the troll because I    I thought I could deal with it on my own    you know  because I've read all about them. \",\n",
       " \"Ron dropped his wand. Hermione Granger  telling a downright lie to a teacher.  If they hadn't found me  I'd be dead now. Harry stuck his wand up its nose and Ron knocked it out with its own club. They didn't have time to come and fetch anyone. It was about to finish me off when they arrived.  Harry and Ron tried to look as though this story wasn't new to them.\",\n",
       " ' Well    in that case.  said Professor McGonagall  staring at the three of them   Miss Granger  you foolish girl  how could you think of tackling a mountain troll on your own. ',\n",
       " 'Hermione hung her head. Harry was speechless. Hermione was the last person to do anything against the rules  and here she was  pretending she had  to get them out of trouble. It was as if Snape had started handing out sweets.',\n",
       " \" Miss Granger  five points will be taken from Gryffindor for this   said Professor McGonagall.  I'm very disappointed in you. If you're not hurt at all  you'd better get off to Gryffindor tower. Students are finishing the feast in their houses.  Hermione left. Professor McGonagall turned to Harry and Ron.\",\n",
       " ' Well  I still say you were lucky  but not many first years could have taken on a full grown mountain troll. You each win Gryffindor five points. Professor Dumbledore will be informed of this. You may go. ',\n",
       " \"They hurried out of the chamber and didn't speak at all until they had climbed two floors up. It was a relief to be away from the smell of the troll  quite apart from anything else.\",\n",
       " \" We should have gotten more than ten points   Ron grumbled.  Five  you mean  once she's taken off Hermione's.   Good of her to get us out of trouble like that   Ron admitted.  Mind you  we did save her. \",\n",
       " \" She might not have needed saving if we hadn't locked the thing in with her   Harry reminded him. They had reached the portrait of the Fat Lady.  Pig snout   they said and entered.\",\n",
       " 'The common room was packed and noisy. Everyone was eating the food that had been sent up. Hermione  however  stood alone by the door  waiting for them. There was a very embarrassed pause. Then  none of them looking at each other  they all said  Thanks   and hurried off to get plates.',\n",
       " \"But from that moment on  Hermione Granger became their friend. There are some things you can't share without ending up liking each other  and knocking out a twelve foot mountain troll is one of them.\",\n",
       " 'As they entered November  the weather turned very cold. The mountains around the school became icy gray and the lake like chilled steel. Every morning the ground was covered in frost. Hagrid could be seen from the upstairs windows defrosting broomsticks on the Quidditch field  bundled up in a long moleskin overcoat  rabbit fur gloves  and enormous beaverskin boots.',\n",
       " 'The Quidditch season had begun. On Saturday  Harry would be playing in his first match after weeks of training: Gryffindor versus Slytherin. If Gryffindor won  they would move up into second place in the house championship.',\n",
       " \"Hardly anyone had seen Harry play because Wood had decided that  as their secret weapon  Harry should be kept  well  secret. But the news that he was playing Seeker had leaked out somehow  and Harry didn't know which was worse    people telling him he'd be brilliant or people telling him they'd be running around underneath him holding a mattress.\",\n",
       " \"It was really lucky that Harry now had Hermlone as a friend. He didn't know how he'd have gotten through all his homework without her  what with all the last minute Quidditch practice Wood was making them do. She had also tent him Quidditch Through the Ages  which turned out to be a very interesting read.\",\n",
       " 'Harry learned that there were seven hundred ways of committing a Quidditch foul and that all of them had happened during a World Cup match in 1473; that Seekers were usually the smallest and fastest players  and that most serious Quidditch accidents seemed to happen to them; that although people rarely died playing Quidditch  referees had been known to vanish and turn up months later in the Sahara Desert.',\n",
       " \"Hermione had become a bit more relaxed about breaking rules since Harry and Ron had saved her from the mountain troll  and she was much nicer for it. The day before Harry's first Quidditch match the three of them were out in the freezing courtyard during break  and she had conjured them up a bright blue fire that could be carried around in a jam jar.\",\n",
       " \"They were standing with their backs to it  getting warm  when Snape crossed the yard. Harry noticed at once that Snape was limping. Harry  Ron  and Hermione moved closer together to block the fire from view; they were sure it wouldn't be allowed. Unfortunately  something about their guilty faces caught Snape's eye. He limped over. He hadn't seen the fire  but he seemed to be looking for a reason to tell them off anyway.\",\n",
       " \" What's that you've got there  Potter.  It was Quidditch Through the Ages. Harry showed him.  Library books are not to be taken outside the school   said Snape.  Give it to me. Five points from Gryffindor. \",\n",
       " \" He's just made that rule up   Harry muttered angrily as Snape limped away.  Wonder what's wrong with his leg.   Dunno  but I hope it's really hurting him   said Ron bitterly.\",\n",
       " \"The Gryffindor common room was very noisy that evening. Harry  Ron  and Hermione sat together next to a window. Hermione was checking Harry and Ron's Charms homework for them. She would never let them copy   How will you learn.    but by asking her to read it through  they got the right answers anyway.\",\n",
       " 'Harry felt restless. He wanted Quidditch Through the Ages back  to take his mind off his nerves about tomorrow. Why should he be afraid of Snape. Getting up  he told Ron and Hermione he was going to ask Snape if he could have it.',\n",
       " \" Better you than me   they said together  but Harry had an idea that Snape wouldn't refuse if there were other teachers listening. He made his way down to the staffroom and knocked. There was no answer.\",\n",
       " 'He knocked again. Nothing. Perhaps Snape had left the book in there. It was worth a try. He pushed the door ajar and peered inside    and a horrible scene met his eyes.',\n",
       " 'Snape and Filch were inside  alone. Snape was holding his robes above his knees. One of his legs was bloody and mangled. Filch was handing Snape bandages.  Blasted thing   Snape was saying.  How are you supposed to keep your eyes on all three heads at once.  Harry tried to shut the door quietly  but     POTTER. ',\n",
       " \"Snape's face was twisted with fury as he dropped his robes quickly to hide his leg. Harry gulped.  I just wondered if I could have my book back.   GET OUT. OUT. \",\n",
       " \"Harry left  before Snape could take any more points from Gryffindor. He sprinted back upstairs.  Did you get it.  Ron asked as Harry joined them.  What's the matter.  In a low whisper  Harry told them what he'd seen.\",\n",
       " \" You know what this means.  he finished breathlessly.  He tried to get past that three headed dog at Halloween. That's where he was going when we saw him    he's after whatever it's guarding. And Id bet my broomstick he let that troll in  to make a diversion.  Hermione's eyes were wide.\",\n",
       " \" No    he wouldn't  she said.  I know he's not very nice  but he wouldn't try and steal something Dumbledore was keeping safe.   Honestly  Hermione  you think all teachers are saints or something   snapped Ron.  I'm with Harry. I wouldn't put anything past Snape. But what's he after. What's that dog guarding. \",\n",
       " \"Harry went to bed with his head buzzing with the same question. Neville was snoring loudly  but Harry couldn't sleep. He tried to empty his mind    he needed to sleep  he had to  he had his first Quidditch match in a few hours    but the expression on Snape's face when Harry had seen his leg wasn't easy to forget.\",\n",
       " 'The next morning dawned very bright and cold. The Great Hall was full of the delicious smell of fried sausages and the cheer ful chatter of everyone looking forward to a good Quidditch match.',\n",
       " \" You've got to eat some breakfast.   I don't want anything.   Just a bit of toast   wheedled Hermione.  I'm not hungry.  Harry felt terrible. In an hour's time he'd be walking onto the field.\",\n",
       " ' Harry  you need your strength   said Seamus Finnigan.  Seekers are always the ones who get clobbered by the other team.   Thanks  Seamus   said Harry  watching Seamus pile ketchup on his sausages.',\n",
       " \"By eleven o'clock the whole school seemed to be out in the stands around the Quidditch pitch. Many students had binoculars. The seats might be raised high in the air  but it was still difficult to see what was going on sometimes.\",\n",
       " 'Ron and Hermione joined Neville  Seamus  and Dean the West Ham fan up in the top row. As a surprise for Harry  they had painted a large banner on one of the sheets Scabbers had ruined. It said Potter for President  and Dean  who was good at drawing  had done a large Gryffindor lion underneath. Then Hermione had performed a tricky little charm so that the paint flashed different colors.',\n",
       " 'Meanwhile  in the locker room  Harry and the rest of the team were changing into their scarlet Quidditch robes  Slytherin would be playing in green . Wood cleared his throat for silence.  Okay  men   he said.  And women   said Chaser Angelina Johnson.  And women   Wood agreed.  This is it. ',\n",
       " \" The big one   said Fred Weasley.  The one we've all been waiting for   said George.  We know Oliver's speech by heart   Fred told Harry   we were on the team last year. \",\n",
       " \" Shut up  you two   said Wood.  This is the best team Gryffindor's had in years. We're going to win. I know it.  He glared at them all as if to say   Or else.   Right. It's time. Good luck  all of you. \",\n",
       " \"Harry followed Fred and George out of the locker room and  hoping his knees weren't going to give way  walked onto the field to loud cheers. Madam Hooch was refereeing. She stood in the middle of the field waiting for the two teams  her broom in her hand.\",\n",
       " ' Now  I want a nice fair game  all of you   she said  once they were all gathered around her. Harry noticed that she seemed to be speaking particularly to the Slytherin Captain  Marcus Flint  a sixth year. Harry thought Flint looked as if he had some troll blood in him. Out of the corner of his eye he saw the fluttering banner high above  flashing Potter for President over the crowd. His heart skipped. He felt braver.  Mount your brooms  please.  Harry clambered onto his Nimbus Two Thousand. Madam Hooch gave a loud blast on her silver whistle.',\n",
       " \"Fifteen brooms rose up  high  high into the air. They were off.  And the Quaffle is taken immediately by Angelina Johnson of Gryffindor    what an excellent Chaser that girl is  and rather attractive  too      JORDAN.   Sorry  Professor.  The Weasley twins' friend  Lee Jordan  was doing the commentary for the match  closely watched by Professor McGonagall.\",\n",
       " \" And she's really belting along up there  a neat pass to Alicia Spinnet  a good find of Oliver Wood's  last year only a reserve    back to Johnson and    no  the Slytherins have taken the Quaffle  Slytherin Captain Marcus Flint gains the Quaffle and off he goes    Flint flying like an eagle up there    he's going to sc  no  stopped by an excellent move by Gryffindor Keeper Wood and the Gryffindors take the Quaffle    that's Chaser Katie Bell of Gryffindor there  nice dive around Flint  off up the field and    OUCH    that must have hurt  hit in the back of the head by a Bludger    Quaffle taken by the Slytherins    that's Adrian Pucey speeding off toward the goal posts  but he's blocked by a second Bludger    sent his way by Fred or George Weasley  can't tell which    nice play by the Gryffindor Beater  anyway  and Johnson back in possession of the Quaffle  a clear field ahead and off she goes    she's really flying    dodges a speeding Bludger    the goal posts are ahead    come on  now  Angelina    Keeper Bletchley dives    misses    GRYFFINDORS SCORE. \",\n",
       " 'Gryffindor cheers filled the cold air  with howls and moans from the Slytherins.  Budge up there  move along.   Hagrid.  Ron and Hermione squeezed together to give Hagrid enough space to join them.',\n",
       " \" Bin watchin' from me hut   said Hagrid  patting a large pair of binoculars around his neck   But it isn't the same as bein' in the crowd. No sign of the Snitch yet  eh.   Nope   said Ron.  Harry hasn't had much to do yet. \",\n",
       " \" Kept outta trouble  though  that's somethin'   said Hagrid  raising his binoculars and peering skyward at the speck that was Harry. Way up above them  Harry was gliding over the game  squinting about for some sign of the Snitch. This was part of his and Wood's game plan.\",\n",
       " \" Keep out of the way until you catch sight of the Snitch   Wood had said.  We don't want you attacked before you have to be.  When Angelina had scored  Harry had done a couple of loop the loops to let off his feelings. Now he was back to staring around for the Snitch.\",\n",
       " \"Once he caught sight of a flash of gold  but it was just a reflection from one of the Weasleys' wristwatches  and once a Bludger decided to come pelting his way  more like a cannonball than anything  but Harry dodged it and Fred Weasley came chasing after it.  All right there  Harry.  he had time to yell  as he beat the Bludger furiously toward Marcus Flint.\",\n",
       " ' Slytherin in possession   Lee Jordan was saying   Chaser Pucey ducks two Bludgers  two Weasleys  and Chaser Bell  and speeds toward the    wait a moment    was that the Snitch.  A murmur ran through the crowd as Adrian Pucey dropped the Quaffle  too busy looking over his shoulder at the flash of gold that had passed his left ear.',\n",
       " 'Harry saw it. In a great rush of excitement he dived downward after the streak of gold. Slytherin Seeker Terence Higgs had seen it  too. Neck and neck they hurtled toward the Snitch  all the Chasers seemed to have forgotten what they were supposed to be doing as they hung in midair to watch.',\n",
       " \"Harry was faster than Higgs    he could see the little round ball  wings fluttering  darting up ahead     he put on an extra spurt of speed    WHAM. A roar of rage echoed from the Gryffindors below    Marcus Flint had blocked Harry on purpose  and Harry's broom spun off course  Harry holding on for dear life.  Foul.  screamed the Gryffindors.\",\n",
       " 'Madam Hooch spoke angrily to Flint and then ordered a free shot at the goal posts for Gryffindor. But in all the confusion  of course  the Golden Snitch had disappeared from sight again. Down in the stands  Dean Thomas was yelling   Send him off  ref. Red card.   What are you talking about  Dean.  said Ron.',\n",
       " \" Red card.  said Dean furiously.  In soccer you get shown the red card and you're out of the game.   But this isn't soccer  Dean   Ron reminded him. Hagrid  however  was on Dean's side.  They oughta change the rules. Flint coulda knocked Harry outta the air. \",\n",
       " \"Lee Jordan was finding it difficult not to take sides.  So    after that obvious and disgusting bit of cheating  Jordan.  growled Professor McGonagall.  I mean  after that open and revolting foul 'Jordan  I'm warning you    \",\n",
       " \" All right  all right. Flint nearly kills the Gryffindor Seeker  which could happen to anyone  I'm sure  so a penalty to Gryffindor  taken by Spinner  who puts it away  no trouble  and we continue play  Gryffindor still in possession. \",\n",
       " \"It was as Harry dodged another Bludger  which went spinning dangerously past his head  that it happened. His broom gave a sudden  frightening lurch. For a split second  he thought he was going to fall. He gripped the broom tightly with both his hands and knees. He'd never felt anything like that.\",\n",
       " \"It happened again. It was as though the broom was trying to buck him off. But Nimbus Two Thousands did not suddenly decide to buck their riders off. Harry tried to turn back toward the Gryffindor goal  posts    he had half a mind to ask Wood to call time out    and then he realized that his broom was completely out of his control. He couldn't turn it. He couldn't direct it at all. It was zigzagging through the air  and every now and then making violent swishing movements that almost unseated him. Lee was still commentating.\",\n",
       " ' Slytherin in possession    Flint with the Quaffle    passes Spinnet    passes Bell    hit hard in the face by a Bludger  hope it broke his nose    only joking  Professor    Slytherins score    A no.',\n",
       " \"The Slytherins were cheering. No one seemed to have noticed that Harry's broom was behaving strangely. It was carrying  him slowly higher  away from the game  jerking and twitching as it went.\",\n",
       " \" Dunno what Harry thinks he's doing   Hagrid mumbled. He stared through his binoculars.  If I didn' know better  I'd say he'd lost control of his broom. but he can't have.. \",\n",
       " \"Suddenly  people were pointing up at Harry all over the stands. His broom had started to roll over and over  with him only just managing to hold on. Then the whole crowd gasped. Harry's broom had given a wild jerk and Harry swung off it. He was now dangling from it  holding on with only one hand.\",\n",
       " \" Did something happen to it when Flint blocked him.  Seamus whispered.  Can't have   Hagrid said  his voice shaking.  Can't nothing interfere with a broomstick except powerful Dark magic    no kid could do that to a Nimbus Two Thousand. \",\n",
       " \"At these words  Hermione seized Hagrid's binoculars  but instead of looking up at Harry  she started looking frantically at the crowd.  What are you doing.  moaned Ron  gray faced.  I knew it   Hermione gasped   Snape    look. \",\n",
       " \"Ron grabbed the binoculars. Snape was in the middle of the stands opposite them. He had his eyes fixed on Harry and was muttering nonstop under his breath.  He's doing something    jinxing the broom   said Hermione.  What should we do.   Leave it to me. \",\n",
       " 'Before Ron could say another word  Hermione had disappeared. Ron turned the binoculars back on Harry. His broom was vibrating so hard  it was almost impossible for him to hang on much longer. The whole crowd was on its feet  watching  terrified  as the Weasleys flew up to try and pull Harry safely onto one of their brooms  but it was no good    every time they got near him  the broom would jump higher still. They dropped lower and circled beneath him  obviously hoping to catch him if he fell. Marcus Flint seized the Quaffle and scored five times without anyone noticing.  Come on  Hermione   Ron muttered desperately.',\n",
       " \"Hermione had fought her way across to the stand where Snape stood  and was now racing along the row behind him; she didn't even stop to say sorry as she knocked Professor Quirrell headfirst into the row in front.\",\n",
       " \"Reaching Snape  she crouched down  pulled out her wand  and whispered a few  well  chosen words. Bright blue flames shot from her wand onto the hem of Snape's robes. It took perhaps thirty seconds for Snape to realize that he was on fire.\",\n",
       " 'A sudden yelp told her she had done her job. Scooping the fire off him into a little jar in her pocket  she scrambled back along the row    Snape would never know what had happened.',\n",
       " \"It was enough. Up in the air  Harry was suddenly able to clamber back on to his broom.  Neville  you can look.  Ron said. Neville had been sobbing into Hagrid's jacket for the last five minutes.\",\n",
       " \"Harry was speeding toward the ground when the crowd saw him clap his hand to his mouth as though he was about to be sick    he hit the field on all fours    coughed    and something gold fell into his hand.  I've got the Snitch.  he shouted  waving it above his head  and the game ended in complete confusion.\",\n",
       " \" He didn't catch it  he nearly swallowed it   Flint was still howling twenty minutes later  but it made no difference    Harry hadn't broken any rules and Lee Jordan was still happily shouting the results    Gryffindor had won by one hundred and seventy points to sixty. Harry heard none of this  though. He was being made a cup of strong tea back in Hagrid's hut  with Ron and Hermione.  It was Snape   Ron was explaining   Hermione and I saw him. He was cursing your broomstick  muttering  he wouldn't take his eyes off you. \",\n",
       " \" Rubbish   said Hagrid  who hadn't heard a word of what had gone on next to him in the stands.  Why would Snape do somethin' like that.  Harry  Ron  and Hermione looked at one another  wondering what to tell him. Harry decided on the truth.\",\n",
       " \" I found out something about him   he told Hagrid.  He tried to get past that three headed dog on Halloween. It bit him. We think he was trying to steal whatever it's guarding.  Hagrid dropped the teapot.  How do you know about Fluffy.  he said.  Fluffy. \",\n",
       " \" Yeah    he's mine    bought him off a Greek chappie I met in the pub las' year    I lent him to Dumbledore to guard the  Yes.  said Harry eagerly.  Now  don't ask me anymore   said Hagrid gruffly.  That's top secret  that is. \",\n",
       " \" But Snape's trying to steal it.   Rubbish   said Hagrid again.  Snape's a Hogwarts teacher  he'd do nothin' of the sort.   So why did he just try and kill Harry.  cried Hermione.\",\n",
       " \"The afternoon's events certainly seemed to have changed her mind about Snape. I know a jinx when I see one  Hagrid  I've read all about them. You've got to keep eye contact  and Snape wasn't blinking at all  I saw him. \",\n",
       " \" I'm tellin' yeh  yer wrong.  said Hagrid hotly.  I don' know why Harry's broom acted like that  but Snape wouldn' try an' kill a student. Now  listen to me  all three of yeh    yer meddlin' in things that don' concern yeh. It's dangerous. You forget that dog  an' you forget what it's guardin'  that's between Professor Dumbledore an' Nicolas Flamel      Aha.  said Harry   so there's someone called Nicolas Flamel involved  is there.  Hagrid looked furious with himself.\",\n",
       " 'Christmas was coming. One morning in mid December  Hogwarts woke to find itself covered in several feet of snow. The lake froze solid and the Weasley twins were punished for bewitching several snowballs so that they followed Quirrell around  bouncing off the back of his turban. The few owls that managed to battle their way through the stormy sky to deliver mail had to be nursed back to health by Hagrid before they could fly off again.',\n",
       " 'No one could wait for the holidays to start. While the Gryffindor common room and the Great Hall had roaring fires  the drafty corridors had become icy and a bitter wind rattled the windows in the classrooms.',\n",
       " \"Worst of all were Professor Snape's classes down in the dungeons  where their breath rose in a mist before them and they kept as close as possible to their hot cauldrons.\",\n",
       " \" I do feel so sorry   said Draco Malfoy  one Potions class   for all those people who have to stay at Hogwarts for Christmas because they're not wanted at home.  He was looking over at Harry as he spoke. Crabbe and Goyle chuckled. Harry  who was measuring out powdered spine of lionfish  ignored them.\",\n",
       " \"Malfoy had been even more unpleasant than usual since the Quidditch match. Disgusted that the Slytherins had lost  he had tried to get everyone laughing at how a wide mouthed tree frog would be replacing Harry as Seeker next. Then he'd realized that nobody found this funny  because they were all so impressed at the way Harry had managed to stay on his bucking broomstick. So Malfoy  jealous and angry  had gone back to taunting Harry about having no proper family. It was true that Harry wasn't going back to Privet Drive for Christmas.\",\n",
       " \"Professor McGonagall had come around the week before  making a list of students who would be staying for the holidays  and Harry had signed up at once. He didn't feel sorry for himself at all; this would probably be the best Christmas he'd ever had. Ron and his brothers were staying  too  because Mr. and Mrs. Weasley were going to Romania to visit Charlie.\",\n",
       " \"When they left the dungeons at the end of Potions  they found a large fir tree blocking the corridor ahead. Two enormous feet sticking out at the bottom and a loud puffing sound told them that Hagrid was behind it.  Hi  Hagrid  want any help.  Ron asked  sticking his head through the branches.  Nah  I'm all right  thanks  Ron. \",\n",
       " \" Would you mind moving out of the way.  came Malfoys cold drawl from behind them.  Are you trying to earn some extra money  Weasley. Hoping to be gamekeeper yourself when you leave Hogwarts  I suppose    that hut of Hagrid's must seem like a palace compared to what your family's used to.  Ron dived at Malfoy just as Snape came up the stairs.  WEASLEY. \",\n",
       " \"Ron let go of the front of Malfoy's robes.  He was provoked  Professor Snape   said Hagrid  sticking his huge hairy face out from behind the tree.  Malfoy was insultin' his family. \",\n",
       " \" Be that as it may  fighting is against Hogwarts rules  Hagrid   said Snape silkily.  Five points from Gryffindor  Weasley  and be grateful it isn't more. Move along  all of you. \",\n",
       " \"Malfoy  Crabbe  and Goyle pushed roughly past the tree  scattering needles everywhere and smirking.  I'll get him   said Ron  grinding his teeth at Malfoy's back   one of these days  I'll get him    \",\n",
       " \" I hate them both   said Harry   Malfoy and Snape.   Come on  cheer up  it's nearly Christmas   said Hagrid.  Tell yeh what  come with me an' see the Great Hall  looks a treat. \",\n",
       " 'So the three of them followed Hagrid and his tree off to  the Great Hall  where Professor McGonagall and Professor Flitwick were busy with the Christmas decorations.  Ah  Hagrid  the last tree    put it in the far corner  would you. ',\n",
       " 'The hall looked spectacular. Festoons of holly and mistletoe hung all around the walls  and no less than twelve towering Christmas trees stood around the room  some sparkling with tiny icicles  some glittering with hundreds of candles.',\n",
       " \" How many days you got left until yer holidays.  Hagrid asked.  Just one   said Hermione.  And that reminds me  Harry  Ron  we've got half an hour before lunch  we should be in the library. \",\n",
       " \" Oh yeah  you're right   said Ron  tearing his eyes away from Professor Flitwick  who had golden bubbles blossoming out of his wand and was trailing them over the branches of the new tree.\",\n",
       " \" The library.  said Hagrid  following them out of the hall.  Just before the holidays. Bit keen  aren't yeh.   Oh  we're not working   Harry told him brightly.  Ever since you mentioned Nicolas Flamel we've been trying to find out who he is. \",\n",
       " \" You what.  Hagrid looked shocked.  Listen here    I've told yeh    drop it. It's nothin' to you what that dog's guardin'.   We just want to know who Nicolas Flamel is  that's all   said Hermione.\",\n",
       " \" Unless you'd like to tell us and save us the trouble.  Harry added.  We must've been through hundreds of books already and we can't find him anywhere    just give us a hint    I know I've read his name somewhere.   I'm sayin' nothin  said Hagrid flatly.  Just have to find out for ourselves  then   said Ron  and they left Hagrid looking disgruntled and hurried off to the library.\",\n",
       " \"They had indeed been searching books for Flamel's name ever since Hagrid had let it slip  because how else were they going to find out what Snape was trying to steal. The trouble was  it was very hard to know where to begin  not knowing what Flamel might have done to get himself into a book. He wasn't in Great Wizards of the Twentieth Century  or Notable Magical Names of Our Time; he was missing  too  from Important Modern Magical Discoveries  and A Study of Recent Developments in Wizardry. And then  of course  there was the sheer size of the library; tens of thousands of books; thousands of shelves; hundreds of narrow rows.\",\n",
       " \"Hermione took out a list of subjects and titles she had decided to search while Ron strode off down a row of books and started pulling them off the shelves at random. Harry wandered over to the Restricted Section. He had been wondering for a while if Flamel wasn't somewhere in there. Unfortunately  you needed a specially signed note from one of the teachers to look in any of the restricted books  and he knew he'd never get one. These were the books containing powerful Dark Magic never taught at Hogwarts  and only read by older students studying advanced Defense Against the Dark Arts.  What are you looking for  boy.   Nothing   said Harry. Madam Pince the librarian brandished a feather duster at him.  You'd better get out  then. Go on    out. \",\n",
       " \"Wishing he'd been a bit quicker at thinking up some story  Harry left the library. He  Ron  and Hermione had already agreed they'd better not ask Madam Pince where they could find Flamel. They were sure she'd be able to tell them  but they couldn't risk Snape hearing what they were up to.\",\n",
       " \"Harry waited outside in the corridor to see if the other two had found anything  but he wasn't very hopeful. They had been looking for two weeks  after A  but as they only had odd moments between lessons it wasn't surprising they'd found nothing. What they really needed was a nice long search without Madam Pince breathing down their necks. Five minutes later  Ron and Hermione joined him  shaking their heads. They went off to lunch.\",\n",
       " \" You will keep looking while I'm away  won't you.  said Hermione.  And send me an owl if you find anything.   And you could ask your parents if they know who Flamel is   said Ron.  It'd be safe to ask them.   Very safe  as they're both dentists   said Hermione.\",\n",
       " \"Once the holidays had started  Ron and Harry were having too good a time to think much about Flamel. They had the dormitory to themselves and the common room was far emptier than usual  so they were able to get the good armchairs by the fire. They sat by the hour eating anything they could spear on a toasting fork    bread  English muffins  marshmallows    and plotting ways of getting Malfoy expelled  which were fun to talk about even if they wouldn't work.\",\n",
       " \"Ron also started teaching Harry wizard chess. This was exactly like Muggle chess except that the figures were alive  which made it a lot like directing troops in battle. Ron's set was very old and battered.\",\n",
       " \"Like everything else he owned  it had once belonged to someone else in his family    in this case  his grandfather. However  old chessmen weren't a drawback at all. Ron knew them so well he never had trouble getting them to do what he wanted.\",\n",
       " \"Harry played with chessmen Seamus Finnigan had lent him  and they didn't trust him at all. He wasn't a very good player yet and they kept shouting different bits of advice at him  which was confusing.  Don't send me there  can't you see his knight. Send him  we can afford to lose him.  On Christmas Eve  Harry went to bed looking forward to the next day for the food and the fun  but not expecting any presents at all.\",\n",
       " 'When he woke early in the morning  however  the first thing he saw was a small pile of packages at the foot of his bed.  Merry Christmas   said Ron sleepily as Harry scrambled out of bed and pulled on his bathrobe.',\n",
       " \" You  too   said Harry.  Will you look at this. I've got some presents.   What did you expect  turnips.  said Ron  turning to his own pile  which was a lot bigger than Harry's.\",\n",
       " 'Harry picked up the top parcel. It was wrapped in thick brown paper and scrawled across it was To Harry  from Hagrid. Inside was a roughly cut wooden flute. Hagrid had obviously whittled it himself. Harry blew it    it sounded a bit like an owl. A second  very small parcel contained a note.',\n",
       " \"We received your message and enclose your Christmas present. From Uncle Vernon and Aunt Petunia. Taped to the note was a fifty pence piece.  That's friendly   said Harry. Ron was fascinated by the fifty pence.\",\n",
       " \" Weird.  he said  'NMat a shape. This is money.   You can keep it   said Harry  laughing at how pleased Ron was.  Hagrid and my aunt and uncle    so who sent these. \",\n",
       " \" I think I know who that one's from   said Ron  turning a bit pink and pointing to a very lumpy parcel.  My mom. I told her you didn't expect any presents and    oh  no   he groaned   she's made you a Weasley sweater.  Harry had torn open the parcel to find a thick  hand knitted sweater in emerald green and a large box of homemade fudge.\",\n",
       " \" Every year she makes us a sweater   said Ron  unwrapping his own   and mine's always maroon.   That's really nice of her   said Harry  trying the fudge  which was very tasty. His next present also contained candy    a large box of Chocolate Frogs from Hermione.\",\n",
       " 'This only left one parcel. Harry picked it up and felt it. It was very light. He unwrapped it. Something fluid and silvery gray went slithering to the floor where it lay in gleaming folds. Ron gasped.',\n",
       " \" I've heard of those   he said in a hushed voice  dropping the box of Every Flavor Beans he'd gotten from Hermione.  If that's what I think it is    they're really rare  and really valuable.   What is it.  Harry picked the shining  silvery cloth off the floor. It was strange to the touch  like water woven into material.\",\n",
       " \" It's an invisibility cloak   said Ron  a look of awe on his face.  I'm sure it is    try it on.  Harry threw the cloak around his shoulders and Ron gave a yell.  It is. Look down. \",\n",
       " \"Harry looked down at his feet  but they were gone. He dashed to the mirror. Sure enough  his reflection looked back at him  just his head suspended in midair  his body completely invisible. He pulled the cloak over his head and his reflection vanished completely.  There's a note.  said Ron suddenly.  A note fell out of it. \",\n",
       " 'Harry pulled off the cloak and seized the letter. Written in narrow  loopy writing he had never seen before were the following words: Your father left this in my possession before he died. It is time it was returned to you. Use it well.',\n",
       " \"A Very Merry Christmas to you. There was no signature. Harry stared at the note. Ron was admiring the cloak.  I'd give anything for one of these   he said.  Anything. What's the matter. \",\n",
       " \" Nothing   said Harry. He felt very strange. Who had sent the cloak. Had it really once belonged to his father. Before he could say or think anything else  the dormitory door was flung open and Fred and George Weasley bounded in. Harry stuffed the cloak quickly out of sight. He didn't feel like sharing it with anyone else yet.  Merry Christmas.   Hey  look    Harry's got a Weasley sweater  too. \",\n",
       " \"Fred and George were wearing blue sweaters  one with a large yellow F on it  the other a G.  Harry's is better than ours  though   said Fred  holding up Harry's sweater.  She obviously makes more of an effort if you're not family. \",\n",
       " \" Why aren't you wearing yours  Ron.  George demanded.  Come on  get it on  they're lovely and warm.   I hate maroon   Ron moaned halfheartedly as he pulled it over his head.\",\n",
       " \" You haven't got a letter on yours   George observed.  I suppose she thinks you don't forget your name. But we're not stupid    we know we're called Gred and Forge.   What's all th is noise.\",\n",
       " 'Percy Weasley stuck his head through the door  looking disapproving. He had clearly gotten halfway through unwrapping his presents as he  too  carried a lumpy sweater over his arm  which Fred seized.',\n",
       " \" P for prefect. Get it on  Percy  come on  we're all wearing ours  even Harry got one.   I    don't    want said Percy thickly  as the twins forced the sweater over his head  knocking his glasses askew.\",\n",
       " \" And you're not sitting with the prefects today  either   said George.  Christmas is a time for family.  They frog marched Percy from the room  his arms pinned to his side by his sweater.\",\n",
       " \"Harry had never in all his life had such a Christmas dinner. A hundred fat  roast turkeys; mountains of roast and boiled potatoes; platters of chipolatas; tureens of buttered peas  silver boats of thick  rich gravy and cranberry sauce    and stacks of wizard crackers every few feet along the table. These fantastic party favors were nothing like the feeble Muggle ones the Dursleys usually bought  with their little plastic toys and their flimsy paper hats inside. Harry pulled a wizard cracker with Fred and it didn't just bang  it went off with a blast like a cannon and engulfed them all in a cloud of blue smoke  while from the inside exploded a rear admiral's hat and several live  white mice. Up at the High Table  Dumbledore had swapped his pointed wizard's hat for a flowered bonnet  and was chuckling merrily at a joke Professor Flitwick had just read him.\",\n",
       " \"Flaming Christmas puddings followed the turkey. Percy nearly broke his teeth on a silver sickle embedded in his slice. Harry watched Hagrid getting redder and redder in the face as he called for more wine  finally kissing Professor McGonagall on the cheek  who  to Harry's amazement  giggled and blushed  her top hat lopsided.\",\n",
       " \"When Harry finally left the table  he was laden down with a stack of things out of the crackers  including a pack of nonexplodable  luminous balloons  a Grow Your Own Warts kit  and his own new wizard chess set. The white mice had disappeared and Harry had a nasty feeling they were going to end up as Mrs. Norris's Christmas dinner.\",\n",
       " \"Harry and the Weasleys spent a happy afternoon having a furious snowball fight on the grounds. Then  cold  wet  and gasping for breath  they returned to the fire in the Gryffindor common room  where Harry broke in his new chess set by losing spectacularly to Ron. He suspected he wouldn't have lost so badly if Percy hadn't tried to help him so much.\",\n",
       " \"After a meal of turkey sandwiches  crumpets  trifle  and Christmas cake  everyone felt too full and sleepy to do much before bed except sit and watch Percy chase Fred and George all over Gryffindor tower because they'd stolen his prefect badge.\",\n",
       " \"It had been Harry's best Christmas day ever. Yet something had been nagging at the back of his mind all day. Not until he climbed into bed was he free to think about it: the invisibility cloak and whoever had sent it.\",\n",
       " \"Ron  full of turkey and cake and with nothing mysterious to bother him  fell asleep almost as soon as he'd drawn the curtains of his four poster. Harry leaned over the side of his own bed and pulled the cloak out from under it. His father's. this had been his father's. He let the material flow over his hands  smoother than silk  light as air. Use it well  the note had said.\",\n",
       " 'He had to try it  now. He slipped out of bed and wrapped the cloak around himself. Looking down at his legs  he saw only moonlight and shadows. It was a very funny feeling. Use it well.',\n",
       " 'Suddenly  Harry felt wide awake. The whole of Hogwarts was open to him in this cloak. Excitement flooded through him as he stood there in the dark and silence. He could go anywhere in this  anywhere  and Filch would never know.',\n",
       " \"Ron grunted in his sleep. Should Harry wake him. Something held him back    his father's cloak    he felt that this time    the first time    he wanted to use it alone.\",\n",
       " \"He crept out of the dormitory  down the stairs  across the common room  and climbed through the portrait hole.  Who's there.  squawked the Fat Lady. Harry said nothing. He walked quickly down the corridor.\",\n",
       " \"Where should he go. He stopped  his heart racing  and thought. And then it came to him. The Restricted Section in the library. He'd be able to read as long as he liked  as long as it took to find out who Flamel was. He set off  drawing the invisibility cloak tight around him as he walked.\",\n",
       " 'The library was pitch black and very eerie. Harry lit a lamp to see his way along the rows of books. The lamp looked as if it was floating along in midair  and even though Harry could feel his arm supporting it  the sight gave him the creeps.',\n",
       " \"The Restricted Section was right at the back of the library. Step ping carefully over the rope that separated these books from the rest of the library  he held up his lamp to read the titles. They didn't tell him much. Their peeling  faded gold letters spelled words in languages Harry couldn't understand. Some had no title at all.\",\n",
       " \"One book had a dark stain on it that looked horribly like blood. The hairs on the back of Harry's neck prickled. Maybe he was imagining it  maybe not  but he thought a faint whispering was coming from the books  as though they knew someone was there who shouldn't be.\",\n",
       " 'He had to start somewhere. Setting the lamp down carefully on the floor  he looked along the bottom shelf for an interestinglooking book. A large black and silver volume caught his eye. He pulled it out with difficulty  because it was very heavy  and  balancing it on his knee  let it fall open.',\n",
       " \"A piercing  bloodcurdling shriek split the silence    the book was screaming. Harry snapped it shut  but the shriek went on and on  one high  unbroken  earsplitting note. He stumbled backward and knocked over his lamp  which went out at once. Panicking  he heard footsteps coming down the corridor outside    stuffing the shrieking book back on the shelf  he ran for it. He passed Filch in the doorway; Filch's pale  wild eyes looked straight through him  and Harry slipped under Filch's outstretched arm and streaked off up the corridor  the book's shrieks still ringing in his ears.\",\n",
       " \"He came to a sudden halt in front of a tall suit of armor. He had been so busy getting away from the library  he hadn't paid attention to where he was going. Perhaps because it was dark  he didn't recognize where he was at all. There was a suit of armor near the kitchens  he knew  but he must be five floors above there.  You asked me to come directly to you  Professor  if anyone was wandering around at night  and somebody's been in the library Restricted Section. \",\n",
       " \"Harry felt the blood drain out of his face. Wherever he was  Filch must know a shortcut  because his soft  greasy voice was getting nearer  and to his horror  it was Snape who replied   The Restricted Section. Well  they can't be far  we'll catch them. \",\n",
       " \"Harry stood rooted to the spot as Filch and Snape came around the corner ahead. They couldn't see him  of course  but it was a narrow corridor and if they came much nearer they'd knock right into him    the cloak didn't stop him from being solid.\",\n",
       " 'He backed away as quietly as he could. A door stood ajar to his left. It was his only hope. He squeezed through it  holding his breath  trying not to move it  and to his relief he managed to get inside the room without their noticing anything. They walked straight past  and Harry leaned against the wall  breathing deeply  listening to their footsteps dying away. That had been close  very close. It was a few seconds before he noticed anything about the room he had hidden in.',\n",
       " \"It looked like an unused classroom. The dark shapes of desks and chairs were piled against the walls  and there was an upturned wastepaper basket    but propped against the wall facing him was something that didn't look as if it belonged there  something that looked as if someone had just put it there to keep it out of the way.\",\n",
       " 'It was a magnificent mirror  as high as the ceiling  with an ornate gold frame  standing on two clawed feet. There was an inscription carved around the top: Erised stra ehru oyt ube cafru oyt on wohsi. His panic fading now that there was no sound of Filch and Snape  Harry moved nearer to the mirror  wanting to look at himself but see no reflection again. He stepped in front of it.',\n",
       " 'He had to clap his hands to his mouth to stop himself from screaming. He whirled around. His heart was pounding far more furiously than when the book had screamed    for he had seen not only himself in the mirror  but a whole crowd of people standing right behind him. But the room was empty. Breathing very fast  he turned slowly back to the mirror.',\n",
       " \"There he was  reflected in it  white and scared looking  and there  reflected behind him  were at least ten others. Harry looked over his shoulder    but still  no one was there. Or were they all invisible  too. Was he in fact in a room full of invisible people and this mirror's trick was that it reflected them  invisible or not. He looked in the mirror again. A woman standing right behind his reflection was smiling at him and waving. He reached out a hand and felt the air behind him. If she was really there  he'd touch her  their reflections were so close together  but he felt only air    she and the others existed only in the mirror.\",\n",
       " \"She was a very pretty woman. She had dark red hair and her eyes    her eyes are just like mine  Harry thought  edging a little closer to the glass. Bright green    exactly the same shape  but then he noticed that she was crying; smiling  but crying at the same time. The tall  thin  black haired man standing next to her put his arm around her. He wore glasses  and his hair was very untidy. It stuck up at the back  just as Harry's did. Harry was so close to the mirror now that his nose was nearly touching that of his reflection.  Mom.  he whispered.  Dad. \",\n",
       " \"They just looked at him  smiling. And slowly  Harry looked into the faces of the other people in the mirror  and saw other pairs of green eyes like his  other noses like his  even a little old man who looked as though he had Harry's knobbly knees    Harry was looking at his family  for the first time in his life.\",\n",
       " 'The Potters smiled and waved at Harry and he stared hungrily back at them  his hands pressed flat against the glass as though he was hoping to fall right through it and reach them. He had a powerful kind of ache inside him  half joy  half terrible sadness.',\n",
       " \"How long he stood there  he didn't know. The reflections did not fade and he looked and looked until a distant noise brought him back to his senses. He couldn't stay here  he had to find his way back to bed. He tore his eyes away from his mother's face  whispered   I'll come back   and hurried from the room.  You could have woken me up   said Ron  crossly.  You can come tonight  I'm going back  I want to show you the mirror.\",\n",
       " \" I'd like to see your mom and dad   Ron said eagerly.  And I want to see all your family  all the Weasleys  you'll be able to show me your other brothers and everyone. \",\n",
       " \" You can see them any old time   said Ron.  Just come round my house this summer. Anyway  maybe it only shows dead people. Shame about not finding Flamel  though. Have some bacon or something  why aren't you eating anything. \",\n",
       " \"Harry couldn't eat. He had seen his parents and would be seeing them again tonight. He had almost forgotten about Flamel. It didn't seem very important anymore. Who cared what the three headed dog was guarding. What did it matter if Snape stole it  really.  Are you all right.  said Ron.  You look odd. \",\n",
       " \"What Harry feared most was that he might not be able to find the mirror room again. With Ron covered in the cloak  too  they had to walk much more slowly the next night. They tried retracing Harry's route from the library  wandering around the dark passageways for nearly an hour.  I'm freezing   said Ron.  Let's forget it and go back.   No.  Harry hissed. I know it's here somewhere. \",\n",
       " \"They passed the ghost of a tall witch gliding in the opposite direction  but saw no one else. just as Ron started moaning that his feet were dead with cold  Harry spotted the suit of armor.  It's here    just here    yes. \",\n",
       " 'They pushed the door open. Harry dropped the cloak from around his shoulders and ran to the mirror. There they were. His mother and father beamed at the sight of him.',\n",
       " \" See.  Harry whispered.  I can't see anything.   Look. Look at them all. there are loads of them..   I can only see you.   Look in it properly  go on  stand where I am. \",\n",
       " \"Harry stepped aside  but with Ron in front of the mirror  he couldn't see his family anymore  just Ron in his paisley pajamas. Ron  though  was staring transfixed at his image.\",\n",
       " \" Look at me.  he said.  Can you see all your family standing around you.   No    I'm alone    but I'm different    I look older    and I'm head boy.   What. \",\n",
       " \" I am    I'm wearing the badge like Bill used to    and I'm holding the house cup and the Quidditch cup    I'm Quidditch captain  too. Ron tore his eyes away from this splendid sight to look excitedly at Harry.\",\n",
       " ' Do you think this mirror shows the future.   How can it. All my family are dead    let me have another look      You had it to yourself all last night  give me a bit more time. ',\n",
       " \" You're only holding the Quidditch cup  what's interesting about that. I want to see my parents.   Don't push me     A sudden noise outside in the corridor put an end to their discussion. They hadn't realized how loudly they had been talking.  Quick. \",\n",
       " 'Ron threw the cloak back over them as the luminous eyes of Mrs. Norris came round the door. Ron and Harry stood quite still  both thinking the same thing    did the cloak work on cats. After what seemed an age  she turned and left.',\n",
       " \" This isn't safe    she might have gone for Filch  I bet she heard us. Come on.  And Ron pulled Harry out of the room. The snow still hadn't melted the next morning.\",\n",
       " \" Want to play chess  Harry.  said Ron.  No.   Why don't we go down and visit Hagrid.   No. you go.   I know what you're thinking about  Harry  that mirror. Don't go back tonight.   Why not. \",\n",
       " \" I dunno  I've just got a bad feeling about it    and anyway  you've had too many close shaves already. Filch  Snape  and Mrs. Norris are wandering around. So what if they can't see you. What if they walk into you. What if you knock something over.   You sound like Hermione. \",\n",
       " \" I'm serious  Harry  don't go.  But Harry only had one thought in his head  which was to get back in front of the mirror  and Ron wasn't going to stop him.\",\n",
       " \"That third night he found his way more quickly than before. He was walking so fast he knew he was making more noise than was wise  but he didn't meet anyone.\",\n",
       " 'And there were his mother and father smiling at him again  and one of his grandfathers nodding happily. Harry sank down to sit on the floor in front of the mirror. There was nothing to stop him from staying here all night with his family. Nothing at all. Except     So    back again  Harry. ',\n",
       " \"Harry felt as though his insides had turned to ice. He looked behind him. Sitting on one of the desks by the wall was none other than Albus Dumbledore. Harry must have walked straight past him  so desperate to get to the mirror he hadn't noticed him.      I didn't see you  sir.   Strange how nearsighted being invisible can make you   said Dumbledore  and Harry was relieved to see that he was smiling.\",\n",
       " \" So   said Dumbledore  slipping off the desk to sit on the floor with Harry   you  like hundreds before you  have discovered the delights of the Mirror of Erised.   I didn't know it was called that  Sir. \",\n",
       " \" But I expect you've realized by now what it does.   It    well    it shows me my family      And it showed your friend Ron himself as head boy. \",\n",
       " \" How did you know   .   I don't need a cloak to become invisible   said Dumbledore gently.  Now  can you think what the Mirror of Erised shows us all.  Harry shook his head.\",\n",
       " ' Let me explain. The happiest man on earth would be able to use the Mirror of Erised like a normal mirror  that is  he would look into it and see himself exactly as he is. Does that help.  Harry thought. Then he said slowly   It shows us what we want. whatever we want. ',\n",
       " ' Yes and no   said Dumbledore quietly.  It shows us nothing more or less than the deepest  most desperate desire of our hearts. You  who have never known your family  see them standing around you. Ronald Weasley  who has always been overshadowed by his brothers  sees himself standing alone  the best of all of them. However  this mirror will give us neither knowledge or truth. Men have wasted away before it  entranced by what they have seen  or been driven mad  not knowing if what it shows is real or even possible.',\n",
       " \" The Mirror will be moved to a new home tomorrow  Harry  and I ask you not to go looking for it again. If you ever do run across it  you will now be prepared. It does not do to dwell on dreams and forget to live  remember that. Now  why don't you put that admirable cloak back on and get off to bed.  Harry stood up.  Sir    Professor Dumbledore. Can I ask you something. \",\n",
       " \" Obviously  you've just done so   Dumbledore smiled.  You may ask me one more thing  however.   What do you see when you look in the mirror.   I. I see myself holding a pair of thick  woolen socks. \",\n",
       " \"Harry stared.  One can never have enough socks   said Dumbledore.  Another Christmas has come and gone and I didn't get a single pair. People will insist on giving me books. \",\n",
       " 'It was only when he was back in bed that it struck Harry that Dumbledore might not have been quite truthful. But then  he thought  as he shoved Scabbers off his pillow  it had been quite a personal question.',\n",
       " \"Dumbledore had convinced Harry not to go looking for the Mirror of Erised again  and for the rest of the Christmas holidays the invisibility cloak stayed folded at the bottom of his trunk. Harry wished he could forget what he'd seen in the mirror as easily  but he couldn't. He started having nightmares. Over and over again he dreamed about his parents disappearing in a flash of green light  while a high voice cackled with laughter.  You see  Dumbledore was right  that mirror could drive you mad   said Ron  when Harry told him about these drearns.\",\n",
       " \"Hermione  who came back the day before term started  took a different view of things. She was torn between horror at the idea of Harry being out of bed  roaming the school three nights in a row   If Filch had caught you.    and disappointment that he hadn't at least found out who Nicolas Flamel was. They had almost given up hope of ever finding Flamel in a li  brary book  even though Harry was still sure he'd read the name somewhere.\",\n",
       " 'Once term had started  they were back to skimming through books for ten minutes during their breaks. Harry had even less time than the other two  because Quidditch practice had started again.',\n",
       " \"Wood was working the team harder than ever. Even the endless rain that had replaced the snow couldn't dampen his spirits. The Weasleys complained that Wood was becoming a fanatic  but Harry was on Wood's side. If they won their next match  against Hufflepuff  they would overtake Slytherin in the house championship for the first time in seven years. Quite apart from wanting to win  Harry found that he had fewer nightmares when he was tired out after training.\",\n",
       " \"Then  during one particularly wet and muddy practice session  Wood gave the team a bit of bad news. He'd just gotten very angry with the Weasleys  who kept dive bombing each other and pretending to fall off their brooms.\",\n",
       " \" Will you stop messing around.  he yelled.  That's exactly the sort of thing that'll lose us the match. Snape's refereeing this time  and he'll be looking for any excuse to knock points off Gryffindor.  George Weasley really did fall off his broom at these words.\",\n",
       " \" Snape's refereeing.  he spluttered through a mouthful of mud.  When's he ever refereed a Quidditch match. He's not going to be fair if we might overtake Slytherin.  The rest of the team landed next to George to complain  too.\",\n",
       " \" It's not my fault   said Wood.  We've just got to make sure we play a clean game  so Snape hasn't got an excuse to pick on us.  Which was all very well  thought Harry  but he had another reason for not wanting Snape near him while he was playing Quidditch..\",\n",
       " 'The rest of the team hung back to talk to one another as usual at the end of practice  but Harry headed straight back to the Gryffindor common room  where he found Ron and Hermione playing chess. Chess was the only thing Hermione ever lost at  something Harry and Ron thought was very good for her.',\n",
       " \" Don't talk to me for a moment   said Ron when Harry sat down next to him   I need to concen     He caught sight of Harry's face.  What's the matter with you. You look terrible. \",\n",
       " \"Speaking quietly so that no one else would hear  Harry told the other two about Snape's sudden  sinister desire to be a Quidditch referee.  Don't play   said Hermione at once.  Say you're ill   said Ron.\",\n",
       " \" Pretend to break your leg   Hermione suggested.  Really break your leg   said Ron.  I can't   said Harry.  There isn't a reserve Seeker. If I back out  Gryffindor can't play at all. \",\n",
       " \"At that moment Neville toppled into the common room. How he had managed to climb through the portrait hole was anyone's guess  because his legs had been stuck together with what they recognized at once as the Leg Locker Curse. He must have had to bunny hop all the way up to Gryffindor tower.\",\n",
       " ...]"
      ]
     },
     "execution_count": 22,
     "metadata": {},
     "output_type": "execute_result"
    }
   ],
   "source": [
    "H"
   ]
  },
  {
   "cell_type": "code",
   "execution_count": null,
   "metadata": {},
   "outputs": [],
   "source": []
  },
  {
   "cell_type": "markdown",
   "metadata": {},
   "source": [
    "### Creating our own tokenizer based on HP data"
   ]
  },
  {
   "cell_type": "code",
   "execution_count": 25,
   "metadata": {},
   "outputs": [
    {
     "data": {
      "application/vnd.jupyter.widget-view+json": {
       "model_id": "db0fc7828c1a4f2090b4008a71749299",
       "version_major": 2,
       "version_minor": 0
      },
      "text/plain": [
       "  0%|          | 0/20930 [00:00<?, ?it/s]"
      ]
     },
     "metadata": {},
     "output_type": "display_data"
    }
   ],
   "source": [
    "from tqdm.auto import tqdm\n",
    "\n",
    "text_data = []\n",
    "file_count = 0\n",
    "\n",
    "for sample in tqdm(H):\n",
    "#    print(sample)\n",
    "    sample = sample.replace('\\n', '')\n",
    "    text_data.append(sample)\n",
    "    if len(text_data) == 10_000:\n",
    "        # once we git the 10K mark, save to file\n",
    "        with open(f'C:/Users/chloe/OneDrive/Bureau/3A/NLP/Git/NLP_Project/text_{file_count}.txt', 'w', encoding='utf-8') as fp:\n",
    "            fp.write('\\n'.join(text_data))\n",
    "        text_data = []\n",
    "        file_count += 1\n",
    "# after saving in 10K chunks, we will have ~2082 leftover samples, we save those now too\n",
    "with open(f'C:/Users/chloe/OneDrive/Bureau/3A/NLP/Git/NLP_Project/text_{file_count}.txt', 'w', encoding='utf-8') as fp:\n",
    "    fp.write('\\n'.join(text_data))"
   ]
  },
  {
   "cell_type": "code",
   "execution_count": 27,
   "metadata": {},
   "outputs": [],
   "source": [
    "from pathlib import Path\n",
    "paths = [str(x) for x in Path('C:/Users/chloe/OneDrive/Bureau/3A/NLP/Git/NLP_Project').glob('**/*.txt')]"
   ]
  },
  {
   "cell_type": "code",
   "execution_count": 28,
   "metadata": {},
   "outputs": [],
   "source": [
    "from tokenizers import ByteLevelBPETokenizer\n",
    "\n",
    "tokenizer = ByteLevelBPETokenizer()"
   ]
  },
  {
   "cell_type": "code",
   "execution_count": 31,
   "metadata": {},
   "outputs": [],
   "source": [
    "tokenizer.train(files=paths[:3], vocab_size=30_522, min_frequency=2,\n",
    "                special_tokens=['<s>', '<pad>', '</s>', '<unk>', '<mask>'])\n",
    "\n",
    "# We train only on the first 10 000 words"
   ]
  },
  {
   "cell_type": "code",
   "execution_count": 33,
   "metadata": {},
   "outputs": [
    {
     "data": {
      "text/plain": [
       "['harrypotbert\\\\vocab.json', 'harrypotbert\\\\merges.txt']"
      ]
     },
     "execution_count": 33,
     "metadata": {},
     "output_type": "execute_result"
    }
   ],
   "source": [
    "import os\n",
    "\n",
    "os.mkdir('./harrypotbert')\n",
    "\n",
    "tokenizer.save_model('harrypotbert')"
   ]
  },
  {
   "cell_type": "code",
   "execution_count": 36,
   "metadata": {},
   "outputs": [
    {
     "name": "stderr",
     "output_type": "stream",
     "text": [
      "The tokenizer class you load from this checkpoint is not the same type as the class this function is called from. It may result in unexpected tokenization. \n",
      "The tokenizer class you load from this checkpoint is 'BertTokenizer'. \n",
      "The class this function is called from is 'RobertaTokenizer'.\n"
     ]
    }
   ],
   "source": [
    "from transformers import RobertaTokenizer\n",
    "\n",
    "tokenizer = RobertaTokenizer.from_pretrained('harrypotbert', max_len=512)"
   ]
  },
  {
   "cell_type": "code",
   "execution_count": 37,
   "metadata": {},
   "outputs": [],
   "source": [
    "tokens = tokenizer('Hello Harry, how is your scar feeling?')"
   ]
  },
  {
   "cell_type": "code",
   "execution_count": 38,
   "metadata": {},
   "outputs": [
    {
     "name": "stdout",
     "output_type": "stream",
     "text": [
      "{'input_ids': [0, 17620, 313, 16, 639, 492, 576, 1351, 1497, 35, 2], 'attention_mask': [1, 1, 1, 1, 1, 1, 1, 1, 1, 1, 1]}\n"
     ]
    }
   ],
   "source": [
    "print(tokens)"
   ]
  },
  {
   "cell_type": "code",
   "execution_count": 39,
   "metadata": {},
   "outputs": [
    {
     "data": {
      "text/plain": [
       "[0, 17620, 313, 16, 639, 492, 576, 1351, 1497, 35, 2]"
      ]
     },
     "execution_count": 39,
     "metadata": {},
     "output_type": "execute_result"
    }
   ],
   "source": [
    "tokens.input_ids"
   ]
  },
  {
   "cell_type": "markdown",
   "metadata": {},
   "source": [
    "### Pipeline to prepare data for prediction"
   ]
  },
  {
   "cell_type": "code",
   "execution_count": 40,
   "metadata": {},
   "outputs": [],
   "source": [
    "with open('C:/Users/chloe/OneDrive/Bureau/3A/NLP/Git/NLP_Project/text_0.txt', 'r', encoding='utf-8') as fp:\n",
    "    lines = fp.read().split('\\n')"
   ]
  },
  {
   "cell_type": "code",
   "execution_count": 47,
   "metadata": {
    "id": "KRNI-NIQl5FM"
   },
   "outputs": [
    {
     "data": {
      "text/plain": [
       "10000"
      ]
     },
     "execution_count": 47,
     "metadata": {},
     "output_type": "execute_result"
    }
   ],
   "source": [
    "len(lines)"
   ]
  },
  {
   "cell_type": "code",
   "execution_count": 42,
   "metadata": {
    "id": "1a2qQe_Sl5OJ"
   },
   "outputs": [
    {
     "data": {
      "text/plain": [
       "2"
      ]
     },
     "execution_count": 42,
     "metadata": {},
     "output_type": "execute_result"
    }
   ],
   "source": [
    "batch = tokenizer(lines, max_length=512, padding='max_length', truncation=True)\n",
    "len(batch)"
   ]
  },
  {
   "cell_type": "code",
   "execution_count": 52,
   "metadata": {},
   "outputs": [],
   "source": [
    "test = [x for x in batch.input_ids]"
   ]
  },
  {
   "cell_type": "code",
   "execution_count": 54,
   "metadata": {},
   "outputs": [
    {
     "data": {
      "text/plain": [
       "10000"
      ]
     },
     "execution_count": 54,
     "metadata": {},
     "output_type": "execute_result"
    }
   ],
   "source": [
    "len(test)"
   ]
  },
  {
   "cell_type": "code",
   "execution_count": 55,
   "metadata": {},
   "outputs": [],
   "source": [
    "import torch\n",
    "\n",
    "labels = torch.tensor([x for x in batch.input_ids])\n",
    "mask = torch.tensor([x for x in batch.attention_mask])"
   ]
  },
  {
   "cell_type": "code",
   "execution_count": 56,
   "metadata": {},
   "outputs": [],
   "source": [
    "# make copy of labels tensor, this will be input_ids\n",
    "input_ids = labels.detach().clone()\n",
    "# create random array of floats with equal dims to input_ids\n",
    "rand = torch.rand(input_ids.shape)\n",
    "# mask random 15% where token is not 0 [PAD], 1 [CLS], or 2 [SEP]\n",
    "mask_arr = (rand < .15) * (input_ids != 0) * (input_ids != 1) * (input_ids != 2)\n",
    "# loop through each row in input_ids tensor (cannot do in parallel)\n",
    "for i in range(input_ids.shape[0]):\n",
    "    # get indices of mask positions from mask array\n",
    "    selection = torch.flatten(mask_arr[i].nonzero()).tolist()\n",
    "    # mask input_ids\n",
    "    input_ids[i, selection] = 3  # our custom [MASK] token == 3"
   ]
  },
  {
   "cell_type": "code",
   "execution_count": 57,
   "metadata": {},
   "outputs": [
    {
     "data": {
      "text/plain": [
       "torch.Size([10000, 512])"
      ]
     },
     "execution_count": 57,
     "metadata": {},
     "output_type": "execute_result"
    }
   ],
   "source": [
    "input_ids.shape"
   ]
  },
  {
   "cell_type": "code",
   "execution_count": 58,
   "metadata": {},
   "outputs": [
    {
     "data": {
      "text/plain": [
       "tensor([   0, 2269,   18,  296,  857,   18, 1158,    3,  299, 2165, 1280,  225,\n",
       "        2592,    3,    3,  419, 4888,    3,  687,  359,    3,  419, 3328, 2450,\n",
       "         225, 3767,    3,  547,  830,    3,  647,  419,  267,  775,  882,  330,\n",
       "         562,    3,  281,  318, 5011,  305,  921, 1976,  665, 5710,    3,  936,\n",
       "         403,  585,  599,  355, 1221,  381, 1925,    3,   18,    2,    1,    1,\n",
       "           1,    1,    1,    1,    1,    1,    1,    1,    1,    1,    1,    1,\n",
       "           1,    1,    1,    1,    1,    1,    1,    1,    1,    1,    1,    1,\n",
       "           1,    1,    1,    1,    1,    1,    1,    1,    1,    1,    1,    1,\n",
       "           1,    1,    1,    1,    1,    1,    1,    1,    1,    1,    1,    1,\n",
       "           1,    1,    1,    1,    1,    1,    1,    1,    1,    1,    1,    1,\n",
       "           1,    1,    1,    1,    1,    1,    1,    1,    1,    1,    1,    1,\n",
       "           1,    1,    1,    1,    1,    1,    1,    1,    1,    1,    1,    1,\n",
       "           1,    1,    1,    1,    1,    1,    1,    1,    1,    1,    1,    1,\n",
       "           1,    1,    1,    1,    1,    1,    1,    1,    1,    1,    1,    1,\n",
       "           1,    1,    1,    1,    1,    1,    1,    1,    1,    1,    1,    1,\n",
       "           1,    1,    1,    1,    1,    1,    1,    1,    1,    1,    1,    1,\n",
       "           1,    1,    1,    1,    1,    1,    1,    1])"
      ]
     },
     "execution_count": 58,
     "metadata": {},
     "output_type": "execute_result"
    }
   ],
   "source": [
    "input_ids[0][:200]\n",
    "# 3 = [MASK]\n",
    "# 1 = [CLS]\n",
    "# 2 = [SEP]\n",
    "# 0 = [PAD]\n",
    "# actually it seems that 1 is the padding token "
   ]
  },
  {
   "cell_type": "code",
   "execution_count": 59,
   "metadata": {},
   "outputs": [],
   "source": [
    "encodings = {'input_ids': input_ids, 'attention_mask': mask,\n",
    "             'labels': labels}"
   ]
  },
  {
   "cell_type": "code",
   "execution_count": 60,
   "metadata": {},
   "outputs": [],
   "source": [
    "class Dataset(torch.utils.data.Dataset):\n",
    "    def __init__(self, encodings):\n",
    "        # store encodings internally\n",
    "        self.encodings = encodings\n",
    "\n",
    "    def __len__(self):\n",
    "        # return the number of samples\n",
    "        return self.encodings['input_ids'].shape[0]\n",
    "\n",
    "    def __getitem__(self, i):\n",
    "        # return dictionary of input_ids, attention_mask, and labels for index i\n",
    "        return {key: tensor[i] for key, tensor in self.encodings.items()}\n"
   ]
  },
  {
   "cell_type": "code",
   "execution_count": 61,
   "metadata": {},
   "outputs": [],
   "source": [
    "dataset = Dataset(encodings)"
   ]
  },
  {
   "cell_type": "code",
   "execution_count": 62,
   "metadata": {},
   "outputs": [],
   "source": [
    "loader = torch.utils.data.DataLoader(dataset, batch_size=16, shuffle=True)"
   ]
  },
  {
   "cell_type": "markdown",
   "metadata": {},
   "source": [
    "### Training the model"
   ]
  },
  {
   "cell_type": "code",
   "execution_count": 63,
   "metadata": {},
   "outputs": [],
   "source": [
    "from transformers import RobertaConfig\n",
    "\n",
    "config = RobertaConfig(\n",
    "    vocab_size=30_522,  # we align this to the tokenizer vocab_size\n",
    "    max_position_embeddings=514,\n",
    "    hidden_size=768,\n",
    "    num_attention_heads=12,\n",
    "    num_hidden_layers=6,\n",
    "    type_vocab_size=1\n",
    ")"
   ]
  },
  {
   "cell_type": "code",
   "execution_count": 64,
   "metadata": {},
   "outputs": [],
   "source": [
    "from transformers import RobertaForMaskedLM\n",
    "\n",
    "model = RobertaForMaskedLM(config)"
   ]
  },
  {
   "cell_type": "code",
   "execution_count": 65,
   "metadata": {},
   "outputs": [
    {
     "data": {
      "text/plain": [
       "RobertaForMaskedLM(\n",
       "  (roberta): RobertaModel(\n",
       "    (embeddings): RobertaEmbeddings(\n",
       "      (word_embeddings): Embedding(30522, 768, padding_idx=1)\n",
       "      (position_embeddings): Embedding(514, 768, padding_idx=1)\n",
       "      (token_type_embeddings): Embedding(1, 768)\n",
       "      (LayerNorm): LayerNorm((768,), eps=1e-12, elementwise_affine=True)\n",
       "      (dropout): Dropout(p=0.1, inplace=False)\n",
       "    )\n",
       "    (encoder): RobertaEncoder(\n",
       "      (layer): ModuleList(\n",
       "        (0): RobertaLayer(\n",
       "          (attention): RobertaAttention(\n",
       "            (self): RobertaSelfAttention(\n",
       "              (query): Linear(in_features=768, out_features=768, bias=True)\n",
       "              (key): Linear(in_features=768, out_features=768, bias=True)\n",
       "              (value): Linear(in_features=768, out_features=768, bias=True)\n",
       "              (dropout): Dropout(p=0.1, inplace=False)\n",
       "            )\n",
       "            (output): RobertaSelfOutput(\n",
       "              (dense): Linear(in_features=768, out_features=768, bias=True)\n",
       "              (LayerNorm): LayerNorm((768,), eps=1e-12, elementwise_affine=True)\n",
       "              (dropout): Dropout(p=0.1, inplace=False)\n",
       "            )\n",
       "          )\n",
       "          (intermediate): RobertaIntermediate(\n",
       "            (dense): Linear(in_features=768, out_features=3072, bias=True)\n",
       "            (intermediate_act_fn): GELUActivation()\n",
       "          )\n",
       "          (output): RobertaOutput(\n",
       "            (dense): Linear(in_features=3072, out_features=768, bias=True)\n",
       "            (LayerNorm): LayerNorm((768,), eps=1e-12, elementwise_affine=True)\n",
       "            (dropout): Dropout(p=0.1, inplace=False)\n",
       "          )\n",
       "        )\n",
       "        (1): RobertaLayer(\n",
       "          (attention): RobertaAttention(\n",
       "            (self): RobertaSelfAttention(\n",
       "              (query): Linear(in_features=768, out_features=768, bias=True)\n",
       "              (key): Linear(in_features=768, out_features=768, bias=True)\n",
       "              (value): Linear(in_features=768, out_features=768, bias=True)\n",
       "              (dropout): Dropout(p=0.1, inplace=False)\n",
       "            )\n",
       "            (output): RobertaSelfOutput(\n",
       "              (dense): Linear(in_features=768, out_features=768, bias=True)\n",
       "              (LayerNorm): LayerNorm((768,), eps=1e-12, elementwise_affine=True)\n",
       "              (dropout): Dropout(p=0.1, inplace=False)\n",
       "            )\n",
       "          )\n",
       "          (intermediate): RobertaIntermediate(\n",
       "            (dense): Linear(in_features=768, out_features=3072, bias=True)\n",
       "            (intermediate_act_fn): GELUActivation()\n",
       "          )\n",
       "          (output): RobertaOutput(\n",
       "            (dense): Linear(in_features=3072, out_features=768, bias=True)\n",
       "            (LayerNorm): LayerNorm((768,), eps=1e-12, elementwise_affine=True)\n",
       "            (dropout): Dropout(p=0.1, inplace=False)\n",
       "          )\n",
       "        )\n",
       "        (2): RobertaLayer(\n",
       "          (attention): RobertaAttention(\n",
       "            (self): RobertaSelfAttention(\n",
       "              (query): Linear(in_features=768, out_features=768, bias=True)\n",
       "              (key): Linear(in_features=768, out_features=768, bias=True)\n",
       "              (value): Linear(in_features=768, out_features=768, bias=True)\n",
       "              (dropout): Dropout(p=0.1, inplace=False)\n",
       "            )\n",
       "            (output): RobertaSelfOutput(\n",
       "              (dense): Linear(in_features=768, out_features=768, bias=True)\n",
       "              (LayerNorm): LayerNorm((768,), eps=1e-12, elementwise_affine=True)\n",
       "              (dropout): Dropout(p=0.1, inplace=False)\n",
       "            )\n",
       "          )\n",
       "          (intermediate): RobertaIntermediate(\n",
       "            (dense): Linear(in_features=768, out_features=3072, bias=True)\n",
       "            (intermediate_act_fn): GELUActivation()\n",
       "          )\n",
       "          (output): RobertaOutput(\n",
       "            (dense): Linear(in_features=3072, out_features=768, bias=True)\n",
       "            (LayerNorm): LayerNorm((768,), eps=1e-12, elementwise_affine=True)\n",
       "            (dropout): Dropout(p=0.1, inplace=False)\n",
       "          )\n",
       "        )\n",
       "        (3): RobertaLayer(\n",
       "          (attention): RobertaAttention(\n",
       "            (self): RobertaSelfAttention(\n",
       "              (query): Linear(in_features=768, out_features=768, bias=True)\n",
       "              (key): Linear(in_features=768, out_features=768, bias=True)\n",
       "              (value): Linear(in_features=768, out_features=768, bias=True)\n",
       "              (dropout): Dropout(p=0.1, inplace=False)\n",
       "            )\n",
       "            (output): RobertaSelfOutput(\n",
       "              (dense): Linear(in_features=768, out_features=768, bias=True)\n",
       "              (LayerNorm): LayerNorm((768,), eps=1e-12, elementwise_affine=True)\n",
       "              (dropout): Dropout(p=0.1, inplace=False)\n",
       "            )\n",
       "          )\n",
       "          (intermediate): RobertaIntermediate(\n",
       "            (dense): Linear(in_features=768, out_features=3072, bias=True)\n",
       "            (intermediate_act_fn): GELUActivation()\n",
       "          )\n",
       "          (output): RobertaOutput(\n",
       "            (dense): Linear(in_features=3072, out_features=768, bias=True)\n",
       "            (LayerNorm): LayerNorm((768,), eps=1e-12, elementwise_affine=True)\n",
       "            (dropout): Dropout(p=0.1, inplace=False)\n",
       "          )\n",
       "        )\n",
       "        (4): RobertaLayer(\n",
       "          (attention): RobertaAttention(\n",
       "            (self): RobertaSelfAttention(\n",
       "              (query): Linear(in_features=768, out_features=768, bias=True)\n",
       "              (key): Linear(in_features=768, out_features=768, bias=True)\n",
       "              (value): Linear(in_features=768, out_features=768, bias=True)\n",
       "              (dropout): Dropout(p=0.1, inplace=False)\n",
       "            )\n",
       "            (output): RobertaSelfOutput(\n",
       "              (dense): Linear(in_features=768, out_features=768, bias=True)\n",
       "              (LayerNorm): LayerNorm((768,), eps=1e-12, elementwise_affine=True)\n",
       "              (dropout): Dropout(p=0.1, inplace=False)\n",
       "            )\n",
       "          )\n",
       "          (intermediate): RobertaIntermediate(\n",
       "            (dense): Linear(in_features=768, out_features=3072, bias=True)\n",
       "            (intermediate_act_fn): GELUActivation()\n",
       "          )\n",
       "          (output): RobertaOutput(\n",
       "            (dense): Linear(in_features=3072, out_features=768, bias=True)\n",
       "            (LayerNorm): LayerNorm((768,), eps=1e-12, elementwise_affine=True)\n",
       "            (dropout): Dropout(p=0.1, inplace=False)\n",
       "          )\n",
       "        )\n",
       "        (5): RobertaLayer(\n",
       "          (attention): RobertaAttention(\n",
       "            (self): RobertaSelfAttention(\n",
       "              (query): Linear(in_features=768, out_features=768, bias=True)\n",
       "              (key): Linear(in_features=768, out_features=768, bias=True)\n",
       "              (value): Linear(in_features=768, out_features=768, bias=True)\n",
       "              (dropout): Dropout(p=0.1, inplace=False)\n",
       "            )\n",
       "            (output): RobertaSelfOutput(\n",
       "              (dense): Linear(in_features=768, out_features=768, bias=True)\n",
       "              (LayerNorm): LayerNorm((768,), eps=1e-12, elementwise_affine=True)\n",
       "              (dropout): Dropout(p=0.1, inplace=False)\n",
       "            )\n",
       "          )\n",
       "          (intermediate): RobertaIntermediate(\n",
       "            (dense): Linear(in_features=768, out_features=3072, bias=True)\n",
       "            (intermediate_act_fn): GELUActivation()\n",
       "          )\n",
       "          (output): RobertaOutput(\n",
       "            (dense): Linear(in_features=3072, out_features=768, bias=True)\n",
       "            (LayerNorm): LayerNorm((768,), eps=1e-12, elementwise_affine=True)\n",
       "            (dropout): Dropout(p=0.1, inplace=False)\n",
       "          )\n",
       "        )\n",
       "      )\n",
       "    )\n",
       "  )\n",
       "  (lm_head): RobertaLMHead(\n",
       "    (dense): Linear(in_features=768, out_features=768, bias=True)\n",
       "    (layer_norm): LayerNorm((768,), eps=1e-12, elementwise_affine=True)\n",
       "    (decoder): Linear(in_features=768, out_features=30522, bias=True)\n",
       "  )\n",
       ")"
      ]
     },
     "execution_count": 65,
     "metadata": {},
     "output_type": "execute_result"
    }
   ],
   "source": [
    "device = torch.device('cuda') if torch.cuda.is_available() else torch.device('cpu')\n",
    "# and move our model over to the selected device\n",
    "model.to(device)"
   ]
  },
  {
   "cell_type": "code",
   "execution_count": 66,
   "metadata": {},
   "outputs": [
    {
     "name": "stderr",
     "output_type": "stream",
     "text": [
      "C:\\Users\\chloe\\anaconda3\\lib\\site-packages\\transformers\\optimization.py:306: FutureWarning: This implementation of AdamW is deprecated and will be removed in a future version. Use the PyTorch implementation torch.optim.AdamW instead, or set `no_deprecation_warning=True` to disable this warning\n",
      "  warnings.warn(\n"
     ]
    }
   ],
   "source": [
    "from transformers import AdamW\n",
    "\n",
    "# activate training mode\n",
    "model.train()\n",
    "# initialize optimizer\n",
    "optim = AdamW(model.parameters(), lr=1e-4)"
   ]
  },
  {
   "cell_type": "code",
   "execution_count": 67,
   "metadata": {},
   "outputs": [
    {
     "data": {
      "application/vnd.jupyter.widget-view+json": {
       "model_id": "7274761c916e4574a973eadfc0a4f210",
       "version_major": 2,
       "version_minor": 0
      },
      "text/plain": [
       "  0%|          | 0/625 [00:00<?, ?it/s]"
      ]
     },
     "metadata": {},
     "output_type": "display_data"
    },
    {
     "ename": "KeyboardInterrupt",
     "evalue": "",
     "output_type": "error",
     "traceback": [
      "\u001b[1;31m---------------------------------------------------------------------------\u001b[0m",
      "\u001b[1;31mKeyboardInterrupt\u001b[0m                         Traceback (most recent call last)",
      "\u001b[1;32m<ipython-input-67-0beada5f9566>\u001b[0m in \u001b[0;36m<module>\u001b[1;34m\u001b[0m\n\u001b[0;32m     12\u001b[0m         \u001b[0mlabels\u001b[0m \u001b[1;33m=\u001b[0m \u001b[0mbatch\u001b[0m\u001b[1;33m[\u001b[0m\u001b[1;34m'labels'\u001b[0m\u001b[1;33m]\u001b[0m\u001b[1;33m.\u001b[0m\u001b[0mto\u001b[0m\u001b[1;33m(\u001b[0m\u001b[0mdevice\u001b[0m\u001b[1;33m)\u001b[0m\u001b[1;33m\u001b[0m\u001b[1;33m\u001b[0m\u001b[0m\n\u001b[0;32m     13\u001b[0m         \u001b[1;31m# process\u001b[0m\u001b[1;33m\u001b[0m\u001b[1;33m\u001b[0m\u001b[1;33m\u001b[0m\u001b[0m\n\u001b[1;32m---> 14\u001b[1;33m         outputs = model(input_ids, attention_mask=attention_mask,\n\u001b[0m\u001b[0;32m     15\u001b[0m                         labels=labels)\n\u001b[0;32m     16\u001b[0m         \u001b[1;31m# extract loss\u001b[0m\u001b[1;33m\u001b[0m\u001b[1;33m\u001b[0m\u001b[1;33m\u001b[0m\u001b[0m\n",
      "\u001b[1;32m~\\anaconda3\\lib\\site-packages\\torch\\nn\\modules\\module.py\u001b[0m in \u001b[0;36m_call_impl\u001b[1;34m(self, *input, **kwargs)\u001b[0m\n\u001b[0;32m   1100\u001b[0m         if not (self._backward_hooks or self._forward_hooks or self._forward_pre_hooks or _global_backward_hooks\n\u001b[0;32m   1101\u001b[0m                 or _global_forward_hooks or _global_forward_pre_hooks):\n\u001b[1;32m-> 1102\u001b[1;33m             \u001b[1;32mreturn\u001b[0m \u001b[0mforward_call\u001b[0m\u001b[1;33m(\u001b[0m\u001b[1;33m*\u001b[0m\u001b[0minput\u001b[0m\u001b[1;33m,\u001b[0m \u001b[1;33m**\u001b[0m\u001b[0mkwargs\u001b[0m\u001b[1;33m)\u001b[0m\u001b[1;33m\u001b[0m\u001b[1;33m\u001b[0m\u001b[0m\n\u001b[0m\u001b[0;32m   1103\u001b[0m         \u001b[1;31m# Do not call functions when jit is used\u001b[0m\u001b[1;33m\u001b[0m\u001b[1;33m\u001b[0m\u001b[1;33m\u001b[0m\u001b[0m\n\u001b[0;32m   1104\u001b[0m         \u001b[0mfull_backward_hooks\u001b[0m\u001b[1;33m,\u001b[0m \u001b[0mnon_full_backward_hooks\u001b[0m \u001b[1;33m=\u001b[0m \u001b[1;33m[\u001b[0m\u001b[1;33m]\u001b[0m\u001b[1;33m,\u001b[0m \u001b[1;33m[\u001b[0m\u001b[1;33m]\u001b[0m\u001b[1;33m\u001b[0m\u001b[1;33m\u001b[0m\u001b[0m\n",
      "\u001b[1;32m~\\anaconda3\\lib\\site-packages\\transformers\\models\\roberta\\modeling_roberta.py\u001b[0m in \u001b[0;36mforward\u001b[1;34m(self, input_ids, attention_mask, token_type_ids, position_ids, head_mask, inputs_embeds, encoder_hidden_states, encoder_attention_mask, labels, output_attentions, output_hidden_states, return_dict)\u001b[0m\n\u001b[0;32m   1093\u001b[0m         \u001b[0mreturn_dict\u001b[0m \u001b[1;33m=\u001b[0m \u001b[0mreturn_dict\u001b[0m \u001b[1;32mif\u001b[0m \u001b[0mreturn_dict\u001b[0m \u001b[1;32mis\u001b[0m \u001b[1;32mnot\u001b[0m \u001b[1;32mNone\u001b[0m \u001b[1;32melse\u001b[0m \u001b[0mself\u001b[0m\u001b[1;33m.\u001b[0m\u001b[0mconfig\u001b[0m\u001b[1;33m.\u001b[0m\u001b[0muse_return_dict\u001b[0m\u001b[1;33m\u001b[0m\u001b[1;33m\u001b[0m\u001b[0m\n\u001b[0;32m   1094\u001b[0m \u001b[1;33m\u001b[0m\u001b[0m\n\u001b[1;32m-> 1095\u001b[1;33m         outputs = self.roberta(\n\u001b[0m\u001b[0;32m   1096\u001b[0m             \u001b[0minput_ids\u001b[0m\u001b[1;33m,\u001b[0m\u001b[1;33m\u001b[0m\u001b[1;33m\u001b[0m\u001b[0m\n\u001b[0;32m   1097\u001b[0m             \u001b[0mattention_mask\u001b[0m\u001b[1;33m=\u001b[0m\u001b[0mattention_mask\u001b[0m\u001b[1;33m,\u001b[0m\u001b[1;33m\u001b[0m\u001b[1;33m\u001b[0m\u001b[0m\n",
      "\u001b[1;32m~\\anaconda3\\lib\\site-packages\\torch\\nn\\modules\\module.py\u001b[0m in \u001b[0;36m_call_impl\u001b[1;34m(self, *input, **kwargs)\u001b[0m\n\u001b[0;32m   1100\u001b[0m         if not (self._backward_hooks or self._forward_hooks or self._forward_pre_hooks or _global_backward_hooks\n\u001b[0;32m   1101\u001b[0m                 or _global_forward_hooks or _global_forward_pre_hooks):\n\u001b[1;32m-> 1102\u001b[1;33m             \u001b[1;32mreturn\u001b[0m \u001b[0mforward_call\u001b[0m\u001b[1;33m(\u001b[0m\u001b[1;33m*\u001b[0m\u001b[0minput\u001b[0m\u001b[1;33m,\u001b[0m \u001b[1;33m**\u001b[0m\u001b[0mkwargs\u001b[0m\u001b[1;33m)\u001b[0m\u001b[1;33m\u001b[0m\u001b[1;33m\u001b[0m\u001b[0m\n\u001b[0m\u001b[0;32m   1103\u001b[0m         \u001b[1;31m# Do not call functions when jit is used\u001b[0m\u001b[1;33m\u001b[0m\u001b[1;33m\u001b[0m\u001b[1;33m\u001b[0m\u001b[0m\n\u001b[0;32m   1104\u001b[0m         \u001b[0mfull_backward_hooks\u001b[0m\u001b[1;33m,\u001b[0m \u001b[0mnon_full_backward_hooks\u001b[0m \u001b[1;33m=\u001b[0m \u001b[1;33m[\u001b[0m\u001b[1;33m]\u001b[0m\u001b[1;33m,\u001b[0m \u001b[1;33m[\u001b[0m\u001b[1;33m]\u001b[0m\u001b[1;33m\u001b[0m\u001b[1;33m\u001b[0m\u001b[0m\n",
      "\u001b[1;32m~\\anaconda3\\lib\\site-packages\\transformers\\models\\roberta\\modeling_roberta.py\u001b[0m in \u001b[0;36mforward\u001b[1;34m(self, input_ids, attention_mask, token_type_ids, position_ids, head_mask, inputs_embeds, encoder_hidden_states, encoder_attention_mask, past_key_values, use_cache, output_attentions, output_hidden_states, return_dict)\u001b[0m\n\u001b[0;32m    848\u001b[0m             \u001b[0mpast_key_values_length\u001b[0m\u001b[1;33m=\u001b[0m\u001b[0mpast_key_values_length\u001b[0m\u001b[1;33m,\u001b[0m\u001b[1;33m\u001b[0m\u001b[1;33m\u001b[0m\u001b[0m\n\u001b[0;32m    849\u001b[0m         )\n\u001b[1;32m--> 850\u001b[1;33m         encoder_outputs = self.encoder(\n\u001b[0m\u001b[0;32m    851\u001b[0m             \u001b[0membedding_output\u001b[0m\u001b[1;33m,\u001b[0m\u001b[1;33m\u001b[0m\u001b[1;33m\u001b[0m\u001b[0m\n\u001b[0;32m    852\u001b[0m             \u001b[0mattention_mask\u001b[0m\u001b[1;33m=\u001b[0m\u001b[0mextended_attention_mask\u001b[0m\u001b[1;33m,\u001b[0m\u001b[1;33m\u001b[0m\u001b[1;33m\u001b[0m\u001b[0m\n",
      "\u001b[1;32m~\\anaconda3\\lib\\site-packages\\torch\\nn\\modules\\module.py\u001b[0m in \u001b[0;36m_call_impl\u001b[1;34m(self, *input, **kwargs)\u001b[0m\n\u001b[0;32m   1100\u001b[0m         if not (self._backward_hooks or self._forward_hooks or self._forward_pre_hooks or _global_backward_hooks\n\u001b[0;32m   1101\u001b[0m                 or _global_forward_hooks or _global_forward_pre_hooks):\n\u001b[1;32m-> 1102\u001b[1;33m             \u001b[1;32mreturn\u001b[0m \u001b[0mforward_call\u001b[0m\u001b[1;33m(\u001b[0m\u001b[1;33m*\u001b[0m\u001b[0minput\u001b[0m\u001b[1;33m,\u001b[0m \u001b[1;33m**\u001b[0m\u001b[0mkwargs\u001b[0m\u001b[1;33m)\u001b[0m\u001b[1;33m\u001b[0m\u001b[1;33m\u001b[0m\u001b[0m\n\u001b[0m\u001b[0;32m   1103\u001b[0m         \u001b[1;31m# Do not call functions when jit is used\u001b[0m\u001b[1;33m\u001b[0m\u001b[1;33m\u001b[0m\u001b[1;33m\u001b[0m\u001b[0m\n\u001b[0;32m   1104\u001b[0m         \u001b[0mfull_backward_hooks\u001b[0m\u001b[1;33m,\u001b[0m \u001b[0mnon_full_backward_hooks\u001b[0m \u001b[1;33m=\u001b[0m \u001b[1;33m[\u001b[0m\u001b[1;33m]\u001b[0m\u001b[1;33m,\u001b[0m \u001b[1;33m[\u001b[0m\u001b[1;33m]\u001b[0m\u001b[1;33m\u001b[0m\u001b[1;33m\u001b[0m\u001b[0m\n",
      "\u001b[1;32m~\\anaconda3\\lib\\site-packages\\transformers\\models\\roberta\\modeling_roberta.py\u001b[0m in \u001b[0;36mforward\u001b[1;34m(self, hidden_states, attention_mask, head_mask, encoder_hidden_states, encoder_attention_mask, past_key_values, use_cache, output_attentions, output_hidden_states, return_dict)\u001b[0m\n\u001b[0;32m    524\u001b[0m                 )\n\u001b[0;32m    525\u001b[0m             \u001b[1;32melse\u001b[0m\u001b[1;33m:\u001b[0m\u001b[1;33m\u001b[0m\u001b[1;33m\u001b[0m\u001b[0m\n\u001b[1;32m--> 526\u001b[1;33m                 layer_outputs = layer_module(\n\u001b[0m\u001b[0;32m    527\u001b[0m                     \u001b[0mhidden_states\u001b[0m\u001b[1;33m,\u001b[0m\u001b[1;33m\u001b[0m\u001b[1;33m\u001b[0m\u001b[0m\n\u001b[0;32m    528\u001b[0m                     \u001b[0mattention_mask\u001b[0m\u001b[1;33m,\u001b[0m\u001b[1;33m\u001b[0m\u001b[1;33m\u001b[0m\u001b[0m\n",
      "\u001b[1;32m~\\anaconda3\\lib\\site-packages\\torch\\nn\\modules\\module.py\u001b[0m in \u001b[0;36m_call_impl\u001b[1;34m(self, *input, **kwargs)\u001b[0m\n\u001b[0;32m   1100\u001b[0m         if not (self._backward_hooks or self._forward_hooks or self._forward_pre_hooks or _global_backward_hooks\n\u001b[0;32m   1101\u001b[0m                 or _global_forward_hooks or _global_forward_pre_hooks):\n\u001b[1;32m-> 1102\u001b[1;33m             \u001b[1;32mreturn\u001b[0m \u001b[0mforward_call\u001b[0m\u001b[1;33m(\u001b[0m\u001b[1;33m*\u001b[0m\u001b[0minput\u001b[0m\u001b[1;33m,\u001b[0m \u001b[1;33m**\u001b[0m\u001b[0mkwargs\u001b[0m\u001b[1;33m)\u001b[0m\u001b[1;33m\u001b[0m\u001b[1;33m\u001b[0m\u001b[0m\n\u001b[0m\u001b[0;32m   1103\u001b[0m         \u001b[1;31m# Do not call functions when jit is used\u001b[0m\u001b[1;33m\u001b[0m\u001b[1;33m\u001b[0m\u001b[1;33m\u001b[0m\u001b[0m\n\u001b[0;32m   1104\u001b[0m         \u001b[0mfull_backward_hooks\u001b[0m\u001b[1;33m,\u001b[0m \u001b[0mnon_full_backward_hooks\u001b[0m \u001b[1;33m=\u001b[0m \u001b[1;33m[\u001b[0m\u001b[1;33m]\u001b[0m\u001b[1;33m,\u001b[0m \u001b[1;33m[\u001b[0m\u001b[1;33m]\u001b[0m\u001b[1;33m\u001b[0m\u001b[1;33m\u001b[0m\u001b[0m\n",
      "\u001b[1;32m~\\anaconda3\\lib\\site-packages\\transformers\\models\\roberta\\modeling_roberta.py\u001b[0m in \u001b[0;36mforward\u001b[1;34m(self, hidden_states, attention_mask, head_mask, encoder_hidden_states, encoder_attention_mask, past_key_value, output_attentions)\u001b[0m\n\u001b[0;32m    451\u001b[0m             \u001b[0mpresent_key_value\u001b[0m \u001b[1;33m=\u001b[0m \u001b[0mpresent_key_value\u001b[0m \u001b[1;33m+\u001b[0m \u001b[0mcross_attn_present_key_value\u001b[0m\u001b[1;33m\u001b[0m\u001b[1;33m\u001b[0m\u001b[0m\n\u001b[0;32m    452\u001b[0m \u001b[1;33m\u001b[0m\u001b[0m\n\u001b[1;32m--> 453\u001b[1;33m         layer_output = apply_chunking_to_forward(\n\u001b[0m\u001b[0;32m    454\u001b[0m             \u001b[0mself\u001b[0m\u001b[1;33m.\u001b[0m\u001b[0mfeed_forward_chunk\u001b[0m\u001b[1;33m,\u001b[0m \u001b[0mself\u001b[0m\u001b[1;33m.\u001b[0m\u001b[0mchunk_size_feed_forward\u001b[0m\u001b[1;33m,\u001b[0m \u001b[0mself\u001b[0m\u001b[1;33m.\u001b[0m\u001b[0mseq_len_dim\u001b[0m\u001b[1;33m,\u001b[0m \u001b[0mattention_output\u001b[0m\u001b[1;33m\u001b[0m\u001b[1;33m\u001b[0m\u001b[0m\n\u001b[0;32m    455\u001b[0m         )\n",
      "\u001b[1;32m~\\anaconda3\\lib\\site-packages\\transformers\\modeling_utils.py\u001b[0m in \u001b[0;36mapply_chunking_to_forward\u001b[1;34m(forward_fn, chunk_size, chunk_dim, *input_tensors)\u001b[0m\n\u001b[0;32m   2470\u001b[0m         \u001b[1;32mreturn\u001b[0m \u001b[0mtorch\u001b[0m\u001b[1;33m.\u001b[0m\u001b[0mcat\u001b[0m\u001b[1;33m(\u001b[0m\u001b[0moutput_chunks\u001b[0m\u001b[1;33m,\u001b[0m \u001b[0mdim\u001b[0m\u001b[1;33m=\u001b[0m\u001b[0mchunk_dim\u001b[0m\u001b[1;33m)\u001b[0m\u001b[1;33m\u001b[0m\u001b[1;33m\u001b[0m\u001b[0m\n\u001b[0;32m   2471\u001b[0m \u001b[1;33m\u001b[0m\u001b[0m\n\u001b[1;32m-> 2472\u001b[1;33m     \u001b[1;32mreturn\u001b[0m \u001b[0mforward_fn\u001b[0m\u001b[1;33m(\u001b[0m\u001b[1;33m*\u001b[0m\u001b[0minput_tensors\u001b[0m\u001b[1;33m)\u001b[0m\u001b[1;33m\u001b[0m\u001b[1;33m\u001b[0m\u001b[0m\n\u001b[0m",
      "\u001b[1;32m~\\anaconda3\\lib\\site-packages\\transformers\\models\\roberta\\modeling_roberta.py\u001b[0m in \u001b[0;36mfeed_forward_chunk\u001b[1;34m(self, attention_output)\u001b[0m\n\u001b[0;32m    463\u001b[0m \u001b[1;33m\u001b[0m\u001b[0m\n\u001b[0;32m    464\u001b[0m     \u001b[1;32mdef\u001b[0m \u001b[0mfeed_forward_chunk\u001b[0m\u001b[1;33m(\u001b[0m\u001b[0mself\u001b[0m\u001b[1;33m,\u001b[0m \u001b[0mattention_output\u001b[0m\u001b[1;33m)\u001b[0m\u001b[1;33m:\u001b[0m\u001b[1;33m\u001b[0m\u001b[1;33m\u001b[0m\u001b[0m\n\u001b[1;32m--> 465\u001b[1;33m         \u001b[0mintermediate_output\u001b[0m \u001b[1;33m=\u001b[0m \u001b[0mself\u001b[0m\u001b[1;33m.\u001b[0m\u001b[0mintermediate\u001b[0m\u001b[1;33m(\u001b[0m\u001b[0mattention_output\u001b[0m\u001b[1;33m)\u001b[0m\u001b[1;33m\u001b[0m\u001b[1;33m\u001b[0m\u001b[0m\n\u001b[0m\u001b[0;32m    466\u001b[0m         \u001b[0mlayer_output\u001b[0m \u001b[1;33m=\u001b[0m \u001b[0mself\u001b[0m\u001b[1;33m.\u001b[0m\u001b[0moutput\u001b[0m\u001b[1;33m(\u001b[0m\u001b[0mintermediate_output\u001b[0m\u001b[1;33m,\u001b[0m \u001b[0mattention_output\u001b[0m\u001b[1;33m)\u001b[0m\u001b[1;33m\u001b[0m\u001b[1;33m\u001b[0m\u001b[0m\n\u001b[0;32m    467\u001b[0m         \u001b[1;32mreturn\u001b[0m \u001b[0mlayer_output\u001b[0m\u001b[1;33m\u001b[0m\u001b[1;33m\u001b[0m\u001b[0m\n",
      "\u001b[1;32m~\\anaconda3\\lib\\site-packages\\torch\\nn\\modules\\module.py\u001b[0m in \u001b[0;36m_call_impl\u001b[1;34m(self, *input, **kwargs)\u001b[0m\n\u001b[0;32m   1100\u001b[0m         if not (self._backward_hooks or self._forward_hooks or self._forward_pre_hooks or _global_backward_hooks\n\u001b[0;32m   1101\u001b[0m                 or _global_forward_hooks or _global_forward_pre_hooks):\n\u001b[1;32m-> 1102\u001b[1;33m             \u001b[1;32mreturn\u001b[0m \u001b[0mforward_call\u001b[0m\u001b[1;33m(\u001b[0m\u001b[1;33m*\u001b[0m\u001b[0minput\u001b[0m\u001b[1;33m,\u001b[0m \u001b[1;33m**\u001b[0m\u001b[0mkwargs\u001b[0m\u001b[1;33m)\u001b[0m\u001b[1;33m\u001b[0m\u001b[1;33m\u001b[0m\u001b[0m\n\u001b[0m\u001b[0;32m   1103\u001b[0m         \u001b[1;31m# Do not call functions when jit is used\u001b[0m\u001b[1;33m\u001b[0m\u001b[1;33m\u001b[0m\u001b[1;33m\u001b[0m\u001b[0m\n\u001b[0;32m   1104\u001b[0m         \u001b[0mfull_backward_hooks\u001b[0m\u001b[1;33m,\u001b[0m \u001b[0mnon_full_backward_hooks\u001b[0m \u001b[1;33m=\u001b[0m \u001b[1;33m[\u001b[0m\u001b[1;33m]\u001b[0m\u001b[1;33m,\u001b[0m \u001b[1;33m[\u001b[0m\u001b[1;33m]\u001b[0m\u001b[1;33m\u001b[0m\u001b[1;33m\u001b[0m\u001b[0m\n",
      "\u001b[1;32m~\\anaconda3\\lib\\site-packages\\transformers\\models\\roberta\\modeling_roberta.py\u001b[0m in \u001b[0;36mforward\u001b[1;34m(self, hidden_states)\u001b[0m\n\u001b[0;32m    363\u001b[0m     \u001b[1;32mdef\u001b[0m \u001b[0mforward\u001b[0m\u001b[1;33m(\u001b[0m\u001b[0mself\u001b[0m\u001b[1;33m,\u001b[0m \u001b[0mhidden_states\u001b[0m\u001b[1;33m)\u001b[0m\u001b[1;33m:\u001b[0m\u001b[1;33m\u001b[0m\u001b[1;33m\u001b[0m\u001b[0m\n\u001b[0;32m    364\u001b[0m         \u001b[0mhidden_states\u001b[0m \u001b[1;33m=\u001b[0m \u001b[0mself\u001b[0m\u001b[1;33m.\u001b[0m\u001b[0mdense\u001b[0m\u001b[1;33m(\u001b[0m\u001b[0mhidden_states\u001b[0m\u001b[1;33m)\u001b[0m\u001b[1;33m\u001b[0m\u001b[1;33m\u001b[0m\u001b[0m\n\u001b[1;32m--> 365\u001b[1;33m         \u001b[0mhidden_states\u001b[0m \u001b[1;33m=\u001b[0m \u001b[0mself\u001b[0m\u001b[1;33m.\u001b[0m\u001b[0mintermediate_act_fn\u001b[0m\u001b[1;33m(\u001b[0m\u001b[0mhidden_states\u001b[0m\u001b[1;33m)\u001b[0m\u001b[1;33m\u001b[0m\u001b[1;33m\u001b[0m\u001b[0m\n\u001b[0m\u001b[0;32m    366\u001b[0m         \u001b[1;32mreturn\u001b[0m \u001b[0mhidden_states\u001b[0m\u001b[1;33m\u001b[0m\u001b[1;33m\u001b[0m\u001b[0m\n\u001b[0;32m    367\u001b[0m \u001b[1;33m\u001b[0m\u001b[0m\n",
      "\u001b[1;32m~\\anaconda3\\lib\\site-packages\\torch\\nn\\modules\\module.py\u001b[0m in \u001b[0;36m_call_impl\u001b[1;34m(self, *input, **kwargs)\u001b[0m\n\u001b[0;32m   1100\u001b[0m         if not (self._backward_hooks or self._forward_hooks or self._forward_pre_hooks or _global_backward_hooks\n\u001b[0;32m   1101\u001b[0m                 or _global_forward_hooks or _global_forward_pre_hooks):\n\u001b[1;32m-> 1102\u001b[1;33m             \u001b[1;32mreturn\u001b[0m \u001b[0mforward_call\u001b[0m\u001b[1;33m(\u001b[0m\u001b[1;33m*\u001b[0m\u001b[0minput\u001b[0m\u001b[1;33m,\u001b[0m \u001b[1;33m**\u001b[0m\u001b[0mkwargs\u001b[0m\u001b[1;33m)\u001b[0m\u001b[1;33m\u001b[0m\u001b[1;33m\u001b[0m\u001b[0m\n\u001b[0m\u001b[0;32m   1103\u001b[0m         \u001b[1;31m# Do not call functions when jit is used\u001b[0m\u001b[1;33m\u001b[0m\u001b[1;33m\u001b[0m\u001b[1;33m\u001b[0m\u001b[0m\n\u001b[0;32m   1104\u001b[0m         \u001b[0mfull_backward_hooks\u001b[0m\u001b[1;33m,\u001b[0m \u001b[0mnon_full_backward_hooks\u001b[0m \u001b[1;33m=\u001b[0m \u001b[1;33m[\u001b[0m\u001b[1;33m]\u001b[0m\u001b[1;33m,\u001b[0m \u001b[1;33m[\u001b[0m\u001b[1;33m]\u001b[0m\u001b[1;33m\u001b[0m\u001b[1;33m\u001b[0m\u001b[0m\n",
      "\u001b[1;32m~\\anaconda3\\lib\\site-packages\\transformers\\activations.py\u001b[0m in \u001b[0;36mforward\u001b[1;34m(self, input)\u001b[0m\n\u001b[0;32m     54\u001b[0m \u001b[1;33m\u001b[0m\u001b[0m\n\u001b[0;32m     55\u001b[0m     \u001b[1;32mdef\u001b[0m \u001b[0mforward\u001b[0m\u001b[1;33m(\u001b[0m\u001b[0mself\u001b[0m\u001b[1;33m,\u001b[0m \u001b[0minput\u001b[0m\u001b[1;33m:\u001b[0m \u001b[0mTensor\u001b[0m\u001b[1;33m)\u001b[0m \u001b[1;33m->\u001b[0m \u001b[0mTensor\u001b[0m\u001b[1;33m:\u001b[0m\u001b[1;33m\u001b[0m\u001b[1;33m\u001b[0m\u001b[0m\n\u001b[1;32m---> 56\u001b[1;33m         \u001b[1;32mreturn\u001b[0m \u001b[0mself\u001b[0m\u001b[1;33m.\u001b[0m\u001b[0mact\u001b[0m\u001b[1;33m(\u001b[0m\u001b[0minput\u001b[0m\u001b[1;33m)\u001b[0m\u001b[1;33m\u001b[0m\u001b[1;33m\u001b[0m\u001b[0m\n\u001b[0m\u001b[0;32m     57\u001b[0m \u001b[1;33m\u001b[0m\u001b[0m\n\u001b[0;32m     58\u001b[0m \u001b[1;33m\u001b[0m\u001b[0m\n",
      "\u001b[1;32m~\\anaconda3\\lib\\site-packages\\torch\\nn\\functional.py\u001b[0m in \u001b[0;36mgelu\u001b[1;34m(input)\u001b[0m\n\u001b[0;32m   1554\u001b[0m     \u001b[1;32mif\u001b[0m \u001b[0mhas_torch_function_unary\u001b[0m\u001b[1;33m(\u001b[0m\u001b[0minput\u001b[0m\u001b[1;33m)\u001b[0m\u001b[1;33m:\u001b[0m\u001b[1;33m\u001b[0m\u001b[1;33m\u001b[0m\u001b[0m\n\u001b[0;32m   1555\u001b[0m         \u001b[1;32mreturn\u001b[0m \u001b[0mhandle_torch_function\u001b[0m\u001b[1;33m(\u001b[0m\u001b[0mgelu\u001b[0m\u001b[1;33m,\u001b[0m \u001b[1;33m(\u001b[0m\u001b[0minput\u001b[0m\u001b[1;33m,\u001b[0m\u001b[1;33m)\u001b[0m\u001b[1;33m,\u001b[0m \u001b[0minput\u001b[0m\u001b[1;33m)\u001b[0m\u001b[1;33m\u001b[0m\u001b[1;33m\u001b[0m\u001b[0m\n\u001b[1;32m-> 1556\u001b[1;33m     \u001b[1;32mreturn\u001b[0m \u001b[0mtorch\u001b[0m\u001b[1;33m.\u001b[0m\u001b[0m_C\u001b[0m\u001b[1;33m.\u001b[0m\u001b[0m_nn\u001b[0m\u001b[1;33m.\u001b[0m\u001b[0mgelu\u001b[0m\u001b[1;33m(\u001b[0m\u001b[0minput\u001b[0m\u001b[1;33m)\u001b[0m\u001b[1;33m\u001b[0m\u001b[1;33m\u001b[0m\u001b[0m\n\u001b[0m\u001b[0;32m   1557\u001b[0m \u001b[1;33m\u001b[0m\u001b[0m\n\u001b[0;32m   1558\u001b[0m \u001b[1;33m\u001b[0m\u001b[0m\n",
      "\u001b[1;31mKeyboardInterrupt\u001b[0m: "
     ]
    }
   ],
   "source": [
    "epochs = 2\n",
    "\n",
    "for epoch in range(epochs):\n",
    "    # setup loop with TQDM and dataloader\n",
    "    loop = tqdm(loader, leave=True)\n",
    "    for batch in loop:\n",
    "        # initialize calculated gradients (from prev step)\n",
    "        optim.zero_grad()\n",
    "        # pull all tensor batches required for training\n",
    "        input_ids = batch['input_ids'].to(device)\n",
    "        attention_mask = batch['attention_mask'].to(device)\n",
    "        labels = batch['labels'].to(device)\n",
    "        # process\n",
    "        outputs = model(input_ids, attention_mask=attention_mask,\n",
    "                        labels=labels)\n",
    "        # extract loss\n",
    "        loss = outputs.loss\n",
    "        # calculate loss for every parameter that needs grad update\n",
    "        loss.backward()\n",
    "        # update parameters\n",
    "        optim.step()\n",
    "        # print relevant info to progress bar\n",
    "        loop.set_description(f'Epoch {epoch}')\n",
    "        loop.set_postfix(loss=loss.item())"
   ]
  },
  {
   "cell_type": "markdown",
   "metadata": {},
   "source": [
    "### Testing the model on names "
   ]
  },
  {
   "cell_type": "code",
   "execution_count": null,
   "metadata": {},
   "outputs": [],
   "source": [
    "# need to feed the model a text with [MASK] labels"
   ]
  },
  {
   "cell_type": "code",
   "execution_count": null,
   "metadata": {},
   "outputs": [],
   "source": []
  },
  {
   "cell_type": "code",
   "execution_count": null,
   "metadata": {},
   "outputs": [],
   "source": []
  },
  {
   "cell_type": "code",
   "execution_count": null,
   "metadata": {},
   "outputs": [],
   "source": []
  },
  {
   "cell_type": "code",
   "execution_count": null,
   "metadata": {},
   "outputs": [],
   "source": []
  },
  {
   "cell_type": "code",
   "execution_count": null,
   "metadata": {},
   "outputs": [],
   "source": []
  },
  {
   "cell_type": "code",
   "execution_count": null,
   "metadata": {},
   "outputs": [],
   "source": []
  },
  {
   "cell_type": "code",
   "execution_count": null,
   "metadata": {},
   "outputs": [],
   "source": [
    "break"
   ]
  },
  {
   "cell_type": "code",
   "execution_count": 33,
   "metadata": {
    "id": "rkY59-EEX7Pi"
   },
   "outputs": [],
   "source": [
    "#from datasets import ClassLabel\n",
    "#import random\n",
    "#from IPython.display import display, HTML\n",
    "\n",
    "def show_random_elements(dataset, num_examples=10):\n",
    "    assert num_examples <= len(dataset), \"Can't pick more elements than there are in the dataset.\"\n",
    "    picks = []\n",
    "    for _ in range(num_examples):\n",
    "        pick = random.randint(0, len(dataset)-1)\n",
    "        while pick in picks:\n",
    "            pick = random.randint(0, len(dataset)-1)\n",
    "        picks.append(pick)\n",
    "    \n",
    "    df = pd.DataFrame(dataset[picks])\n",
    "    for column, typ in dataset.features.items():\n",
    "        if isinstance(typ, ClassLabel):\n",
    "            df[column] = df[column].transform(lambda i: typ.names[i])\n",
    "    display(HTML(df.to_html()))"
   ]
  },
  {
   "cell_type": "code",
   "execution_count": 35,
   "metadata": {
    "colab": {
     "base_uri": "https://localhost:8080/",
     "height": 286
    },
    "id": "f3Gmzm3pX-hU",
    "outputId": "e6c62a52-beab-464b-9d6e-9a4a3e7362c6"
   },
   "outputs": [
    {
     "ename": "TypeError",
     "evalue": "ignored",
     "output_type": "error",
     "traceback": [
      "\u001b[0;31m---------------------------------------------------------------------------\u001b[0m",
      "\u001b[0;31mTypeError\u001b[0m                                 Traceback (most recent call last)",
      "\u001b[0;32m<ipython-input-35-4cf9b5965387>\u001b[0m in \u001b[0;36m<module>\u001b[0;34m()\u001b[0m\n\u001b[0;32m----> 1\u001b[0;31m \u001b[0mshow_random_elements\u001b[0m\u001b[0;34m(\u001b[0m\u001b[0mdict_data\u001b[0m\u001b[0;34m[\u001b[0m\u001b[0;34m\"train\"\u001b[0m\u001b[0;34m]\u001b[0m\u001b[0;34m)\u001b[0m\u001b[0;34m\u001b[0m\u001b[0;34m\u001b[0m\u001b[0m\n\u001b[0m",
      "\u001b[0;32m<ipython-input-33-9b5cbbea8187>\u001b[0m in \u001b[0;36mshow_random_elements\u001b[0;34m(dataset, num_examples)\u001b[0m\n\u001b[1;32m     12\u001b[0m         \u001b[0mpicks\u001b[0m\u001b[0;34m.\u001b[0m\u001b[0mappend\u001b[0m\u001b[0;34m(\u001b[0m\u001b[0mpick\u001b[0m\u001b[0;34m)\u001b[0m\u001b[0;34m\u001b[0m\u001b[0;34m\u001b[0m\u001b[0m\n\u001b[1;32m     13\u001b[0m \u001b[0;34m\u001b[0m\u001b[0m\n\u001b[0;32m---> 14\u001b[0;31m     \u001b[0mdf\u001b[0m \u001b[0;34m=\u001b[0m \u001b[0mpd\u001b[0m\u001b[0;34m.\u001b[0m\u001b[0mDataFrame\u001b[0m\u001b[0;34m(\u001b[0m\u001b[0mdataset\u001b[0m\u001b[0;34m[\u001b[0m\u001b[0mpicks\u001b[0m\u001b[0;34m]\u001b[0m\u001b[0;34m)\u001b[0m\u001b[0;34m\u001b[0m\u001b[0;34m\u001b[0m\u001b[0m\n\u001b[0m\u001b[1;32m     15\u001b[0m     \u001b[0;32mfor\u001b[0m \u001b[0mcolumn\u001b[0m\u001b[0;34m,\u001b[0m \u001b[0mtyp\u001b[0m \u001b[0;32min\u001b[0m \u001b[0mdataset\u001b[0m\u001b[0;34m.\u001b[0m\u001b[0mfeatures\u001b[0m\u001b[0;34m.\u001b[0m\u001b[0mitems\u001b[0m\u001b[0;34m(\u001b[0m\u001b[0;34m)\u001b[0m\u001b[0;34m:\u001b[0m\u001b[0;34m\u001b[0m\u001b[0;34m\u001b[0m\u001b[0m\n\u001b[1;32m     16\u001b[0m         \u001b[0;32mif\u001b[0m \u001b[0misinstance\u001b[0m\u001b[0;34m(\u001b[0m\u001b[0mtyp\u001b[0m\u001b[0;34m,\u001b[0m \u001b[0mClassLabel\u001b[0m\u001b[0;34m)\u001b[0m\u001b[0;34m:\u001b[0m\u001b[0;34m\u001b[0m\u001b[0;34m\u001b[0m\u001b[0m\n",
      "\u001b[0;31mTypeError\u001b[0m: list indices must be integers or slices, not list"
     ]
    }
   ],
   "source": [
    "show_random_elements(dict_data[\"train\"])"
   ]
  },
  {
   "cell_type": "code",
   "execution_count": null,
   "metadata": {},
   "outputs": [],
   "source": []
  },
  {
   "cell_type": "code",
   "execution_count": null,
   "metadata": {},
   "outputs": [],
   "source": []
  },
  {
   "cell_type": "code",
   "execution_count": null,
   "metadata": {},
   "outputs": [],
   "source": []
  },
  {
   "cell_type": "code",
   "execution_count": null,
   "metadata": {},
   "outputs": [],
   "source": []
  },
  {
   "cell_type": "code",
   "execution_count": null,
   "metadata": {},
   "outputs": [],
   "source": []
  }
 ],
 "metadata": {
  "accelerator": "GPU",
  "colab": {
   "collapsed_sections": [],
   "name": "Copie de Copie de Untitled0.ipynb",
   "provenance": []
  },
  "kernelspec": {
   "display_name": "Python 3",
   "language": "python",
   "name": "python3"
  },
  "language_info": {
   "codemirror_mode": {
    "name": "ipython",
    "version": 3
   },
   "file_extension": ".py",
   "mimetype": "text/x-python",
   "name": "python",
   "nbconvert_exporter": "python",
   "pygments_lexer": "ipython3",
   "version": "3.8.8"
  },
  "widgets": {
   "application/vnd.jupyter.widget-state+json": {
    "054033a8c68a48f98b09456373d4d86c": {
     "model_module": "@jupyter-widgets/base",
     "model_module_version": "1.2.0",
     "model_name": "LayoutModel",
     "state": {
      "_model_module": "@jupyter-widgets/base",
      "_model_module_version": "1.2.0",
      "_model_name": "LayoutModel",
      "_view_count": null,
      "_view_module": "@jupyter-widgets/base",
      "_view_module_version": "1.2.0",
      "_view_name": "LayoutView",
      "align_content": null,
      "align_items": null,
      "align_self": null,
      "border": null,
      "bottom": null,
      "display": null,
      "flex": null,
      "flex_flow": null,
      "grid_area": null,
      "grid_auto_columns": null,
      "grid_auto_flow": null,
      "grid_auto_rows": null,
      "grid_column": null,
      "grid_gap": null,
      "grid_row": null,
      "grid_template_areas": null,
      "grid_template_columns": null,
      "grid_template_rows": null,
      "height": null,
      "justify_content": null,
      "justify_items": null,
      "left": null,
      "margin": null,
      "max_height": null,
      "max_width": null,
      "min_height": null,
      "min_width": null,
      "object_fit": null,
      "object_position": null,
      "order": null,
      "overflow": null,
      "overflow_x": null,
      "overflow_y": null,
      "padding": null,
      "right": null,
      "top": null,
      "visibility": null,
      "width": null
     }
    },
    "0903f47caa7b4381891f6da52e7e4b59": {
     "model_module": "@jupyter-widgets/controls",
     "model_module_version": "1.5.0",
     "model_name": "FloatProgressModel",
     "state": {
      "_dom_classes": [],
      "_model_module": "@jupyter-widgets/controls",
      "_model_module_version": "1.5.0",
      "_model_name": "FloatProgressModel",
      "_view_count": null,
      "_view_module": "@jupyter-widgets/controls",
      "_view_module_version": "1.5.0",
      "_view_name": "ProgressView",
      "bar_style": "success",
      "description": "",
      "description_tooltip": null,
      "layout": "IPY_MODEL_122f4eec4671415c94f48f5185dec346",
      "max": 3,
      "min": 0,
      "orientation": "horizontal",
      "style": "IPY_MODEL_bc39a15847944d2d873fd66b26b99d2b",
      "value": 3
     }
    },
    "0ed39dd5f1a546ea969da36969bfb4e5": {
     "model_module": "@jupyter-widgets/controls",
     "model_module_version": "1.5.0",
     "model_name": "DescriptionStyleModel",
     "state": {
      "_model_module": "@jupyter-widgets/controls",
      "_model_module_version": "1.5.0",
      "_model_name": "DescriptionStyleModel",
      "_view_count": null,
      "_view_module": "@jupyter-widgets/base",
      "_view_module_version": "1.2.0",
      "_view_name": "StyleView",
      "description_width": ""
     }
    },
    "122f4eec4671415c94f48f5185dec346": {
     "model_module": "@jupyter-widgets/base",
     "model_module_version": "1.2.0",
     "model_name": "LayoutModel",
     "state": {
      "_model_module": "@jupyter-widgets/base",
      "_model_module_version": "1.2.0",
      "_model_name": "LayoutModel",
      "_view_count": null,
      "_view_module": "@jupyter-widgets/base",
      "_view_module_version": "1.2.0",
      "_view_name": "LayoutView",
      "align_content": null,
      "align_items": null,
      "align_self": null,
      "border": null,
      "bottom": null,
      "display": null,
      "flex": null,
      "flex_flow": null,
      "grid_area": null,
      "grid_auto_columns": null,
      "grid_auto_flow": null,
      "grid_auto_rows": null,
      "grid_column": null,
      "grid_gap": null,
      "grid_row": null,
      "grid_template_areas": null,
      "grid_template_columns": null,
      "grid_template_rows": null,
      "height": null,
      "justify_content": null,
      "justify_items": null,
      "left": null,
      "margin": null,
      "max_height": null,
      "max_width": null,
      "min_height": null,
      "min_width": null,
      "object_fit": null,
      "object_position": null,
      "order": null,
      "overflow": null,
      "overflow_x": null,
      "overflow_y": null,
      "padding": null,
      "right": null,
      "top": null,
      "visibility": null,
      "width": null
     }
    },
    "2dc0615b93ce420dae8eb438ddb04359": {
     "model_module": "@jupyter-widgets/controls",
     "model_module_version": "1.5.0",
     "model_name": "DescriptionStyleModel",
     "state": {
      "_model_module": "@jupyter-widgets/controls",
      "_model_module_version": "1.5.0",
      "_model_name": "DescriptionStyleModel",
      "_view_count": null,
      "_view_module": "@jupyter-widgets/base",
      "_view_module_version": "1.2.0",
      "_view_name": "StyleView",
      "description_width": ""
     }
    },
    "361bcc73513a488cb5b14ae85e74ede1": {
     "model_module": "@jupyter-widgets/controls",
     "model_module_version": "1.5.0",
     "model_name": "DescriptionStyleModel",
     "state": {
      "_model_module": "@jupyter-widgets/controls",
      "_model_module_version": "1.5.0",
      "_model_name": "DescriptionStyleModel",
      "_view_count": null,
      "_view_module": "@jupyter-widgets/base",
      "_view_module_version": "1.2.0",
      "_view_name": "StyleView",
      "description_width": ""
     }
    },
    "47341a63ba714b3babadacd080bf01d7": {
     "model_module": "@jupyter-widgets/controls",
     "model_module_version": "1.5.0",
     "model_name": "HBoxModel",
     "state": {
      "_dom_classes": [],
      "_model_module": "@jupyter-widgets/controls",
      "_model_module_version": "1.5.0",
      "_model_name": "HBoxModel",
      "_view_count": null,
      "_view_module": "@jupyter-widgets/controls",
      "_view_module_version": "1.5.0",
      "_view_name": "HBoxView",
      "box_style": "",
      "children": [
       "IPY_MODEL_7850fbc1acae48569da42eeeb49116d6",
       "IPY_MODEL_7f73c4055b894f35b355ee5d8c7d0838",
       "IPY_MODEL_8f6fef1d419e4396b7e6c681ccd703e6"
      ],
      "layout": "IPY_MODEL_8bb1180ef89a4efaafb10925315c368c"
     }
    },
    "4cb7047bbe30461bb6614e2135f7ebb2": {
     "model_module": "@jupyter-widgets/controls",
     "model_module_version": "1.5.0",
     "model_name": "HBoxModel",
     "state": {
      "_dom_classes": [],
      "_model_module": "@jupyter-widgets/controls",
      "_model_module_version": "1.5.0",
      "_model_name": "HBoxModel",
      "_view_count": null,
      "_view_module": "@jupyter-widgets/controls",
      "_view_module_version": "1.5.0",
      "_view_name": "HBoxView",
      "box_style": "",
      "children": [
       "IPY_MODEL_a41fb6fbb90f481d866ea27c43116ed5",
       "IPY_MODEL_f3e283d8a86d424e9c84b5b6e2811b07",
       "IPY_MODEL_e10389d7e9414f21a887eb57fad4bb11"
      ],
      "layout": "IPY_MODEL_6626e0a9daa84bba9d32bb24acda698a"
     }
    },
    "4e9e54f268904a39a20bea8f07088ece": {
     "model_module": "@jupyter-widgets/base",
     "model_module_version": "1.2.0",
     "model_name": "LayoutModel",
     "state": {
      "_model_module": "@jupyter-widgets/base",
      "_model_module_version": "1.2.0",
      "_model_name": "LayoutModel",
      "_view_count": null,
      "_view_module": "@jupyter-widgets/base",
      "_view_module_version": "1.2.0",
      "_view_name": "LayoutView",
      "align_content": null,
      "align_items": null,
      "align_self": null,
      "border": null,
      "bottom": null,
      "display": null,
      "flex": null,
      "flex_flow": null,
      "grid_area": null,
      "grid_auto_columns": null,
      "grid_auto_flow": null,
      "grid_auto_rows": null,
      "grid_column": null,
      "grid_gap": null,
      "grid_row": null,
      "grid_template_areas": null,
      "grid_template_columns": null,
      "grid_template_rows": null,
      "height": null,
      "justify_content": null,
      "justify_items": null,
      "left": null,
      "margin": null,
      "max_height": null,
      "max_width": null,
      "min_height": null,
      "min_width": null,
      "object_fit": null,
      "object_position": null,
      "order": null,
      "overflow": null,
      "overflow_x": null,
      "overflow_y": null,
      "padding": null,
      "right": null,
      "top": null,
      "visibility": null,
      "width": null
     }
    },
    "5cd02b83cb444b669ad67846ccc00fa6": {
     "model_module": "@jupyter-widgets/controls",
     "model_module_version": "1.5.0",
     "model_name": "HBoxModel",
     "state": {
      "_dom_classes": [],
      "_model_module": "@jupyter-widgets/controls",
      "_model_module_version": "1.5.0",
      "_model_name": "HBoxModel",
      "_view_count": null,
      "_view_module": "@jupyter-widgets/controls",
      "_view_module_version": "1.5.0",
      "_view_name": "HBoxView",
      "box_style": "",
      "children": [
       "IPY_MODEL_b4e2aa59dc594d7ca816033c14c63968",
       "IPY_MODEL_0903f47caa7b4381891f6da52e7e4b59",
       "IPY_MODEL_d460aebaaffd4a1fbc9cfe0dcbe66296"
      ],
      "layout": "IPY_MODEL_d9ef47121863431b9b850f0e28297363"
     }
    },
    "5e3d90119cad499bbda059dfb43d7f9d": {
     "model_module": "@jupyter-widgets/base",
     "model_module_version": "1.2.0",
     "model_name": "LayoutModel",
     "state": {
      "_model_module": "@jupyter-widgets/base",
      "_model_module_version": "1.2.0",
      "_model_name": "LayoutModel",
      "_view_count": null,
      "_view_module": "@jupyter-widgets/base",
      "_view_module_version": "1.2.0",
      "_view_name": "LayoutView",
      "align_content": null,
      "align_items": null,
      "align_self": null,
      "border": null,
      "bottom": null,
      "display": null,
      "flex": null,
      "flex_flow": null,
      "grid_area": null,
      "grid_auto_columns": null,
      "grid_auto_flow": null,
      "grid_auto_rows": null,
      "grid_column": null,
      "grid_gap": null,
      "grid_row": null,
      "grid_template_areas": null,
      "grid_template_columns": null,
      "grid_template_rows": null,
      "height": null,
      "justify_content": null,
      "justify_items": null,
      "left": null,
      "margin": null,
      "max_height": null,
      "max_width": null,
      "min_height": null,
      "min_width": null,
      "object_fit": null,
      "object_position": null,
      "order": null,
      "overflow": null,
      "overflow_x": null,
      "overflow_y": null,
      "padding": null,
      "right": null,
      "top": null,
      "visibility": null,
      "width": null
     }
    },
    "6609667dc67247e8b852cbb9c7548486": {
     "model_module": "@jupyter-widgets/base",
     "model_module_version": "1.2.0",
     "model_name": "LayoutModel",
     "state": {
      "_model_module": "@jupyter-widgets/base",
      "_model_module_version": "1.2.0",
      "_model_name": "LayoutModel",
      "_view_count": null,
      "_view_module": "@jupyter-widgets/base",
      "_view_module_version": "1.2.0",
      "_view_name": "LayoutView",
      "align_content": null,
      "align_items": null,
      "align_self": null,
      "border": null,
      "bottom": null,
      "display": null,
      "flex": null,
      "flex_flow": null,
      "grid_area": null,
      "grid_auto_columns": null,
      "grid_auto_flow": null,
      "grid_auto_rows": null,
      "grid_column": null,
      "grid_gap": null,
      "grid_row": null,
      "grid_template_areas": null,
      "grid_template_columns": null,
      "grid_template_rows": null,
      "height": null,
      "justify_content": null,
      "justify_items": null,
      "left": null,
      "margin": null,
      "max_height": null,
      "max_width": null,
      "min_height": null,
      "min_width": null,
      "object_fit": null,
      "object_position": null,
      "order": null,
      "overflow": null,
      "overflow_x": null,
      "overflow_y": null,
      "padding": null,
      "right": null,
      "top": null,
      "visibility": null,
      "width": null
     }
    },
    "6626e0a9daa84bba9d32bb24acda698a": {
     "model_module": "@jupyter-widgets/base",
     "model_module_version": "1.2.0",
     "model_name": "LayoutModel",
     "state": {
      "_model_module": "@jupyter-widgets/base",
      "_model_module_version": "1.2.0",
      "_model_name": "LayoutModel",
      "_view_count": null,
      "_view_module": "@jupyter-widgets/base",
      "_view_module_version": "1.2.0",
      "_view_name": "LayoutView",
      "align_content": null,
      "align_items": null,
      "align_self": null,
      "border": null,
      "bottom": null,
      "display": null,
      "flex": null,
      "flex_flow": null,
      "grid_area": null,
      "grid_auto_columns": null,
      "grid_auto_flow": null,
      "grid_auto_rows": null,
      "grid_column": null,
      "grid_gap": null,
      "grid_row": null,
      "grid_template_areas": null,
      "grid_template_columns": null,
      "grid_template_rows": null,
      "height": null,
      "justify_content": null,
      "justify_items": null,
      "left": null,
      "margin": null,
      "max_height": null,
      "max_width": null,
      "min_height": null,
      "min_width": null,
      "object_fit": null,
      "object_position": null,
      "order": null,
      "overflow": null,
      "overflow_x": null,
      "overflow_y": null,
      "padding": null,
      "right": null,
      "top": null,
      "visibility": null,
      "width": null
     }
    },
    "77f884164591455e8eee2a9a1c67c86d": {
     "model_module": "@jupyter-widgets/controls",
     "model_module_version": "1.5.0",
     "model_name": "ProgressStyleModel",
     "state": {
      "_model_module": "@jupyter-widgets/controls",
      "_model_module_version": "1.5.0",
      "_model_name": "ProgressStyleModel",
      "_view_count": null,
      "_view_module": "@jupyter-widgets/base",
      "_view_module_version": "1.2.0",
      "_view_name": "StyleView",
      "bar_color": null,
      "description_width": ""
     }
    },
    "7850fbc1acae48569da42eeeb49116d6": {
     "model_module": "@jupyter-widgets/controls",
     "model_module_version": "1.5.0",
     "model_name": "HTMLModel",
     "state": {
      "_dom_classes": [],
      "_model_module": "@jupyter-widgets/controls",
      "_model_module_version": "1.5.0",
      "_model_name": "HTMLModel",
      "_view_count": null,
      "_view_module": "@jupyter-widgets/controls",
      "_view_module_version": "1.5.0",
      "_view_name": "HTMLView",
      "description": "",
      "description_tooltip": null,
      "layout": "IPY_MODEL_bb593b417df742ab888b71fd1b390bd7",
      "placeholder": "​",
      "style": "IPY_MODEL_361bcc73513a488cb5b14ae85e74ede1",
      "value": "100%"
     }
    },
    "7ea0ae38864940aa8147f9515e7f1895": {
     "model_module": "@jupyter-widgets/controls",
     "model_module_version": "1.5.0",
     "model_name": "DescriptionStyleModel",
     "state": {
      "_model_module": "@jupyter-widgets/controls",
      "_model_module_version": "1.5.0",
      "_model_name": "DescriptionStyleModel",
      "_view_count": null,
      "_view_module": "@jupyter-widgets/base",
      "_view_module_version": "1.2.0",
      "_view_name": "StyleView",
      "description_width": ""
     }
    },
    "7f73c4055b894f35b355ee5d8c7d0838": {
     "model_module": "@jupyter-widgets/controls",
     "model_module_version": "1.5.0",
     "model_name": "FloatProgressModel",
     "state": {
      "_dom_classes": [],
      "_model_module": "@jupyter-widgets/controls",
      "_model_module_version": "1.5.0",
      "_model_name": "FloatProgressModel",
      "_view_count": null,
      "_view_module": "@jupyter-widgets/controls",
      "_view_module_version": "1.5.0",
      "_view_name": "ProgressView",
      "bar_style": "success",
      "description": "",
      "description_tooltip": null,
      "layout": "IPY_MODEL_6609667dc67247e8b852cbb9c7548486",
      "max": 20930,
      "min": 0,
      "orientation": "horizontal",
      "style": "IPY_MODEL_77f884164591455e8eee2a9a1c67c86d",
      "value": 20930
     }
    },
    "8bb1180ef89a4efaafb10925315c368c": {
     "model_module": "@jupyter-widgets/base",
     "model_module_version": "1.2.0",
     "model_name": "LayoutModel",
     "state": {
      "_model_module": "@jupyter-widgets/base",
      "_model_module_version": "1.2.0",
      "_model_name": "LayoutModel",
      "_view_count": null,
      "_view_module": "@jupyter-widgets/base",
      "_view_module_version": "1.2.0",
      "_view_name": "LayoutView",
      "align_content": null,
      "align_items": null,
      "align_self": null,
      "border": null,
      "bottom": null,
      "display": null,
      "flex": null,
      "flex_flow": null,
      "grid_area": null,
      "grid_auto_columns": null,
      "grid_auto_flow": null,
      "grid_auto_rows": null,
      "grid_column": null,
      "grid_gap": null,
      "grid_row": null,
      "grid_template_areas": null,
      "grid_template_columns": null,
      "grid_template_rows": null,
      "height": null,
      "justify_content": null,
      "justify_items": null,
      "left": null,
      "margin": null,
      "max_height": null,
      "max_width": null,
      "min_height": null,
      "min_width": null,
      "object_fit": null,
      "object_position": null,
      "order": null,
      "overflow": null,
      "overflow_x": null,
      "overflow_y": null,
      "padding": null,
      "right": null,
      "top": null,
      "visibility": null,
      "width": null
     }
    },
    "8f6fef1d419e4396b7e6c681ccd703e6": {
     "model_module": "@jupyter-widgets/controls",
     "model_module_version": "1.5.0",
     "model_name": "HTMLModel",
     "state": {
      "_dom_classes": [],
      "_model_module": "@jupyter-widgets/controls",
      "_model_module_version": "1.5.0",
      "_model_name": "HTMLModel",
      "_view_count": null,
      "_view_module": "@jupyter-widgets/controls",
      "_view_module_version": "1.5.0",
      "_view_name": "HTMLView",
      "description": "",
      "description_tooltip": null,
      "layout": "IPY_MODEL_4e9e54f268904a39a20bea8f07088ece",
      "placeholder": "​",
      "style": "IPY_MODEL_0ed39dd5f1a546ea969da36969bfb4e5",
      "value": " 20930/20930 [01:18&lt;00:00, 341.48it/s]"
     }
    },
    "a1e59f2b88bc44b6902ab97501168fb4": {
     "model_module": "@jupyter-widgets/base",
     "model_module_version": "1.2.0",
     "model_name": "LayoutModel",
     "state": {
      "_model_module": "@jupyter-widgets/base",
      "_model_module_version": "1.2.0",
      "_model_name": "LayoutModel",
      "_view_count": null,
      "_view_module": "@jupyter-widgets/base",
      "_view_module_version": "1.2.0",
      "_view_name": "LayoutView",
      "align_content": null,
      "align_items": null,
      "align_self": null,
      "border": null,
      "bottom": null,
      "display": null,
      "flex": null,
      "flex_flow": null,
      "grid_area": null,
      "grid_auto_columns": null,
      "grid_auto_flow": null,
      "grid_auto_rows": null,
      "grid_column": null,
      "grid_gap": null,
      "grid_row": null,
      "grid_template_areas": null,
      "grid_template_columns": null,
      "grid_template_rows": null,
      "height": null,
      "justify_content": null,
      "justify_items": null,
      "left": null,
      "margin": null,
      "max_height": null,
      "max_width": null,
      "min_height": null,
      "min_width": null,
      "object_fit": null,
      "object_position": null,
      "order": null,
      "overflow": null,
      "overflow_x": null,
      "overflow_y": null,
      "padding": null,
      "right": null,
      "top": null,
      "visibility": null,
      "width": null
     }
    },
    "a41fb6fbb90f481d866ea27c43116ed5": {
     "model_module": "@jupyter-widgets/controls",
     "model_module_version": "1.5.0",
     "model_name": "HTMLModel",
     "state": {
      "_dom_classes": [],
      "_model_module": "@jupyter-widgets/controls",
      "_model_module_version": "1.5.0",
      "_model_name": "HTMLModel",
      "_view_count": null,
      "_view_module": "@jupyter-widgets/controls",
      "_view_module_version": "1.5.0",
      "_view_name": "HTMLView",
      "description": "",
      "description_tooltip": null,
      "layout": "IPY_MODEL_b7644fd8af664aa7a8d774a568ab089f",
      "placeholder": "​",
      "style": "IPY_MODEL_2dc0615b93ce420dae8eb438ddb04359",
      "value": "100%"
     }
    },
    "a6480276745843dba8da0b2a81d2f5f0": {
     "model_module": "@jupyter-widgets/controls",
     "model_module_version": "1.5.0",
     "model_name": "ProgressStyleModel",
     "state": {
      "_model_module": "@jupyter-widgets/controls",
      "_model_module_version": "1.5.0",
      "_model_name": "ProgressStyleModel",
      "_view_count": null,
      "_view_module": "@jupyter-widgets/base",
      "_view_module_version": "1.2.0",
      "_view_name": "StyleView",
      "bar_color": null,
      "description_width": ""
     }
    },
    "aea5664d57dd4349b5c74fde34d97c79": {
     "model_module": "@jupyter-widgets/base",
     "model_module_version": "1.2.0",
     "model_name": "LayoutModel",
     "state": {
      "_model_module": "@jupyter-widgets/base",
      "_model_module_version": "1.2.0",
      "_model_name": "LayoutModel",
      "_view_count": null,
      "_view_module": "@jupyter-widgets/base",
      "_view_module_version": "1.2.0",
      "_view_name": "LayoutView",
      "align_content": null,
      "align_items": null,
      "align_self": null,
      "border": null,
      "bottom": null,
      "display": null,
      "flex": null,
      "flex_flow": null,
      "grid_area": null,
      "grid_auto_columns": null,
      "grid_auto_flow": null,
      "grid_auto_rows": null,
      "grid_column": null,
      "grid_gap": null,
      "grid_row": null,
      "grid_template_areas": null,
      "grid_template_columns": null,
      "grid_template_rows": null,
      "height": null,
      "justify_content": null,
      "justify_items": null,
      "left": null,
      "margin": null,
      "max_height": null,
      "max_width": null,
      "min_height": null,
      "min_width": null,
      "object_fit": null,
      "object_position": null,
      "order": null,
      "overflow": null,
      "overflow_x": null,
      "overflow_y": null,
      "padding": null,
      "right": null,
      "top": null,
      "visibility": null,
      "width": null
     }
    },
    "b1b685fbb1f048878e00dd30f5e696f5": {
     "model_module": "@jupyter-widgets/controls",
     "model_module_version": "1.5.0",
     "model_name": "DescriptionStyleModel",
     "state": {
      "_model_module": "@jupyter-widgets/controls",
      "_model_module_version": "1.5.0",
      "_model_name": "DescriptionStyleModel",
      "_view_count": null,
      "_view_module": "@jupyter-widgets/base",
      "_view_module_version": "1.2.0",
      "_view_name": "StyleView",
      "description_width": ""
     }
    },
    "b4e2aa59dc594d7ca816033c14c63968": {
     "model_module": "@jupyter-widgets/controls",
     "model_module_version": "1.5.0",
     "model_name": "HTMLModel",
     "state": {
      "_dom_classes": [],
      "_model_module": "@jupyter-widgets/controls",
      "_model_module_version": "1.5.0",
      "_model_name": "HTMLModel",
      "_view_count": null,
      "_view_module": "@jupyter-widgets/controls",
      "_view_module_version": "1.5.0",
      "_view_name": "HTMLView",
      "description": "",
      "description_tooltip": null,
      "layout": "IPY_MODEL_a1e59f2b88bc44b6902ab97501168fb4",
      "placeholder": "​",
      "style": "IPY_MODEL_eb91f885b39944d88070ee099aa2b67f",
      "value": "100%"
     }
    },
    "b7644fd8af664aa7a8d774a568ab089f": {
     "model_module": "@jupyter-widgets/base",
     "model_module_version": "1.2.0",
     "model_name": "LayoutModel",
     "state": {
      "_model_module": "@jupyter-widgets/base",
      "_model_module_version": "1.2.0",
      "_model_name": "LayoutModel",
      "_view_count": null,
      "_view_module": "@jupyter-widgets/base",
      "_view_module_version": "1.2.0",
      "_view_name": "LayoutView",
      "align_content": null,
      "align_items": null,
      "align_self": null,
      "border": null,
      "bottom": null,
      "display": null,
      "flex": null,
      "flex_flow": null,
      "grid_area": null,
      "grid_auto_columns": null,
      "grid_auto_flow": null,
      "grid_auto_rows": null,
      "grid_column": null,
      "grid_gap": null,
      "grid_row": null,
      "grid_template_areas": null,
      "grid_template_columns": null,
      "grid_template_rows": null,
      "height": null,
      "justify_content": null,
      "justify_items": null,
      "left": null,
      "margin": null,
      "max_height": null,
      "max_width": null,
      "min_height": null,
      "min_width": null,
      "object_fit": null,
      "object_position": null,
      "order": null,
      "overflow": null,
      "overflow_x": null,
      "overflow_y": null,
      "padding": null,
      "right": null,
      "top": null,
      "visibility": null,
      "width": null
     }
    },
    "bb593b417df742ab888b71fd1b390bd7": {
     "model_module": "@jupyter-widgets/base",
     "model_module_version": "1.2.0",
     "model_name": "LayoutModel",
     "state": {
      "_model_module": "@jupyter-widgets/base",
      "_model_module_version": "1.2.0",
      "_model_name": "LayoutModel",
      "_view_count": null,
      "_view_module": "@jupyter-widgets/base",
      "_view_module_version": "1.2.0",
      "_view_name": "LayoutView",
      "align_content": null,
      "align_items": null,
      "align_self": null,
      "border": null,
      "bottom": null,
      "display": null,
      "flex": null,
      "flex_flow": null,
      "grid_area": null,
      "grid_auto_columns": null,
      "grid_auto_flow": null,
      "grid_auto_rows": null,
      "grid_column": null,
      "grid_gap": null,
      "grid_row": null,
      "grid_template_areas": null,
      "grid_template_columns": null,
      "grid_template_rows": null,
      "height": null,
      "justify_content": null,
      "justify_items": null,
      "left": null,
      "margin": null,
      "max_height": null,
      "max_width": null,
      "min_height": null,
      "min_width": null,
      "object_fit": null,
      "object_position": null,
      "order": null,
      "overflow": null,
      "overflow_x": null,
      "overflow_y": null,
      "padding": null,
      "right": null,
      "top": null,
      "visibility": null,
      "width": null
     }
    },
    "bc39a15847944d2d873fd66b26b99d2b": {
     "model_module": "@jupyter-widgets/controls",
     "model_module_version": "1.5.0",
     "model_name": "ProgressStyleModel",
     "state": {
      "_model_module": "@jupyter-widgets/controls",
      "_model_module_version": "1.5.0",
      "_model_name": "ProgressStyleModel",
      "_view_count": null,
      "_view_module": "@jupyter-widgets/base",
      "_view_module_version": "1.2.0",
      "_view_name": "StyleView",
      "bar_color": null,
      "description_width": ""
     }
    },
    "d460aebaaffd4a1fbc9cfe0dcbe66296": {
     "model_module": "@jupyter-widgets/controls",
     "model_module_version": "1.5.0",
     "model_name": "HTMLModel",
     "state": {
      "_dom_classes": [],
      "_model_module": "@jupyter-widgets/controls",
      "_model_module_version": "1.5.0",
      "_model_name": "HTMLModel",
      "_view_count": null,
      "_view_module": "@jupyter-widgets/controls",
      "_view_module_version": "1.5.0",
      "_view_name": "HTMLView",
      "description": "",
      "description_tooltip": null,
      "layout": "IPY_MODEL_aea5664d57dd4349b5c74fde34d97c79",
      "placeholder": "​",
      "style": "IPY_MODEL_7ea0ae38864940aa8147f9515e7f1895",
      "value": " 3/3 [00:00&lt;00:00, 80.99it/s]"
     }
    },
    "d9ef47121863431b9b850f0e28297363": {
     "model_module": "@jupyter-widgets/base",
     "model_module_version": "1.2.0",
     "model_name": "LayoutModel",
     "state": {
      "_model_module": "@jupyter-widgets/base",
      "_model_module_version": "1.2.0",
      "_model_name": "LayoutModel",
      "_view_count": null,
      "_view_module": "@jupyter-widgets/base",
      "_view_module_version": "1.2.0",
      "_view_name": "LayoutView",
      "align_content": null,
      "align_items": null,
      "align_self": null,
      "border": null,
      "bottom": null,
      "display": null,
      "flex": null,
      "flex_flow": null,
      "grid_area": null,
      "grid_auto_columns": null,
      "grid_auto_flow": null,
      "grid_auto_rows": null,
      "grid_column": null,
      "grid_gap": null,
      "grid_row": null,
      "grid_template_areas": null,
      "grid_template_columns": null,
      "grid_template_rows": null,
      "height": null,
      "justify_content": null,
      "justify_items": null,
      "left": null,
      "margin": null,
      "max_height": null,
      "max_width": null,
      "min_height": null,
      "min_width": null,
      "object_fit": null,
      "object_position": null,
      "order": null,
      "overflow": null,
      "overflow_x": null,
      "overflow_y": null,
      "padding": null,
      "right": null,
      "top": null,
      "visibility": null,
      "width": null
     }
    },
    "e10389d7e9414f21a887eb57fad4bb11": {
     "model_module": "@jupyter-widgets/controls",
     "model_module_version": "1.5.0",
     "model_name": "HTMLModel",
     "state": {
      "_dom_classes": [],
      "_model_module": "@jupyter-widgets/controls",
      "_model_module_version": "1.5.0",
      "_model_name": "HTMLModel",
      "_view_count": null,
      "_view_module": "@jupyter-widgets/controls",
      "_view_module_version": "1.5.0",
      "_view_name": "HTMLView",
      "description": "",
      "description_tooltip": null,
      "layout": "IPY_MODEL_5e3d90119cad499bbda059dfb43d7f9d",
      "placeholder": "​",
      "style": "IPY_MODEL_b1b685fbb1f048878e00dd30f5e696f5",
      "value": " 20930/20930 [00:04&lt;00:00, 4211.50it/s]"
     }
    },
    "eb91f885b39944d88070ee099aa2b67f": {
     "model_module": "@jupyter-widgets/controls",
     "model_module_version": "1.5.0",
     "model_name": "DescriptionStyleModel",
     "state": {
      "_model_module": "@jupyter-widgets/controls",
      "_model_module_version": "1.5.0",
      "_model_name": "DescriptionStyleModel",
      "_view_count": null,
      "_view_module": "@jupyter-widgets/base",
      "_view_module_version": "1.2.0",
      "_view_name": "StyleView",
      "description_width": ""
     }
    },
    "f3e283d8a86d424e9c84b5b6e2811b07": {
     "model_module": "@jupyter-widgets/controls",
     "model_module_version": "1.5.0",
     "model_name": "FloatProgressModel",
     "state": {
      "_dom_classes": [],
      "_model_module": "@jupyter-widgets/controls",
      "_model_module_version": "1.5.0",
      "_model_name": "FloatProgressModel",
      "_view_count": null,
      "_view_module": "@jupyter-widgets/controls",
      "_view_module_version": "1.5.0",
      "_view_name": "ProgressView",
      "bar_style": "success",
      "description": "",
      "description_tooltip": null,
      "layout": "IPY_MODEL_054033a8c68a48f98b09456373d4d86c",
      "max": 20930,
      "min": 0,
      "orientation": "horizontal",
      "style": "IPY_MODEL_a6480276745843dba8da0b2a81d2f5f0",
      "value": 20930
     }
    }
   }
  }
 },
 "nbformat": 4,
 "nbformat_minor": 1
}
